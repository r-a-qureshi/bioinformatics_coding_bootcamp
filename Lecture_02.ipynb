{
 "cells": [
  {
   "cell_type": "markdown",
   "id": "94630741-d1e9-4b1c-ae09-7cc33b536ee4",
   "metadata": {},
   "source": [
    "# Day 2"
   ]
  },
  {
   "cell_type": "markdown",
   "id": "d708b899-225d-47a4-8d24-4f5ce07f018e",
   "metadata": {},
   "source": [
    "## Lists"
   ]
  },
  {
   "cell_type": "markdown",
   "id": "df4d7e58-95b6-45df-b33d-f7a159ee32bd",
   "metadata": {},
   "source": [
    "### Lists\n",
    "- Lists are a python object that stores a collection of objects\n",
    "- Lists are enclosed in brackets with each element of the list separated with a comma.\n",
    "- Lists can contain different data types.\n",
    "    - For example a list could contain ints, floats, and strings\n",
    "- Never use the word \"list\" as a variable name because list is a special python keyword, and using it as a variable name will override python's default functionality"
   ]
  },
  {
   "cell_type": "code",
   "execution_count": null,
   "id": "2c3156eb-d650-4dd9-8a67-b06c134d06e0",
   "metadata": {},
   "outputs": [],
   "source": [
    "# Define a list\n",
    "my_stuff = ['hello world', 0, 3.3, \"another thing\"]\n",
    "print(my_stuff)"
   ]
  },
  {
   "cell_type": "code",
   "execution_count": null,
   "id": "c86b7d5c-3a12-4a58-835b-7a280df39f97",
   "metadata": {},
   "outputs": [],
   "source": [
    "# Get the length of the list (AKA how many items are in the list?)\n",
    "len(my_stuff)"
   ]
  },
  {
   "cell_type": "code",
   "execution_count": null,
   "id": "3740fbb9-599d-49d3-9580-2b6a28a78096",
   "metadata": {
    "tags": []
   },
   "outputs": [],
   "source": [
    "# len also works on str data types\n",
    "len('hello world')\n"
   ]
  },
  {
   "cell_type": "markdown",
   "id": "c1d3c267-5fe4-4ce9-a0c3-a5544f46c7fd",
   "metadata": {},
   "source": [
    "### Strings can be converted to lists"
   ]
  },
  {
   "cell_type": "code",
   "execution_count": 1,
   "id": "bc02dc11-ecac-46e7-90b1-951da21a06fa",
   "metadata": {},
   "outputs": [
    {
     "name": "stdout",
     "output_type": "stream",
     "text": [
      "AAAGCGTTTCGA\n",
      "['A', 'A', 'A', 'G', 'C', 'G', 'T', 'T', 'T', 'C', 'G', 'A']\n"
     ]
    }
   ],
   "source": [
    "# certain objects such as strings can be converted into lists by the list function\n",
    "dna_sequence = 'AAAGCGTTTCGA'\n",
    "print(dna_sequence)\n",
    "# each character will become an element of a list\n",
    "dna_sequence = list(dna_sequence)\n",
    "print(dna_sequence)"
   ]
  },
  {
   "cell_type": "code",
   "execution_count": null,
   "id": "92697a77-178c-4f45-b826-0eca6c0c53ca",
   "metadata": {},
   "outputs": [],
   "source": [
    "# str can also convert lists into strings\n",
    "my_list = [1, 2, 3]\n",
    "my_list_as_a_string = str(my_list)\n",
    "print(type(my_list))\n",
    "print(my_list_as_a_string)\n",
    "print(type(my_list_as_a_string))"
   ]
  },
  {
   "cell_type": "markdown",
   "id": "76b4f499-07cc-4477-b221-22af438bf2b1",
   "metadata": {},
   "source": [
    "### Indexing\n",
    "- Python has zero-based indexing\n",
    "    - The first element of the list is accessed with 0\n",
    "- Some other languages like MATLAB use 1 based indexing, meaning the first element would be accessed with 1\n",
    "- Zero-based indexing may not be intuitive for beginners but it has certain advantages\n",
    "\n",
    "#### Positive Indexing (start from the left side of list)\n",
    "| 'hello world' | 0             | 3.3           | 'another thing'|\n",
    "|---------------|---------------|---------------|----------------|\n",
    "|0              |1              |2              |3               |\n",
    "\n",
    "#### Negative indexing (start from the right side of list)\n",
    "| 'hello world' | 0             | 3.3           | 'another thing'|\n",
    "|          :--- |          :--- |          :--- |           :--- |\n",
    "|             -4|             -3|            - 2|              -1|\n"
   ]
  },
  {
   "cell_type": "markdown",
   "id": "5cc59027-30df-4f1f-80b4-8cd17b38dbd5",
   "metadata": {},
   "source": [
    "![](https://media.geeksforgeeks.org/wp-content/uploads/List-Slicing.jpg)"
   ]
  },
  {
   "cell_type": "code",
   "execution_count": null,
   "id": "a5d54438-ce18-44d1-aa3e-e7ed327b0fef",
   "metadata": {},
   "outputs": [],
   "source": [
    "my_stuff = ['hello world', 0, 3.3, \"another thing\"]\n",
    "# Get the first element of my_stuff\n",
    "my_stuff[0]"
   ]
  },
  {
   "cell_type": "code",
   "execution_count": null,
   "id": "0dc4f1b0-1a87-4483-9d1c-b1671dfff4a2",
   "metadata": {},
   "outputs": [],
   "source": [
    "# Get the second element of my_stuff\n",
    "my_stuff[1]"
   ]
  },
  {
   "cell_type": "code",
   "execution_count": null,
   "id": "4a12f6e4-c26a-4162-a347-525107d98dff",
   "metadata": {},
   "outputs": [],
   "source": [
    "# Print the last element of my_stuff\n",
    "my_stuff[-1]"
   ]
  },
  {
   "cell_type": "code",
   "execution_count": null,
   "id": "82056fd8-2f03-49ae-b801-e880d002ddf8",
   "metadata": {
    "tags": []
   },
   "outputs": [],
   "source": [
    "# you can index a list with a variable\n",
    "index = 1\n",
    "my_stuff[index]"
   ]
  },
  {
   "cell_type": "code",
   "execution_count": null,
   "id": "a29a330a-e09d-49d8-a4bf-c19cc8d08961",
   "metadata": {},
   "outputs": [],
   "source": [
    "# you can reassign the value at an index\n",
    "print(my_stuff)\n",
    "my_stuff[2] = 'reassignment'\n",
    "print(my_stuff)"
   ]
  },
  {
   "cell_type": "markdown",
   "id": "ee950819-ad9c-41b0-9256-e4bc59925b52",
   "metadata": {},
   "source": [
    "### List methods\n",
    "- lists are python objects, objects contain data and functions/methods\n",
    "    - basically everything in python is an object\n",
    "- list methods are accessed by putting a dot after the list\n",
    "- (You can use tab-completion in ipython)\n",
    "- `my_stuff.append('yet another thing')`"
   ]
  },
  {
   "cell_type": "code",
   "execution_count": null,
   "id": "8ec14b97-7105-4cc1-9ba8-d1830c2681d0",
   "metadata": {},
   "outputs": [],
   "source": [
    "# append an element to the end of the list\n",
    "my_stuff.append('yet another thing')\n",
    "print(my_stuff)"
   ]
  },
  {
   "cell_type": "code",
   "execution_count": 2,
   "id": "214fa420-d504-4eab-b25a-80a787461a71",
   "metadata": {},
   "outputs": [
    {
     "name": "stdout",
     "output_type": "stream",
     "text": [
      "['A', 'A', 'A', 'G', 'C', 'G', 'T', 'T', 'T', 'C', 'G', 'A']\n"
     ]
    },
    {
     "data": {
      "text/plain": [
       "4"
      ]
     },
     "execution_count": 2,
     "metadata": {},
     "output_type": "execute_result"
    }
   ],
   "source": [
    "# count a specific element of a list\n",
    "dna_sequence = 'AAAGCGTTTCGA'\n",
    "# each character will become an element of a list\n",
    "dna_sequence = list(dna_sequence)\n",
    "print(dna_sequence)\n",
    "# How many A nucleotides in the sequence list?\n",
    "dna_sequence.count('A')"
   ]
  },
  {
   "cell_type": "code",
   "execution_count": 3,
   "id": "1cbc70a1-70fa-4700-952c-3960ee64fe47",
   "metadata": {},
   "outputs": [
    {
     "data": {
      "text/plain": [
       "6"
      ]
     },
     "execution_count": 3,
     "metadata": {},
     "output_type": "execute_result"
    }
   ],
   "source": [
    "# get the index of the first occurrence of an element\n",
    "dna_sequence.index('T')"
   ]
  },
  {
   "cell_type": "code",
   "execution_count": 4,
   "id": "2f21e48f-a59c-4087-ad40-75b381cb331c",
   "metadata": {},
   "outputs": [
    {
     "name": "stdout",
     "output_type": "stream",
     "text": [
      "['A', 'A', 'A', 'Nucleotide', 'G', 'C', 'G', 'T', 'T', 'T', 'C', 'G', 'A']\n"
     ]
    }
   ],
   "source": [
    "# insert an element at a specific position in a list\n",
    "# this will insert \"Nucleotide\" as the 4th element of the list and shift all other elements\n",
    "dna_sequence.insert(3,'Nucleotide')\n",
    "print(dna_sequence)"
   ]
  },
  {
   "cell_type": "code",
   "execution_count": 5,
   "id": "41351ea0-9088-4905-887a-013eb4207d6f",
   "metadata": {},
   "outputs": [
    {
     "name": "stdout",
     "output_type": "stream",
     "text": [
      "Nucleotide\n",
      "['A', 'A', 'A', 'G', 'C', 'G', 'T', 'T', 'T', 'C', 'G', 'A']\n"
     ]
    }
   ],
   "source": [
    "# pop will remove an element from a list and output that element\n",
    "word = dna_sequence.pop(3)\n",
    "print(word)\n",
    "print(dna_sequence)\n",
    "# dna_sequence.pop(4) does not need to be assigned to anything"
   ]
  },
  {
   "cell_type": "code",
   "execution_count": 6,
   "id": "39e82ec9-cec0-4c08-a1b5-56be45721827",
   "metadata": {},
   "outputs": [
    {
     "name": "stdout",
     "output_type": "stream",
     "text": [
      "['A', 'A', 'A', 'G', 'C', 'G', 'T', 'T', 'T', 'C', 'G', 'A', 'the last element']\n",
      "['A', 'A', 'A', 'G', 'C', 'G', 'T', 'T', 'T', 'C', 'G', 'A']\n"
     ]
    }
   ],
   "source": [
    "# if you do not supply an argument to pop it will remove the last element of the list\n",
    "dna_sequence.append('the last element')\n",
    "print(dna_sequence)\n",
    "dna_sequence.pop()\n",
    "print(dna_sequence)"
   ]
  },
  {
   "cell_type": "code",
   "execution_count": 7,
   "id": "7b796434-40de-4533-9b44-3d80245ea5c6",
   "metadata": {},
   "outputs": [
    {
     "name": "stdout",
     "output_type": "stream",
     "text": [
      "['A', 'A', 'A', 'Nucleotide', 'G', 'C', 'G', 'T', 'T', 'T', 'C', 'G', 'A']\n",
      "['A', 'A', 'A', 'G', 'C', 'G', 'T', 'T', 'T', 'C', 'G', 'A']\n"
     ]
    }
   ],
   "source": [
    "# remove will remove the first occurrence of a specific element of the list\n",
    "dna_sequence.insert(3,\"Nucleotide\")\n",
    "print(dna_sequence)\n",
    "dna_sequence.remove(\"Nucleotide\")\n",
    "print(dna_sequence)\n",
    "# pop removes and element using its index, remove removes an element using the value of the element"
   ]
  },
  {
   "cell_type": "code",
   "execution_count": null,
   "id": "eeff0a48-61fb-481c-9eb9-713033f802d2",
   "metadata": {},
   "outputs": [],
   "source": [
    "# reverse will return the list in reverse order\n",
    "num = list(range(1,11))\n",
    "print(num)\n",
    "# reverse works on a list inplace meaning that the output of the reverse function is None\n",
    "num.reverse()\n",
    "print(num)"
   ]
  },
  {
   "cell_type": "code",
   "execution_count": null,
   "id": "7ab0bb3f-d9d0-4bdd-97ee-73f5bfe18d2b",
   "metadata": {},
   "outputs": [],
   "source": [
    "# sort will sort a list in numerical or alphabetical order\n",
    "print(num)\n",
    "num.sort()\n",
    "print(num)\n",
    "dna_sequence.sort()\n",
    "print(dna_sequence)"
   ]
  },
  {
   "cell_type": "markdown",
   "id": "2abd37ed-cc54-4af0-9548-7445d5c03d89",
   "metadata": {},
   "source": [
    "### extend vs append\n",
    "- We have seen that we can insert a value into a list at a specific postion\n",
    "- we can also append a value to the end of a list\n",
    "- What happens if we try to combine two lists?"
   ]
  },
  {
   "cell_type": "code",
   "execution_count": null,
   "id": "9b4598b0-e54d-43d8-9533-aa2bb294e3af",
   "metadata": {},
   "outputs": [],
   "source": [
    "# append will add an entire list as a single element to the end of the list\n",
    "my_list = list('abcd')\n",
    "print(my_list)\n",
    "my_list.append(list('efgh'))\n",
    "print(my_list)"
   ]
  },
  {
   "cell_type": "markdown",
   "id": "d630f4e9-69e0-41fa-9bd0-6ca195cbda69",
   "metadata": {},
   "source": [
    "We can see that append added the entire list as a single element. This is called a nested list because there is a list inside the list. What if we don't want to append it as a list, but we want each unique element of the list to be appended to the end of the list?"
   ]
  },
  {
   "cell_type": "code",
   "execution_count": null,
   "id": "e6eb57bf-509b-40f4-9a2a-9c39cb564f44",
   "metadata": {},
   "outputs": [],
   "source": [
    "my_list = list('abcd')\n",
    "print(my_list)\n",
    "# extend will append each element to the list separately\n",
    "my_list.extend(list('efgh'))\n",
    "print(my_list)"
   ]
  },
  {
   "cell_type": "code",
   "execution_count": null,
   "id": "c2d63a7d-a1a3-4214-8a06-9b023bd247b5",
   "metadata": {},
   "outputs": [],
   "source": [
    "# You can also use the + or += operator to combine lists\n",
    "my_list += [1, 2, 3]\n",
    "print(my_list)\n",
    "my_list = my_list + ['x','y','z']\n",
    "print(my_list)"
   ]
  },
  {
   "cell_type": "code",
   "execution_count": null,
   "id": "fb0c7d93-df90-47e5-a0a8-2d407afe7984",
   "metadata": {},
   "outputs": [],
   "source": [
    "# You can also mimic append with the + operator\n",
    "my_list = list('abcd')\n",
    "# double brackets is a list inside a list\n",
    "# the outer list has only one element which is the inner list\n",
    "my_list += [['j','k','l']]\n",
    "# the result is that the final element of my_list is a list\n",
    "print(my_list)"
   ]
  },
  {
   "cell_type": "code",
   "execution_count": null,
   "id": "21b9e780-9259-4033-a1b7-0cdecd10b1e7",
   "metadata": {},
   "outputs": [],
   "source": [
    "# * operator repeats a list\n",
    "my_list = list('abcd')\n",
    "\n",
    "# repeat the elements of my_list 3 times\n",
    "my_list * 3"
   ]
  },
  {
   "cell_type": "code",
   "execution_count": null,
   "id": "d54d2847-a4a1-48f8-9c8b-260b58bef04d",
   "metadata": {},
   "outputs": [],
   "source": [
    "# if you list contains only numbers you can perform some numeric operations\n",
    "numeric_list = list(range(25))\n",
    "print(numeric_list)\n",
    "sum(numeric_list)"
   ]
  },
  {
   "cell_type": "code",
   "execution_count": null,
   "id": "a6ecb568-993d-426e-8c7f-a7353c8b2615",
   "metadata": {},
   "outputs": [],
   "source": [
    "# get the average of the list\n",
    "sum(numeric_list) / len(numeric_list)"
   ]
  },
  {
   "cell_type": "code",
   "execution_count": null,
   "id": "b1043e72-36fd-403d-809e-edff4410a003",
   "metadata": {},
   "outputs": [],
   "source": [
    "# we can make an average function\n",
    "def average(n):\n",
    "    return(sum(n) / len(n))\n",
    "\n",
    "average(numeric_list)"
   ]
  },
  {
   "cell_type": "markdown",
   "id": "6975c38d-e9ce-47e9-9b10-84882cbf218a",
   "metadata": {},
   "source": [
    "### Copying list objects\n",
    "- list functions operate on the list in place\n",
    "- many list functions return `None` instead of a list because they act on the original list\n",
    "- `None` is a null object, analagous to NaN in numbers\n",
    "- you can copy a list with `.copy`\n",
    "- In MATLAB and other languages if you set `x = y`, `x` will be a copy of `y`\n",
    "    - Changing `x` will be independent of `y` and vice versa\n",
    "- In python, if `y` is a list, then `x = y` will assign a variable called `x` to the same list referred to by `y`. \n",
    "    - Instead of `x` being a copy of `y`, `x` is `y`\n",
    "    - This means that `x` and `y` are the same list, so modifying `x` will also modify `y` and vice versa"
   ]
  },
  {
   "cell_type": "code",
   "execution_count": 8,
   "id": "491c884a-b9cc-4946-9b4b-6b2c7d049835",
   "metadata": {},
   "outputs": [
    {
     "name": "stdout",
     "output_type": "stream",
     "text": [
      "['a', 'b', 'c', 'd', 'e', 'f', 'g', 'h']\n",
      "None\n",
      "['a', 'b', 'c', 'd', 'e', 'f', 'g', 'h', 'x', 'y', 'z']\n"
     ]
    }
   ],
   "source": [
    "my_list = list('abcdefgh')\n",
    "print(my_list)\n",
    "# new_list will not be the list resulting from the right hand side\n",
    "new_list = my_list.extend(list('xyz'))\n",
    "# new_list is None because .extend() operates on the list \"in place\"\n",
    "print(new_list)\n",
    "# my_list has been extended\n",
    "print(my_list)"
   ]
  },
  {
   "cell_type": "code",
   "execution_count": 10,
   "id": "c944d6b2-c673-43c4-b125-f1453944a1ce",
   "metadata": {},
   "outputs": [
    {
     "name": "stdout",
     "output_type": "stream",
     "text": [
      "['a', 'b', 'c', 'd', 'e', 'f', 'g', 'h']\n",
      "original my_list:\n",
      "['h', 'g', 'f', 'e', 'd', 'c', 'b', 'a']\n",
      "my_list_2:\n",
      "['h', 'g', 'f', 'e', 'd', 'c', 'b', 'a']\n",
      "my_list_copy:\n",
      "['a', 'b', 'c', 'd', 'e', 'f', 'g', 'h']\n"
     ]
    }
   ],
   "source": [
    "# You can copy lists with .copy()\n",
    "my_list = list('abcdefgh')\n",
    "print(my_list)\n",
    "# assign another variable to my_list\n",
    "my_list_2 = my_list\n",
    "# copy the list\n",
    "my_list_copy = my_list.copy()\n",
    "# reverse the original list\n",
    "my_list.reverse()\n",
    "print('original my_list:')\n",
    "print(my_list)\n",
    "# my_list_2 is also reversed because it is the same list as my_list\n",
    "print('my_list_2:')\n",
    "print(my_list_2)\n",
    "# reverse acted on the original list but did not affect the copy\n",
    "print('my_list_copy:')\n",
    "print(my_list_copy)"
   ]
  },
  {
   "cell_type": "code",
   "execution_count": 11,
   "id": "7912eb80-3c52-43f0-84bb-e292069db305",
   "metadata": {},
   "outputs": [
    {
     "name": "stdout",
     "output_type": "stream",
     "text": [
      "True\n",
      "False\n"
     ]
    }
   ],
   "source": [
    "# is operator tests if left hand side and right hand side are the same object\n",
    "print(my_list is my_list_2)\n",
    "print(my_list is my_list_copy)"
   ]
  },
  {
   "cell_type": "markdown",
   "id": "a2650f23-ddae-4c24-8458-7f98dd915b5e",
   "metadata": {},
   "source": [
    "<center><big><strong><code>my_list</code> vs <code>my_list_2</code></strong></big></center>\n",
    "<center><img src=\"https://i.kym-cdn.com/entries/icons/mobile/000/023/397/C-658VsXoAo3ovC.jpg\" alt=\"\" width=\"400\"/></center>"
   ]
  },
  {
   "cell_type": "markdown",
   "id": "316b5907-59d4-4c17-a6f2-50a3ee75125f",
   "metadata": {},
   "source": [
    "### Slicing\n",
    "- You can access a range of values in a `list` or `str` with slicing\n",
    "- `my_stuff[start:end]`\n",
    "- This will give you the range of list elements `my_stuff[start] <= list elements < my_stuff[end]`\n",
    "- The last value is not included in the range"
   ]
  },
  {
   "cell_type": "markdown",
   "id": "bae2f4ea-c42a-4a51-be2f-633a833fc9e5",
   "metadata": {},
   "source": [
    "#### **Diagram of how indexing and slicing works**\n",
    "![](https://media.geeksforgeeks.org/wp-content/uploads/List-Slicing.jpg)"
   ]
  },
  {
   "cell_type": "code",
   "execution_count": 12,
   "id": "df53fe71-5ede-4f9c-b009-62bd981fc1dd",
   "metadata": {},
   "outputs": [
    {
     "data": {
      "text/plain": [
       "['hello world', 0, 3.3]"
      ]
     },
     "execution_count": 12,
     "metadata": {},
     "output_type": "execute_result"
    }
   ],
   "source": [
    "my_stuff = ['hello world', 0, 3.3, \"another thing\", 1024, 'delta']\n",
    "# Get the first 3 values of my_stuff\n",
    "my_stuff[0:3]"
   ]
  },
  {
   "cell_type": "markdown",
   "id": "6824e602-14e7-490e-8aeb-1b0c8f3cf8a5",
   "metadata": {},
   "source": [
    "This gives us `my_stuff[0]`, `my_stuff[1]`, and `my_stuff[2]`. However, it **DOES NOT INCLUDE** `my_stuff[3]`"
   ]
  },
  {
   "cell_type": "code",
   "execution_count": 13,
   "id": "09b357cd-1c79-4aad-bf64-ea4bd089594d",
   "metadata": {},
   "outputs": [
    {
     "data": {
      "text/plain": [
       "['d', 'e', 'f']"
      ]
     },
     "execution_count": 13,
     "metadata": {},
     "output_type": "execute_result"
    }
   ],
   "source": [
    "alphabet = [\"a\", \"b\", \"c\", \"d\", \"e\", \"f\", \"g\", \"h\", \"i\", \"j\"]\n",
    "\n",
    "# You can slice any range of indices, for example to get the 4th, 5th, and 6th elements:\n",
    "alphabet[3:6]\n",
    "\n",
    "# remember indexing starts at zero so the fourth element has index 3\n",
    "# NOTE that unlike English, in python the comma goes after the quotation mark"
   ]
  },
  {
   "cell_type": "code",
   "execution_count": 14,
   "id": "5c1b6f15-8d47-4720-b813-bea6b95f10a7",
   "metadata": {},
   "outputs": [
    {
     "data": {
      "text/plain": [
       "['d', 'e', 'f']"
      ]
     },
     "execution_count": 14,
     "metadata": {},
     "output_type": "execute_result"
    }
   ],
   "source": [
    "# You can slice using negative indices\n",
    "# another way to get the 4th, 5th, and 6th index\n",
    "alphabet[-7:-4]"
   ]
  },
  {
   "cell_type": "markdown",
   "id": "2ce41e0f-3610-4957-a32c-64b625988d97",
   "metadata": {},
   "source": [
    "- The fourth index is 7 indices from the end. \n",
    "- In general, you should index this way  because this example is less clear and intuitive than using positive indexing, even though both methods are correct. \n",
    "- Generally negative values are only used when the slice of a list includes the last element."
   ]
  },
  {
   "cell_type": "markdown",
   "id": "18b744d1-a212-49a0-bc0a-4e2c4c00c9db",
   "metadata": {},
   "source": [
    "### Slicing from the first element\n",
    "- If you begin indexing from the beginning you can omit the zero\n",
    "- For example `alphabet[:3]` will return the first 3 elements of `alphabet`"
   ]
  },
  {
   "cell_type": "code",
   "execution_count": 15,
   "id": "7810a8bb-678c-400d-9c7a-9c1ac9a9455c",
   "metadata": {},
   "outputs": [
    {
     "data": {
      "text/plain": [
       "['a', 'b', 'c']"
      ]
     },
     "execution_count": 15,
     "metadata": {},
     "output_type": "execute_result"
    }
   ],
   "source": [
    "alphabet[:3]"
   ]
  },
  {
   "cell_type": "markdown",
   "id": "fa8b86c9-4533-48a6-8273-27791568c034",
   "metadata": {},
   "source": [
    "### Slicing up to the final element\n",
    "- You can omit the second index if you are slicing up until the end\n",
    "- `alphabet[5:10]`and `alphabet[5:]` are all the same"
   ]
  },
  {
   "cell_type": "code",
   "execution_count": 16,
   "id": "76e0e4b2-03eb-4ab9-8126-bccd1dc83dfc",
   "metadata": {},
   "outputs": [
    {
     "data": {
      "text/plain": [
       "10"
      ]
     },
     "execution_count": 16,
     "metadata": {},
     "output_type": "execute_result"
    }
   ],
   "source": [
    "# get the length of alphabet\n",
    "len(alphabet)"
   ]
  },
  {
   "cell_type": "code",
   "execution_count": 17,
   "id": "cac7cb85-8ba5-4344-ab4b-66d45f706317",
   "metadata": {},
   "outputs": [
    {
     "data": {
      "text/plain": [
       "['f', 'g', 'h', 'i', 'j']"
      ]
     },
     "execution_count": 17,
     "metadata": {},
     "output_type": "execute_result"
    }
   ],
   "source": [
    "alphabet[5:10]"
   ]
  },
  {
   "cell_type": "code",
   "execution_count": 18,
   "id": "556b3886-5ccf-4fa5-8739-ab01182577ec",
   "metadata": {},
   "outputs": [
    {
     "data": {
      "text/plain": [
       "['f', 'g', 'h', 'i', 'j']"
      ]
     },
     "execution_count": 18,
     "metadata": {},
     "output_type": "execute_result"
    }
   ],
   "source": [
    "alphabet[5:]"
   ]
  },
  {
   "cell_type": "code",
   "execution_count": 19,
   "id": "7adec04a-62bb-4ebb-b226-5b79b7011a41",
   "metadata": {},
   "outputs": [
    {
     "data": {
      "text/plain": [
       "['f', 'g', 'h', 'i']"
      ]
     },
     "execution_count": 19,
     "metadata": {},
     "output_type": "execute_result"
    }
   ],
   "source": [
    "# alphabet[5:-1] is not the same because the second index is not included in the range\n",
    "alphabet[5:-1]"
   ]
  },
  {
   "cell_type": "code",
   "execution_count": 20,
   "id": "570bb6dd-6531-402c-9542-ff428993fc27",
   "metadata": {},
   "outputs": [
    {
     "data": {
      "text/plain": [
       "['f', 'g', 'h', 'i', 'j']"
      ]
     },
     "execution_count": 20,
     "metadata": {},
     "output_type": "execute_result"
    }
   ],
   "source": [
    "# you can also express this with:\n",
    "alphabet[5:len(alphabet)]\n",
    "\n",
    "# but alphabet[5:] is much simpler and cleaner"
   ]
  },
  {
   "cell_type": "markdown",
   "id": "6fcd768d-7dec-4e8f-be42-b5fa270f08b4",
   "metadata": {},
   "source": [
    "### Slicing every `n` elements\n",
    "- You can skip every n elements by adding another colon and number to the slice\n",
    "- This takes the form `list_name[start:end:increment]`\n",
    "- For example `alphabet[0:4:2]`"
   ]
  },
  {
   "cell_type": "code",
   "execution_count": 21,
   "id": "6fd78349-719c-4867-8211-8dc164c35f02",
   "metadata": {},
   "outputs": [
    {
     "data": {
      "text/plain": [
       "['a', 'c', 'e']"
      ]
     },
     "execution_count": 21,
     "metadata": {},
     "output_type": "execute_result"
    }
   ],
   "source": [
    "# get every other element of the first 6 elements of alphabet\n",
    "alphabet[0:6:2]"
   ]
  },
  {
   "cell_type": "code",
   "execution_count": 22,
   "id": "84b0f5d6-eca4-49ef-9ab7-f006253a7ec6",
   "metadata": {},
   "outputs": [
    {
     "data": {
      "text/plain": [
       "['a', 'c', 'e', 'g', 'i']"
      ]
     },
     "execution_count": 22,
     "metadata": {},
     "output_type": "execute_result"
    }
   ],
   "source": [
    "# get every other element of all of alphabet\n",
    "alphabet[::2]"
   ]
  },
  {
   "cell_type": "code",
   "execution_count": 23,
   "id": "d3954f68-8c7f-48ee-bd72-889b59f21302",
   "metadata": {},
   "outputs": [
    {
     "data": {
      "text/plain": [
       "['b', 'd', 'f', 'h', 'j']"
      ]
     },
     "execution_count": 23,
     "metadata": {},
     "output_type": "execute_result"
    }
   ],
   "source": [
    "# get every other element of alphabet beginning with the second element\n",
    "alphabet[1::2]"
   ]
  },
  {
   "cell_type": "markdown",
   "id": "ac104e8a-0439-420c-9525-f6b8931cfaff",
   "metadata": {},
   "source": [
    "### Reverse slicing\n",
    "- You can get the elements in reverse order using a negative increment"
   ]
  },
  {
   "cell_type": "code",
   "execution_count": 24,
   "id": "02d3dace-bdd7-4376-ba10-5bf98ebb5e60",
   "metadata": {},
   "outputs": [
    {
     "data": {
      "text/plain": [
       "['j', 'i', 'h', 'g', 'f', 'e', 'd', 'c', 'b', 'a']"
      ]
     },
     "execution_count": 24,
     "metadata": {},
     "output_type": "execute_result"
    }
   ],
   "source": [
    "# get the reverse of alphabet\n",
    "alphabet[::-1]"
   ]
  },
  {
   "cell_type": "markdown",
   "id": "1115e9a0-bc8b-44c4-ace4-97b483c9c9f0",
   "metadata": {},
   "source": [
    "### All indexing and slicing rules also apply to strings"
   ]
  },
  {
   "cell_type": "code",
   "execution_count": 25,
   "id": "4f9434a7-4138-45e7-9a13-26db88205d67",
   "metadata": {},
   "outputs": [
    {
     "name": "stdout",
     "output_type": "stream",
     "text": [
      "jihgfedcba\n",
      "abcd\n"
     ]
    }
   ],
   "source": [
    "alphabet = 'abcdefghij'\n",
    "# reverse\n",
    "print(alphabet[::-1])\n",
    "# first 4 characters\n",
    "print(alphabet[:4])\n",
    "# etc."
   ]
  },
  {
   "cell_type": "markdown",
   "id": "cd15f07c-b7b5-4d38-bed8-9b0596b98704",
   "metadata": {},
   "source": [
    "### Why does python do zero-based indexing and slicing?\n",
    "- 1 based indexing is often more intuitive to beginners\n",
    "    - Some other programming languages such as MATLAB and R use one-based indexing\n",
    "- One advantage of python's indexing is that it reduces off-by-one errors which are a common computing problem\n",
    "- In python `list_name[:n]` gets the first *n* elements of a list\n",
    "    - This is also why the second value in a slice expression is not included in the range of values returned\n",
    "- However under **one-based indexing** to getting the first *n* elements would be `list_name[1:n+1]` **NOT** `list_name[1:n]`\n",
    "    - `list_name[1:n]` would actually be the first ***n-1*** elements of the list\n",
    "- An every day example of off by one errors is dates. \n",
    "    - The new millenium technically began in 2001 not 2000 because there was no year 0.\n",
    "    - In South Korea when a baby is born, they are considered 1 year old instead of 0 years old, so Korean ages are one year greater than non-Korean ages\n",
    "        - Not really an error if you consider the day someone is born to be their \"first\" birthday"
   ]
  },
  {
   "cell_type": "markdown",
   "id": "b6dd9076-79f7-42f0-9ba2-5bfcb5b22996",
   "metadata": {},
   "source": [
    "# Tuples"
   ]
  },
  {
   "cell_type": "markdown",
   "id": "ae279e39-dfcf-449c-b3b1-6533cb09f77a",
   "metadata": {},
   "source": [
    "## Tuples\n",
    "- Tuples are like lists except that they are **immutable**\n",
    "- You can reassign values in a list which is why a list is a **mutable** type\n",
    "- Tuples are lists where the values cannot be changed\n",
    "- You won't usually use them, but they have a few specific applications where they are needed\n",
    "- Tuples are defined with parenthese"
   ]
  },
  {
   "cell_type": "code",
   "execution_count": 26,
   "id": "6f2c45c2-12ec-4ed3-8c34-33ef3a27fd0f",
   "metadata": {},
   "outputs": [
    {
     "name": "stdout",
     "output_type": "stream",
     "text": [
      "('a', 'b', 'c')\n"
     ]
    }
   ],
   "source": [
    "# define a tuple\n",
    "my_tuple = ('a','b','c')\n",
    "print(my_tuple)"
   ]
  },
  {
   "cell_type": "code",
   "execution_count": null,
   "id": "aa3ba21f-a57f-424d-83c5-483a37b90ce7",
   "metadata": {},
   "outputs": [],
   "source": [
    "# tuples are immutable, trying to change their value will cause an error\n",
    "my_tuple = ('a','b','c')\n",
    "try:\n",
    "    my_tuple[1] = 'z'\n",
    "except Exception as ex:\n",
    "    print(ex)"
   ]
  },
  {
   "cell_type": "code",
   "execution_count": null,
   "id": "bb379b21-813f-46ce-8bcf-7dfe059d5b9d",
   "metadata": {},
   "outputs": [],
   "source": [
    "# you can convert a list to a tuple\n",
    "my_list = list('abcdef')\n",
    "print(my_list)\n",
    "my_tuple = tuple(my_list)\n",
    "print(my_tuple)"
   ]
  },
  {
   "cell_type": "markdown",
   "id": "7b82ce84-5109-485a-8e69-44d8636b5d3f",
   "metadata": {},
   "source": [
    "# range"
   ]
  },
  {
   "cell_type": "markdown",
   "id": "6b3a4ba5-1630-487d-aa5f-51eb0fab0b86",
   "metadata": {},
   "source": [
    "### range\n",
    "- range is a special object that contains a sequence of numbers\n",
    "- it is expressed as `range(start,stop,increment)`\n",
    "- Python indexing rules apply to start and stop"
   ]
  },
  {
   "cell_type": "code",
   "execution_count": null,
   "id": "2039a932-fda1-484e-91e0-d33a95a954cd",
   "metadata": {},
   "outputs": [],
   "source": [
    "# The numbers 1 to 10\n",
    "my_range = range(1,11,1)\n",
    "print(my_range)"
   ]
  },
  {
   "cell_type": "code",
   "execution_count": null,
   "id": "929685a1-34bd-4d66-8cb5-f48de41e7edd",
   "metadata": {},
   "outputs": [],
   "source": [
    "# To be able to see the values in the range we need to convert the range to a list\n",
    "my_range_list = list(my_range)\n",
    "print(my_range_list)"
   ]
  },
  {
   "cell_type": "code",
   "execution_count": null,
   "id": "ffef4bef-c409-4144-893c-c73c11e156f5",
   "metadata": {},
   "outputs": [],
   "source": [
    "# get the first 10 numbers\n",
    "first10 = range(10)\n",
    "print(list(first10))"
   ]
  },
  {
   "cell_type": "markdown",
   "id": "fa7be316-53ca-42d5-867a-56cdc6b1cd93",
   "metadata": {},
   "source": [
    "## Dictionaries"
   ]
  },
  {
   "cell_type": "markdown",
   "id": "3668c36c-6916-46b2-b133-5f312dd051cc",
   "metadata": {},
   "source": [
    "### Dictionaries\n",
    "- Dictionaries (also called dict) are an incredibly useful object that matches pairs of keys and values\n",
    "- Every key in a dictionary must be unique, but the same value can be associated with multiple keys\n",
    "- Dictionary keys must be immutable objects, such as:\n",
    "    - int\n",
    "    - float\n",
    "    - string\n",
    "    - tuple\n",
    "- Dictionaries are defined with curly brackets, and colons separating keys and values"
   ]
  },
  {
   "cell_type": "code",
   "execution_count": 27,
   "id": "a870dd10-7368-474c-9743-25559717d5c6",
   "metadata": {},
   "outputs": [
    {
     "name": "stdout",
     "output_type": "stream",
     "text": [
      "{'first name': 'Luke', 'last name': 'Skywalker', 'age': 19, 'home planet': 'Tattooine'}\n"
     ]
    }
   ],
   "source": [
    "# define a dictionary\n",
    "my_dict = {\"first name\": \"Luke\", \"last name\": \"Skywalker\", \"age\": 19, \"home planet\": \"Tattooine\"}\n",
    "print(my_dict)"
   ]
  },
  {
   "cell_type": "markdown",
   "id": "cac9d100-d6e1-4c1c-b6bb-2a93c7ac9de4",
   "metadata": {},
   "source": [
    "### Indexing dicts\n",
    "- Dictionary keys are analagous to list indices\n",
    "- Just like with lists you use square brackets to access the value associated with a key"
   ]
  },
  {
   "cell_type": "code",
   "execution_count": 28,
   "id": "2ac210bd-c81c-4603-9270-bacce1f33dd9",
   "metadata": {},
   "outputs": [
    {
     "name": "stdout",
     "output_type": "stream",
     "text": [
      "Luke\n"
     ]
    }
   ],
   "source": [
    "# get values from my_dict\n",
    "first_name = my_dict[\"first name\"]\n",
    "print(first_name)"
   ]
  },
  {
   "cell_type": "code",
   "execution_count": 29,
   "id": "3bf2297c-b01b-47a8-a0b8-b483e380a755",
   "metadata": {},
   "outputs": [
    {
     "name": "stdout",
     "output_type": "stream",
     "text": [
      "Skywalker\n"
     ]
    }
   ],
   "source": [
    "# you can also index a dict with a variable just like lists\n",
    "field = 'last name'\n",
    "print(my_dict[field])"
   ]
  },
  {
   "cell_type": "code",
   "execution_count": 30,
   "id": "9a74b1f8-5771-474b-9633-f4e88b0e5215",
   "metadata": {},
   "outputs": [
    {
     "data": {
      "text/plain": [
       "'Skywalker'"
      ]
     },
     "execution_count": 30,
     "metadata": {},
     "output_type": "execute_result"
    }
   ],
   "source": [
    "# We can also access the value of a key with the get method\n",
    "my_dict.get('last name')"
   ]
  },
  {
   "cell_type": "code",
   "execution_count": 31,
   "id": "971dfcb8-6815-4b3c-84e6-b7545e606cee",
   "metadata": {},
   "outputs": [
    {
     "name": "stdout",
     "output_type": "stream",
     "text": [
      "[{'first name': 'Leia', 'last name': 'Organa', 'age': 19, 'home planet': 'Alderaan'}, {'first name': 'Luke', 'last name': 'Skywalker', 'age': 19, 'home planet': 'Tattooine'}]\n"
     ]
    }
   ],
   "source": [
    "# Dictionaries can be elements of a list\n",
    "luke = my_dict\n",
    "leia = {\"first name\": \"Leia\", \"last name\": \"Organa\", \"age\": 19, \"home planet\": \"Alderaan\"}\n",
    "my_list_of_dicts = [leia, luke]\n",
    "print(my_list_of_dicts)"
   ]
  },
  {
   "cell_type": "code",
   "execution_count": 32,
   "id": "e3cdb2bd-42ab-471b-a040-478830e9d58d",
   "metadata": {},
   "outputs": [
    {
     "name": "stdout",
     "output_type": "stream",
     "text": [
      "Alderaan\n"
     ]
    }
   ],
   "source": [
    "# You can chain indexing in a list of lists or a list of dictionaries\n",
    "# get the value from key \"home planet\" in the first dictionary in the list\n",
    "planet = my_list_of_dicts[0][\"home planet\"]\n",
    "print(planet)"
   ]
  },
  {
   "cell_type": "code",
   "execution_count": 33,
   "id": "d01f0a41-c3e2-4a4c-ba1a-1eca10bccc8f",
   "metadata": {},
   "outputs": [
    {
     "data": {
      "text/plain": [
       "dict_keys(['first name', 'last name', 'age', 'home planet'])"
      ]
     },
     "execution_count": 33,
     "metadata": {},
     "output_type": "execute_result"
    }
   ],
   "source": [
    "# You can access all keys in a dict\n",
    "leia.keys()"
   ]
  },
  {
   "cell_type": "code",
   "execution_count": 34,
   "id": "90210a5f-4292-481b-92b2-c7e32e7cd956",
   "metadata": {},
   "outputs": [
    {
     "data": {
      "text/plain": [
       "dict_values(['Leia', 'Organa', 19, 'Alderaan'])"
      ]
     },
     "execution_count": 34,
     "metadata": {},
     "output_type": "execute_result"
    }
   ],
   "source": [
    "# you can also access all the values in a dict\n",
    "leia.values()"
   ]
  },
  {
   "cell_type": "code",
   "execution_count": 35,
   "id": "eb26047a-e3e0-41be-b883-a2a1c7efcca4",
   "metadata": {},
   "outputs": [
    {
     "data": {
      "text/plain": [
       "dict_items([('first name', 'Leia'), ('last name', 'Organa'), ('age', 19), ('home planet', 'Alderaan')])"
      ]
     },
     "execution_count": 35,
     "metadata": {},
     "output_type": "execute_result"
    }
   ],
   "source": [
    "# you can get the key value pairs with items\n",
    "leia.items()"
   ]
  },
  {
   "cell_type": "code",
   "execution_count": 36,
   "id": "3488ba55-e2d6-4b23-9c6b-49f65332afdf",
   "metadata": {},
   "outputs": [
    {
     "name": "stdout",
     "output_type": "stream",
     "text": [
      "{'first name': 'Luke', 'last name': 'Skywalker', 'age': 22, 'home planet': 'Tattooine'}\n"
     ]
    }
   ],
   "source": [
    "# You can replace the value associated with a key in a dict\n",
    "luke['age'] = 22\n",
    "print(luke)"
   ]
  },
  {
   "cell_type": "code",
   "execution_count": 37,
   "id": "d2e051f5-4feb-49a4-9d00-63dad2994bb8",
   "metadata": {},
   "outputs": [
    {
     "name": "stdout",
     "output_type": "stream",
     "text": [
      "{'first name': 'Luke', 'last name': 'Skywalker', 'age': 22, 'home planet': 'Tattooine', 'space ship': 'X-wing'}\n"
     ]
    }
   ],
   "source": [
    "# You can add a new key and value to an existing dict\n",
    "luke['space ship'] = 'X-wing'\n",
    "print(luke)"
   ]
  },
  {
   "cell_type": "markdown",
   "id": "fee76a59-0bff-4dec-9c29-1bb1e0243333",
   "metadata": {},
   "source": [
    "The `luke` dict object has been modified, but `luke` is also contained in `my_list_of_dicts`. We can confirm that the dictionary at index 1 in my_list_of_dicts has been updated because it is the same object in you computer's memory as `luke`."
   ]
  },
  {
   "cell_type": "code",
   "execution_count": 38,
   "id": "180c9cab-4744-4e7a-a0f4-304669f69027",
   "metadata": {},
   "outputs": [
    {
     "name": "stdout",
     "output_type": "stream",
     "text": [
      "[{'first name': 'Leia', 'last name': 'Organa', 'age': 19, 'home planet': 'Alderaan'}, {'first name': 'Luke', 'last name': 'Skywalker', 'age': 22, 'home planet': 'Tattooine', 'space ship': 'X-wing'}]\n"
     ]
    }
   ],
   "source": [
    "print(my_list_of_dicts)"
   ]
  },
  {
   "cell_type": "markdown",
   "id": "e8cb1449-3717-4f29-9b7d-9797e8b1454c",
   "metadata": {},
   "source": [
    "We can see that Luke's age has been modified and the new key-value pair of space ship and X-wing have been added."
   ]
  },
  {
   "cell_type": "code",
   "execution_count": 39,
   "id": "b2c0b760-47f8-4bb5-93f1-48f90928f20f",
   "metadata": {},
   "outputs": [
    {
     "name": "stdout",
     "output_type": "stream",
     "text": [
      "{'first name': 'Luke', 'last name': 'Skywalker', 'age': 22, 'home planet': 'Tattooine'}\n",
      "X-wing\n"
     ]
    }
   ],
   "source": [
    "# pop removes a key and its corresponding value\n",
    "ship = luke.pop('space ship')\n",
    "print(luke)\n",
    "print(ship)"
   ]
  },
  {
   "cell_type": "code",
   "execution_count": 40,
   "id": "17550cc3-6982-4a9d-a10f-025074f31b1e",
   "metadata": {},
   "outputs": [
    {
     "name": "stdout",
     "output_type": "stream",
     "text": [
      "{'first name': 'Luke', 'last name': 'Skywalker', 'age': 22, 'home planet': 'Tattooine', 'space ship': 'X-wing'}\n",
      "('space ship', 'X-wing')\n",
      "{'first name': 'Luke', 'last name': 'Skywalker', 'age': 22, 'home planet': 'Tattooine'}\n"
     ]
    }
   ],
   "source": [
    "# popitem removes the last inserted item\n",
    "luke['space ship'] = 'X-wing'\n",
    "print(luke)\n",
    "last_item = luke.popitem()\n",
    "print(last_item)\n",
    "print(luke)"
   ]
  },
  {
   "cell_type": "code",
   "execution_count": 41,
   "id": "cd8e5e1b-f237-4f54-aa45-00e7d529dd37",
   "metadata": {},
   "outputs": [
    {
     "name": "stdout",
     "output_type": "stream",
     "text": [
      "{'first name': 'Luke', 'last name': 'Skywalker', 'age': 22, 'home planet': 'Tattooine', 'title': 'jedi knight', 'mentor': 'Yoda'}\n"
     ]
    }
   ],
   "source": [
    "# You can use update to add key value pairs from another dict to a dict\n",
    "jedi = {'title':'jedi knight', 'mentor': 'Yoda'}\n",
    "luke.update(jedi)\n",
    "print(luke)"
   ]
  },
  {
   "cell_type": "code",
   "execution_count": 42,
   "id": "3a7a5248-6549-4ed5-93a4-b900964c9c9f",
   "metadata": {},
   "outputs": [
    {
     "name": "stdout",
     "output_type": "stream",
     "text": [
      "Yoda\n"
     ]
    }
   ],
   "source": [
    "# setdefault will return the value of a key or insert a value if the key does not exist\n",
    "master = jedi.setdefault('mentor','Obi-wan Kenobi')\n",
    "print(master)\n",
    "# \"Obi-wan Kenobi\" is not set as the value of \"mentor\" because \"mentor\" already exists as akey"
   ]
  },
  {
   "cell_type": "code",
   "execution_count": 43,
   "id": "f615cec8-0793-48c5-a5b7-68c2b9d8ff4b",
   "metadata": {},
   "outputs": [
    {
     "name": "stdout",
     "output_type": "stream",
     "text": [
      "Dagobah\n",
      "{'title': 'jedi knight', 'mentor': 'Yoda', 'training location': 'Dagobah'}\n"
     ]
    }
   ],
   "source": [
    "# however the key \"training location\" does not exist\n",
    "place = jedi.setdefault('training location', 'Dagobah')\n",
    "print(place)\n",
    "print(jedi)"
   ]
  },
  {
   "cell_type": "code",
   "execution_count": 44,
   "id": "bf4d7afb-b975-4e59-aae8-e4db062d9f3c",
   "metadata": {},
   "outputs": [
    {
     "data": {
      "text/plain": [
       "'Dagobah'"
      ]
     },
     "execution_count": 44,
     "metadata": {},
     "output_type": "execute_result"
    }
   ],
   "source": [
    "# If the key exists you do not need to specify a default value\n",
    "jedi.setdefault('training location')"
   ]
  },
  {
   "cell_type": "code",
   "execution_count": 45,
   "id": "b359ddcb-ea69-40c7-a53b-f3fa1e3ee375",
   "metadata": {},
   "outputs": [
    {
     "name": "stdout",
     "output_type": "stream",
     "text": [
      "None\n",
      "{'title': 'jedi knight', 'mentor': 'Yoda', 'training location': 'Dagobah', 'lightsaber color': None}\n"
     ]
    }
   ],
   "source": [
    "# If the key does not exist setdefault will use None as the value\n",
    "color = jedi.setdefault(\"lightsaber color\")\n",
    "print(color)\n",
    "print(jedi)"
   ]
  },
  {
   "cell_type": "code",
   "execution_count": 46,
   "id": "dd57cb23-4c17-4b57-a769-595fe0f3ada8",
   "metadata": {},
   "outputs": [
    {
     "name": "stdout",
     "output_type": "stream",
     "text": [
      "{'first name': 'Luke', 'last name': 'Skywalker', 'age': 22, 'home planet': 'Tattooine', 'title': 'jedi knight', 'mentor': 'Yoda'}\n"
     ]
    }
   ],
   "source": [
    "# Note that even though we updated the jedi dict, \n",
    "# it does not change the luke dict because those key value pairs were copied over to luke\n",
    "print(luke)"
   ]
  },
  {
   "cell_type": "code",
   "execution_count": 47,
   "id": "9081853e-515f-4db1-a584-311b1bf952fc",
   "metadata": {},
   "outputs": [
    {
     "name": "stdout",
     "output_type": "stream",
     "text": [
      "{'first name': 'Anakin', 'last name': 'Skywalker', 'age': 22, 'home planet': 'Tattooine', 'title': 'jedi knight', 'mentor': 'Yoda'}\n",
      "{'first name': 'Anakin', 'last name': 'Skywalker', 'age': 22, 'home planet': 'Tattooine', 'title': 'jedi knight', 'mentor': 'Yoda'}\n",
      "{'first name': 'Luke', 'last name': 'Skywalker', 'age': 22, 'home planet': 'Tattooine', 'title': 'jedi knight', 'mentor': 'Yoda'}\n"
     ]
    }
   ],
   "source": [
    "# when it comes to copying, dicts behave similar to lists\n",
    "dude = luke\n",
    "guy = luke.copy()\n",
    "luke['first name'] = 'Anakin'\n",
    "print(luke)\n",
    "# the value of \"first name\" has also been updated in dude because it is the same dict as luke\n",
    "print(dude)\n",
    "# however guy was a copy so it is unchanged\n",
    "print(guy)"
   ]
  },
  {
   "cell_type": "markdown",
   "id": "262186d8-c068-448c-82af-efff19a5c2e0",
   "metadata": {},
   "source": [
    "# Sets"
   ]
  },
  {
   "cell_type": "markdown",
   "id": "44003d78-f7ef-48e4-8a08-dd2f6f6f039e",
   "metadata": {},
   "source": [
    "## Sets\n",
    "- Sets in python are like sets in math\n",
    "- They are collections of objects like lists\n",
    "- Every element in a set must be unique and immutable\n",
    "- Sets are defined with curly brackets\n",
    "- Unlike lists sets are unordered"
   ]
  },
  {
   "cell_type": "code",
   "execution_count": 48,
   "id": "f8c58673-3a7e-4e09-a330-aae0d9f1b530",
   "metadata": {},
   "outputs": [
    {
     "name": "stdout",
     "output_type": "stream",
     "text": [
      "{'A', 'G', 'C', 'T'}\n"
     ]
    }
   ],
   "source": [
    "# define a set\n",
    "nucleotides = {\"A\", \"T\", \"C\", \"G\"}\n",
    "print(nucleotides)"
   ]
  },
  {
   "cell_type": "code",
   "execution_count": 49,
   "id": "323335b8-0219-4627-88cd-3e8094a9e3de",
   "metadata": {},
   "outputs": [
    {
     "name": "stdout",
     "output_type": "stream",
     "text": [
      "{'G', 'C', 'T', 'A'}\n"
     ]
    }
   ],
   "source": [
    "# you can convert an object to a set with \"set\"\n",
    "nucleotides = set(\"ATCGCAGTCCCAAAGGCGCG\")\n",
    "print(nucleotides)"
   ]
  },
  {
   "cell_type": "raw",
   "id": "562174ef-4ef7-436c-8693-9d214359bdc2",
   "metadata": {},
   "source": [
    "You can see that the set only keeps unique values from the original string."
   ]
  },
  {
   "cell_type": "markdown",
   "id": "445ff180-085e-4a1e-b858-5b552b246af6",
   "metadata": {},
   "source": [
    "### Set operations\n",
    "- you can add or remove elements to a set\n",
    "- you can perform mathematical set operations such as union, difference, etc"
   ]
  },
  {
   "cell_type": "code",
   "execution_count": 50,
   "id": "11ccb6b9-6159-46c9-bcf8-f471442baa53",
   "metadata": {},
   "outputs": [
    {
     "name": "stdout",
     "output_type": "stream",
     "text": [
      "{'G', 'A', 'U', 'T', 'C'}\n"
     ]
    }
   ],
   "source": [
    "# add an element to a set\n",
    "nucleotides.add(\"U\")\n",
    "print(nucleotides)"
   ]
  },
  {
   "cell_type": "code",
   "execution_count": 51,
   "id": "d3423190-3a5e-432c-824f-ca4b95aee7b8",
   "metadata": {},
   "outputs": [
    {
     "name": "stdout",
     "output_type": "stream",
     "text": [
      "{'G', 'A', 'T', 'C'}\n"
     ]
    }
   ],
   "source": [
    "# remove an element from a set with remove or discard\n",
    "# remove will cause an error if the object to remove is not in the set\n",
    "# discard will not cause an error and simply do nothing if the object is not in the set\n",
    "nucleotides.remove('U')\n",
    "print(nucleotides)"
   ]
  },
  {
   "cell_type": "code",
   "execution_count": 53,
   "id": "fb6b4be8-af67-4092-a69b-fae76e9b853c",
   "metadata": {},
   "outputs": [
    {
     "name": "stdout",
     "output_type": "stream",
     "text": [
      "{'G', 'A', 'T', 'C'}\n"
     ]
    }
   ],
   "source": [
    "# U is not part of the set anymore\n",
    "nucleotides.discard(\"U\")\n",
    "print(nucleotides)\n",
    "# nothing happened"
   ]
  },
  {
   "cell_type": "code",
   "execution_count": 54,
   "id": "a17a599e-1f4e-4d22-b9e4-d73c426a11f4",
   "metadata": {},
   "outputs": [
    {
     "name": "stdout",
     "output_type": "stream",
     "text": [
      "G\n",
      "{'A', 'T', 'C'}\n"
     ]
    }
   ],
   "source": [
    "# pop removes a random element from the set\n",
    "n = nucleotides.pop()\n",
    "print(n)\n",
    "print(nucleotides)"
   ]
  },
  {
   "cell_type": "markdown",
   "id": "9b1487d8-f923-47fa-ac82-9eff65e666ec",
   "metadata": {},
   "source": [
    "## Set operations"
   ]
  },
  {
   "cell_type": "code",
   "execution_count": 55,
   "id": "76ca788c-c0b7-4e48-afbf-cb831b0937f2",
   "metadata": {},
   "outputs": [
    {
     "name": "stdout",
     "output_type": "stream",
     "text": [
      "{1, 2, 3, 4, 5, 6}\n",
      "{1, 2, 3, 4, 5, 6}\n"
     ]
    }
   ],
   "source": [
    "# Union: join sets, 2 ways \n",
    "# I prefer functions because it's easier to remember what they do\n",
    "s1 = {1, 2, 3}\n",
    "s2 = {4, 5, 6}\n",
    "# union operator\n",
    "u = s1 | s2\n",
    "print(u)\n",
    "# union function\n",
    "u2 = s1.union(s2)\n",
    "print(u2)"
   ]
  },
  {
   "cell_type": "code",
   "execution_count": 56,
   "id": "8b6ca1b7-2d1f-4123-98d9-505ddce56253",
   "metadata": {},
   "outputs": [
    {
     "name": "stdout",
     "output_type": "stream",
     "text": [
      "{1, 2, 3, 4, 5, 6, 100, 200, 300}\n",
      "{1, 2, 3, 4, 5, 6, 100, 200, 300}\n"
     ]
    }
   ],
   "source": [
    "# You can join multiple sets\n",
    "s3 = {100, 200, 300}\n",
    "u = s1 | s2 | s3\n",
    "print(u)\n",
    "u2 = s1.union(s2,s3)\n",
    "print(u2)"
   ]
  },
  {
   "cell_type": "code",
   "execution_count": 57,
   "id": "29bf9913-fa0e-43f0-8e42-d1f37bbdf35e",
   "metadata": {},
   "outputs": [
    {
     "name": "stdout",
     "output_type": "stream",
     "text": [
      "{0, 1, 2, 3, 4, 5, 6, 7, 8, 9, 10}\n",
      "{6, 7, 8, 9, 10, 11, 12, 13, 14, 15}\n",
      "{6, 7, 8, 9, 10}\n",
      "{6, 7, 8, 9, 10}\n"
     ]
    }
   ],
   "source": [
    "# intersection\n",
    "s1 = set(range(0,11))\n",
    "print(s1)\n",
    "s2 = set(range(6,16))\n",
    "print(s2)\n",
    "# intersection operator\n",
    "u1 = s1 & s2\n",
    "print(u1)\n",
    "u2 = s1.intersection(s2)\n",
    "print(u2)"
   ]
  },
  {
   "cell_type": "code",
   "execution_count": 58,
   "id": "466e8e23-2b68-40ec-ba41-c1e9426c766e",
   "metadata": {},
   "outputs": [
    {
     "name": "stdout",
     "output_type": "stream",
     "text": [
      "{0, 1, 2, 3, 4, 5}\n",
      "{0, 1, 2, 3, 4, 5}\n"
     ]
    }
   ],
   "source": [
    "# difference is the set of all elements in one set but not the other\n",
    "diff = s1 - s2\n",
    "print(diff)\n",
    "diff2 = s1.difference(s2)\n",
    "print(diff2)"
   ]
  },
  {
   "cell_type": "code",
   "execution_count": 59,
   "id": "4c607bfd-a069-4743-816f-43fcd65866e7",
   "metadata": {},
   "outputs": [
    {
     "name": "stdout",
     "output_type": "stream",
     "text": [
      "{0, 1, 2, 3, 4, 5, 11, 12, 13, 14, 15}\n",
      "{0, 1, 2, 3, 4, 5, 11, 12, 13, 14, 15}\n"
     ]
    }
   ],
   "source": [
    "# symmetric difference: elements of s1 that are not in s2\n",
    "# and elements of s2 that are not in s1\n",
    "sd = s1 ^ s2\n",
    "print(sd)\n",
    "sd2 = s1.symmetric_difference(s2)\n",
    "print(sd2)"
   ]
  },
  {
   "cell_type": "code",
   "execution_count": 60,
   "id": "3bf47a68-d012-4413-8b99-baa390f903ef",
   "metadata": {},
   "outputs": [
    {
     "data": {
      "text/plain": [
       "False"
      ]
     },
     "execution_count": 60,
     "metadata": {},
     "output_type": "execute_result"
    }
   ],
   "source": [
    "# test if 2 sets do not have any elements in common\n",
    "s1.isdisjoint(s2)"
   ]
  },
  {
   "cell_type": "code",
   "execution_count": 61,
   "id": "f0eb1229-dac9-4836-bc5a-0344ca8a33c5",
   "metadata": {},
   "outputs": [
    {
     "data": {
      "text/plain": [
       "True"
      ]
     },
     "execution_count": 61,
     "metadata": {},
     "output_type": "execute_result"
    }
   ],
   "source": [
    "# test if 2 sets do not have any elements in common\n",
    "{1, 2, 3}.isdisjoint({4, 5, 6})"
   ]
  },
  {
   "cell_type": "code",
   "execution_count": 62,
   "id": "61d39df8-4948-49e1-bde9-03fe7e4fec42",
   "metadata": {},
   "outputs": [
    {
     "name": "stdout",
     "output_type": "stream",
     "text": [
      "True\n",
      "True\n"
     ]
    }
   ],
   "source": [
    "# subsets - test if all elements of one set are completely contained in another\n",
    "dna = {'A','T','C','G'}\n",
    "nucleic_acids = {'A','T','G','C','U'}\n",
    "# using the <= operator\n",
    "print(dna <= nucleic_acids)\n",
    "# using the issubset function\n",
    "print(dna.issubset(nucleic_acids))"
   ]
  }
 ],
 "metadata": {
  "kernelspec": {
   "display_name": "Python 3 (ipykernel)",
   "language": "python",
   "name": "python3"
  },
  "language_info": {
   "codemirror_mode": {
    "name": "ipython",
    "version": 3
   },
   "file_extension": ".py",
   "mimetype": "text/x-python",
   "name": "python",
   "nbconvert_exporter": "python",
   "pygments_lexer": "ipython3",
   "version": "3.9.12"
  }
 },
 "nbformat": 4,
 "nbformat_minor": 5
}
