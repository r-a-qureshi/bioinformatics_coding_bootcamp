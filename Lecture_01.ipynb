{
 "cells": [
  {
   "cell_type": "markdown",
   "id": "1361edbe-864a-4461-be78-bbb5b377880d",
   "metadata": {},
   "source": [
    "## The beginning"
   ]
  },
  {
   "cell_type": "code",
   "execution_count": 2,
   "id": "f3399dcd-fdb4-4c19-b838-3fece3f1795b",
   "metadata": {},
   "outputs": [
    {
     "name": "stdout",
     "output_type": "stream",
     "text": [
      "Hello World!\n"
     ]
    }
   ],
   "source": [
    "print(\"Hello World!\")"
   ]
  },
  {
   "cell_type": "markdown",
   "id": "7fff803d-4b5f-47a3-a67b-8e843c904db5",
   "metadata": {},
   "source": [
    "`print` is a function that displays text in your python console or notebook"
   ]
  },
  {
   "cell_type": "markdown",
   "id": "8fd463e6-746d-4f36-be9d-c4643946e1db",
   "metadata": {},
   "source": [
    "#### Basics\n",
    "- Python files are text files that end with the \".py\" extension\n",
    "- Python uses indentation to indicate which lines of code are subordinate to others\n",
    "- The python interpreter reads a \".py\" file line by line and executes the code\n",
    "- A line that starts with `#` is a comment and is ignored by python\n",
    "    - comments exist to help anyone reading the code understand it more easily"
   ]
  },
  {
   "cell_type": "markdown",
   "id": "23f840bb-3cd0-43e7-95d9-5a4091598949",
   "metadata": {},
   "source": [
    "### Variables\n",
    "- Like math, programming languages use variables\n",
    "- Variables refer to data or objects stored in the computer memory\n",
    "- Variables should have descriptive names to make code readable and understandable\n",
    "- Below is an example of how a variable is defined"
   ]
  },
  {
   "cell_type": "code",
   "execution_count": null,
   "id": "733ab79a-080d-482b-9f50-3194398bffe7",
   "metadata": {},
   "outputs": [],
   "source": [
    "my_variable = 0"
   ]
  },
  {
   "cell_type": "code",
   "execution_count": null,
   "id": "666fd4c1-bda6-40e8-a50c-86beb4a824f4",
   "metadata": {},
   "outputs": [],
   "source": [
    "print(my_variable)"
   ]
  },
  {
   "cell_type": "markdown",
   "id": "360091a6-8a1a-4396-be0a-68a6659dc70b",
   "metadata": {},
   "source": [
    "### More about variables\n",
    "- Variables can store numbers, text (strings), and other python objects which we will get into later\n",
    "- New values can be stored in existing variables\n",
    "- In the example below we will reassign \"my_variable\" from the number 0 to some text."
   ]
  },
  {
   "cell_type": "code",
   "execution_count": null,
   "id": "7c75fa91-3d28-4232-a1fb-2c8491dbf2e3",
   "metadata": {},
   "outputs": [],
   "source": [
    "print(my_variable)"
   ]
  },
  {
   "cell_type": "code",
   "execution_count": null,
   "id": "45803591-c472-4ad0-be1c-7633d6f65330",
   "metadata": {},
   "outputs": [],
   "source": [
    "# Python is flexible you can assign a different kind of data to an existing variable\n",
    "my_variable = \"This is my variable.\"\n",
    "print(my_variable)"
   ]
  },
  {
   "cell_type": "markdown",
   "id": "4bbfaf42-aa0b-41ca-ad11-d17ce89c108f",
   "metadata": {},
   "source": [
    "### Naming variables\n",
    "- Variables cannot start with a number\n",
    "    - Python will return an error if you try to define a variable beginning with a number\n",
    "- Variables can contain numbers and underscores\n",
    "- Variable names should be clear, descriptive, and as concise as possible.\n",
    "    - Camel Case is a convention where each English in a variable name word begins with a capital letter\n",
    "        - An example of a camel case variable name: ```MyVariable1```\n",
    "    - Snake case is a convention with all lowercase letters with each English word in the variable name separated by an underscore\n",
    "        - An example of snake case: `my_variable_1`\n",
    "- By convention we use snake case for variable names"
   ]
  },
  {
   "cell_type": "markdown",
   "id": "0547ec2b-50b4-4d1e-a51b-18cbc90248ac",
   "metadata": {},
   "source": [
    "### input function\n",
    "- ```input``` prompts the user for input and saves the value to a variable.\n",
    "- It stops the program until the user types something and presses enter"
   ]
  },
  {
   "cell_type": "code",
   "execution_count": null,
   "id": "3160aa2d-a455-4ff8-be78-619ed9714515",
   "metadata": {},
   "outputs": [],
   "source": [
    "# name = input(\"What's your name?\")\n",
    "# print(\"Hello\",name)"
   ]
  },
  {
   "cell_type": "markdown",
   "id": "eb0ff2bd",
   "metadata": {},
   "source": [
    "#### Operators\n",
    "- `=` is the assignment operator\n",
    "- Basic math operators\n",
    "    - `+`, `-`, `*`, `/`,\n",
    "    - exponentiation is double asterisk `**` or `pow`\n",
    "    - `//` floor division (get result of division without remainder)\n",
    "    - `%` modulus - remainder after division"
   ]
  },
  {
   "cell_type": "code",
   "execution_count": null,
   "id": "837356fd-a4eb-4c0e-bbd0-d36fd15bbb11",
   "metadata": {},
   "outputs": [],
   "source": [
    "# Adding two numbers\n",
    "12 + 13"
   ]
  },
  {
   "cell_type": "code",
   "execution_count": null,
   "id": "95a2a654-167b-4411-bfda-da2670bfae55",
   "metadata": {},
   "outputs": [],
   "source": [
    "# Subtraction\n",
    "13 - 5"
   ]
  },
  {
   "cell_type": "code",
   "execution_count": null,
   "id": "601ea473-531d-4f03-9074-6c0f5366cc7a",
   "metadata": {},
   "outputs": [],
   "source": [
    "# Multiplication\n",
    "3 * 2"
   ]
  },
  {
   "cell_type": "code",
   "execution_count": null,
   "id": "ac797cd9-3bd4-4346-8aea-6bad85b48e0b",
   "metadata": {},
   "outputs": [],
   "source": [
    "# Division\n",
    "16 / 8"
   ]
  },
  {
   "cell_type": "code",
   "execution_count": null,
   "id": "26be1d23-e84c-4c96-a8a8-d28f11c496dc",
   "metadata": {},
   "outputs": [],
   "source": [
    "# Exponentiation\n",
    "2**5"
   ]
  },
  {
   "cell_type": "code",
   "execution_count": null,
   "id": "e68dcd72-dc37-4c00-9cb9-9c346e38b3ef",
   "metadata": {},
   "outputs": [],
   "source": [
    "# Exponentiation with pow\n",
    "pow(2,5)"
   ]
  },
  {
   "cell_type": "code",
   "execution_count": null,
   "id": "de3a8873-324e-4c87-8326-7b503b124a3a",
   "metadata": {},
   "outputs": [],
   "source": [
    "# Floor division\n",
    "17 // 5"
   ]
  },
  {
   "cell_type": "code",
   "execution_count": null,
   "id": "dd22544f-c5e6-40d5-b472-d02fed500d59",
   "metadata": {},
   "outputs": [],
   "source": [
    "# Modulus (remainder)\n",
    "17 % 5"
   ]
  },
  {
   "cell_type": "markdown",
   "id": "4dce43d3-4628-4c22-8425-a301e9e9c0b7",
   "metadata": {},
   "source": [
    "#### Assignment Operators\n",
    "- `=` assign the value of right hand side (rhs) to left hand side (lhs)\n",
    "- `+=`, `-=`, `*=`, `/=`, `**=`\n",
    "    - Perform operation on lhs and assign the result to lhs\n",
    "    "
   ]
  },
  {
   "cell_type": "code",
   "execution_count": null,
   "id": "62a069e0-2bb1-42e6-9100-a8019d62c074",
   "metadata": {},
   "outputs": [],
   "source": [
    "# Assignment using equals\n",
    "my_number = 8 + 4\n",
    "print(my_number)"
   ]
  },
  {
   "cell_type": "code",
   "execution_count": null,
   "id": "23c4fe97-1ed6-4187-b1e0-9dd457f0ddc6",
   "metadata": {},
   "outputs": [],
   "source": [
    "# Add 4 to my_number and assign it\n",
    "my_number += 4\n",
    "print(my_number)"
   ]
  },
  {
   "cell_type": "markdown",
   "id": "97ca9b58-7083-4e05-9877-c57067e097ab",
   "metadata": {},
   "source": [
    "#### Comparison operators\n",
    "- `==` is lhs equal to rhs\n",
    "- `!=` is lhs NOT equal to rhs\n",
    "- `>`, `<`, `>=`, `<=` - self explanatory\n",
    "- comparison operators return a boolean object (called bool in python)\n",
    "    - True or False"
   ]
  },
  {
   "cell_type": "code",
   "execution_count": null,
   "id": "beb50960-4079-496f-97b6-98e00e9fc71c",
   "metadata": {},
   "outputs": [],
   "source": [
    "# testing equality\n",
    "my_number = 12\n",
    "print(\"Is my_number equal to 12?\")\n",
    "my_number == 12"
   ]
  },
  {
   "cell_type": "code",
   "execution_count": null,
   "id": "9e58dcaa-1684-4779-be88-86684f9f4a7e",
   "metadata": {},
   "outputs": [],
   "source": [
    "# You can assign a comparison expression to a variable\n",
    "comp = my_number >= 100\n",
    "print(comp)"
   ]
  },
  {
   "cell_type": "code",
   "execution_count": null,
   "id": "f35ae3b8-4fa0-4295-9f18-aaad6d06eb38",
   "metadata": {},
   "outputs": [],
   "source": [
    "# You can use parentheses to make the code clearer\n",
    "comp = (my_number >= 100)\n",
    "print(comp)"
   ]
  },
  {
   "cell_type": "markdown",
   "id": "70496b62-1b53-48af-b1e3-976423382c4a",
   "metadata": {},
   "source": [
    "#### Data types\n",
    "- Python stores several different kinds of data\n",
    "- integers (`int`)\n",
    "- floating point numbers (`float`) decimal numbers\n",
    "- complex - complex numbers\n",
    "- strings - text enclosed in single or double quotes\n",
    "- `bool` - True or False\n",
    "- ...And more"
   ]
  },
  {
   "cell_type": "code",
   "execution_count": null,
   "id": "11fb5ebc-3e5f-46af-82b3-935fc46f17e0",
   "metadata": {},
   "outputs": [],
   "source": [
    "# the type function tells you what type of data in object is\n",
    "type(1)"
   ]
  },
  {
   "cell_type": "code",
   "execution_count": null,
   "id": "10029732-b1bb-4550-badb-b6ec20676271",
   "metadata": {},
   "outputs": [],
   "source": [
    "# typing 1 uses an int and \"1.\" or \"1.0\" is a float\n",
    "my_number = 1\n",
    "my_number_type = type(my_number)\n",
    "print(\"The type of my_number:\")\n",
    "print(my_number_type)"
   ]
  },
  {
   "cell_type": "code",
   "execution_count": null,
   "id": "842c8f7b-89fc-4e63-bb35-0102ee747939",
   "metadata": {},
   "outputs": [],
   "source": [
    "my_other_number = 1.\n",
    "my_other_number_type = type(my_other_number)\n",
    "print(\"The type of my_other_number:\")\n",
    "print(my_other_number_type)"
   ]
  },
  {
   "cell_type": "code",
   "execution_count": null,
   "id": "7074d1a0-72e1-44a6-adc0-cd7d957b6b8a",
   "metadata": {},
   "outputs": [],
   "source": [
    "# floats are NOT exact representations of the decimal number\n",
    "# there can be a very small error\n",
    "my_float = 1.1\n",
    "print(my_float)"
   ]
  },
  {
   "cell_type": "code",
   "execution_count": null,
   "id": "70a06fc0-e9cc-4d90-a708-6bd89f46c643",
   "metadata": {},
   "outputs": [],
   "source": [
    "print(\"my_float has the type\")\n",
    "print(type(my_float))"
   ]
  },
  {
   "cell_type": "code",
   "execution_count": null,
   "id": "1242cff1-af0f-4deb-aeae-2b6424d19b05",
   "metadata": {},
   "outputs": [],
   "source": [
    "# multiply by 3\n",
    "my_float_product = my_float * 3.0\n",
    "print(\"Is my_float_product equal to 3.3?\")\n",
    "print(my_float_product == 3.3)"
   ]
  },
  {
   "cell_type": "code",
   "execution_count": null,
   "id": "a7ad2d0f-b347-484c-9600-44d38c6a4006",
   "metadata": {},
   "outputs": [],
   "source": [
    "print(\"What is the value of my_float_product?\")\n",
    "print(my_float_product)"
   ]
  },
  {
   "cell_type": "markdown",
   "id": "ca600ddd-d6b3-4fba-9a35-91de0fff4b3a",
   "metadata": {},
   "source": [
    "#### Floating point errors\n",
    "- Errors occur because floating point cannot represent every possible decimal exactly with bits (zeros and ones)\n",
    "- If exact precision to a certain decimal place is required you can used fixed point numbers\n",
    "- Python provides the decimal module for fixed point math\n",
    "- floating point errors are usually too small to matter and we will always use int and float instead of fixed point numbers"
   ]
  },
  {
   "cell_type": "code",
   "execution_count": null,
   "id": "80364e98-df62-4ebb-9142-5973a6bebf1d",
   "metadata": {},
   "outputs": [],
   "source": [
    "# floating point error\n",
    "print(\"The floating point error is:\", my_float_product - 3.3)"
   ]
  },
  {
   "cell_type": "code",
   "execution_count": null,
   "id": "c71bd82d-d95d-480f-9959-51779a110eab",
   "metadata": {},
   "outputs": [],
   "source": [
    "# fixed point numbers\n",
    "\n",
    "# load the decimal module and get the decimal data type\n",
    "from decimal import Decimal\n",
    "# assign a fixed point 1.1 to a variable\n",
    "my_fixed_point = Decimal(\"1.1\")\n",
    "\n",
    "# my_fixed_point is a Decimal not a float or int\n",
    "print(type(my_fixed_point))"
   ]
  },
  {
   "cell_type": "code",
   "execution_count": null,
   "id": "54643450-2bcb-474e-9c99-737511a75ace",
   "metadata": {},
   "outputs": [],
   "source": [
    "my_fixed_point_product = my_fixed_point * Decimal(\"3\")\n",
    "print(\"The exact product to the first decimal place is: \") \n",
    "print(my_fixed_point_product)"
   ]
  },
  {
   "cell_type": "code",
   "execution_count": null,
   "id": "9c84df46-9238-4f91-8037-284a31ffee54",
   "metadata": {},
   "outputs": [],
   "source": [
    "print(\"Is my_fixed_point_product equal to 3.3?\")\n",
    "print(my_fixed_point_product == Decimal(\"3.3\"))"
   ]
  },
  {
   "cell_type": "code",
   "execution_count": null,
   "id": "65e7d983-81c4-4df6-b677-3e09eba0c34a",
   "metadata": {},
   "outputs": [],
   "source": [
    "# Check for any error\n",
    "print(\"The fixed point error is:\")\n",
    "print(my_fixed_point_product - Decimal(\"3.3\"))"
   ]
  },
  {
   "cell_type": "code",
   "execution_count": null,
   "id": "5e63321f-e4dc-4ac1-b46d-267a32ecaca5",
   "metadata": {},
   "outputs": [],
   "source": [
    "# bool data type\n",
    "# True and False are special keywords in python and should never be used as variable names\n",
    "x = True\n",
    "print(x)\n",
    "y = False\n",
    "print(y)"
   ]
  },
  {
   "cell_type": "code",
   "execution_count": null,
   "id": "b587981c-2650-4615-9b6a-35e89b0666f0",
   "metadata": {},
   "outputs": [],
   "source": [
    "# Comparison operators return bool data types\n",
    "my_comp = 100 < 10\n",
    "print(my_comp)"
   ]
  },
  {
   "cell_type": "markdown",
   "id": "bd807f79-dfd4-43ea-adb5-b3d2b7112b70",
   "metadata": {},
   "source": [
    "#### Functions\n",
    "- functions in python are similar to functions in math\n",
    "- we have already been using pre-existing functions like `print`\n",
    "- functions take one or more inputs, perform some operations, and return one or more outputs resulting from the operations"
   ]
  },
  {
   "cell_type": "markdown",
   "id": "2a7db504-ac18-43e7-a618-ade543db6bbb",
   "metadata": {},
   "source": [
    "#### Whitespace in python\n",
    "- python uses indentation to indicate where code belongs\n",
    "- other languages often use curly brackets \"{\" \"}\"\n",
    "- when code is subordinate to ther code the code is indented"
   ]
  },
  {
   "cell_type": "markdown",
   "id": "71e7a2d0-7a69-49bf-9227-29dc6ba28302",
   "metadata": {},
   "source": [
    "#### Defining a function\n",
    "- the def keyword is used to define a function\n",
    "- for example:\n",
    "    - `def function_name(x):`\n",
    "- the function definition must end with a colon\n",
    "- The return \"keyword\" is used to push the outputs out of the function"
   ]
  },
  {
   "cell_type": "code",
   "execution_count": null,
   "id": "8ba01b37-db84-42a1-b8b0-a65c1a91553a",
   "metadata": {},
   "outputs": [],
   "source": [
    "# This is how python code looks\n",
    "\n",
    "# here are some lines of code\n",
    "print('hello world!')\n",
    "\n",
    "# define a function\n",
    "def square(x):\n",
    "    # indent the lines that are part of the function with one tab\n",
    "    y = x**2\n",
    "    return(y)\n",
    "\n",
    "# unindented code is not part of the function\n",
    "print(\"There is a function above this line\")\n",
    "\n",
    "# after the function is defined the function can be used in the code\n",
    "perfect_square = square(16)\n",
    "print(perfect_square)   "
   ]
  },
  {
   "cell_type": "code",
   "execution_count": null,
   "id": "f67117d9-41af-492d-ba3a-ea87ea6ef03e",
   "metadata": {},
   "outputs": [],
   "source": [
    "# defining functions with multiple inputs\n",
    "# use a comma to separate the inputs in the function definition line\n",
    "def add2(x,y):\n",
    "    return(x+y)\n",
    "\n",
    "total = add2(145,150)\n",
    "print(total)"
   ]
  },
  {
   "cell_type": "code",
   "execution_count": null,
   "id": "ee844ff0-dbe2-488a-9f09-9c31d61721c1",
   "metadata": {},
   "outputs": [],
   "source": [
    "# defining functions with multiple outputs\n",
    "def double2(x,y):\n",
    "    double_x = 2*x\n",
    "    double_y = 2*y\n",
    "    # multiple variables can be given to return separated by a comma\n",
    "    return(double_x,double_y)\n",
    "a = 3\n",
    "b = 10\n",
    "double_a, double_b = double2(a,b)\n",
    "print(double_a)\n",
    "print(double_b)"
   ]
  },
  {
   "cell_type": "code",
   "execution_count": null,
   "id": "e21e15dc-31e7-411e-8b01-9356aee33255",
   "metadata": {},
   "outputs": [],
   "source": [
    "# you cannot use variables defined inside the function unless they are returned\n",
    "def mult(x):\n",
    "    double_x = x * 2\n",
    "    triple_x = x * 3\n",
    "    return(double_x)\n",
    "my_number = 10\n",
    "output = mult(my_number)\n",
    "# we cannot access triple_x because it only exists inside the function\n",
    "# trying to access triple_x will result in an error\n",
    "try:\n",
    "    print(triple_x)\n",
    "except Exception as ex:\n",
    "    print(ex)\n",
    "    \n",
    "# the above code is just wrapping the error so it won't stop the notebook from executing when there is an error"
   ]
  },
  {
   "cell_type": "code",
   "execution_count": null,
   "id": "a6748d00-592c-4bf4-84e3-dab6c9836cd1",
   "metadata": {},
   "outputs": [],
   "source": [
    "# If you have previously defined a function you can call the function inside another function\n",
    "\n",
    "def add2(a,b):\n",
    "    return(a + b)\n",
    "\n",
    "def add3(x,y,z):\n",
    "    # using the function add2 which is defined above\n",
    "    output = add2(x,y) + z\n",
    "    return(output)\n",
    "\n",
    "add3(4,5,6)"
   ]
  },
  {
   "cell_type": "markdown",
   "id": "4af6454d-5673-410f-830a-328af0f31f42",
   "metadata": {},
   "source": [
    "#### Strings\n",
    "- Strings store text and are enclosed by single or double quotes\n",
    "- `+` and `+=` operators concatenate strings"
   ]
  },
  {
   "cell_type": "code",
   "execution_count": null,
   "id": "69ace7e1-7285-44b0-b19c-244a8c78582f",
   "metadata": {},
   "outputs": [],
   "source": [
    "# Nested quotes \n",
    "# you can use either single or double quotes in a string if you use the other kind of quote to indicate the string\n",
    "my_quotation = 'She said \"hi\" to me'\n",
    "print(my_quotation)"
   ]
  },
  {
   "cell_type": "code",
   "execution_count": null,
   "id": "f68b4e2c-06b9-499e-a71f-695ab5265912",
   "metadata": {},
   "outputs": [],
   "source": [
    "# string concatenation\n",
    "\"hello\" + \"world!\""
   ]
  },
  {
   "cell_type": "code",
   "execution_count": null,
   "id": "6d73c240-f507-47e1-9936-8ca7d19fdc0b",
   "metadata": {},
   "outputs": [],
   "source": [
    "# note that there is no space between hello and world in the last example\n",
    "# we can include a space at the end of the first word or the beginning of the second\n",
    "print(\"hello \" + \"world!\")\n",
    "print(\"hello\" + \" world!\")"
   ]
  },
  {
   "cell_type": "code",
   "execution_count": null,
   "id": "319c48a6-d025-4491-9e1a-0ad71ea12db1",
   "metadata": {},
   "outputs": [],
   "source": [
    "# you can use += with strings\n",
    "name = \"Isaac\"\n",
    "name += \" Newton\"\n",
    "print(name)"
   ]
  },
  {
   "cell_type": "code",
   "execution_count": null,
   "id": "f611644c-26a9-4d7d-9673-542ea57ec544",
   "metadata": {},
   "outputs": [],
   "source": [
    "# make a string uppercase\n",
    "my_string = \"hello world!\"\n",
    "my_string = my_string.upper()\n",
    "print(my_string)"
   ]
  },
  {
   "cell_type": "code",
   "execution_count": null,
   "id": "181fe174-8702-40f9-b7e6-a2dd2e2a5c38",
   "metadata": {},
   "outputs": [],
   "source": [
    "# make a string lowercase\n",
    "my_string = my_string.lower()\n",
    "print(my_string)"
   ]
  },
  {
   "cell_type": "code",
   "execution_count": null,
   "id": "240da536-36a4-4630-aed0-efe1cff4f367",
   "metadata": {},
   "outputs": [],
   "source": [
    "# capitalize a string (make the first letter capital)\n",
    "my_string = 'hello'\n",
    "my_string.capitalize()"
   ]
  },
  {
   "cell_type": "code",
   "execution_count": null,
   "id": "f7d8a506-354f-471a-b295-180ce3675593",
   "metadata": {},
   "outputs": [],
   "source": [
    "# you can capitalize all upper case strings as well\n",
    "my_string = my_string.upper()\n",
    "print(my_string)\n",
    "print(my_string.capitalize())"
   ]
  },
  {
   "cell_type": "code",
   "execution_count": null,
   "id": "71a3a14f-34d3-450f-95b2-db31f7a4fbfb",
   "metadata": {},
   "outputs": [],
   "source": [
    "# how many characters are in a string?\n",
    "# this is the length of the string\n",
    "# the len function will give the length of a string\n",
    "len(my_string)"
   ]
  }
 ],
 "metadata": {
  "kernelspec": {
   "display_name": "Python 3 (ipykernel)",
   "language": "python",
   "name": "python3"
  },
  "language_info": {
   "codemirror_mode": {
    "name": "ipython",
    "version": 3
   },
   "file_extension": ".py",
   "mimetype": "text/x-python",
   "name": "python",
   "nbconvert_exporter": "python",
   "pygments_lexer": "ipython3",
   "version": "3.9.12"
  }
 },
 "nbformat": 4,
 "nbformat_minor": 5
}
