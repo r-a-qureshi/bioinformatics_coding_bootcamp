{
 "cells": [
  {
   "cell_type": "markdown",
   "id": "40eb7ffe-12dd-4816-bdc9-0d5e675430bf",
   "metadata": {},
   "source": [
    "# Day 3: Boolean Logic, Conditional Statements, and Loops"
   ]
  },
  {
   "cell_type": "markdown",
   "id": "7b85c985-32c2-4507-9ff1-cf26038d48a8",
   "metadata": {
    "tags": []
   },
   "source": [
    "## Boolean Operators\n",
    "- Named for George Boole\n",
    "- `True` and `False` correspond to \"on\" and \"off\" or 1 and 0 in binary\n",
    "- We have seen comparison operators such as `==` can be used in expressions that evaluate to `True` or `False`\n",
    "    - `==`, `!=`, `<`, `>`, `<=`, `>=`\n",
    "- Boolean logic can be used to combine multiple comparison expressions\n",
    "- Python `and`\n",
    "    - `A and B` is `True` if both `A` and `B` are `True`\n",
    "- Python `or`\n",
    "    - `A or B` is `True` if at least one of `A` and `B` is `True`\n",
    "- Python `not`\n",
    "    - opposite\n",
    "    - `not True` is `False`\n",
    "    - `not False` is `True`\n",
    "- There are more boolean logic operators, but in practice we will only use `and`, `or`, and `not`.\n",
    "\n",
    "<img src=https://i.stack.imgur.com/nl0W8.jpghttps://i.stack.imgur.com/nl0W8.jpg align=\"left\">\n"
   ]
  },
  {
   "cell_type": "code",
   "execution_count": 1,
   "id": "32530b8a-3beb-4c9a-8e3a-31fe8c3ae48f",
   "metadata": {},
   "outputs": [
    {
     "data": {
      "text/plain": [
       "True"
      ]
     },
     "execution_count": 1,
     "metadata": {},
     "output_type": "execute_result"
    }
   ],
   "source": [
    "# and\n",
    "a = True\n",
    "b = True\n",
    "a and b"
   ]
  },
  {
   "cell_type": "code",
   "execution_count": 2,
   "id": "12eb7c3c-b98b-4485-92f9-613965cdab60",
   "metadata": {},
   "outputs": [
    {
     "data": {
      "text/plain": [
       "False"
      ]
     },
     "execution_count": 2,
     "metadata": {},
     "output_type": "execute_result"
    }
   ],
   "source": [
    "# and\n",
    "a = True\n",
    "b = False\n",
    "a and b"
   ]
  },
  {
   "cell_type": "code",
   "execution_count": 3,
   "id": "6c2175cc-463b-4cea-afc3-0ea13fd3cfc0",
   "metadata": {},
   "outputs": [
    {
     "data": {
      "text/plain": [
       "False"
      ]
     },
     "execution_count": 3,
     "metadata": {},
     "output_type": "execute_result"
    }
   ],
   "source": [
    "# and\n",
    "a = False\n",
    "b = True\n",
    "a and b"
   ]
  },
  {
   "cell_type": "code",
   "execution_count": 4,
   "id": "c8b39aa6-2973-4521-aa27-da264e2e61e6",
   "metadata": {},
   "outputs": [
    {
     "data": {
      "text/plain": [
       "False"
      ]
     },
     "execution_count": 4,
     "metadata": {},
     "output_type": "execute_result"
    }
   ],
   "source": [
    "# and\n",
    "a = False\n",
    "b = False\n",
    "a and b"
   ]
  },
  {
   "cell_type": "code",
   "execution_count": 5,
   "id": "23897b6d-4a28-41c7-b298-7c0d2027e527",
   "metadata": {},
   "outputs": [
    {
     "data": {
      "text/plain": [
       "True"
      ]
     },
     "execution_count": 5,
     "metadata": {},
     "output_type": "execute_result"
    }
   ],
   "source": [
    "# or\n",
    "a = True\n",
    "b = False\n",
    "a or b"
   ]
  },
  {
   "cell_type": "code",
   "execution_count": 6,
   "id": "261f4f45-f3a4-4ca8-821a-8a26ba938405",
   "metadata": {},
   "outputs": [
    {
     "data": {
      "text/plain": [
       "False"
      ]
     },
     "execution_count": 6,
     "metadata": {},
     "output_type": "execute_result"
    }
   ],
   "source": [
    "# or\n",
    "a = False\n",
    "b = False\n",
    "a or b"
   ]
  },
  {
   "cell_type": "markdown",
   "id": "f900e079-9fc4-4610-888a-3fee32b0eea5",
   "metadata": {},
   "source": [
    "### Python order of operations\n",
    "- Python order of operations is similar to standard math\n",
    "- Note that we will not cover some of these operators in this class because we don't use them much in bioinformatics code\n",
    "- If you are unsure of the order of operations use parentheses to make sure the expressions are evaluated in the order that you want\n",
    "\n",
    "<img src=https://techvidvan.com/tutorials/wp-content/uploads/sites/2/2019/12/python-operator-precedence.jpg width=\"450\">"
   ]
  },
  {
   "cell_type": "markdown",
   "id": "dd84d28c-7c9d-4521-9a27-e8edc10f74cf",
   "metadata": {},
   "source": [
    "### Python **is** operator\n",
    "- `is` tests if the left hand side is the same object as the right hand side\n",
    "- `A is B` is True if `A` and `B` refer to the same object\n",
    "- `is` is different from `==` because `==` tests if the values are equivalent"
   ]
  },
  {
   "cell_type": "code",
   "execution_count": 7,
   "id": "0582972b-0040-4347-98eb-d9de1c984506",
   "metadata": {},
   "outputs": [
    {
     "name": "stdout",
     "output_type": "stream",
     "text": [
      "True\n",
      "True\n"
     ]
    }
   ],
   "source": [
    "a = 1\n",
    "b = 1\n",
    "print(a == b)\n",
    "\n",
    "# a is b evaluates to True because both variables refer to int 1\n",
    "print(a is b)\n",
    "\n",
    "# is is not that useful for numbers"
   ]
  },
  {
   "cell_type": "code",
   "execution_count": 8,
   "id": "dcb0f054-0cb7-498d-94d9-2fa7df1a14ab",
   "metadata": {},
   "outputs": [],
   "source": [
    "# is is more useful for lists and dicts\n",
    "my_list = [1, 2, 3, 4]\n",
    "\n",
    "# assign my_list to my_list_2\n",
    "my_list_2 = my_list\n",
    "\n",
    "# make a copy of my_list\n",
    "my_list_copy = my_list.copy()"
   ]
  },
  {
   "cell_type": "code",
   "execution_count": 9,
   "id": "0f3ddd8a-9afc-40c7-909a-fbd5f61129c6",
   "metadata": {},
   "outputs": [
    {
     "data": {
      "text/plain": [
       "True"
      ]
     },
     "execution_count": 9,
     "metadata": {},
     "output_type": "execute_result"
    }
   ],
   "source": [
    "# evaluates to True because my_list and my_list_2 are the same object\n",
    "my_list is my_list_2"
   ]
  },
  {
   "cell_type": "code",
   "execution_count": 10,
   "id": "6da362e0-ccb7-4429-a710-b6da2aa6cebc",
   "metadata": {},
   "outputs": [
    {
     "data": {
      "text/plain": [
       "False"
      ]
     },
     "execution_count": 10,
     "metadata": {},
     "output_type": "execute_result"
    }
   ],
   "source": [
    "# evaluates to False because my_list_copy is a copy of my_list \n",
    "# and they are not the same object\n",
    "my_list is my_list_copy"
   ]
  },
  {
   "cell_type": "code",
   "execution_count": 11,
   "id": "62258528-dc2b-4e56-820d-741772ebeb0e",
   "metadata": {},
   "outputs": [
    {
     "data": {
      "text/plain": [
       "True"
      ]
     },
     "execution_count": 11,
     "metadata": {},
     "output_type": "execute_result"
    }
   ],
   "source": [
    "# evaluates to True because my_list and my_list_copy contain the same values\n",
    "my_list == my_list_copy"
   ]
  },
  {
   "cell_type": "code",
   "execution_count": 12,
   "id": "d75945fc-9e4f-41f6-a69e-7f81f2225022",
   "metadata": {},
   "outputs": [
    {
     "data": {
      "text/plain": [
       "True"
      ]
     },
     "execution_count": 12,
     "metadata": {},
     "output_type": "execute_result"
    }
   ],
   "source": [
    "# evaluates to True because my_list and my_list_2 contain the same values\n",
    "my_list == my_list_2"
   ]
  },
  {
   "cell_type": "code",
   "execution_count": 13,
   "id": "15bd4e4a-cb1c-40fc-bfea-3b55f439357e",
   "metadata": {},
   "outputs": [
    {
     "data": {
      "text/plain": [
       "True"
      ]
     },
     "execution_count": 13,
     "metadata": {},
     "output_type": "execute_result"
    }
   ],
   "source": [
    "# you can combine is with not\n",
    "my_list is not my_list_copy"
   ]
  },
  {
   "cell_type": "code",
   "execution_count": 14,
   "id": "ff53daec-8760-40cb-85d3-a800e897b1af",
   "metadata": {},
   "outputs": [
    {
     "data": {
      "text/plain": [
       "False"
      ]
     },
     "execution_count": 14,
     "metadata": {},
     "output_type": "execute_result"
    }
   ],
   "source": [
    "# you can combine is with not\n",
    "my_list is not my_list_2"
   ]
  },
  {
   "cell_type": "code",
   "execution_count": 15,
   "id": "cf588cbb-6763-4fd4-9511-a9852e0cf598",
   "metadata": {},
   "outputs": [
    {
     "name": "stderr",
     "output_type": "stream",
     "text": [
      "<>:4: SyntaxWarning: \"is\" with a literal. Did you mean \"==\"?\n",
      "<>:4: SyntaxWarning: \"is\" with a literal. Did you mean \"==\"?\n",
      "C:\\Users\\rehman\\AppData\\Local\\Temp\\ipykernel_3936\\3241414072.py:4: SyntaxWarning: \"is\" with a literal. Did you mean \"==\"?\n",
      "  x is 1\n"
     ]
    },
    {
     "data": {
      "text/plain": [
       "True"
      ]
     },
     "execution_count": 15,
     "metadata": {},
     "output_type": "execute_result"
    }
   ],
   "source": [
    "# when a variable is equal to a int, float, or str \n",
    "# is will return True when comparing the variable to that value\n",
    "x = 1\n",
    "x is 1\n",
    "# python will give us a warning because using \"is\" like this is not a good practice\n",
    "# we should instead use \"==\""
   ]
  },
  {
   "cell_type": "code",
   "execution_count": 16,
   "id": "6e5ac435-4d9b-4e7c-86bf-0650030733eb",
   "metadata": {},
   "outputs": [
    {
     "data": {
      "text/plain": [
       "True"
      ]
     },
     "execution_count": 16,
     "metadata": {},
     "output_type": "execute_result"
    }
   ],
   "source": [
    "# it will work if we assign two variable to the same value\n",
    "x = 'hello'\n",
    "y = 'hello'\n",
    "x is y"
   ]
  },
  {
   "cell_type": "markdown",
   "id": "411f713d-0e76-4a4b-9f18-782e95c625d8",
   "metadata": {},
   "source": [
    "### Python **in** operator\n",
    "- Check if left hand side is contained in the right hand side\n",
    "- Useful for lists, tuples, sets, and strings\n",
    "- `A in B`"
   ]
  },
  {
   "cell_type": "code",
   "execution_count": 17,
   "id": "d7cbb768-1692-4a3c-a87f-6fcd8e3884ee",
   "metadata": {},
   "outputs": [
    {
     "data": {
      "text/plain": [
       "True"
      ]
     },
     "execution_count": 17,
     "metadata": {},
     "output_type": "execute_result"
    }
   ],
   "source": [
    "# in operator with str\n",
    "'A' in 'ATCG'"
   ]
  },
  {
   "cell_type": "code",
   "execution_count": 18,
   "id": "dfd21d6c-64cd-4f72-81a6-f8fdfb15a6ff",
   "metadata": {},
   "outputs": [
    {
     "data": {
      "text/plain": [
       "True"
      ]
     },
     "execution_count": 18,
     "metadata": {},
     "output_type": "execute_result"
    }
   ],
   "source": [
    "# in operator with a list\n",
    "'hello' in ['hello', 1, 2, 4]"
   ]
  },
  {
   "cell_type": "code",
   "execution_count": 19,
   "id": "2dd64fbc-e712-4c1e-a49f-d1d867869fab",
   "metadata": {},
   "outputs": [
    {
     "data": {
      "text/plain": [
       "False"
      ]
     },
     "execution_count": 19,
     "metadata": {},
     "output_type": "execute_result"
    }
   ],
   "source": [
    "# in operator with a tuple\n",
    "'aardvark' in ('hello', 1, 2, 4)"
   ]
  },
  {
   "cell_type": "code",
   "execution_count": 20,
   "id": "b4f36eac-b49f-458d-b8c6-2bf271fa2ac1",
   "metadata": {},
   "outputs": [
    {
     "data": {
      "text/plain": [
       "False"
      ]
     },
     "execution_count": 20,
     "metadata": {},
     "output_type": "execute_result"
    }
   ],
   "source": [
    "# in operator with range\n",
    "x = 100\n",
    "x in range(10)"
   ]
  },
  {
   "cell_type": "code",
   "execution_count": 21,
   "id": "05130898-93ae-49a5-8547-f41142460e05",
   "metadata": {},
   "outputs": [
    {
     "data": {
      "text/plain": [
       "False"
      ]
     },
     "execution_count": 21,
     "metadata": {},
     "output_type": "execute_result"
    }
   ],
   "source": [
    "# in operator with set\n",
    "x = 'U'\n",
    "x in {'A','T','G','C'}"
   ]
  },
  {
   "cell_type": "code",
   "execution_count": 22,
   "id": "517b566d-8dd8-443e-88fc-36042cd33518",
   "metadata": {},
   "outputs": [
    {
     "data": {
      "text/plain": [
       "True"
      ]
     },
     "execution_count": 22,
     "metadata": {},
     "output_type": "execute_result"
    }
   ],
   "source": [
    "# you can combine in with not\n",
    "x = 'word'\n",
    "my_list = [1, 2, 3, \"fish\"]\n",
    "x not in my_list"
   ]
  },
  {
   "cell_type": "code",
   "execution_count": 23,
   "id": "b7f43ca9-cc29-4df9-9682-0dd02b0468f0",
   "metadata": {},
   "outputs": [
    {
     "name": "stdout",
     "output_type": "stream",
     "text": [
      "True\n"
     ]
    }
   ],
   "source": [
    "# you can assign is, in, and, or, not expressions to variables\n",
    "comparison = 3 in range(1,10)\n",
    "print(comparison)"
   ]
  },
  {
   "cell_type": "markdown",
   "id": "f300506b-df59-4b83-83e1-55a1660be4b0",
   "metadata": {},
   "source": [
    "#### Boolean logic\n",
    "- We can use the comparison operators, `is`, and `in` alongside `and`, `or`, and `not` to create complicated\n",
    "boolean expressions\n",
    "- This will generate the logic for our programs\n",
    "- **Having the correct order of operations is crucial**\n",
    "    - I make this easy on myself by grouping expressions with parentheses\n",
    "    - Using parentheses also makes the code easier to understand by anyone who hasn't perfectly memorized python's operator order preference &#128527;"
   ]
  },
  {
   "cell_type": "code",
   "execution_count": 24,
   "id": "6ae8db89-49db-43d1-b4c9-1bdf863d96c1",
   "metadata": {},
   "outputs": [
    {
     "data": {
      "text/plain": [
       "True"
      ]
     },
     "execution_count": 24,
     "metadata": {},
     "output_type": "execute_result"
    }
   ],
   "source": [
    "# check if a value is between two values \n",
    "x = 13.5\n",
    "lower_bound = 2.5\n",
    "upper_bound = 24\n",
    "x >= lower_bound and x <= upper_bound"
   ]
  },
  {
   "cell_type": "code",
   "execution_count": 25,
   "id": "ffc13fce-8eb6-4987-98dd-c90d951f88e6",
   "metadata": {},
   "outputs": [
    {
     "data": {
      "text/plain": [
       "False"
      ]
     },
     "execution_count": 25,
     "metadata": {},
     "output_type": "execute_result"
    }
   ],
   "source": [
    "# check if a value is NOT between two values\n",
    "# one way is to use \"not\"\n",
    "# parentheses give precedence to the expression inside \n",
    "not (x <= upper_bound and x >= lower_bound)"
   ]
  },
  {
   "cell_type": "code",
   "execution_count": 26,
   "id": "6b4389c3-5fea-4998-bb1c-3590f8d85573",
   "metadata": {},
   "outputs": [
    {
     "name": "stdout",
     "output_type": "stream",
     "text": [
      "False\n",
      "False\n"
     ]
    }
   ],
   "source": [
    "# without parenthese python will prioritize \n",
    "# 1. >=, <= \n",
    "# 2. and\n",
    "# 3. not\n",
    "# not x<= upper_bound and x >= lower_bound will be read by python as\n",
    "# (not (x <= upper_bound)) and (x >= lower_bound) which is not what we want\n",
    "x = 13.5\n",
    "lower_bound = 2.5\n",
    "upper_bound = 24\n",
    "print(\n",
    "    not x <= upper_bound and x >= lower_bound\n",
    ")\n",
    "\n",
    "# the above expression is equivalent to the below expression\n",
    "\n",
    "print(\n",
    "    (not (x <= upper_bound)) and (x >= lower_bound)\n",
    ")\n",
    "# We need to be mindful of the order of operations when we are constructing boolean expressions\n",
    "# In this case we want to test if 13.5 is NOT between 2.5 and 24, but if we don't construct our\n",
    "# expression carefully we will get False instead of True"
   ]
  },
  {
   "cell_type": "code",
   "execution_count": 27,
   "id": "d69062d5-27d3-428d-9f72-10868fbfa72a",
   "metadata": {},
   "outputs": [
    {
     "data": {
      "text/plain": [
       "False"
      ]
     },
     "execution_count": 27,
     "metadata": {},
     "output_type": "execute_result"
    }
   ],
   "source": [
    "# Using or is a better way check if a value is NOT between two values\n",
    "# this code is better than the negation with not \n",
    "# because it is a simpler expression even though they are logically equivalent\n",
    "\n",
    "x >= upper_bound or x <= lower_bound"
   ]
  },
  {
   "cell_type": "markdown",
   "id": "e66a378c-170d-4b54-9e56-4e3e12a20808",
   "metadata": {},
   "source": [
    "`x >= upper_bound or x <= lower_bound` is much cleaner code than `not (x <= upper_bound and x >= lower_bound)`. The boolean logic in the first expression is easier to follow than the second even though they lead to the same result. We should strive to write our code to be as clean and explicit as possible."
   ]
  },
  {
   "cell_type": "markdown",
   "id": "8e8745c0-1e18-490e-a7d4-dd0f42da31df",
   "metadata": {},
   "source": [
    "### `any` and `all`\n",
    "- `any` and `all` are applied to collections of objects like lists and tuples\n",
    "- Just like English, in python the `any` function returns `True` if at least one of the elements in the collection are True\n",
    "- `all` returns `True` if all of the elements in the collection are `True`"
   ]
  },
  {
   "cell_type": "code",
   "execution_count": 28,
   "id": "c3c27a53-a518-41cd-8a05-c6a78932deca",
   "metadata": {},
   "outputs": [
    {
     "name": "stdout",
     "output_type": "stream",
     "text": [
      "True\n",
      "False\n"
     ]
    }
   ],
   "source": [
    "# When a list contains a mix of True and False values any will evaluate to True\n",
    "# and all will return False\n",
    "my_list = [True, False, False, False]\n",
    "\n",
    "print(any(my_list))\n",
    "print(all(my_list))"
   ]
  },
  {
   "cell_type": "code",
   "execution_count": 29,
   "id": "2a0c887a-1eca-4365-9ef1-d502c1a16b3b",
   "metadata": {},
   "outputs": [
    {
     "name": "stdout",
     "output_type": "stream",
     "text": [
      "[False, False, False, False, False, False, False, False, False, False]\n",
      "False\n",
      "False\n"
     ]
    }
   ],
   "source": [
    "# When the list contains all False values, any and all will both return True\n",
    "my_list = [False] * 10\n",
    "print(my_list)\n",
    "print(any(my_list))\n",
    "print(all(my_list))"
   ]
  },
  {
   "cell_type": "code",
   "execution_count": 30,
   "id": "3b936b62-d3da-49cd-94d5-144932a5719e",
   "metadata": {},
   "outputs": [
    {
     "name": "stdout",
     "output_type": "stream",
     "text": [
      "[True, True, True, True, True, True, True, True, True, True]\n",
      "True\n",
      "True\n"
     ]
    }
   ],
   "source": [
    "# when the list contains all True values both any and all will evaluate to True\n",
    "my_list = [True] * 10\n",
    "print(my_list)\n",
    "print(any(my_list))\n",
    "print(all(my_list))"
   ]
  },
  {
   "cell_type": "markdown",
   "id": "0107f9e0-36e1-4ead-b10a-9a244c7f2877",
   "metadata": {},
   "source": [
    "## Conditional Statements\n",
    "- We have all the building blocks of Boolean logic\n",
    "- We can use them in if statements to control the flow of our programs\n",
    "    - Like function definitions must end with a colon\n",
    "- We can think of conditional statements like flow charts\n",
    "\n",
    "<img src=\"https://media.geeksforgeeks.org/wp-content/uploads/if-statement.jpg\" width=\"300\">"
   ]
  },
  {
   "cell_type": "code",
   "execution_count": 31,
   "id": "b3df2637-bf54-4661-9536-e72941650397",
   "metadata": {},
   "outputs": [
    {
     "name": "stdout",
     "output_type": "stream",
     "text": [
      "x is equal to 1\n",
      "2\n",
      "now x is equal to 2\n"
     ]
    }
   ],
   "source": [
    "# an example if statement\n",
    "\n",
    "x = 1\n",
    "\n",
    "if x == 1:\n",
    "    # if condition is True execute the code in this indented block\n",
    "    print(\"x is equal to 1\")\n",
    "    \n",
    "# code outside if statement is indented with one fewer tab\n",
    "# this code will be executed\n",
    "# regardless of the outcome of the evaluation of the if statement \n",
    "x += 1\n",
    "print(x)\n",
    "print(\"now x is equal to 2\")"
   ]
  },
  {
   "cell_type": "code",
   "execution_count": 32,
   "id": "550ef8a6-224f-4ee5-8f0c-f01319844003",
   "metadata": {},
   "outputs": [
    {
     "name": "stdout",
     "output_type": "stream",
     "text": [
      "This code is not part of the if statement\n"
     ]
    }
   ],
   "source": [
    "# you can use more complicated boolean expressions as the if condition\n",
    "\n",
    "x = 1\n",
    "y= -100\n",
    "if x == 1 and y >= 10:\n",
    "    print(\" x is equal to 1 and y is 10 or more\")\n",
    "print(\"This code is not part of the if statement\")"
   ]
  },
  {
   "cell_type": "markdown",
   "id": "4bdd7105-765b-4cd3-b9f3-e7286157fdae",
   "metadata": {},
   "source": [
    "### if/else statements\n",
    "- The `else` keyword will execute a block of code if the condition is false\n",
    "- `else` is indented at the same level as `if` and the `else` code block is indented one level deeper\n",
    "- By convention we use 4 spaces to indent python code.\n",
    "    - You can set your code editor to map the tab key to 4 spaces\n",
    "    \n",
    "<img src=https://media.geeksforgeeks.org/wp-content/uploads/if-else.jpg width=\"300\">\n",
    "\n"
   ]
  },
  {
   "cell_type": "code",
   "execution_count": 33,
   "id": "5ef1c0a8-c934-4748-9780-11c87f602062",
   "metadata": {},
   "outputs": [
    {
     "name": "stdout",
     "output_type": "stream",
     "text": [
      "The if condition is False\n",
      "goodbye\n",
      "This line is executed no matter what happens\n"
     ]
    }
   ],
   "source": [
    "# if else example\n",
    "\n",
    "x = 1\n",
    "y= -100\n",
    "if x == 1 and y >= 10:\n",
    "    print(\"The if condition is True\")\n",
    "    print(\"hello\")\n",
    "else:\n",
    "    print(\"The if condition is False\")\n",
    "    print(\"goodbye\")\n",
    "# the rest of the code is outside of the if else statement\n",
    "print(\"This line is executed no matter what happens\")"
   ]
  },
  {
   "cell_type": "markdown",
   "id": "d6eadfa5-4c4f-4d62-9588-a529fd02c3fe",
   "metadata": {},
   "source": [
    "### if, elif, else\n",
    "- You can test multiple conditions as part of a single `if` statement\n",
    "- In python \"else if\" is expressed with `elif`\n",
    "- Beginning with an `if` statement you can follow it with any number of `elif` statements, and finish with an else statement to execute if none of the boolean expressions are `True`\n",
    "- This is useful if you want your code to perform different actions based on the outcomes of multiple boolean expressions\n",
    "\n",
    "<img src=https://media.geeksforgeeks.org/wp-content/uploads/if-elseif-ladder.jpg width=\"600\">"
   ]
  },
  {
   "cell_type": "code",
   "execution_count": 35,
   "id": "08c77a57-9829-4faa-9f79-7c106c9dbd33",
   "metadata": {},
   "outputs": [
    {
     "name": "stdout",
     "output_type": "stream",
     "text": [
      "I have pizza!\n",
      "No matter what happens I'm going to say this\n"
     ]
    }
   ],
   "source": [
    "# if elif else example\n",
    "\n",
    "my_stuff = [\"avocado\", \"keyboard\", \"mouse\", \"mango\", \"TV\", \"laptop\", \"pizza\"]\n",
    "\n",
    "if \"pen\" in my_stuff:\n",
    "    print(\"I have a pen!\")\n",
    "elif \"pencil\" in my_stuff:\n",
    "    print(\"I have a pencil!\")\n",
    "elif \"sandwich\" in my_stuff:\n",
    "    print(\"I have a sandwich!\")\n",
    "elif \"pizza\" in my_stuff:\n",
    "    print(\"I have pizza!\")\n",
    "else:\n",
    "    print(\"I don't have a lot of stuff :(\")\n",
    "print(\"No matter what happens I'm going to say this\")"
   ]
  },
  {
   "cell_type": "code",
   "execution_count": 36,
   "id": "13cace41-eaca-4c19-9d99-0fad137533f2",
   "metadata": {},
   "outputs": [
    {
     "name": "stdout",
     "output_type": "stream",
     "text": [
      "I have a laptop!\n",
      "No matter what happens I'm going to say this\n"
     ]
    }
   ],
   "source": [
    "# if elif else example\n",
    "\n",
    "my_stuff = [\"laptop\", \"desk\", \"monitor\"]\n",
    "\n",
    "if \"pen\" in my_stuff:\n",
    "    print(\"I have a pen!\")\n",
    "elif \"pencil\" in my_stuff:\n",
    "    print(\"I have a pencil!\")\n",
    "elif \"sandwich\" in my_stuff:\n",
    "    print(\"I have a sandwich!\")\n",
    "elif \"pizza\" in my_stuff:\n",
    "    print(\"I have pizza!\")\n",
    "else:\n",
    "    # none of the boolean expressions is True so the else block will be executed\n",
    "    print(\"I don't have a lot of stuff :(\")\n",
    "print(\"No matter what happens I'm going to say this\")"
   ]
  },
  {
   "cell_type": "markdown",
   "id": "ca80511d-c401-4de1-a19e-e3b347ce07ee",
   "metadata": {},
   "source": [
    "### Nested if statements\n",
    "- You can put if statements inside if statements\n",
    "- Nesting if statements too many levels deep can lead to confusing code\n",
    "    - consider alternate ways of expressing your logic if your code has too many levels of  if statements\n",
    "- Generally nested if statements can be expressed as flat `if` `elif` `else` statements\n",
    "\n",
    "<img src=https://media.geeksforgeeks.org/wp-content/uploads/nested-if.jpg width=\"600\">"
   ]
  },
  {
   "cell_type": "code",
   "execution_count": 39,
   "id": "51c3c27a-66ea-41c8-8be6-96a46fcc2af7",
   "metadata": {},
   "outputs": [
    {
     "name": "stdout",
     "output_type": "stream",
     "text": [
      "condition1 is True and condition2 is True and condition3 is False\n",
      "print this no matter what happens\n",
      "condition1 is True and condition2 is True and condition3 is False\n",
      "print this no matter what happens\n"
     ]
    }
   ],
   "source": [
    "# Nested vs Flat conditionals\n",
    "\n",
    "condition1 = True\n",
    "condition2 = True\n",
    "condition3 = False\n",
    "\n",
    "# nested code\n",
    "\n",
    "if condition1:\n",
    "    if condition2:\n",
    "        if condition3:\n",
    "            print(\"condition1 is True and condition2 is True and condition3 is True\")\n",
    "        else:\n",
    "            print(\"condition1 is True and condition2 is True and condition3 is False\")\n",
    "    else:\n",
    "        print(\"condition1 is True and condition2 is False and condition3 is False\")\n",
    "else:\n",
    "    print(\"condition1 is False\")\n",
    "    \n",
    "print(\"print this no matter what happens\")\n",
    "\n",
    "# the same logic as above but using if elif else statements\n",
    "\n",
    "# flat code\n",
    "if condition1 and condition2 and condition3:\n",
    "    print(\"condition1 is True and condition2 is True and condition3 is True\")\n",
    "elif condition1 and condition2 and not condition3:\n",
    "    print(\"condition1 is True and condition2 is True and condition3 is False\")\n",
    "elif condition1 and not condition2 and not condition3:\n",
    "    print(\"condition1 is True and condition2 is False and condition3 is False\")\n",
    "else:\n",
    "    print(\"condition1 is False\")\n",
    "print(\"print this no matter what happens\")\n"
   ]
  },
  {
   "cell_type": "code",
   "execution_count": 40,
   "id": "3c46be42-46c9-4679-894c-0b6bdd8804bb",
   "metadata": {},
   "outputs": [
    {
     "name": "stdout",
     "output_type": "stream",
     "text": [
      "condition1 is False\n",
      "print this no matter what happens\n"
     ]
    }
   ],
   "source": [
    "# if the top level of the if evaluates to False none of the nested ifs will be evaluated\n",
    "\n",
    "condition1 = False\n",
    "condition2 = True\n",
    "condition3 = False\n",
    "\n",
    "# nested code\n",
    "if condition1:\n",
    "    # the rest of the code until the last else statement will be skipped by python\n",
    "    if condition2:\n",
    "        # condition2 is True, but it doesn't matter, it will be skipped because condition1 is False\n",
    "        if condition3:\n",
    "            print(\"condition1 is True and condition2 is True and condition3 is True\")\n",
    "        else:\n",
    "            print(\"condition1 is True and condition2 is True and condition3 is False\")\n",
    "    else:\n",
    "        print(\"condition1 is True and condition2 is False and condition3 is False\")\n",
    "else:\n",
    "    print(\"condition1 is False\")\n",
    "print(\"print this no matter what happens\")\n",
    "    "
   ]
  },
  {
   "cell_type": "markdown",
   "id": "87b3f5d8-a314-46a5-a180-7166cd82c7fa",
   "metadata": {},
   "source": [
    "### pass \n",
    "- You can use `pass` as part of a conditional block if you want nothing to happen when the condition is True"
   ]
  },
  {
   "cell_type": "code",
   "execution_count": 41,
   "id": "9a7fe2f1-2d74-4109-8e05-48bfbc5f5142",
   "metadata": {},
   "outputs": [
    {
     "name": "stdout",
     "output_type": "stream",
     "text": [
      "print this no matter what happens\n"
     ]
    }
   ],
   "source": [
    "# if the top level of the if evaluates to False none of the nested ifs will be evaluated\n",
    "\n",
    "condition1 = True\n",
    "condition2 = True\n",
    "condition3 = False\n",
    "\n",
    "# nested code\n",
    "if condition1:\n",
    "    # the rest of the code until the last else statement will be skipped by python\n",
    "    if condition2:\n",
    "        # condition2 is True, but it doesn't matter, it will be skipped because condition1 is False\n",
    "        if condition3:\n",
    "            print(\"condition1 is True and condition2 is True and condition3 is True\")\n",
    "        else:\n",
    "            # nothing will happen\n",
    "            pass\n",
    "    else:\n",
    "        print(\"condition1 is True and condition2 is False and condition3 is False\")\n",
    "else:\n",
    "    print(\"condition1 is False\")\n",
    "print(\"print this no matter what happens\")"
   ]
  },
  {
   "cell_type": "markdown",
   "id": "e36bda69-2c94-45d5-9253-adc44e13b547",
   "metadata": {},
   "source": [
    "### Values that are True\n",
    "- 1 and other nonzero numbers are considered `True` by python\n",
    "- 0 is considered `False`\n",
    "- Most objects like lists and dictionaries are considered `True`\n",
    "    - however they are `False` if they are empty\n",
    "- `None` is `False`\n",
    "- you can check how an object will evalute by converting it to `bool` type\n",
    "\n"
   ]
  },
  {
   "cell_type": "code",
   "execution_count": 43,
   "id": "2623165a-2296-497b-aa9d-1bc6d9cd6738",
   "metadata": {},
   "outputs": [
    {
     "name": "stdout",
     "output_type": "stream",
     "text": [
      "1\n",
      "True\n",
      "\n",
      "0\n",
      "False\n",
      "\n",
      "negative number\n",
      "True\n",
      "\n",
      "list\n",
      "True\n",
      "\n",
      "empty list\n",
      "False\n",
      "\n",
      "dict\n",
      "True\n",
      "\n",
      "empty dict\n",
      "False\n",
      "\n",
      "None\n",
      "False\n",
      "empty set\n",
      "False\n"
     ]
    }
   ],
   "source": [
    "print('1')\n",
    "print(bool(1))\n",
    "\n",
    "print('\\n0')\n",
    "print(bool(0))\n",
    "\n",
    "print('\\nnegative number')\n",
    "print(bool(-10))\n",
    "\n",
    "print('\\nlist')\n",
    "print(bool(['test']))\n",
    "\n",
    "print('\\nempty list')\n",
    "print(bool([]))\n",
    "\n",
    "print('\\ndict')\n",
    "print(bool({'a':1}))\n",
    "\n",
    "print('\\nempty dict')\n",
    "print(bool(dict()))\n",
    "\n",
    "print('\\nNone')\n",
    "print(bool(None))\n",
    "\n",
    "print('empty set')\n",
    "print(bool({}))\n"
   ]
  },
  {
   "cell_type": "code",
   "execution_count": 44,
   "id": "6d2a0656-a4e5-4221-9151-b295b78e68d1",
   "metadata": {},
   "outputs": [
    {
     "name": "stdout",
     "output_type": "stream",
     "text": [
      "my_list is empty\n"
     ]
    }
   ],
   "source": [
    "# use an object's boolean value in an if statement\n",
    "my_list = []\n",
    "\n",
    "if my_list:\n",
    "    print(\"my_list has stuff in it\")\n",
    "else:\n",
    "    print(\"my_list is empty\")"
   ]
  },
  {
   "cell_type": "markdown",
   "id": "9a15e145-4612-497c-a094-a4d311c38511",
   "metadata": {},
   "source": [
    "### try except statements\n",
    "- One more type of flow control is `try` `except` statements\n",
    "- `try` evaluates a block of python code\n",
    "    - if evaluating the statement produces an error instead of stopping execution of the program, error is \"caught\" and the `except` block of code is executed\n",
    "    - if there is no error the `else` block of code is executed\n",
    "- `try` `except` statements are useful in certain situations to handle code where there is potential for an error\n",
    "- `try` `except` statements should be used sparingly\n",
    "    - Overuse of `try` `except` statements can lead to messy code\n",
    "    - Proper error handling, which we will talk about in the future, is preferable to `try` `except`\n",
    "- One application of `try` `except` is to test your functions    "
   ]
  },
  {
   "cell_type": "code",
   "execution_count": 45,
   "id": "0812924a-d27a-4875-abef-1ce864d54644",
   "metadata": {},
   "outputs": [
    {
     "name": "stdout",
     "output_type": "stream",
     "text": [
      "Testing reverse_string...\n",
      "reverse_string has an error\n",
      "Python says:\n",
      "\n",
      "Traceback (most recent call last):\n",
      "  File \"C:\\Users\\rehman\\AppData\\Local\\Temp\\ipykernel_3936\\1313947295.py\", line 15, in <cell line: 12>\n",
      "    out = reverse_string(n)\n",
      "  File \"C:\\Users\\rehman\\AppData\\Local\\Temp\\ipykernel_3936\\1313947295.py\", line 8, in reverse_string\n",
      "    s_reverse = s[::-1]\n",
      "TypeError: 'int' object is not subscriptable\n",
      "\n",
      "No matter what, this line is executed\n"
     ]
    }
   ],
   "source": [
    "# print the error without jupyter stopping on the error \n",
    "# (I have to do it like this so you can click run all cells without jupyter stopping)\n",
    "# we will go over what this line means later\n",
    "import traceback as tb\n",
    "\n",
    "# write a function\n",
    "def reverse_string(s):\n",
    "    s_reverse = s[::-1]\n",
    "    return(s_reverse)\n",
    "# n is an integer\n",
    "n = 1\n",
    "try:\n",
    "    print(\"Testing reverse_string...\")\n",
    "    # calling reverse_string with an int will cause an error because ints cannot be indexed\n",
    "    out = reverse_string(n)\n",
    "# catch the python error from the Exception is a special python object for handling errors\n",
    "# as is a python keyword used to create an alias that we can use in our code\n",
    "\n",
    "except:\n",
    "    print(\"reverse_string has an error\")\n",
    "    print(\"Python says:\\n\")\n",
    "    print(tb.format_exc())\n",
    "    \n",
    "else:\n",
    "    print(\"reverse_string passed the test!\")\n",
    "    print(\"The output of reverse_string is:\")\n",
    "    print(out)\n",
    "    \n",
    "print(\"No matter what, this line is executed\")"
   ]
  },
  {
   "cell_type": "code",
   "execution_count": 46,
   "id": "d6a53f71-a810-4a55-adef-ae7ec5550a36",
   "metadata": {},
   "outputs": [
    {
     "name": "stdout",
     "output_type": "stream",
     "text": [
      "Testing reverse_string...\n",
      "reverse_string passed the test!\n",
      "The output of reverse_string is:\n",
      "!dlroW olleH\n",
      "No matter what, this line is executed\n"
     ]
    }
   ],
   "source": [
    "# what does it look like if there is no error in the try block\n",
    "\n",
    "import traceback as tb\n",
    "\n",
    "my_string = 'Hello World!'\n",
    "try:\n",
    "    print(\"Testing reverse_string...\")\n",
    "    # reverse string will not cause an error this time because now we are giving it an object\n",
    "    # as in input that has a reverse method\n",
    "    out = reverse_string(my_string)\n",
    "    \n",
    "except:\n",
    "    # this time the except block will not be executed\n",
    "    print(\"reverse_string has an error\")\n",
    "    print(\"Python says:\\n\")\n",
    "    print(tb.format_exc())\n",
    "    \n",
    "else:\n",
    "    # the else block will be executed because the try block did not contain an error\n",
    "    print(\"reverse_string passed the test!\")\n",
    "    print(\"The output of reverse_string is:\")\n",
    "    print(out)\n",
    "    \n",
    "print(\"No matter what, this line is executed\")"
   ]
  },
  {
   "cell_type": "markdown",
   "id": "5b9c8a59-b63d-4bd6-9713-1d6e72971917",
   "metadata": {},
   "source": [
    "## Loops"
   ]
  },
  {
   "cell_type": "markdown",
   "id": "f1e8846a-178d-4573-9f89-3beb90b8f7fc",
   "metadata": {},
   "source": [
    "### Loops\n",
    "- Loops execute a block of code repeatedly until some condition is met\n",
    "- Python has 2 kinds of loops:\n",
    "    - `while` loops\n",
    "        - Repeatedly execute a block of code \"while\" a condition is `True`\n",
    "        - Use `while` when it is not known beforehand how many times the loop code needs to be executed\n",
    "    - `for` loops\n",
    "        - iterate over a collection of objects\n",
    "        - execute a block of code using each value in the collection\n",
    "        - Use `for` when you can be certain beforehand how many times the loop code needs to be executed\n",
    "- `while` and `for` loops can have an `else` clause that will always execute after the loop has finished just like `if` and `try` `except`\n",
    "    - `else` is optional in loops"
   ]
  },
  {
   "cell_type": "markdown",
   "id": "25c51aa6-4f4a-4ffe-92f2-6916344b7b7b",
   "metadata": {},
   "source": [
    "### while loop flowchart\n",
    "![](https://www.freecodecamp.org/news/content/images/2020/08/while-loop.jpg)"
   ]
  },
  {
   "cell_type": "markdown",
   "id": "4d2e82c9-24b0-44a4-a2ea-bd2e124a6ef2",
   "metadata": {},
   "source": [
    "### **while** loop example"
   ]
  },
  {
   "cell_type": "code",
   "execution_count": 47,
   "id": "d326a677-2564-4a03-82e8-13e8bdec123f",
   "metadata": {},
   "outputs": [
    {
     "name": "stdout",
     "output_type": "stream",
     "text": [
      "['GCC', 'GAA', 'TCG', 'GAA', 'CCC', 'CGA', 'TAA', 'CCC', 'GCG']\n",
      "['GAA', 'TCG', 'GAA', 'CCC', 'CGA', 'TAA', 'CCC', 'GCG']\n",
      "['TCG', 'GAA', 'CCC', 'CGA', 'TAA', 'CCC', 'GCG']\n",
      "['GAA', 'CCC', 'CGA', 'TAA', 'CCC', 'GCG']\n",
      "['CCC', 'CGA', 'TAA', 'CCC', 'GCG']\n",
      "['CGA', 'TAA', 'CCC', 'GCG']\n",
      "['TAA', 'CCC', 'GCG']\n",
      "['CCC', 'GCG']\n",
      "Finished searching the DNA sequence.\n",
      "The sequence contains a valid protein.\n",
      "The protein coding sequence is:\n",
      "ATGATGGCCGAATCGGAACCCCGATAA\n"
     ]
    }
   ],
   "source": [
    "# while loop example\n",
    "dna_sequence = ['ATG', 'GCC', 'GAA', 'TCG', 'GAA', 'CCC', 'CGA', 'TAA', 'CCC', 'GCG']\n",
    "stop_codons = ['TAA', 'TGA', 'TAG']\n",
    "\n",
    "# get the protein coding region of the DNA sequence\n",
    "# get all codons from the start codon 'ATG' to a stop codon\n",
    "\n",
    "# begin growing the protein sequence with the first codon in dna_sequence\n",
    "protein = dna_sequence[0]\n",
    "\n",
    "# as long as the last 3 characters in protein are not in the stop_codons\n",
    "# list the loop will continue to execute\n",
    "\n",
    "while protein[-3:] not in stop_codons:\n",
    "    protein += dna_sequence.pop(0)\n",
    "    # each time the loop is executed the first codon in dna_sequence is appended to \n",
    "    # protein and removed from dna_sequence\n",
    "    print(dna_sequence)\n",
    "# else is NOT required\n",
    "else:\n",
    "    print(\"Finished searching the DNA sequence.\")\n",
    "    \n",
    "if protein[:3] == 'ATG' and protein[-3:] in stop_codons:\n",
    "    print(\"The sequence contains a valid protein.\")\n",
    "    print(\"The protein coding sequence is:\")\n",
    "    print(protein)\n",
    "else:\n",
    "    print(\"The DNA sequence does not contain a protein coding region.\")"
   ]
  },
  {
   "cell_type": "markdown",
   "id": "0b121bc1-3538-452f-8c87-233f4267652f",
   "metadata": {},
   "source": [
    "#### **What if there is no stop codon?**"
   ]
  },
  {
   "cell_type": "code",
   "execution_count": 48,
   "id": "132af190-475d-42a8-8840-41084aa4cced",
   "metadata": {},
   "outputs": [
    {
     "name": "stdout",
     "output_type": "stream",
     "text": [
      "Testing the while loop...\n",
      "['GCC', 'GAA', 'TCG', 'GAA', 'CCC', 'CGA', 'CCC', 'GCG']\n",
      "['GAA', 'TCG', 'GAA', 'CCC', 'CGA', 'CCC', 'GCG']\n",
      "['TCG', 'GAA', 'CCC', 'CGA', 'CCC', 'GCG']\n",
      "['GAA', 'CCC', 'CGA', 'CCC', 'GCG']\n",
      "['CCC', 'CGA', 'CCC', 'GCG']\n",
      "['CGA', 'CCC', 'GCG']\n",
      "['CCC', 'GCG']\n",
      "['GCG']\n",
      "[]\n",
      "\n",
      "get_protein failed with the error:\n",
      "\n",
      "Traceback (most recent call last):\n",
      "  File \"C:\\Users\\rehman\\AppData\\Local\\Temp\\ipykernel_3936\\1840335335.py\", line 24, in <cell line: 22>\n",
      "    my_protein = get_protein(my_dna_sequence)\n",
      "  File \"C:\\Users\\rehman\\AppData\\Local\\Temp\\ipykernel_3936\\1840335335.py\", line 13, in get_protein\n",
      "    protein += dna_sequence.pop(0)\n",
      "IndexError: pop from empty list\n",
      "\n"
     ]
    }
   ],
   "source": [
    "import traceback as tb\n",
    "\n",
    "# a sequence of codons without a stop codon\n",
    "my_dna_sequence = ['ATG', 'GCC', 'GAA', 'TCG', 'GAA', 'CCC', 'CGA', 'CCC', 'GCG']\n",
    "\n",
    "# make the previous code into a function\n",
    "def get_protein(dna_sequence):\n",
    "    stop_codons = ['TAA', 'TGA', 'TAG']\n",
    "    protein = dna_sequence[0]\n",
    "    \n",
    "    # the same while loop, but without a stop codon there will be an error\n",
    "    while protein[-3:] not in stop_codons:\n",
    "        protein += dna_sequence.pop(0)\n",
    "        print(dna_sequence)\n",
    "\n",
    "    if protein[:3] == 'ATG' and protein[-3:] in stop_codons:\n",
    "        return(protein)\n",
    "    else:\n",
    "        print(\"Warning: The DNA sequence does not contain a protein coding region.\")\n",
    "        return(None)\n",
    "\n",
    "try:\n",
    "    print(\"Testing the while loop...\")\n",
    "    my_protein = get_protein(my_dna_sequence)\n",
    "except:\n",
    "    print(\"\\nget_protein failed with the error:\\n\")\n",
    "    print(tb.format_exc())\n",
    "else:\n",
    "    print(\"The while loop completed successfully!\")\n",
    "    print(\"The output is:\")\n",
    "    print(my_protein)"
   ]
  },
  {
   "cell_type": "markdown",
   "id": "d8cc3708-f234-48dc-9cda-244080e2ecad",
   "metadata": {},
   "source": [
    "#### What happened?\n",
    "- Without a stop codon the loop continues to execute the `while` condition is not met\n",
    "- The code continues removing elements from the `dna_sequence` list \n",
    "- When all elements are removed from `dna_sequence` list, calling the `pop` function will cause an error because there is nothing in the list to pop\n",
    "- How can we fix this?"
   ]
  },
  {
   "cell_type": "code",
   "execution_count": 49,
   "id": "bf9891b7-eb45-4eba-96ed-89ce4eecdee6",
   "metadata": {},
   "outputs": [
    {
     "name": "stdout",
     "output_type": "stream",
     "text": [
      "Testing the while loop...\n",
      "['GCC', 'GAA', 'TCG', 'GAA', 'CCC', 'CGA', 'CCC', 'GCG']\n",
      "['GAA', 'TCG', 'GAA', 'CCC', 'CGA', 'CCC', 'GCG']\n",
      "['TCG', 'GAA', 'CCC', 'CGA', 'CCC', 'GCG']\n",
      "['GAA', 'CCC', 'CGA', 'CCC', 'GCG']\n",
      "['CCC', 'CGA', 'CCC', 'GCG']\n",
      "['CGA', 'CCC', 'GCG']\n",
      "['CCC', 'GCG']\n",
      "['GCG']\n",
      "[]\n",
      "Warning: The DNA sequence does not contain a protein coding region.\n",
      "The while loop completed successfully!\n",
      "The output is:\n",
      "None\n"
     ]
    }
   ],
   "source": [
    "import traceback as tb\n",
    "\n",
    "my_dna_sequence = ['ATG', 'GCC', 'GAA', 'TCG', 'GAA', 'CCC', 'CGA', 'CCC', 'GCG']\n",
    "\n",
    "def get_protein(dna_sequence):\n",
    "    stop_codons = ['TAA', 'TGA', 'TAG']\n",
    "    protein = dna_sequence[0]\n",
    "    \n",
    "    # one way to fix this issue is to ensure the list is not empty as a condition of the while loop\n",
    "    # remember if a list is not empty python considers it to have boolean value of True\n",
    "    while dna_sequence and protein[-3:] not in stop_codons:\n",
    "        protein += dna_sequence.pop(0)\n",
    "        print(dna_sequence)\n",
    "\n",
    "    if protein[:3] == 'ATG' and protein[-3:] in stop_codons:\n",
    "        return(protein)\n",
    "    else:\n",
    "        print(\"Warning: The DNA sequence does not contain a protein coding region.\")\n",
    "        return(None)\n",
    "\n",
    "try:\n",
    "    print(\"Testing the while loop...\")\n",
    "    my_protein = get_protein(my_dna_sequence)\n",
    "except:\n",
    "    print(\"\\nget_protein failed with the error:\\n\")\n",
    "    print(tb.format_exc())\n",
    "else:\n",
    "    print(\"The while loop completed successfully!\")\n",
    "    print(\"The output is:\")\n",
    "    print(my_protein)"
   ]
  },
  {
   "cell_type": "markdown",
   "id": "434b6361-3449-49ab-a49f-0450e1e106f6",
   "metadata": {},
   "source": [
    "### Infinite loops\n",
    "- If you are not careful you can end up writing a `while` loop that will never stop\n",
    "- The block of code under while will execute over and over infinitely\n",
    "- Press `control-c` or `command-c` to force python to stop if you are stuck an in infinite loop\n",
    "- Infinite loop example:\n",
    "```python\n",
    "while True:\n",
    "    print(\"Help, I'm stuck!\")\n",
    "```"
   ]
  },
  {
   "cell_type": "markdown",
   "id": "2d331fcb-1b58-4ca9-a6d7-399d1a6a6126",
   "metadata": {},
   "source": [
    "### **for** loops\n",
    "- Some program logic can be expressed with either `for` or `while` loops\n",
    "- In general, if you can use`for` in your code you should prefer it over `while`\n",
    "- Code using `for` will usually be cleaner than the equivalent code using `while`"
   ]
  },
  {
   "cell_type": "markdown",
   "id": "8aa7ff3e-1848-4bfa-b061-57b69f737a2f",
   "metadata": {},
   "source": [
    "#### **for** loop examples\n",
    "- First we will use `while` then we will rewrite it with a `for` loop"
   ]
  },
  {
   "cell_type": "code",
   "execution_count": 50,
   "id": "9d6c2891-a0b0-418f-9c51-be10035762ab",
   "metadata": {},
   "outputs": [
    {
     "name": "stdout",
     "output_type": "stream",
     "text": [
      "0\n",
      "1\n",
      "2\n",
      "3\n",
      "4\n",
      "5\n",
      "6\n",
      "7\n",
      "8\n",
      "9\n"
     ]
    }
   ],
   "source": [
    "# print the numbers from 0 to 9\n",
    "\n",
    "#using a while loop\n",
    "number = 0\n",
    "while number < 10:\n",
    "    print(number)\n",
    "    number += 1"
   ]
  },
  {
   "cell_type": "code",
   "execution_count": 51,
   "id": "8ab68061-f37e-43c1-85c2-2e399d9cd6aa",
   "metadata": {},
   "outputs": [
    {
     "name": "stdout",
     "output_type": "stream",
     "text": [
      "0\n",
      "1\n",
      "2\n",
      "3\n",
      "4\n",
      "5\n",
      "6\n",
      "7\n",
      "8\n",
      "9\n"
     ]
    }
   ],
   "source": [
    "# print the numbers from 0 to 9 using a for loop\n",
    "\n",
    "# i is often used as a for loop variable because it stands for iteration\n",
    "for i in range(0,10):\n",
    "    print(i)"
   ]
  },
  {
   "cell_type": "markdown",
   "id": "20304c5b-07f4-4a14-8b71-5ffaeb09e6f9",
   "metadata": {},
   "source": [
    "#### **for** loop explanation\n",
    "- In the previous example we use range, which is a special object showing a collection of integers\n",
    "```python\n",
    "for i in range(0,10):\n",
    "```\n",
    "- In this line the variable `i` is created\n",
    "- When the loop begins the first value in the range object is assigned to `i`\n",
    "- At each iteration of the loop the next value in the range object is assigned to `i`\n",
    "- We can perform some actions on `i` in the body of the for loop\n",
    "- The loop will continue iterating until the last value in the range object is assigned to `i`\n",
    "- `i` is often used as an iterator variable in `for` loops\n",
    "- We can iterate over any collection of objects such as ranges, lists, tuples, strings, and dictionaries\n",
    "\n",
    "![](https://cdn.techbeamers.com/wp-content/uploads/2018/08/Regular-Python-for-loop-flowchart.png)"
   ]
  },
  {
   "cell_type": "code",
   "execution_count": 54,
   "id": "6bc1bc04-531b-42dd-8cee-eff726eb56b3",
   "metadata": {},
   "outputs": [
    {
     "name": "stdout",
     "output_type": "stream",
     "text": [
      "['BURGERS', 'PIZZA', 'ICE CREAM', 'CHEESECAKE']\n"
     ]
    }
   ],
   "source": [
    "# make every string in a list uppercase\n",
    "my_dinner = ['burgers', 'pizza', 'ice cream', 'cheesecake']\n",
    "\n",
    "# initialize an empty list to store the uppercase values\n",
    "my_dinner_upper = []\n",
    "\n",
    "for course in my_dinner:\n",
    "    # at each iteration course is an element of the list my_dinner\n",
    "    my_dinner_upper.append(course.upper())\n",
    "    \n",
    "print(my_dinner_upper)"
   ]
  },
  {
   "cell_type": "markdown",
   "id": "87ef9f66-590a-409b-9f4e-71e81f2dc9a7",
   "metadata": {},
   "source": [
    "### Multiplying the elements of two lists"
   ]
  },
  {
   "cell_type": "code",
   "execution_count": 56,
   "id": "f00e3c8e-cc5d-48dc-b822-a608abffd18b",
   "metadata": {},
   "outputs": [
    {
     "name": "stdout",
     "output_type": "stream",
     "text": [
      "0\n",
      "1\n",
      "2\n",
      "3\n",
      "4\n",
      "[30, 30, 12, 67, 72]\n"
     ]
    }
   ],
   "source": [
    "num1 = [3, 15, 4, 67, 12]\n",
    "num2 = [10, 2, 3, 1, 6]\n",
    "# num1 and num2 contain the same number of elements\n",
    "\n",
    "# initialize an empty list to store the products\n",
    "product = []\n",
    "\n",
    "# we can use range to get numbers from zero to the final index of num1\n",
    "for index in range(len(num1)):\n",
    "    product.append(num1[index] * num2[index])\n",
    "print(product)"
   ]
  },
  {
   "cell_type": "markdown",
   "id": "d7074294-8ba7-4e30-81a4-f364f9887728",
   "metadata": {},
   "source": [
    "### Iterating through a `dict` with a `for` loop\n",
    "- You can use `for` loops to iterate through the values stored in a dictionary\n",
    "- The `items` method of dictionaries returns a collection of key value pairs that can be iterated through by a for loop"
   ]
  },
  {
   "cell_type": "code",
   "execution_count": 57,
   "id": "40e7a05e-ecd7-46d7-839b-89a81fad571a",
   "metadata": {},
   "outputs": [
    {
     "name": "stdout",
     "output_type": "stream",
     "text": [
      "dict_items([('a', 0), ('b', 1), ('c', 2), ('d', 3), ('e', 4)])\n",
      "The key is:\n",
      "a\n",
      "The value is:\n",
      "0\n",
      "The key is:\n",
      "b\n",
      "The value is:\n",
      "1\n",
      "The key is:\n",
      "c\n",
      "The value is:\n",
      "2\n",
      "The key is:\n",
      "d\n",
      "The value is:\n",
      "3\n",
      "The key is:\n",
      "e\n",
      "The value is:\n",
      "4\n"
     ]
    }
   ],
   "source": [
    "d = {\"a\":0, \"b\":1, \"c\":2, \"d\":3, \"e\":4}\n",
    "\n",
    "# items returns a collection of tuples containing key value pairs\n",
    "print(d.items())\n",
    "\n",
    "for key, value in d.items():\n",
    "    print(\"The key is:\")\n",
    "    print(key)\n",
    "    print(\"The value is:\")\n",
    "    print(value)"
   ]
  },
  {
   "cell_type": "markdown",
   "id": "ac936951-7f41-41c4-9995-f57077a00a6c",
   "metadata": {},
   "source": [
    "### The **enumerate** function\n",
    "- `enumerate` is helpful function to use in conjunction with `for` loops\n",
    "- `enumerate` returns index value pairs for a collection of objects like a list or tuple\n",
    "- `enumerate` takes as input a list or tuple, and an optional argument `start` that indicate which index to begin at"
   ]
  },
  {
   "cell_type": "code",
   "execution_count": 58,
   "id": "32957f27-d79a-4de1-be74-08f803ad5e07",
   "metadata": {},
   "outputs": [
    {
     "name": "stdout",
     "output_type": "stream",
     "text": [
      "<enumerate object at 0x00000206AAA61800>\n",
      "[(0, 'burgers'), (1, 'pizza'), (2, 'ice cream'), (3, 'cheesecake')]\n"
     ]
    }
   ],
   "source": [
    "my_dinner = ['burgers', 'pizza', 'ice cream', 'cheesecake']\n",
    "\n",
    "print(enumerate(my_dinner))\n",
    "# just like range object you have to convert enumerate objects to lists to see what's inside them\n",
    "print(\n",
    "    list(\n",
    "        enumerate(my_dinner)\n",
    "    )\n",
    ")\n",
    "# I like to write code with many chained function calls like this\n",
    "# because it is easier to read"
   ]
  },
  {
   "cell_type": "code",
   "execution_count": 59,
   "id": "ebe76661-7cb7-43a2-bc01-cc41a0732751",
   "metadata": {},
   "outputs": [
    {
     "name": "stdout",
     "output_type": "stream",
     "text": [
      "{0: 'burgers', 1: 'pizza', 2: 'ice cream', 3: 'cheesecake'}\n"
     ]
    }
   ],
   "source": [
    "my_dinner = ['burgers', 'pizza', 'ice cream', 'cheesecake']\n",
    "\n",
    "# you can also convert enumerate objects to tuples or dictionaries\n",
    "print(\n",
    "    dict(\n",
    "        enumerate(my_dinner)\n",
    "    )\n",
    ")\n",
    "# it becomes a dictionary with the indices as keys and the elements of my_dinner as values"
   ]
  },
  {
   "cell_type": "code",
   "execution_count": 60,
   "id": "57ea6c96-2b82-4225-8b5b-40bae205b1ed",
   "metadata": {},
   "outputs": [
    {
     "name": "stdout",
     "output_type": "stream",
     "text": [
      "[30, 30, 12, 67, 72]\n"
     ]
    }
   ],
   "source": [
    "# using enumerate in a for loop\n",
    "\n",
    "# returning to the multiplying elements of two lists example\n",
    "\n",
    "num1 = [3, 15, 4, 67, 12]\n",
    "num2 = [10, 2, 3, 1, 6]\n",
    "\n",
    "# initialize an empty list to store the products\n",
    "product = []\n",
    "\n",
    "# now we have 2 variables iterating through the loop\n",
    "for index, value in enumerate(num1):\n",
    "    product.append(value * num2[index])\n",
    "print(product)"
   ]
  },
  {
   "cell_type": "code",
   "execution_count": 61,
   "id": "8be1d629-4107-425b-9676-a8653b7c3221",
   "metadata": {},
   "outputs": [
    {
     "name": "stdout",
     "output_type": "stream",
     "text": [
      "0\n",
      "burgers\n",
      "1\n",
      "pizza\n",
      "2\n",
      "ice cream\n",
      "3\n",
      "cheesecake\n",
      "\n",
      "\n",
      "\n",
      "(0, 'burgers')\n",
      "(1, 'pizza')\n",
      "(2, 'ice cream')\n",
      "(3, 'cheesecake')\n"
     ]
    }
   ],
   "source": [
    "# if we only specify one variable iterator in the for loop when using enumerate\n",
    "# the variable will be a tuple containing index value pairs\n",
    "\n",
    "my_dinner = ['burgers', 'pizza', 'ice cream', 'cheesecake']\n",
    "\n",
    "# defining 2 loop iteration variables\n",
    "for index, value in enumerate(my_dinner):\n",
    "    print(index)\n",
    "    print(value)\n",
    "\n",
    "# print 2 empty lines\n",
    "print('\\n\\n')\n",
    "\n",
    "# defining 1 loop iteration variable\n",
    "for element in enumerate(my_dinner):\n",
    "    print(element)"
   ]
  },
  {
   "cell_type": "code",
   "execution_count": 62,
   "id": "068fc036-2607-48ff-9573-209bf1680c07",
   "metadata": {},
   "outputs": [
    {
     "name": "stdout",
     "output_type": "stream",
     "text": [
      "{'Pennsylvania': 'Philadelphia', 'New York': 'New York City', 'California': 'Los Angelos', 'Texas': 'Houston'}\n"
     ]
    }
   ],
   "source": [
    "# make a dict out of two lists\n",
    "states = [\"Pennsylvania\", \"New York\", \"California\", \"Texas\"]\n",
    "cities = [\"Philadelphia\", \"New York City\", \"Los Angelos\", \"Houston\"]\n",
    "\n",
    "#initialize an empty dictionary\n",
    "biggest_cities = dict()\n",
    "for index, state in enumerate(states):\n",
    "    biggest_cities[state] = cities[index]\n",
    "\n",
    "print(biggest_cities)\n"
   ]
  },
  {
   "cell_type": "markdown",
   "id": "3251f313-1fef-42e4-b8b5-704d453888a1",
   "metadata": {},
   "source": [
    "#### Nested loops\n",
    "- You can place loops inside of loops\n",
    "- The inner loop will complete all of its iterations at each iteration of the outer loop\n",
    "- Generally nested while loops will lead to messy code\n",
    "- However, nested `for` loops can be useful\n",
    "- Nesting loops will slow down your program\n",
    "- The number of instructions the computer has to execute increases exponentially as you nest more and more loops inside each other\n",
    "- In general try to avoid using too many nested loops if it is possible\n",
    "    - \"Flat is better than nested\""
   ]
  },
  {
   "cell_type": "code",
   "execution_count": 63,
   "id": "c440550d-766b-4031-a283-da406bbbf9cf",
   "metadata": {},
   "outputs": [
    {
     "name": "stdout",
     "output_type": "stream",
     "text": [
      "[[1, 1], [1, 2], [1, 3], [1, 4], [1, 5], [1, 6], [2, 1], [2, 2], [2, 3], [2, 4], [2, 5], [2, 6], [3, 1], [3, 2], [3, 3], [3, 4], [3, 5], [3, 6], [4, 1], [4, 2], [4, 3], [4, 4], [4, 5], [4, 6], [5, 1], [5, 2], [5, 3], [5, 4], [5, 5], [5, 6], [6, 1], [6, 2], [6, 3], [6, 4], [6, 5], [6, 6]]\n"
     ]
    }
   ],
   "source": [
    "# nested for loop example\n",
    "# get all possible outcomes of rolling 2 dice\n",
    "\n",
    "d1 = range(1,7)\n",
    "d2 = range(1,7)\n",
    "rolls = []\n",
    "\n",
    "for i in d1:\n",
    "    for j in d2:\n",
    "        rolls.append([i,j])\n",
    "print(rolls)\n",
    "        "
   ]
  },
  {
   "cell_type": "markdown",
   "id": "c078b071-89e6-4b9c-ab5c-fefb39afd516",
   "metadata": {},
   "source": [
    "#### Fizz Buzz\n",
    "- A classical programming question\n",
    "- Print integers from 1 to n\n",
    "    - print \"Fizz\" if the integer is divisible by 3\n",
    "    - print \"Buzz\" if the integer is divisible by 5\n",
    "    - print \"FizzBuzz\" if it is divisible by 3 and 5"
   ]
  },
  {
   "cell_type": "code",
   "execution_count": 64,
   "id": "a82b58b6-cf6e-4008-b12c-431d72945a8f",
   "metadata": {},
   "outputs": [
    {
     "name": "stdout",
     "output_type": "stream",
     "text": [
      "1\n",
      "2\n",
      "Fizz\n",
      "4\n",
      "Buzz\n",
      "Fizz\n",
      "7\n",
      "8\n",
      "Fizz\n",
      "Buzz\n",
      "11\n",
      "Fizz\n",
      "13\n",
      "14\n",
      "FizzBuzz\n",
      "16\n",
      "17\n",
      "Fizz\n",
      "19\n",
      "Buzz\n"
     ]
    }
   ],
   "source": [
    "# FizzBuzz in python\n",
    "# get numbers from 1 to 20\n",
    "numbers = range(1,21)\n",
    "\n",
    "for i in numbers:\n",
    "    # this has to be first because if it is not in the if clause\n",
    "    # it will not be evaluated because either of the other two conditions will be True\n",
    "    if i % 3 == 0 and i % 5 == 0:\n",
    "        print(\"FizzBuzz\")\n",
    "    elif i % 3 == 0:\n",
    "        print(\"Fizz\")\n",
    "    elif i % 5 == 0:\n",
    "        print(\"Buzz\")\n",
    "    else:\n",
    "        print(i)\n"
   ]
  },
  {
   "cell_type": "code",
   "execution_count": 65,
   "id": "22b12c89-d110-47c1-92ab-f99f0a3b5f66",
   "metadata": {},
   "outputs": [
    {
     "name": "stdout",
     "output_type": "stream",
     "text": [
      "1\n",
      "2\n",
      "Fizz\n",
      "4\n",
      "Buzz\n",
      "Fizz\n",
      "7\n",
      "8\n",
      "Fizz\n",
      "Buzz\n",
      "11\n",
      "Fizz\n",
      "13\n",
      "14\n",
      "Fizz\n",
      "16\n",
      "17\n",
      "Fizz\n",
      "19\n",
      "Buzz\n"
     ]
    }
   ],
   "source": [
    "# if the check for divisibility of 3 and 5 is not first\n",
    "\n",
    "numbers = range(1,21)\n",
    "\n",
    "for i in numbers:\n",
    "    # incorrectly check for divisibility by 3 first\n",
    "    if i % 3 == 0:\n",
    "        print(\"Fizz\")\n",
    "    elif i % 5 == 0:\n",
    "        print(\"Buzz\")\n",
    "    elif i % 3 and i % 5 == 0:\n",
    "        print(\"FizzBuzz\")\n",
    "    else:\n",
    "        print(i)\n",
    "\n",
    "# note that the 15 is \"Fizz\" not \"FizzBuzz\" \n",
    "# because the check for divisibility by 3 was first\n",
    "# even though the last elif statement is also True it is not evaluated"
   ]
  },
  {
   "cell_type": "markdown",
   "id": "1e93a8f0-4ab1-458c-8563-0aee711add1e",
   "metadata": {},
   "source": [
    "### Loop flow control\n",
    "- You can change the behavior of `for` and `while` loops with the `continue` and `break` statements\n",
    "- `continue` skips an iteration of the loop\n",
    "- `break` stops the loop early\n",
    "- You can use them inside `if` statements to alter the behavior of your loops in certain conditions.\n",
    "- In a `for` or `while` loop with `else` the code under `else` will only be executed if the loop completes without the break statement stopping the loop\n",
    "\n",
    "![](https://media.geeksforgeeks.org/wp-content/uploads/continue-1.jpg)\n",
    "![](https://cdn.programiz.com/sites/tutorial2program/files/flowchart-break-statement.jpg)"
   ]
  },
  {
   "cell_type": "markdown",
   "id": "ed92300a-0633-48ad-8e5d-72579c1d77dc",
   "metadata": {},
   "source": [
    "#### modified Fizz Buzz\n",
    "- Print integers from 1 to n\n",
    "- Skip integers that are divisible by 3 or 5\n",
    "- stop at the first number divisible by 3 and 5"
   ]
  },
  {
   "cell_type": "code",
   "execution_count": 66,
   "id": "7008431e-d297-443a-a83d-4cb98f8448ca",
   "metadata": {},
   "outputs": [
    {
     "name": "stdout",
     "output_type": "stream",
     "text": [
      "1\n",
      "2\n",
      "4\n",
      "7\n",
      "8\n",
      "11\n",
      "13\n",
      "14\n"
     ]
    }
   ],
   "source": [
    "numbers = range(1,21)\n",
    "\n",
    "for i in numbers:\n",
    "    if i % 3 == 0 and i % 5 == 0:\n",
    "        # break will break out of the loop if i meets this condition\n",
    "        break\n",
    "    elif i % 3 == 0 or i % 5 == 0:\n",
    "        # continue will go to the next iteration and skip the printing\n",
    "        continue\n",
    "    # the print function could also be under else\n",
    "    print(i)\n",
    "        \n",
    "# multiples of 3 and 5 are skipped\n",
    "# the loop stops at 15 because it is divisible by 3 and 5\n",
    "# 15 is not printed because the loop is broken before the body of the loop can be executed"
   ]
  },
  {
   "cell_type": "markdown",
   "id": "2107ad72-de7e-4bc2-87ab-4fc7e7fe2a86",
   "metadata": {},
   "source": [
    "#### Rewriting get_protein to use a while loop with break"
   ]
  },
  {
   "cell_type": "code",
   "execution_count": 67,
   "id": "f09814e5-e837-4653-add9-81ed3ac479c6",
   "metadata": {},
   "outputs": [
    {
     "name": "stdout",
     "output_type": "stream",
     "text": [
      "Testing the while loop...\n",
      "['GCC', 'GAA', 'TCG', 'GAA', 'CCC', 'CGA', 'CCC', 'GCG']\n",
      "['GAA', 'TCG', 'GAA', 'CCC', 'CGA', 'CCC', 'GCG']\n",
      "['TCG', 'GAA', 'CCC', 'CGA', 'CCC', 'GCG']\n",
      "['GAA', 'CCC', 'CGA', 'CCC', 'GCG']\n",
      "['CCC', 'CGA', 'CCC', 'GCG']\n",
      "['CGA', 'CCC', 'GCG']\n",
      "['CCC', 'GCG']\n",
      "['GCG']\n",
      "[]\n",
      "The while loop has been stopped by break\n",
      "Warning: The DNA sequence does not contain a protein coding region.\n",
      "The output is:\n",
      "None\n"
     ]
    }
   ],
   "source": [
    "# Another solution to calling get_protein on a sequence without a stop codon using a while loop\n",
    "\n",
    "import traceback as tb\n",
    "\n",
    "# a sequence of codons without a stop codon\n",
    "my_dna_sequence = ['ATG', 'GCC', 'GAA', 'TCG', 'GAA', 'CCC', 'CGA', 'CCC', 'GCG']\n",
    "\n",
    "def get_protein(dna_sequence):\n",
    "    stop_codons = ['TAA', 'TGA', 'TAG']\n",
    "    protein = dna_sequence[0]\n",
    "    \n",
    "    while protein[-3:] not in stop_codons:\n",
    "        if dna_sequence:\n",
    "            pass\n",
    "        else:\n",
    "            print(\"The while loop has been stopped by break\")\n",
    "            break\n",
    "            # this will stop the loop if dna_sequence is empty\n",
    "        protein += dna_sequence.pop(0)\n",
    "        print(dna_sequence)\n",
    "    else:\n",
    "        # code under else will be executed if the loop ends without being stopped by break\n",
    "        print(\"The while loop completed successfully!\")\n",
    "\n",
    "    if protein[:3] == 'ATG' and protein[-3:] in stop_codons:\n",
    "        return(protein)\n",
    "    else:\n",
    "        print(\"Warning: The DNA sequence does not contain a protein coding region.\")\n",
    "        return(None)\n",
    "\n",
    "try:\n",
    "    print(\"Testing the while loop...\")\n",
    "    my_protein = get_protein(my_dna_sequence)\n",
    "except:\n",
    "    print(\"\\nget_protein failed with the error:\\n\")\n",
    "    print(tb.format_exc())\n",
    "else:\n",
    "    print(\"The output is:\")\n",
    "    print(my_protein)"
   ]
  },
  {
   "cell_type": "markdown",
   "id": "5dd64f34-7300-4e61-a137-b454fca49a4f",
   "metadata": {},
   "source": [
    "### List comprehensions\n",
    "- List comprehensions make a list using a for loop in one line of code\n",
    "- Note that there are **no colons** in a list comprehension\n",
    "\n",
    "<img src = https://www.freecodecamp.org/news/content/images/size/w2000/2021/07/list-comprehension-1.png width=\"700\">"
   ]
  },
  {
   "cell_type": "code",
   "execution_count": 68,
   "id": "51df9eb6-6b1e-43cf-9b14-1b2fa9ac3661",
   "metadata": {},
   "outputs": [
    {
     "name": "stdout",
     "output_type": "stream",
     "text": [
      "['BURGERS', 'PIZZA', 'ICE CREAM', 'CHEESECAKE']\n"
     ]
    }
   ],
   "source": [
    "# make every string in a list uppercase\n",
    "my_dinner = ['burgers', 'pizza', 'ice cream', 'cheesecake']\n",
    "\n",
    "# using a list comprehension\n",
    "my_dinner_upper = [food.upper() for food in my_dinner]\n",
    "print(my_dinner_upper)"
   ]
  },
  {
   "cell_type": "markdown",
   "id": "39709764-d9af-43de-90d6-7c69460506fd",
   "metadata": {},
   "source": [
    "#### Anatomy of a list comprehension\n",
    "\n",
    "<table align=\"left\">\n",
    "    <tr>\n",
    "        <td><code>[food.upper()</code></td>\n",
    "        <td><code>for food in my_dinner]</code></td>\n",
    "    </tr>\n",
    "    <tr>\n",
    "        <td><b>expression</b></td>\n",
    "        <td><b>for loop statement</b></td>\n",
    "    </tr>\n",
    "</table>\n",
    "<br></br><br></br>\n",
    "\n",
    "```python\n",
    "my_dinner_upper = [food.upper() for food in my_dinner]\n",
    "```\n",
    "**The line above is equivalent to the code below**\n",
    "\n",
    "```python\n",
    "my_dinner_upper = []\n",
    "for food in my_dinner:\n",
    "    my_dinner_upper.append(food.upper())\n",
    "```"
   ]
  },
  {
   "cell_type": "code",
   "execution_count": 69,
   "id": "399df263-e8cb-4601-bbc1-91d50ca21928",
   "metadata": {},
   "outputs": [
    {
     "name": "stdout",
     "output_type": "stream",
     "text": [
      "['COFFEE', 'CHEESECAKE']\n"
     ]
    }
   ],
   "source": [
    "# get only items that begin with \"c\"\n",
    "# this will filter out any items in the breakfast list that don't start with \"c\"\n",
    "breakfast = ['coffee', 'oatmeal', 'banana', 'cheesecake']\n",
    "\n",
    "# using a list comprehension\n",
    "second_breakfast = [food.upper() for food in breakfast if food[0] == \"c\"]\n",
    "print(second_breakfast)"
   ]
  },
  {
   "cell_type": "markdown",
   "id": "d04b0eb5-1df9-4650-84e6-90f7e11128d5",
   "metadata": {},
   "source": [
    "#### Anatomy of a list comprehension using `if`\n",
    "\n",
    "<table align=\"left\">\n",
    "    <tr>\n",
    "        <td><code>[food.upper()</code></td>\n",
    "        <td><code>for food in breakfast</code></td>\n",
    "        <td><code>if food[0] == \"c\"]</code></td>\n",
    "    </tr>\n",
    "    <tr>\n",
    "        <td><b>expression</b></td>\n",
    "        <td><b>for loop statement</b></td>\n",
    "        <td><b>if statement</b></td>\n",
    "    </tr>\n",
    "</table>"
   ]
  },
  {
   "cell_type": "markdown",
   "id": "63a18535-76ec-4c25-948a-4bafcd8bf798",
   "metadata": {},
   "source": [
    "#### `else` in list comprehensions\n",
    "- Using `if` and `else` in a list comprehension\n",
    "- for example:\n",
    "```python\n",
    "second_breakfast = [food.upper() if food[0] == \"c\" else food for food in breakfast]\n",
    "```\n",
    "<br></br>\n",
    "<div>\n",
    "    <table align=\"left\">\n",
    "        <tr>\n",
    "            <td><code>[food.upper()</code></td>\n",
    "            <td><code>if food[0] == \"c\"</code></td>\n",
    "            <td><code>else</code></td>\n",
    "            <td><code>food</code></td>\n",
    "            <td><code>for food in breakfast]</code></td>\n",
    "        <tr>\n",
    "            <td><b>expression</b></td>\n",
    "            <td><b><code>if</code> condition</b></td>\n",
    "            <td><b><code>else</code></b></td>\n",
    "            <td><b>alternate expression</b></td>\n",
    "            <td><b>for loop statement</b></td>\n",
    "        </tr>\n",
    "    </table>\n",
    "</div>\n",
    "<br></br>\n",
    "<br></br>\n",
    "- Note that the `if` statement has moved ahead of the `for` loop statement\n",
    "        \n",
    "            "
   ]
  },
  {
   "cell_type": "code",
   "execution_count": 70,
   "id": "4f1bbb55-bffa-48a7-8735-29cf04460366",
   "metadata": {},
   "outputs": [
    {
     "name": "stdout",
     "output_type": "stream",
     "text": [
      "['COFFEE', 'oatmeal', 'banana', 'CHEESECAKE']\n"
     ]
    }
   ],
   "source": [
    "# only make items that begin with \"c\" upper case\n",
    "# here we need to use if else\n",
    "breakfast = ['coffee', 'oatmeal', 'banana', 'cheesecake']\n",
    "\n",
    "# if else moves ahead of the for loop now\n",
    "second_breakfast = [food.upper() if food[0] == \"c\" else food for food in breakfast]\n",
    "print(second_breakfast)"
   ]
  },
  {
   "cell_type": "markdown",
   "id": "42caeeb1-d6dd-4583-a81e-69cb394b8a66",
   "metadata": {},
   "source": [
    "#### List comprehension tips\n",
    "- You can make nested list comprehensions\n",
    "- If your list comprehension is starting to get complicated it is better to write out the full `for` loops instead of using a list comprehensions"
   ]
  },
  {
   "cell_type": "code",
   "execution_count": 71,
   "id": "694d6f21-1114-4615-a6c2-75c8650d5a63",
   "metadata": {},
   "outputs": [
    {
     "name": "stdout",
     "output_type": "stream",
     "text": [
      "['A programmer sits on a painting.', 'A programmer sits on chips.', 'A programmer sits on a submarine.', 'A programmer talks to a painting.', 'A programmer talks to chips.', 'A programmer talks to a submarine.', 'A programmer paints a painting.', 'A programmer paints chips.', 'A programmer paints a submarine.', 'A tomato sits on a painting.', 'A tomato sits on chips.', 'A tomato sits on a submarine.', 'A tomato talks to a painting.', 'A tomato talks to chips.', 'A tomato talks to a submarine.', 'A tomato paints a painting.', 'A tomato paints chips.', 'A tomato paints a submarine.', 'An airplane sits on a painting.', 'An airplane sits on chips.', 'An airplane sits on a submarine.', 'An airplane talks to a painting.', 'An airplane talks to chips.', 'An airplane talks to a submarine.', 'An airplane paints a painting.', 'An airplane paints chips.', 'An airplane paints a submarine.']\n"
     ]
    }
   ],
   "source": [
    "# get all possible sentences from lists of words omitting words that contain the letter d\n",
    "nouns = ['A dog', 'A programmer', 'A tomato', 'An airplane']\n",
    "verbs = ['sits on', 'draws', 'dips', 'talks to', 'paints']\n",
    "direct_objects = ['a painting.', 'a door.', 'chips.', 'a submarine.', 'a dingo.']\n",
    "\n",
    "# just because you can write this code doesn't mean you should\n",
    "sentences = [noun + ' ' + verb + ' ' + direct_object for noun in nouns for verb in verbs for direct_object in direct_objects if 'd' not in noun if 'd' not in verb if 'd' not in direct_object]\n",
    "print(sentences)"
   ]
  },
  {
   "cell_type": "code",
   "execution_count": null,
   "id": "dff0babf-5862-493d-a404-b95390c4b17f",
   "metadata": {},
   "outputs": [],
   "source": [
    "# get all possible sentences from lists of words omitting words that contain the letter d\n",
    "nouns = ['A dog', 'A programmer', 'A tomato', 'An airplane']\n",
    "verbs = ['sits on', 'draws', 'dips', 'talks to', 'paints']\n",
    "direct_objects = ['a painting.', 'a door.', 'chips.', 'a submarine.', 'a dingo.']\n",
    "\n",
    "# I think this code is easier to read and understand than the list comprehension above\n",
    "sentences = []\n",
    "for noun in nouns:\n",
    "    if \"d\" in noun:\n",
    "        continue\n",
    "    for verb in verbs:\n",
    "        if \"d\" in verb:\n",
    "            continue\n",
    "        for direct_object in direct_objects:\n",
    "            if \"d\" in direct_object:\n",
    "                continue\n",
    "            else:\n",
    "                sentences += [noun + ' ' + verb + ' ' + direct_object]\n",
    "print(sentences)"
   ]
  },
  {
   "cell_type": "markdown",
   "id": "0d02d158-ac0f-4129-8136-2a33644a6a12",
   "metadata": {},
   "source": [
    "### List Comprehension Exercise\n",
    "Write a list comprehension that will return a list of all possible codons"
   ]
  },
  {
   "cell_type": "code",
   "execution_count": 72,
   "id": "34036bb5-c52e-4cb1-b22a-2f2c8c89607a",
   "metadata": {},
   "outputs": [
    {
     "data": {
      "text/plain": [
       "['AAA',\n",
       " 'AAT',\n",
       " 'AAG',\n",
       " 'AAC',\n",
       " 'ATA',\n",
       " 'ATT',\n",
       " 'ATG',\n",
       " 'ATC',\n",
       " 'AGA',\n",
       " 'AGT',\n",
       " 'AGG',\n",
       " 'AGC',\n",
       " 'ACA',\n",
       " 'ACT',\n",
       " 'ACG',\n",
       " 'ACC',\n",
       " 'TAA',\n",
       " 'TAT',\n",
       " 'TAG',\n",
       " 'TAC',\n",
       " 'TTA',\n",
       " 'TTT',\n",
       " 'TTG',\n",
       " 'TTC',\n",
       " 'TGA',\n",
       " 'TGT',\n",
       " 'TGG',\n",
       " 'TGC',\n",
       " 'TCA',\n",
       " 'TCT',\n",
       " 'TCG',\n",
       " 'TCC',\n",
       " 'GAA',\n",
       " 'GAT',\n",
       " 'GAG',\n",
       " 'GAC',\n",
       " 'GTA',\n",
       " 'GTT',\n",
       " 'GTG',\n",
       " 'GTC',\n",
       " 'GGA',\n",
       " 'GGT',\n",
       " 'GGG',\n",
       " 'GGC',\n",
       " 'GCA',\n",
       " 'GCT',\n",
       " 'GCG',\n",
       " 'GCC',\n",
       " 'CAA',\n",
       " 'CAT',\n",
       " 'CAG',\n",
       " 'CAC',\n",
       " 'CTA',\n",
       " 'CTT',\n",
       " 'CTG',\n",
       " 'CTC',\n",
       " 'CGA',\n",
       " 'CGT',\n",
       " 'CGG',\n",
       " 'CGC',\n",
       " 'CCA',\n",
       " 'CCT',\n",
       " 'CCG',\n",
       " 'CCC']"
      ]
     },
     "execution_count": 72,
     "metadata": {},
     "output_type": "execute_result"
    }
   ],
   "source": [
    "[i + j + k for i in 'ATGC' for j in 'ATGC' for k in 'ATGC']"
   ]
  }
 ],
 "metadata": {
  "kernelspec": {
   "display_name": "Python 3 (ipykernel)",
   "language": "python",
   "name": "python3"
  },
  "language_info": {
   "codemirror_mode": {
    "name": "ipython",
    "version": 3
   },
   "file_extension": ".py",
   "mimetype": "text/x-python",
   "name": "python",
   "nbconvert_exporter": "python",
   "pygments_lexer": "ipython3",
   "version": "3.9.12"
  },
  "toc-autonumbering": false,
  "toc-showtags": true
 },
 "nbformat": 4,
 "nbformat_minor": 5
}
