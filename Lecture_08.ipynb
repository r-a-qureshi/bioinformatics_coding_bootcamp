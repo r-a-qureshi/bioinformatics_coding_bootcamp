{
 "cells": [
  {
   "cell_type": "markdown",
   "id": "f2f04d22-f8f7-424e-85c7-5a01f93f5f7e",
   "metadata": {},
   "source": [
    "# Lecture 8: Object Oriented Programming and other fun things"
   ]
  },
  {
   "cell_type": "markdown",
   "id": "d7c56860-a9aa-4b21-9490-1449c1957f20",
   "metadata": {},
   "source": [
    "## Recursion\n",
    "- Recursion is when a function calls itself\n",
    "- The movie Inception is a great analogy for recursion\n",
    "- Divide and Conquer Strategy: break a problem down into smaller problems and solve those problems\n",
    "- For example we can write a recursive function to take the sum of numbers from 0 to n\n",
    "    - In this case we can use recursion instead of a for loop\n",
    "- The sum is $\\sum_{i=0}^n i$"
   ]
  },
  {
   "cell_type": "code",
   "execution_count": 4,
   "id": "a4b5c409-dcf4-4223-86b0-3459e1098070",
   "metadata": {},
   "outputs": [
    {
     "data": {
      "text/plain": [
       "55"
      ]
     },
     "execution_count": 4,
     "metadata": {},
     "output_type": "execute_result"
    }
   ],
   "source": [
    "def sum_n(n):\n",
    "    \"\"\"Sum of numbers 0 to n\"\"\"\n",
    "    if n == 0:\n",
    "        return n\n",
    "    return n + sum_n(n-1)\n",
    "sum_n(10)    "
   ]
  },
  {
   "cell_type": "code",
   "execution_count": 5,
   "id": "2618e007-1db7-4184-8c05-8a3157b5a05b",
   "metadata": {},
   "outputs": [
    {
     "name": "stdout",
     "output_type": "stream",
     "text": [
      "sum_n called 1 time, n = 10\n",
      "sum_n called 2 times, n = 9\n",
      "sum_n called 3 times, n = 8\n",
      "sum_n called 4 times, n = 7\n",
      "sum_n called 5 times, n = 6\n",
      "sum_n called 6 times, n = 5\n",
      "sum_n called 7 times, n = 4\n",
      "sum_n called 8 times, n = 3\n",
      "sum_n called 9 times, n = 2\n",
      "sum_n called 10 times, n = 1\n",
      "sum_n called 11 times, n = 0\n"
     ]
    },
    {
     "data": {
      "text/plain": [
       "55"
      ]
     },
     "execution_count": 5,
     "metadata": {},
     "output_type": "execute_result"
    }
   ],
   "source": [
    "from itertools import count\n",
    "c = count(1)\n",
    "# count is a generator that returns values that you can use to count things\n",
    "# test yourself by writing your own version of count\n",
    "\n",
    "def sum_n(n):\n",
    "    \"\"\"Sum of numbers 0 to n\"\"\"\n",
    "    print(f\"sum_n called {str(i := next(c)) + ' time' + ('s' if i > 1 else '')}, n = {n}\")\n",
    "    if n == 0:\n",
    "        return n\n",
    "    return n + sum_n(n-1)\n",
    "sum_n(10)    "
   ]
  },
  {
   "cell_type": "markdown",
   "id": "f9a56c23-fb4b-4dbb-94e9-32f2c86f4e9e",
   "metadata": {},
   "source": [
    "- I generally prefer to write non-recursive functions\n",
    "    - If you write your code incorrectly you can get stuck in infinite recursion\n",
    "    - I also find non-recursive code to be easier to understand than recursive code\n",
    "- There are often more straightforward ways of solving the same problem.\n",
    "- For example: \n",
    "\n",
    "$\n",
    "\\begin{align}\n",
    "\\hspace{.5cm}\n",
    "\\sum_{i=0}^ni = \\frac{n^2 + n}{2}\n",
    "\\end{align}\n",
    "$"
   ]
  },
  {
   "cell_type": "code",
   "execution_count": 6,
   "id": "41c1a481-30bb-4246-9b9b-42e48fc5d222",
   "metadata": {},
   "outputs": [
    {
     "name": "stdout",
     "output_type": "stream",
     "text": [
      "sum_n called 1 time, n = 10\n"
     ]
    },
    {
     "data": {
      "text/plain": [
       "55.0"
      ]
     },
     "execution_count": 6,
     "metadata": {},
     "output_type": "execute_result"
    }
   ],
   "source": [
    "c = count(1)\n",
    "\n",
    "def sum_n(n):\n",
    "    \"\"\"Sum of numbers from 0 to n\"\"\"\n",
    "    print(f\"sum_n called {str(i := next(c)) + ' time' + ('s' if i > 1 else '')}, n = {n}\")\n",
    "    return (n ** 2 + n) / 2\n",
    "\n",
    "sum_n(10)"
   ]
  },
  {
   "cell_type": "markdown",
   "id": "5742b3b5-7c8a-4de4-949c-5e361f3bce8c",
   "metadata": {},
   "source": [
    "- We are not going to spend much time on it, but you should be familiar with the concept of recursion.\n",
    "- If you try to get a job as a software developer, they often ask recursion questions in interviews"
   ]
  },
  {
   "cell_type": "markdown",
   "id": "633c6d9e-42d1-4846-bf0d-dbb9769e0d9a",
   "metadata": {},
   "source": [
    "### Walrus operator\n",
    "- `:=` is called the walrus operator; it is used to assign variables inside an expression"
   ]
  },
  {
   "cell_type": "code",
   "execution_count": 7,
   "id": "d5d9c52b-a350-434c-95a3-f0eef23845fb",
   "metadata": {},
   "outputs": [
    {
     "name": "stdout",
     "output_type": "stream",
     "text": [
      "12\n",
      "10\n"
     ]
    }
   ],
   "source": [
    "print((num := 10) + 2)\n",
    "print(num)"
   ]
  },
  {
   "cell_type": "markdown",
   "id": "5f904c57-a6d2-40cb-8b2a-e092e2472cbd",
   "metadata": {},
   "source": [
    "- I prefer not to overuse the walrus operator because I think it makes code more difficult to read, but it can be convenient as seen in the F-strings in the functions above"
   ]
  },
  {
   "cell_type": "markdown",
   "id": "6d326700-b7b0-4c6a-9b69-1590d21cb5da",
   "metadata": {},
   "source": [
    "## Object Oriented Programming\n",
    "### Encapsulation\n",
    "- Python is an object oriented programming language\n",
    "- Objects have attributes and methods\n",
    "    - data is stored in *attributes*\n",
    "        - In other languages attributes can be called fields or properties\n",
    "    - *methods* are functions that can be applied to the data stored in the object\n",
    "        - also called procedures in other languages\n",
    "    - Objects contain data and code\n",
    "    - The concept of creating objects that contain data and methods is called *Encapsulation* in computer science\n",
    "- We have seen how Python objects like `str`, `list`, `dict`, `tuple`, `re.pattern` etc. contain data, and that they have methods\n",
    "- We access the methods and attributes of an object with the dot syntax e.g. `'hello world'.upper()`\n",
    "- We can view all the attributes and methods of an object in python with the `dir` function"
   ]
  },
  {
   "cell_type": "code",
   "execution_count": 8,
   "id": "29eb1efd-14cd-4774-a772-9ce80a50c837",
   "metadata": {},
   "outputs": [
    {
     "name": "stdout",
     "output_type": "stream",
     "text": [
      "['__add__', '__class__', '__contains__', '__delattr__', '__dir__', '__doc__', '__eq__', '__format__', '__ge__', '__getattribute__', '__getitem__', '__getnewargs__', '__gt__', '__hash__', '__init__', '__init_subclass__', '__iter__', '__le__', '__len__', '__lt__', '__mod__', '__mul__', '__ne__', '__new__', '__reduce__', '__reduce_ex__', '__repr__', '__rmod__', '__rmul__', '__setattr__', '__sizeof__', '__str__', '__subclasshook__', 'capitalize', 'casefold', 'center', 'count', 'encode', 'endswith', 'expandtabs', 'find', 'format', 'format_map', 'index', 'isalnum', 'isalpha', 'isascii', 'isdecimal', 'isdigit', 'isidentifier', 'islower', 'isnumeric', 'isprintable', 'isspace', 'istitle', 'isupper', 'join', 'ljust', 'lower', 'lstrip', 'maketrans', 'partition', 'removeprefix', 'removesuffix', 'replace', 'rfind', 'rindex', 'rjust', 'rpartition', 'rsplit', 'rstrip', 'split', 'splitlines', 'startswith', 'strip', 'swapcase', 'title', 'translate', 'upper', 'zfill']\n"
     ]
    }
   ],
   "source": [
    "print(dir('hello world!'))"
   ]
  },
  {
   "cell_type": "markdown",
   "id": "cd47f137-e651-4e79-8c27-cff24f737e98",
   "metadata": {},
   "source": [
    "## Python objects\n",
    "- Note how we can see all the methods of `str` using the `dir` function\n",
    "- We are familiar with many of them such as `split()` and `upper()` \n",
    "- But you can see there are many methods surround by double underscores such as `__add__()`\n",
    "    - These are called magic methods or \"dunder\" methods\n",
    "- magic methods are not meant to be called directly instead they often define behavior of objects or operators\n",
    "- `__add__()` defines the behavior of the `+` operator"
   ]
  },
  {
   "cell_type": "code",
   "execution_count": 9,
   "id": "7d19ae67-e01a-4a4a-aeb6-0a2b25378cc1",
   "metadata": {},
   "outputs": [
    {
     "name": "stdout",
     "output_type": "stream",
     "text": [
      "helloworld\n",
      "helloworld\n"
     ]
    }
   ],
   "source": [
    "# how __add__() works\n",
    "print(\"hello\" + \"world\")\n",
    "print(\"hello\".__add__(\"world\"))"
   ]
  },
  {
   "cell_type": "markdown",
   "id": "9358dbce-78d4-40a9-a737-bb12edaa23f4",
   "metadata": {},
   "source": [
    "## Python objects\n",
    "- We have now seen the secret to python objects\n",
    "- Some magic methods define how certain functions act on an object\n",
    "- for example `__len__()` defines how `len` works on an object"
   ]
  },
  {
   "cell_type": "code",
   "execution_count": 10,
   "id": "b7ef971c-9938-492c-9acb-1855e2f29ff2",
   "metadata": {},
   "outputs": [
    {
     "name": "stdout",
     "output_type": "stream",
     "text": [
      "11\n",
      "11\n"
     ]
    }
   ],
   "source": [
    "print(len('hello world'))\n",
    "print('hello world'.__len__())"
   ]
  },
  {
   "cell_type": "markdown",
   "id": "7e3cd4a6-07f3-4e9c-adb1-150ca02a39b5",
   "metadata": {},
   "source": [
    "### Polymorphism\n",
    "- When we use the `len` function on an object we are actually invoking that objects `__len__()` method\n",
    "- The `+` operator invokes an object's `__add__()` method\n",
    "- The fact that the same function names do something different when operating on different types of objects is called Polymorphism\n",
    "- In your own code you should use operators like `+` or functions like `len` instead of using the objects magic methods in your code"
   ]
  },
  {
   "cell_type": "markdown",
   "id": "1c5fe8fe-7e0c-4efa-9feb-f30ed6b1f12f",
   "metadata": {},
   "source": [
    "### Creating your own Python objects\n",
    "- We can make our own objects by creating a class\n",
    "- When we define a class we tell python how to initialize the class, what attributes it has, and what methods are associated with the object\n",
    "- Classes are defined with the `class` keyword\n",
    "- By convention class names use CamelCase\n",
    "- They are initialized by defining the `__init__()` magic method\n",
    "    - When you invoke a class it executes `__init__()` to create the class\n",
    "- Class methods are just functions and are defined using the `def` keyword\n",
    "- An object refers to itself with the `self` keyword"
   ]
  },
  {
   "cell_type": "code",
   "execution_count": 16,
   "id": "2b235a28-0ab9-4c28-ad2b-64d0341631e4",
   "metadata": {},
   "outputs": [
    {
     "name": "stdout",
     "output_type": "stream",
     "text": [
      "<__main__.Person object at 0x00000143FC021490>\n"
     ]
    }
   ],
   "source": [
    "class Person():\n",
    "    def __init__(self, name, height, weight, age):\n",
    "        self.name = name\n",
    "        self.height = height\n",
    "        self.weight = weight\n",
    "        self.age = age\n",
    "\n",
    "dude = Person(name = 'Isaac Newton', height = 66, weight = 145, age = 44)\n",
    "# this calls the __init__() function and returns a Person object\n",
    "print(dude)"
   ]
  },
  {
   "cell_type": "markdown",
   "id": "fbc962dd-9bdf-43e0-a30e-e96a22b97f7f",
   "metadata": {},
   "source": [
    "- We can access the attributes stored in `Person` using the dot syntax"
   ]
  },
  {
   "cell_type": "code",
   "execution_count": 17,
   "id": "d7b66db0-f427-4132-9dbd-acde6a34a7c1",
   "metadata": {},
   "outputs": [
    {
     "name": "stdout",
     "output_type": "stream",
     "text": [
      "Isaac Newton\n",
      "66\n"
     ]
    }
   ],
   "source": [
    "print(dude.name)\n",
    "print(dude.height)"
   ]
  },
  {
   "cell_type": "markdown",
   "id": "36e2c58f-146f-4eed-b45e-0a871bfb9217",
   "metadata": {},
   "source": [
    "- We can view all attributes and methods with the `dir` function"
   ]
  },
  {
   "cell_type": "code",
   "execution_count": 18,
   "id": "1f4c0bb2-6d64-49b3-a794-8f41c3cdcb9a",
   "metadata": {},
   "outputs": [
    {
     "name": "stdout",
     "output_type": "stream",
     "text": [
      "['__class__', '__delattr__', '__dict__', '__dir__', '__doc__', '__eq__', '__format__', '__ge__', '__getattribute__', '__gt__', '__hash__', '__init__', '__init_subclass__', '__le__', '__lt__', '__module__', '__ne__', '__new__', '__reduce__', '__reduce_ex__', '__repr__', '__setattr__', '__sizeof__', '__str__', '__subclasshook__', '__weakref__', 'age', 'height', 'name', 'weight']\n"
     ]
    }
   ],
   "source": [
    "print(dir(dude))"
   ]
  },
  {
   "cell_type": "markdown",
   "id": "bbb0ec8b-f9bf-4351-b230-4f2099018d2a",
   "metadata": {},
   "source": [
    "### Default magic methods\n",
    "- Notice how python has added a lot of magic methods to our object automatically even though we only defined the `__init__()` magic method\n",
    "- We can also see the attributes that we defined in the class\n",
    "- The first argument to `__init__()` is always the object itself (using `self`), \n",
    "- For any class method that operates on the object itself the first input variable must be `self`\n",
    "- Most of the magic methods will return an error if we invoke them from the `Person` class because we have not defined them"
   ]
  },
  {
   "cell_type": "code",
   "execution_count": 21,
   "id": "f91c3bce-f817-4a5c-81a7-f3c65f33af18",
   "metadata": {},
   "outputs": [
    {
     "data": {
      "text/plain": [
       "'<__main__.Person object at 0x00000143FC021490>'"
      ]
     },
     "execution_count": 21,
     "metadata": {},
     "output_type": "execute_result"
    }
   ],
   "source": [
    "repr(dude)"
   ]
  },
  {
   "cell_type": "markdown",
   "id": "e5b62d4b-ef3d-4b3b-bc03-ef8904a09a6f",
   "metadata": {},
   "source": [
    "- Python has filled in `__repr__()` for us\n",
    "- `repr()` controls the string that is printed when we try to print our object; it is short for representation"
   ]
  },
  {
   "cell_type": "code",
   "execution_count": 22,
   "id": "22ea8093-f90f-4ee3-83a6-186134f2c9a4",
   "metadata": {},
   "outputs": [
    {
     "name": "stdout",
     "output_type": "stream",
     "text": [
      "Person: Isaac Newton\n"
     ]
    }
   ],
   "source": [
    "# let's define __repr__()\n",
    "class Person():\n",
    "    def __init__(self, name, height, weight, age):\n",
    "        self.name = name\n",
    "        self.height = height\n",
    "        self.weight = weight\n",
    "        self.age = age\n",
    "    def __repr__(self):\n",
    "        # we can access the name attribute with self.name\n",
    "        return f\"Person: {self.name}\"\n",
    "\n",
    "dude = Person(name = 'Isaac Newton', height = 66, weight = 145, age = 44)\n",
    "print(dude)"
   ]
  },
  {
   "cell_type": "code",
   "execution_count": 23,
   "id": "99386ca7-5b49-438d-80e7-dc0038f435b7",
   "metadata": {},
   "outputs": [
    {
     "data": {
      "text/plain": [
       "23.40105601469238"
      ]
     },
     "execution_count": 23,
     "metadata": {},
     "output_type": "execute_result"
    }
   ],
   "source": [
    "# let's add a regular method to our class\n",
    "class Person():\n",
    "    \"\"\"Class for storing information about a person\"\"\"\n",
    "    def __init__(self, name, height, weight, age):\n",
    "        self.name = name\n",
    "        self.height = height\n",
    "        self.weight = weight\n",
    "        self.age = age\n",
    "    def __repr__(self):\n",
    "        # we can access the name attribute with self.name\n",
    "        return f\"Person: {self.name}\"\n",
    "    def calculate_bmi(self):\n",
    "        \"\"\"Calculate Body Mass Index (lbs and inches)\"\"\"\n",
    "        return (self.weight * 703)/(self.height ** 2)\n",
    "\n",
    "dude = Person(name = 'Isaac Newton', height = 66, weight = 145, age = 44)\n",
    "dude.calculate_bmi()"
   ]
  },
  {
   "cell_type": "markdown",
   "id": "d84d2626-034c-4e0b-902c-96f18be54afd",
   "metadata": {},
   "source": [
    "### Inheritance\n",
    "- Inheritance is when a child class \"inherits\" methods and attributes from a parent class\n",
    "- Another word for this is subclass\n",
    "- The syntax for inheritance is specifying the class in the parentheses of the class definition statement\n",
    "    ```python\n",
    "    class ChildClass(ParentClass):\n",
    "    ```\n",
    "- Child classes can inherit from multiple classes\n",
    "- We can create subclasses that inherit from built-in python objects"
   ]
  },
  {
   "cell_type": "code",
   "execution_count": 24,
   "id": "e4bca0a0-bc87-44ca-9bfc-73bb873c0a94",
   "metadata": {},
   "outputs": [
    {
     "name": "stdout",
     "output_type": "stream",
     "text": [
      "helloworld\n"
     ]
    },
    {
     "data": {
      "text/plain": [
       "Word('hello world')"
      ]
     },
     "execution_count": 24,
     "metadata": {},
     "output_type": "execute_result"
    }
   ],
   "source": [
    "class Word(str):\n",
    "    \"\"\"A subclass of str just for words.\"\"\"\n",
    "    def __repr__(self):\n",
    "        return f\"Word('{self}')\"\n",
    "    def __add__(self,other):\n",
    "        \"\"\"Insert an empty space when concatenating words\"\"\"\n",
    "        return Word(str(self) + ' ' + str(other))\n",
    "\n",
    "print('hello'+'world')\n",
    "w1 = Word('hello')\n",
    "w2 = Word('world')\n",
    "w1 + w2"
   ]
  },
  {
   "cell_type": "code",
   "execution_count": 25,
   "id": "3b0b8539-07d7-42aa-8482-ebbd1f538049",
   "metadata": {},
   "outputs": [
    {
     "name": "stdout",
     "output_type": "stream",
     "text": [
      "['__add__', '__class__', '__contains__', '__delattr__', '__dict__', '__dir__', '__doc__', '__eq__', '__format__', '__ge__', '__getattribute__', '__getitem__', '__getnewargs__', '__gt__', '__hash__', '__init__', '__init_subclass__', '__iter__', '__le__', '__len__', '__lt__', '__mod__', '__module__', '__mul__', '__ne__', '__new__', '__reduce__', '__reduce_ex__', '__repr__', '__rmod__', '__rmul__', '__setattr__', '__sizeof__', '__str__', '__subclasshook__', '__weakref__', 'capitalize', 'casefold', 'center', 'count', 'encode', 'endswith', 'expandtabs', 'find', 'format', 'format_map', 'index', 'isalnum', 'isalpha', 'isascii', 'isdecimal', 'isdigit', 'isidentifier', 'islower', 'isnumeric', 'isprintable', 'isspace', 'istitle', 'isupper', 'join', 'ljust', 'lower', 'lstrip', 'maketrans', 'partition', 'removeprefix', 'removesuffix', 'replace', 'rfind', 'rindex', 'rjust', 'rpartition', 'rsplit', 'rstrip', 'split', 'splitlines', 'startswith', 'strip', 'swapcase', 'title', 'translate', 'upper', 'zfill']\n"
     ]
    }
   ],
   "source": [
    "print(dir(w1))"
   ]
  },
  {
   "cell_type": "markdown",
   "id": "9c2c1f9d-8097-4bf2-9510-f9ade5f63325",
   "metadata": {},
   "source": [
    "- In the above example we created `Word` which inherits from python's built-in `str` class\n",
    "- We can see that it inherited all of the methods from `str` when we call the `dir()` function\n",
    "- We did not need to define `__init__()` because `Word` will use `str`'s `__init__()` method\n",
    "- In an example of Polymorphism we have overwritten the `__add__()` magic method so that unlike `str` the `+` operator inserts an empty space between strings."
   ]
  },
  {
   "cell_type": "code",
   "execution_count": 27,
   "id": "4ce3619e-843c-482b-86f4-4c5dcda7b14c",
   "metadata": {},
   "outputs": [
    {
     "data": {
      "text/plain": [
       "'HELLO'"
      ]
     },
     "execution_count": 27,
     "metadata": {},
     "output_type": "execute_result"
    }
   ],
   "source": [
    "w = Word('hello')\n",
    "# Word has inherited all the methods from str\n",
    "# upper returns a str object instead of a Word object because we have not modified the upper method\n",
    "w.upper()"
   ]
  },
  {
   "cell_type": "code",
   "execution_count": 28,
   "id": "f5899665-985b-45fc-90da-f20ef461745d",
   "metadata": {},
   "outputs": [
    {
     "data": {
      "text/plain": [
       "'HELLO WORLD'"
      ]
     },
     "execution_count": 28,
     "metadata": {},
     "output_type": "execute_result"
    }
   ],
   "source": [
    "(w1 + w2).upper()"
   ]
  },
  {
   "cell_type": "markdown",
   "id": "1a3cabe3-cd94-436e-a96e-76393d979e16",
   "metadata": {},
   "source": [
    "## Inheritance and Polymorphism examples\n",
    "- We can use the `super()` function to invoke the parent class of a child class"
   ]
  },
  {
   "cell_type": "code",
   "execution_count": 29,
   "id": "7b2f6e52-b49b-4bdc-b60b-84061f31831a",
   "metadata": {},
   "outputs": [],
   "source": [
    "class Person():\n",
    "    \"\"\"Class for storing information about a person\"\"\"\n",
    "    def __init__(self, name, height, weight, age):\n",
    "        self.name = name\n",
    "        self.height = height\n",
    "        self.weight = weight\n",
    "        self.age = age\n",
    "    def __repr__(self):\n",
    "        # we can access the name attribute with self.name\n",
    "        return f\"Person: {self.name}\"\n",
    "    def calculate_bmi(self):\n",
    "        \"\"\"Calculate Body Mass Index (lbs and inches)\"\"\"\n",
    "        return (self.weight * 703)/(self.height ** 2)"
   ]
  },
  {
   "cell_type": "code",
   "execution_count": 30,
   "id": "822a20e2-761b-4c0f-9a96-763920016a64",
   "metadata": {},
   "outputs": [],
   "source": [
    "class Woman(Person):\n",
    "    def __init__(self,name,height,weight,age):\n",
    "        # we use the super() function to access the parent class\n",
    "        super().__init__(name,height,weight,age)\n",
    "        self.sex = \"F\"\n",
    "    def is_tall(self):\n",
    "        return self.height >= 60\n",
    "\n",
    "rosa = Woman(\"Rosalind Franklin\",60,110,40)"
   ]
  },
  {
   "cell_type": "code",
   "execution_count": 31,
   "id": "e55f05bb-85de-40af-93ae-f04de9921442",
   "metadata": {},
   "outputs": [
    {
     "name": "stdout",
     "output_type": "stream",
     "text": [
      "40\n",
      "F\n"
     ]
    }
   ],
   "source": [
    "print(rosa.age)\n",
    "print(rosa.sex)"
   ]
  },
  {
   "cell_type": "code",
   "execution_count": 34,
   "id": "8e84ba8f-4dd6-4afd-bcb3-5d169306daf0",
   "metadata": {},
   "outputs": [
    {
     "name": "stdout",
     "output_type": "stream",
     "text": [
      "Person: Isaac Newton\n",
      "M\n"
     ]
    }
   ],
   "source": [
    "class Man(Person):\n",
    "    def __init__(self,name,height,weight,age):\n",
    "        super().__init__(name,height,weight,age)\n",
    "        self.sex = \"M\"\n",
    "    # an example of Polymorphism the is_tall function has a different context for\n",
    "    # the Man than the Woman class\n",
    "    def is_tall(self):\n",
    "        return self.height >= 66\n",
    "\n",
    "isaac = Man('Isaac Newton',64,145,45)\n",
    "print(isaac)\n",
    "print(isaac.sex)"
   ]
  },
  {
   "cell_type": "code",
   "execution_count": 35,
   "id": "b8be0527-53a1-4700-8454-a55a46cd1f14",
   "metadata": {},
   "outputs": [
    {
     "name": "stdout",
     "output_type": "stream",
     "text": [
      "60\n",
      "True\n"
     ]
    }
   ],
   "source": [
    "print(rosa.height)\n",
    "print(rosa.is_tall())"
   ]
  },
  {
   "cell_type": "code",
   "execution_count": 36,
   "id": "431fb502-edfa-445d-be8e-eeb4be93d7bf",
   "metadata": {},
   "outputs": [
    {
     "name": "stdout",
     "output_type": "stream",
     "text": [
      "64\n",
      "False\n"
     ]
    }
   ],
   "source": [
    "print(isaac.height)\n",
    "print(isaac.is_tall())"
   ]
  },
  {
   "cell_type": "code",
   "execution_count": 37,
   "id": "e6e7fb9d-16c2-467f-b039-8657466c2e0f",
   "metadata": {},
   "outputs": [
    {
     "name": "stdout",
     "output_type": "stream",
     "text": [
      "24.886474609375\n",
      "21.480555555555554\n"
     ]
    }
   ],
   "source": [
    "print(isaac.calculate_bmi())\n",
    "print(rosa.calculate_bmi())"
   ]
  },
  {
   "cell_type": "code",
   "execution_count": 38,
   "id": "e307f3ed-28bb-48e6-9570-366b18db40a9",
   "metadata": {},
   "outputs": [
    {
     "name": "stdout",
     "output_type": "stream",
     "text": [
      "['__class__', '__delattr__', '__dict__', '__dir__', '__doc__', '__eq__', '__format__', '__ge__', '__getattribute__', '__gt__', '__hash__', '__init__', '__init_subclass__', '__le__', '__lt__', '__module__', '__ne__', '__new__', '__reduce__', '__reduce_ex__', '__repr__', '__setattr__', '__sizeof__', '__str__', '__subclasshook__', '__weakref__', 'calculate_bmi', 'is_tall']\n"
     ]
    }
   ],
   "source": [
    "print(dir(Man))"
   ]
  },
  {
   "cell_type": "code",
   "execution_count": 39,
   "id": "efce10d5-d360-4d14-a91d-579345361bbf",
   "metadata": {},
   "outputs": [
    {
     "name": "stdout",
     "output_type": "stream",
     "text": [
      "['__class__', '__delattr__', '__dict__', '__dir__', '__doc__', '__eq__', '__format__', '__ge__', '__getattribute__', '__gt__', '__hash__', '__init__', '__init_subclass__', '__le__', '__lt__', '__module__', '__ne__', '__new__', '__reduce__', '__reduce_ex__', '__repr__', '__setattr__', '__sizeof__', '__str__', '__subclasshook__', '__weakref__', 'calculate_bmi', 'is_tall']\n"
     ]
    }
   ],
   "source": [
    "print(dir(Woman))"
   ]
  },
  {
   "cell_type": "code",
   "execution_count": 40,
   "id": "6af61ae1-88a5-410e-8444-18cefb36044a",
   "metadata": {},
   "outputs": [
    {
     "name": "stdout",
     "output_type": "stream",
     "text": [
      "['__class__', '__delattr__', '__dict__', '__dir__', '__doc__', '__eq__', '__format__', '__ge__', '__getattribute__', '__gt__', '__hash__', '__init__', '__init_subclass__', '__le__', '__lt__', '__module__', '__ne__', '__new__', '__reduce__', '__reduce_ex__', '__repr__', '__setattr__', '__sizeof__', '__str__', '__subclasshook__', '__weakref__', 'calculate_bmi']\n"
     ]
    }
   ],
   "source": [
    "print(dir(Person))"
   ]
  },
  {
   "cell_type": "markdown",
   "id": "c80d7b02-6e52-4912-b47a-3dded19ece8d",
   "metadata": {},
   "source": [
    "### Testing the class (or type) of an object\n",
    "- We can use `type()` to get the class that an object belongs to\n",
    "- We can use `isinstance()` to test if an object belongs to a class"
   ]
  },
  {
   "cell_type": "code",
   "execution_count": 41,
   "id": "6284c324-93b5-4bc4-ad59-0b67518bdbc1",
   "metadata": {},
   "outputs": [
    {
     "name": "stdout",
     "output_type": "stream",
     "text": [
      "<class '__main__.Man'>\n",
      "True\n",
      "False\n",
      "True\n"
     ]
    }
   ],
   "source": [
    "print(type(isaac))\n",
    "print(isinstance(isaac,Man))\n",
    "print(isinstance(isaac,Woman))\n",
    "print(isinstance(isaac,Person))"
   ]
  },
  {
   "cell_type": "markdown",
   "id": "217e6b77-feb8-46b8-adec-bd30c4ba623e",
   "metadata": {},
   "source": [
    "- We can see that isaac belongs to the class `Man` and the class `Person`\n",
    "    - This is because the `Man` class inherits form the `Person` class"
   ]
  },
  {
   "cell_type": "code",
   "execution_count": 42,
   "id": "b91c628d-2c94-4c05-aabe-4e9b33d1a920",
   "metadata": {},
   "outputs": [
    {
     "name": "stdout",
     "output_type": "stream",
     "text": [
      "<class '__main__.Word'>\n",
      "True\n",
      "True\n"
     ]
    }
   ],
   "source": [
    "w = Word('hello')\n",
    "print(type(w))\n",
    "print(isinstance(w,Word))\n",
    "print(isinstance(w,str))"
   ]
  },
  {
   "cell_type": "code",
   "execution_count": 43,
   "id": "a30c138f-38e2-424f-ac9e-47adb8b6489a",
   "metadata": {},
   "outputs": [
    {
     "name": "stdout",
     "output_type": "stream",
     "text": [
      "Person: Katie Power\n",
      "22.496\n",
      "F\n",
      "5th\n",
      "False\n"
     ]
    }
   ],
   "source": [
    "# adding new properties to the child class\n",
    "class Kid(Person):\n",
    "    def __init__(self,name,height,weight,age,grade):\n",
    "        super().__init__(name,height,weight,age)\n",
    "        self.grade = grade\n",
    "\n",
    "class Girl(Kid,Woman):\n",
    "    pass\n",
    "\n",
    "class Boy(Kid,Man):\n",
    "    pass\n",
    "\n",
    "katie = Girl(name = \"Katie Power\", height = 50, weight = 80, age = 10, grade = \"5th\")\n",
    "print(katie)\n",
    "print(katie.calculate_bmi())\n",
    "print(katie.sex)\n",
    "print(katie.grade)\n",
    "print(katie.is_tall())"
   ]
  },
  {
   "cell_type": "markdown",
   "id": "27640f56-1084-4e36-aaab-3a116cf6b1cd",
   "metadata": {},
   "source": [
    "- We have taken advantage of Inheritance and Polymorphism to create the `Girl` and `Boy` classes\n",
    "- `Girl` inherits from `Kid` and `Woman`\n",
    "    - `Woman` inherits from `Person`\n",
    "    - `Woman` sets the `sex` attribute to \"F\"\n",
    "    - `Kid` inherits everything from `Person` but adds the \"grade\" attribute\n",
    "    - `Girl` inherits from both `Woman` and `Kid`, so the sex property is automatically set to \"F\" by the `Woman` parent class and the \"grade\" attribute is set by the `Kid` parent class. \n",
    "    - I don't need to add any any code except for `pass` to tell python the class definition has ended because all the necessary code is in the parent classes"
   ]
  },
  {
   "cell_type": "code",
   "execution_count": 46,
   "id": "17b47e52-94ec-42d8-bed8-ca549bc626c7",
   "metadata": {},
   "outputs": [
    {
     "name": "stdout",
     "output_type": "stream",
     "text": [
      "Person: Alex Power\n",
      "23.239669421487605\n",
      "M\n",
      "7th\n",
      "False\n"
     ]
    }
   ],
   "source": [
    "alex = Boy(name = \"Alex Power\", height = 55, age= 12, weight = 100, grade = '7th') \n",
    "print(alex)\n",
    "print(alex.calculate_bmi())\n",
    "print(alex.sex)\n",
    "print(alex.grade)\n",
    "print(alex.is_tall())"
   ]
  },
  {
   "cell_type": "code",
   "execution_count": 47,
   "id": "f91c4a85-a248-4314-9cb7-d629adce0362",
   "metadata": {},
   "outputs": [],
   "source": [
    "def type_check(obj):\n",
    "    \"\"\"Return a dict of the type and isinstance checks of an object\"\"\"\n",
    "    d = {\n",
    "        \"type\": type(obj),\n",
    "        \"Boy\": isinstance(obj,Boy),\n",
    "        \"Girl\": isinstance(obj, Girl),\n",
    "        \"Kid\": isinstance(obj,Kid),\n",
    "        \"Man\": isinstance(obj, Man),\n",
    "        \"Woman\": isinstance(obj, Woman),\n",
    "        \"Person\": isinstance(obj, Person),\n",
    "        \"object\": isinstance(obj,object)\n",
    "    }\n",
    "    return d"
   ]
  },
  {
   "cell_type": "code",
   "execution_count": 48,
   "id": "5cce3fd7-c354-4300-be9c-db58cafa2922",
   "metadata": {},
   "outputs": [
    {
     "data": {
      "text/plain": [
       "{'type': __main__.Boy,\n",
       " 'Boy': True,\n",
       " 'Girl': False,\n",
       " 'Kid': True,\n",
       " 'Man': True,\n",
       " 'Woman': False,\n",
       " 'Person': True,\n",
       " 'object': True}"
      ]
     },
     "execution_count": 48,
     "metadata": {},
     "output_type": "execute_result"
    }
   ],
   "source": [
    "type_check(alex)"
   ]
  },
  {
   "cell_type": "code",
   "execution_count": 49,
   "id": "0c7f63cb-f36e-4911-9e2d-dda776d24b0f",
   "metadata": {},
   "outputs": [
    {
     "data": {
      "text/plain": [
       "{'type': __main__.Girl,\n",
       " 'Boy': False,\n",
       " 'Girl': True,\n",
       " 'Kid': True,\n",
       " 'Man': False,\n",
       " 'Woman': True,\n",
       " 'Person': True,\n",
       " 'object': True}"
      ]
     },
     "execution_count": 49,
     "metadata": {},
     "output_type": "execute_result"
    }
   ],
   "source": [
    "type_check(katie)"
   ]
  },
  {
   "cell_type": "code",
   "execution_count": 50,
   "id": "9106631b-7501-4812-8d5c-bfee963029c1",
   "metadata": {},
   "outputs": [
    {
     "data": {
      "text/plain": [
       "{'type': __main__.Man,\n",
       " 'Boy': False,\n",
       " 'Girl': False,\n",
       " 'Kid': False,\n",
       " 'Man': True,\n",
       " 'Woman': False,\n",
       " 'Person': True,\n",
       " 'object': True}"
      ]
     },
     "execution_count": 50,
     "metadata": {},
     "output_type": "execute_result"
    }
   ],
   "source": [
    "type_check(isaac)"
   ]
  },
  {
   "cell_type": "code",
   "execution_count": 51,
   "id": "8c99f64f-ea23-4448-9045-6227761f5a25",
   "metadata": {},
   "outputs": [
    {
     "data": {
      "text/plain": [
       "{'type': __main__.Woman,\n",
       " 'Boy': False,\n",
       " 'Girl': False,\n",
       " 'Kid': False,\n",
       " 'Man': False,\n",
       " 'Woman': True,\n",
       " 'Person': True,\n",
       " 'object': True}"
      ]
     },
     "execution_count": 51,
     "metadata": {},
     "output_type": "execute_result"
    }
   ],
   "source": [
    "type_check(rosa)"
   ]
  },
  {
   "cell_type": "markdown",
   "id": "a3244b76-d8df-4156-bda6-bbf284703918",
   "metadata": {},
   "source": [
    "### Explain the classes in the sequence.py file in the homework"
   ]
  },
  {
   "cell_type": "markdown",
   "id": "f6d05c9d-2339-4ef9-9936-429a0db91437",
   "metadata": {},
   "source": [
    "- We have not covered most of the magic methods\n",
    "    - see the [python documentation](https://docs.python.org/3/reference/datamodel.html)\n",
    "- Most of the time you don't need to write your own classes.\n",
    "- Often you can simply store your data in a `dict` and write a normal function\n",
    "- But some python modules would require you to create a class to interact with the module\n",
    "    - For example Scrapy is a web scraping module that extracts data from websites, you need to create a class called a crawler that controls how your program will navigate a website and extract data\n",
    "- If you create your own python modules that you intend to publish you may need to write classes, but generally you can get by using classes already defined in either the python standard library or a module like numpy or pandas"
   ]
  },
  {
   "cell_type": "markdown",
   "id": "0261e5c4-8796-48ca-9596-310b0dca60ca",
   "metadata": {},
   "source": [
    "## Errors and Debugging\n",
    "- You have already been interpreting errors in your code and debugging your code\n",
    "- You have seen errors popping up in your code but you can tell python to throw an error in your own code\n",
    "    - Use the `raise` keyword to throw an error\n",
    "    - The syntax is `raise Exception`, Exception is a class for errors, it has many child classes for different types of errors"
   ]
  },
  {
   "cell_type": "code",
   "execution_count": 52,
   "id": "9e2d86f5-7efb-40d5-914c-fe10a87009b9",
   "metadata": {},
   "outputs": [],
   "source": [
    "def get_complement(seq):\n",
    "    if not set(seq).issubset(set('ATGCatcg')):\n",
    "        raise Exception(\"seq is not a valid nucleotide sequence\")\n",
    "    else:\n",
    "        d = dict(zip('ATGC','TACG'))\n",
    "        return ''.join([d[s] for s in seq.upper()])"
   ]
  },
  {
   "cell_type": "code",
   "execution_count": 53,
   "id": "8d08922c-3c45-4470-a40c-cf4688c5a87a",
   "metadata": {},
   "outputs": [
    {
     "data": {
      "text/plain": [
       "'TACGGGATT'"
      ]
     },
     "execution_count": 53,
     "metadata": {},
     "output_type": "execute_result"
    }
   ],
   "source": [
    "get_complement('ATGCCCTAA')"
   ]
  },
  {
   "cell_type": "code",
   "execution_count": 54,
   "id": "a4d92ed7-5216-403c-9e7e-6cf5face557d",
   "metadata": {},
   "outputs": [
    {
     "ename": "Exception",
     "evalue": "seq is not a valid nucleotide sequence",
     "output_type": "error",
     "traceback": [
      "\u001b[1;31m---------------------------------------------------------------------------\u001b[0m",
      "\u001b[1;31mException\u001b[0m                                 Traceback (most recent call last)",
      "Input \u001b[1;32mIn [54]\u001b[0m, in \u001b[0;36m<cell line: 1>\u001b[1;34m()\u001b[0m\n\u001b[1;32m----> 1\u001b[0m \u001b[43mget_complement\u001b[49m\u001b[43m(\u001b[49m\u001b[38;5;124;43m'\u001b[39;49m\u001b[38;5;124;43mhello world\u001b[39;49m\u001b[38;5;124;43m'\u001b[39;49m\u001b[43m)\u001b[49m\n",
      "Input \u001b[1;32mIn [52]\u001b[0m, in \u001b[0;36mget_complement\u001b[1;34m(seq)\u001b[0m\n\u001b[0;32m      1\u001b[0m \u001b[38;5;28;01mdef\u001b[39;00m \u001b[38;5;21mget_complement\u001b[39m(seq):\n\u001b[0;32m      2\u001b[0m     \u001b[38;5;28;01mif\u001b[39;00m \u001b[38;5;129;01mnot\u001b[39;00m \u001b[38;5;28mset\u001b[39m(seq)\u001b[38;5;241m.\u001b[39missubset(\u001b[38;5;28mset\u001b[39m(\u001b[38;5;124m'\u001b[39m\u001b[38;5;124mATGCatcg\u001b[39m\u001b[38;5;124m'\u001b[39m)):\n\u001b[1;32m----> 3\u001b[0m         \u001b[38;5;28;01mraise\u001b[39;00m \u001b[38;5;167;01mException\u001b[39;00m(\u001b[38;5;124m\"\u001b[39m\u001b[38;5;124mseq is not a valid nucleotide sequence\u001b[39m\u001b[38;5;124m\"\u001b[39m)\n\u001b[0;32m      4\u001b[0m     \u001b[38;5;28;01melse\u001b[39;00m:\n\u001b[0;32m      5\u001b[0m         d \u001b[38;5;241m=\u001b[39m \u001b[38;5;28mdict\u001b[39m(\u001b[38;5;28mzip\u001b[39m(\u001b[38;5;124m'\u001b[39m\u001b[38;5;124mATGC\u001b[39m\u001b[38;5;124m'\u001b[39m,\u001b[38;5;124m'\u001b[39m\u001b[38;5;124mTACG\u001b[39m\u001b[38;5;124m'\u001b[39m))\n",
      "\u001b[1;31mException\u001b[0m: seq is not a valid nucleotide sequence"
     ]
    }
   ],
   "source": [
    "get_complement('hello world')"
   ]
  },
  {
   "cell_type": "markdown",
   "id": "ef43cc31-9522-4fff-b26f-088348ede80a",
   "metadata": {},
   "source": [
    "- Now instead of printing a message and returning None (aka making an error fail silently) we can explicitly stop the program using the `raise` keyword with the `Exception` class\n",
    "### Exception child classes\n",
    "- `TypeError` a variable is the wrong type, e.g. getting a `str` when the function expects an `int`\n",
    "- `ValueError` the variable has an incorrect or incompatible value\n",
    "- There are many more subclasses of `Exception`. See [python documentation for `Exception`](https://docs.python.org/3/library/exceptions.html)"
   ]
  },
  {
   "cell_type": "code",
   "execution_count": 55,
   "id": "36b9f69b-600a-411f-8697-56ce5ba5d238",
   "metadata": {},
   "outputs": [],
   "source": [
    "def get_complement(seq):\n",
    "    if not isinstance(seq,str):\n",
    "        raise TypeError('seq must be a string')\n",
    "    if not set(seq).issubset(set('ATGCatcg')):\n",
    "        raise ValueError(\"seq is not a valid nucleotide sequence. It must contain only A, T, G, or C\")\n",
    "    else:\n",
    "        d = dict(zip('ATGC','TACG'))\n",
    "        return ''.join([d[s] for s in seq.upper()])"
   ]
  },
  {
   "cell_type": "code",
   "execution_count": 56,
   "id": "dbe4b0ff-3720-4a8c-9cc9-617423a7d980",
   "metadata": {},
   "outputs": [
    {
     "ename": "TypeError",
     "evalue": "seq must be a string",
     "output_type": "error",
     "traceback": [
      "\u001b[1;31m---------------------------------------------------------------------------\u001b[0m",
      "\u001b[1;31mTypeError\u001b[0m                                 Traceback (most recent call last)",
      "Input \u001b[1;32mIn [56]\u001b[0m, in \u001b[0;36m<cell line: 1>\u001b[1;34m()\u001b[0m\n\u001b[1;32m----> 1\u001b[0m \u001b[43mget_complement\u001b[49m\u001b[43m(\u001b[49m\u001b[43m[\u001b[49m\u001b[38;5;124;43m'\u001b[39;49m\u001b[38;5;124;43mA\u001b[39;49m\u001b[38;5;124;43m'\u001b[39;49m\u001b[43m,\u001b[49m\u001b[38;5;124;43m'\u001b[39;49m\u001b[38;5;124;43mT\u001b[39;49m\u001b[38;5;124;43m'\u001b[39;49m\u001b[43m,\u001b[49m\u001b[38;5;124;43m'\u001b[39;49m\u001b[38;5;124;43mG\u001b[39;49m\u001b[38;5;124;43m'\u001b[39;49m\u001b[43m]\u001b[49m\u001b[43m)\u001b[49m\n",
      "Input \u001b[1;32mIn [55]\u001b[0m, in \u001b[0;36mget_complement\u001b[1;34m(seq)\u001b[0m\n\u001b[0;32m      1\u001b[0m \u001b[38;5;28;01mdef\u001b[39;00m \u001b[38;5;21mget_complement\u001b[39m(seq):\n\u001b[0;32m      2\u001b[0m     \u001b[38;5;28;01mif\u001b[39;00m \u001b[38;5;129;01mnot\u001b[39;00m \u001b[38;5;28misinstance\u001b[39m(seq,\u001b[38;5;28mstr\u001b[39m):\n\u001b[1;32m----> 3\u001b[0m         \u001b[38;5;28;01mraise\u001b[39;00m \u001b[38;5;167;01mTypeError\u001b[39;00m(\u001b[38;5;124m'\u001b[39m\u001b[38;5;124mseq must be a string\u001b[39m\u001b[38;5;124m'\u001b[39m)\n\u001b[0;32m      4\u001b[0m     \u001b[38;5;28;01mif\u001b[39;00m \u001b[38;5;129;01mnot\u001b[39;00m \u001b[38;5;28mset\u001b[39m(seq)\u001b[38;5;241m.\u001b[39missubset(\u001b[38;5;28mset\u001b[39m(\u001b[38;5;124m'\u001b[39m\u001b[38;5;124mATGCatcg\u001b[39m\u001b[38;5;124m'\u001b[39m)):\n\u001b[0;32m      5\u001b[0m         \u001b[38;5;28;01mraise\u001b[39;00m \u001b[38;5;167;01mValueError\u001b[39;00m(\u001b[38;5;124m\"\u001b[39m\u001b[38;5;124mseq is not a valid nucleotide sequence. It must contain only A, T, G, or C\u001b[39m\u001b[38;5;124m\"\u001b[39m)\n",
      "\u001b[1;31mTypeError\u001b[0m: seq must be a string"
     ]
    }
   ],
   "source": [
    "get_complement(['A','T','G'])"
   ]
  },
  {
   "cell_type": "code",
   "execution_count": 57,
   "id": "5837e9d7-d6db-4ad5-bc1a-127fb34b3bdd",
   "metadata": {},
   "outputs": [
    {
     "ename": "ValueError",
     "evalue": "seq is not a valid nucleotide sequence. It must contain only A, T, G, or C",
     "output_type": "error",
     "traceback": [
      "\u001b[1;31m---------------------------------------------------------------------------\u001b[0m",
      "\u001b[1;31mValueError\u001b[0m                                Traceback (most recent call last)",
      "Input \u001b[1;32mIn [57]\u001b[0m, in \u001b[0;36m<cell line: 1>\u001b[1;34m()\u001b[0m\n\u001b[1;32m----> 1\u001b[0m \u001b[43mget_complement\u001b[49m\u001b[43m(\u001b[49m\u001b[38;5;124;43m'\u001b[39;49m\u001b[38;5;124;43mhello world\u001b[39;49m\u001b[38;5;124;43m'\u001b[39;49m\u001b[43m)\u001b[49m\n",
      "Input \u001b[1;32mIn [55]\u001b[0m, in \u001b[0;36mget_complement\u001b[1;34m(seq)\u001b[0m\n\u001b[0;32m      3\u001b[0m     \u001b[38;5;28;01mraise\u001b[39;00m \u001b[38;5;167;01mTypeError\u001b[39;00m(\u001b[38;5;124m'\u001b[39m\u001b[38;5;124mseq must be a string\u001b[39m\u001b[38;5;124m'\u001b[39m)\n\u001b[0;32m      4\u001b[0m \u001b[38;5;28;01mif\u001b[39;00m \u001b[38;5;129;01mnot\u001b[39;00m \u001b[38;5;28mset\u001b[39m(seq)\u001b[38;5;241m.\u001b[39missubset(\u001b[38;5;28mset\u001b[39m(\u001b[38;5;124m'\u001b[39m\u001b[38;5;124mATGCatcg\u001b[39m\u001b[38;5;124m'\u001b[39m)):\n\u001b[1;32m----> 5\u001b[0m     \u001b[38;5;28;01mraise\u001b[39;00m \u001b[38;5;167;01mValueError\u001b[39;00m(\u001b[38;5;124m\"\u001b[39m\u001b[38;5;124mseq is not a valid nucleotide sequence. It must contain only A, T, G, or C\u001b[39m\u001b[38;5;124m\"\u001b[39m)\n\u001b[0;32m      6\u001b[0m \u001b[38;5;28;01melse\u001b[39;00m:\n\u001b[0;32m      7\u001b[0m     d \u001b[38;5;241m=\u001b[39m \u001b[38;5;28mdict\u001b[39m(\u001b[38;5;28mzip\u001b[39m(\u001b[38;5;124m'\u001b[39m\u001b[38;5;124mATGC\u001b[39m\u001b[38;5;124m'\u001b[39m,\u001b[38;5;124m'\u001b[39m\u001b[38;5;124mTACG\u001b[39m\u001b[38;5;124m'\u001b[39m))\n",
      "\u001b[1;31mValueError\u001b[0m: seq is not a valid nucleotide sequence. It must contain only A, T, G, or C"
     ]
    }
   ],
   "source": [
    "get_complement('hello world')"
   ]
  },
  {
   "cell_type": "markdown",
   "id": "798c686e-8896-4d74-bbb9-0f45ee21f0a8",
   "metadata": {},
   "source": [
    "### Error Messages\n",
    "- In an error message you can see \n",
    "    1. the kind of error which is a subclass of `Exception`, e.g. a `ValueError`\n",
    "    2. The line of code where the error occured\n",
    "    3. The error message"
   ]
  },
  {
   "cell_type": "code",
   "execution_count": 58,
   "id": "6fa74dc0-cae4-44a7-858b-9595beb8eb0e",
   "metadata": {},
   "outputs": [
    {
     "ename": "TypeError",
     "evalue": "seq must be a string",
     "output_type": "error",
     "traceback": [
      "\u001b[1;31m---------------------------------------------------------------------------\u001b[0m",
      "\u001b[1;31mTypeError\u001b[0m                                 Traceback (most recent call last)",
      "Input \u001b[1;32mIn [58]\u001b[0m, in \u001b[0;36m<cell line: 6>\u001b[1;34m()\u001b[0m\n\u001b[0;32m      4\u001b[0m     get_complement([\u001b[38;5;241m0\u001b[39m, \u001b[38;5;241m1\u001b[39m,\u001b[38;5;241m2\u001b[39m,\u001b[38;5;241m3\u001b[39m])\n\u001b[0;32m      5\u001b[0m     get_complement(\u001b[38;5;124m'\u001b[39m\u001b[38;5;124mGCC\u001b[39m\u001b[38;5;124m'\u001b[39m)\n\u001b[1;32m----> 6\u001b[0m \u001b[43mcomplicated_function\u001b[49m\u001b[43m(\u001b[49m\u001b[43m)\u001b[49m\n",
      "Input \u001b[1;32mIn [58]\u001b[0m, in \u001b[0;36mcomplicated_function\u001b[1;34m()\u001b[0m\n\u001b[0;32m      2\u001b[0m get_complement(\u001b[38;5;124m'\u001b[39m\u001b[38;5;124mATG\u001b[39m\u001b[38;5;124m'\u001b[39m)\n\u001b[0;32m      3\u001b[0m get_complement(\u001b[38;5;124m'\u001b[39m\u001b[38;5;124mTAA\u001b[39m\u001b[38;5;124m'\u001b[39m)\n\u001b[1;32m----> 4\u001b[0m \u001b[43mget_complement\u001b[49m\u001b[43m(\u001b[49m\u001b[43m[\u001b[49m\u001b[38;5;241;43m0\u001b[39;49m\u001b[43m,\u001b[49m\u001b[43m \u001b[49m\u001b[38;5;241;43m1\u001b[39;49m\u001b[43m,\u001b[49m\u001b[38;5;241;43m2\u001b[39;49m\u001b[43m,\u001b[49m\u001b[38;5;241;43m3\u001b[39;49m\u001b[43m]\u001b[49m\u001b[43m)\u001b[49m\n\u001b[0;32m      5\u001b[0m get_complement(\u001b[38;5;124m'\u001b[39m\u001b[38;5;124mGCC\u001b[39m\u001b[38;5;124m'\u001b[39m)\n",
      "Input \u001b[1;32mIn [55]\u001b[0m, in \u001b[0;36mget_complement\u001b[1;34m(seq)\u001b[0m\n\u001b[0;32m      1\u001b[0m \u001b[38;5;28;01mdef\u001b[39;00m \u001b[38;5;21mget_complement\u001b[39m(seq):\n\u001b[0;32m      2\u001b[0m     \u001b[38;5;28;01mif\u001b[39;00m \u001b[38;5;129;01mnot\u001b[39;00m \u001b[38;5;28misinstance\u001b[39m(seq,\u001b[38;5;28mstr\u001b[39m):\n\u001b[1;32m----> 3\u001b[0m         \u001b[38;5;28;01mraise\u001b[39;00m \u001b[38;5;167;01mTypeError\u001b[39;00m(\u001b[38;5;124m'\u001b[39m\u001b[38;5;124mseq must be a string\u001b[39m\u001b[38;5;124m'\u001b[39m)\n\u001b[0;32m      4\u001b[0m     \u001b[38;5;28;01mif\u001b[39;00m \u001b[38;5;129;01mnot\u001b[39;00m \u001b[38;5;28mset\u001b[39m(seq)\u001b[38;5;241m.\u001b[39missubset(\u001b[38;5;28mset\u001b[39m(\u001b[38;5;124m'\u001b[39m\u001b[38;5;124mATGCatcg\u001b[39m\u001b[38;5;124m'\u001b[39m)):\n\u001b[0;32m      5\u001b[0m         \u001b[38;5;28;01mraise\u001b[39;00m \u001b[38;5;167;01mValueError\u001b[39;00m(\u001b[38;5;124m\"\u001b[39m\u001b[38;5;124mseq is not a valid nucleotide sequence. It must contain only A, T, G, or C\u001b[39m\u001b[38;5;124m\"\u001b[39m)\n",
      "\u001b[1;31mTypeError\u001b[0m: seq must be a string"
     ]
    }
   ],
   "source": [
    "def complicated_function():\n",
    "    get_complement('ATG')\n",
    "    get_complement('TAA')\n",
    "    get_complement([0, 1,2,3])\n",
    "    get_complement('GCC')\n",
    "complicated_function()"
   ]
  },
  {
   "cell_type": "markdown",
   "id": "92c9dc82-6272-428e-8bf3-c4eceb7ac099",
   "metadata": {},
   "source": [
    "### Stack Tracing\n",
    "- In the above example we called a function inside another function\n",
    "- Now we get 3 things in the error message\n",
    "- We see that an error occurred in `complicated_function` at line 4\n",
    "- line 4 calls `get_complement`\n",
    "- We see that an error occurred at line 3 of `get_complement` so we know that the real problem is here\n",
    "- It is a `TypeError` with the message \"seq must be a string\""
   ]
  },
  {
   "cell_type": "markdown",
   "id": "5935590c-b13d-4e9e-9a8e-994fae1c37ef",
   "metadata": {},
   "source": [
    "### Debugging\n",
    "- You can create a breakpoint in Spyder, when you run your file Spyder will stop there and you will enter a python shell in the scope (environment) of your function, so you can type in commands into the ipython shell to diagnose what's wrong with your code\n",
    "- You can also create breakpoints with the built-in module `pdb` and `ipdb`\n",
    "```python\n",
    "import pdb\n",
    "def my_func():\n",
    "    x = 1 + 1\n",
    "    pdb.set_trace()\n",
    "    y = 2 + 2\n",
    "    return x + y\n",
    "```\n",
    "- In the above code if you try to execute your code python will stop at the line that says `pdb.set_trace` and you will enter a python console in the scope (environment) of my_func() that you can enter commands to diagnose your code\n",
    "- `ipdb` has the same syntax as `pdb` except `set_trace()` enters an ipython shell instead of a normal python shell\n",
    "- If you don't have `ipdb` you can install it with `pip`\n",
    "- Do a demonstration"
   ]
  },
  {
   "cell_type": "markdown",
   "id": "19e9506a-75ee-4619-96ee-20a73608ee0f",
   "metadata": {},
   "source": [
    "## Type hints\n",
    "- Type hints are annotations for your code\n",
    "- They are ignored by python like comments but they specify the type of your variables which may make your code easier to understand"
   ]
  },
  {
   "cell_type": "code",
   "execution_count": null,
   "id": "701ad223-8115-4830-a401-ce2e83623c0f",
   "metadata": {},
   "outputs": [],
   "source": [
    "def get_complement(seq: str) -> str:\n",
    "    if not isinstance(seq,str):\n",
    "        raise TypeError('seq must be a string')\n",
    "    if not set(seq).issubset(set('ATGCatcg')):\n",
    "        raise ValueError(\"seq is not a valid nucleotide sequence. It must contain only A, T, G, or C\")\n",
    "    else:\n",
    "        d = dict(zip('ATGC','TACG'))\n",
    "        return ''.join([d[s] for s in seq.upper()])"
   ]
  },
  {
   "cell_type": "markdown",
   "id": "bf8823b2-1c56-4212-82f6-a51b87850da0",
   "metadata": {},
   "source": [
    "- In the above example, we are specifying seq is a `str` and the `->` indicates that the function returns a `str`"
   ]
  },
  {
   "cell_type": "code",
   "execution_count": 59,
   "id": "71722385-2058-4b05-a486-7de0a01c8604",
   "metadata": {},
   "outputs": [],
   "source": [
    "def power(x: float, n: float = 2) -> str:\n",
    "    return f\"{x:.3f} ** {n:.3f} = {x ** n:.3f}\""
   ]
  },
  {
   "cell_type": "code",
   "execution_count": 60,
   "id": "152a25cc-f385-48ac-91ec-5dcbf95a9a35",
   "metadata": {},
   "outputs": [
    {
     "data": {
      "text/plain": [
       "'2.000 ** 2.000 = 4.000'"
      ]
     },
     "execution_count": 60,
     "metadata": {},
     "output_type": "execute_result"
    }
   ],
   "source": [
    "power(2)"
   ]
  },
  {
   "cell_type": "markdown",
   "id": "0d1d8c22-4fe3-4b6f-8e7c-499c46b970bd",
   "metadata": {},
   "source": [
    "- The Type hints are telling us that x is a `float`\n",
    "- n is a `float` and it has a default value of 2\n",
    "- and the function returns a `str` as indicated by the `->`\n",
    "- Type hints are a pretty new feature, so I am not in the habit of using them, but they are intended to make our code more readable and understandable"
   ]
  },
  {
   "cell_type": "markdown",
   "id": "59856dab-ba81-430c-9002-8a17e6d10918",
   "metadata": {},
   "source": [
    "## PEP 8 formatting\n",
    "See [this article](https://towardsdatascience.com/an-overview-of-the-pep-8-style-guide-5672459c7682) for information about the proper code formatting style. Following PEP 8 formatting will ensure your code is readable. There are python modules that can automatically format your code."
   ]
  },
  {
   "cell_type": "markdown",
   "id": "aa9fb8e5-42ba-40a1-b2a4-0d19e0c0be47",
   "metadata": {},
   "source": [
    "## The Zen of Python"
   ]
  },
  {
   "cell_type": "code",
   "execution_count": 61,
   "id": "7ba2873b-e402-4f5d-b749-e577c86f5fbc",
   "metadata": {},
   "outputs": [
    {
     "name": "stdout",
     "output_type": "stream",
     "text": [
      "The Zen of Python, by Tim Peters\n",
      "\n",
      "Beautiful is better than ugly.\n",
      "Explicit is better than implicit.\n",
      "Simple is better than complex.\n",
      "Complex is better than complicated.\n",
      "Flat is better than nested.\n",
      "Sparse is better than dense.\n",
      "Readability counts.\n",
      "Special cases aren't special enough to break the rules.\n",
      "Although practicality beats purity.\n",
      "Errors should never pass silently.\n",
      "Unless explicitly silenced.\n",
      "In the face of ambiguity, refuse the temptation to guess.\n",
      "There should be one-- and preferably only one --obvious way to do it.\n",
      "Although that way may not be obvious at first unless you're Dutch.\n",
      "Now is better than never.\n",
      "Although never is often better than *right* now.\n",
      "If the implementation is hard to explain, it's a bad idea.\n",
      "If the implementation is easy to explain, it may be a good idea.\n",
      "Namespaces are one honking great idea -- let's do more of those!\n"
     ]
    }
   ],
   "source": [
    "import this"
   ]
  },
  {
   "cell_type": "markdown",
   "id": "733146ad-94d6-4a89-a450-550e7500401d",
   "metadata": {},
   "source": [
    "See [this article](https://learnpython.com/blog/zen-of-python/) for more information about the **Zen of Python**."
   ]
  },
  {
   "cell_type": "markdown",
   "id": "6b7e5c14-3d88-4310-bd1a-0d4b7f124447",
   "metadata": {},
   "source": [
    "We have finished covering the Python 3 standard library. I have covered as many of the important python concepts (in my opinion) as I could in 4 weeks. I have tried to teach you the most modern python techniques, and many of them were added to the language after I learned python. As a programmer, you must always keep learning how to use new features. We have focused on Python 3, but some syntax in python 2 is different. Python 2 is deprecated so we didn't cover it. \n",
    "\n",
    "Python has many more amazing features that you can learn to use!\n",
    "\n",
    "Programming is a skill like martial arts or playing music. A teacher can show you techniques, but you will only get good at it by practicing on your own!\n",
    "\n",
    "Next week, we will do some data analysis and plotting"
   ]
  }
 ],
 "metadata": {
  "kernelspec": {
   "display_name": "Python 3 (ipykernel)",
   "language": "python",
   "name": "python3"
  },
  "language_info": {
   "codemirror_mode": {
    "name": "ipython",
    "version": 3
   },
   "file_extension": ".py",
   "mimetype": "text/x-python",
   "name": "python",
   "nbconvert_exporter": "python",
   "pygments_lexer": "ipython3",
   "version": "3.9.12"
  }
 },
 "nbformat": 4,
 "nbformat_minor": 5
}
