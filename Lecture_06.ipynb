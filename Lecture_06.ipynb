{
 "cells": [
  {
   "cell_type": "markdown",
   "id": "d64eb083-2450-4a54-bf8c-d83325eb0bad",
   "metadata": {},
   "source": [
    "# Lecture 5 Modules"
   ]
  },
  {
   "cell_type": "markdown",
   "id": "2568117c-731c-44f0-aa5c-6419d27af595",
   "metadata": {},
   "source": [
    "## Python modules\n",
    "- A python module (also called a package) is a python file (or folder comprised of multiple python files) that contains function and/or class definitions and executable statements\n",
    "- We have already seen the `re` module\n",
    "- There are many modules in the Python Standard Library; these are preinstalled with python\n",
    "- There are thousands of third party modules for many different applications\n",
    "- python modules can be installed from the Python Package Index AKA [PyPi](https://pypi.org/)\n",
    "- Python comes with a package manager called `pip` that can download and install modules from PyPi\n",
    "- Anaconda comes with many useful third party modules preinstalled\n",
    "    - The main ones we will use will be `numpy`, `scipy`, `pandas`, `matplotlib`, and `seaborn`\n",
    "    - All of them are included in Anaconda\n",
    "- You can use `pip` in the Anaconda prompt\n",
    "- To install a package like numpy:\n",
    "```\n",
    "pip install numpy\n",
    "```\n",
    "- To uninstall a package\n",
    "```\n",
    "pip uninstall numpy\n",
    "```\n",
    "- You can also use the `conda` command to install packages"
   ]
  },
  {
   "cell_type": "markdown",
   "id": "674f66a9-b4f8-4f61-b9a7-c18e50329189",
   "metadata": {},
   "source": [
    "### Importing modules\n",
    "- Python modules need to be imported in your code\n",
    "    - This will load the module\n",
    "    - We need to load the modules because the alternative would be for python to pre-load all the modules on start-up which would be slow.\n",
    "        - It doesn't make sense for python to load modules that you don't need\n",
    "- We have seen that we need to import the `re` module\n",
    "- When we import a module we can access its functions and classes using `.` syntax for example `re.sub` allows us to use the `sub` function in the `re` module"
   ]
  },
  {
   "cell_type": "markdown",
   "id": "e8e540f8-50d0-4d5b-a91a-89d44212f133",
   "metadata": {},
   "source": [
    "### Importing submodules from modules\n",
    "- There are also submodules within modules.\n",
    "- Submodules have their own functions\n",
    "- For example `matplotlib` has a submodule called `pyplot`\n",
    "```python\n",
    "import matplotlib.pyplot\n",
    "```\n",
    "You could also access submodule functions by chaining `.`\n",
    "```python\n",
    "import matplotlib\n",
    "# access scatter which is a function in pyplot which is a submodule of matplotlib\n",
    "my_plot = matplotlib.pyplot.scatter(range(10),range(10))\n",
    "```\n",
    "- Use `*` to import all modules and functions from a module\n",
    "```python\n",
    "from re import *\n",
    "sub('[ATGC]+','sequence','AATGC')\n",
    "```\n",
    "- By convention we write our import statements at the beginning of our code"
   ]
  },
  {
   "cell_type": "markdown",
   "id": "3a83635e-6955-41c6-8501-1ec36eb12d32",
   "metadata": {},
   "source": [
    "### using the `from` keyword\n",
    "- Our code can start getting really long if we chain modules, submodules, and functions\n",
    "- We can use from to only load a single submodule or single function\n",
    "- Importing a submodule:\n",
    "```python\n",
    "from matplotlib import pyplot\n",
    "my_plot = pyplot.scatter(range(10),range(10))\n",
    "```\n",
    "- Importing a single function\n",
    "```python\n",
    "from matplotlib.pyplot import scatter\n",
    "my_plot = scatter(range(10),range(10))\n",
    "```"
   ]
  },
  {
   "cell_type": "markdown",
   "id": "9fddcd7d-78f6-4ee8-80a9-75c3f6fde661",
   "metadata": {},
   "source": [
    "### Importing modules and functions using aliases with `as`\n",
    "- We can call a module or function anything we want in our code using `as`\n",
    "- There are some common abbreviations used for various packages\n",
    "```python\n",
    "import numpy as np\n",
    "import pandas as pd\n",
    "import matplotlib.pyplot as plt\n",
    "```\n",
    "- Use sensible aliases for modules and functions because your code will become very confusing if you don't!"
   ]
  },
  {
   "cell_type": "code",
   "execution_count": 43,
   "id": "793496e4-2e3d-4137-9f5b-aef2a88e1709",
   "metadata": {},
   "outputs": [
    {
     "data": {
      "text/plain": [
       "'ATGGGGGG'"
      ]
     },
     "execution_count": 43,
     "metadata": {},
     "output_type": "execute_result"
    }
   ],
   "source": [
    "import re as Pizza\n",
    "Pizza.sub('[Cc]','G','ATGCCCCC')"
   ]
  },
  {
   "cell_type": "code",
   "execution_count": 44,
   "id": "2666fa6b-0f59-4317-9251-82b7f5b50a66",
   "metadata": {},
   "outputs": [
    {
     "name": "stdout",
     "output_type": "stream",
     "text": [
      "Sequence is deleted\n"
     ]
    }
   ],
   "source": [
    "# Please please please don't write code like this\n",
    "from re import compile as Hamburger\n",
    "from re import search as ice_cream\n",
    "from re import sub as Cookie\n",
    "stuff = Hamburger(r'[ATGC]+')\n",
    "thing = ice_cream(stuff,\"Sequence is AAATGCATGA\")\n",
    "jawn = Cookie(stuff,'deleted','Sequence is AATGCATGA')\n",
    "print(jawn)"
   ]
  },
  {
   "cell_type": "markdown",
   "id": "2e182402-39fc-42c4-965a-0957c818b74f",
   "metadata": {},
   "source": [
    "## Importing from your own python files\n",
    "- You can import a function from another python file as long as both files are in the same directory (folder)\n",
    "- The module name is the file name without the extension\n",
    "- For example in homework 1 we made a file called \"sequence_functions.py\", we can import from it like below:\n",
    "```python\n",
    "from sequence_functions import has_start_codon\n",
    "```\n",
    "or \n",
    "```python\n",
    "import sequence_functions as sf\n",
    "sf.has_start_codon('ATGAAA')\n",
    "```\n",
    "- Remember to do a demonstration"
   ]
  },
  {
   "cell_type": "markdown",
   "id": "a16dcfb4-d12e-4ddc-8e36-ebe71e671715",
   "metadata": {},
   "source": [
    "## Controlling the execution of your own python files\n",
    "- When you import a file python will execute all of the code in the file, which you may or may not want it to do\n",
    "- Python files can have different behavior when they are imported vs. when they are run\n",
    "- Let's say you only want python to define functions when it is imported and you want it to define functions and execute code when the file is run\n",
    "- Here is a file called \"example.py\"\n",
    "```python\n",
    "def add2(x,y):\n",
    "    return(x + y)\n",
    "if __name__ == \"__main__\":\n",
    "    print(add2(10,5))\n",
    "    print(add2(2,2))\n",
    "```\n",
    "- In the python file example above python will always define the function `add2`, but the `print` calls will not be executed if you import the function, but they will be executed if you run the file\n",
    "\n",
    "```python\n",
    "# nothing will be printed\n",
    "from example import add2\n",
    "s = add(100,100)\n",
    "```\n",
    "\n",
    "- \"example.py\" will only print if you click the run button in Spyder or you run it in the Anaconda prompt with:\n",
    "\n",
    "```\n",
    "python example.py\n",
    "```\n",
    "\n",
    "- The `__name__` variable is a built-in variable that is equal to the module name when the file is being imported and it is equal to `\"__main__\"` when the file is being run. "
   ]
  },
  {
   "cell_type": "markdown",
   "id": "1d65f37d-6505-4603-a643-2d8325bd1a14",
   "metadata": {},
   "source": [
    "## `pathlib` module\n",
    "- The `os` module is an older module that python uses to interact with your computer's file system\n",
    "- `pathlib` is a newer more modern interface that let's you work with the file system\n",
    "- `pathlib` gives us `Path` objects\n",
    "- Paths are the location of files and folders on your computer"
   ]
  },
  {
   "cell_type": "code",
   "execution_count": 41,
   "id": "7c499976-13d2-482d-96f3-a34c8b6a7494",
   "metadata": {},
   "outputs": [
    {
     "name": "stdout",
     "output_type": "stream",
     "text": [
      ".\n"
     ]
    }
   ],
   "source": [
    "# load Path into python\n",
    "from pathlib import Path\n",
    "\n",
    "# get the location of the current directory where python is working\n",
    "current_dir = Path('.')\n",
    "\n",
    "# '.' means the current directory\n",
    "print(current_dir)"
   ]
  },
  {
   "cell_type": "markdown",
   "id": "7c5de683-507b-4417-b875-77045488ab91",
   "metadata": {},
   "source": [
    "### Absolute and relative paths\n",
    "- Absolute paths start at the base location of your drive e.g. C\n",
    "- Relative paths are relative to the current directory\n",
    "    - To go up one directory \"./..\"\n",
    "- `Path` objects have a method `.absolute()` to get the absolute path"
   ]
  },
  {
   "cell_type": "code",
   "execution_count": 42,
   "id": "f72fee20-4e23-49ec-ae8c-52ea0902eff0",
   "metadata": {},
   "outputs": [
    {
     "name": "stdout",
     "output_type": "stream",
     "text": [
      "c:\\Users\\rehman\\Documents\\bioinfo_coding_bootcamp\\Day5\n"
     ]
    }
   ],
   "source": [
    "current_dir = Path('.').absolute()\n",
    "print(current_dir)"
   ]
  },
  {
   "cell_type": "markdown",
   "id": "1651cb58-1d66-457b-ba61-e0f7e6c28984",
   "metadata": {},
   "source": [
    "- Path objects can point to either directors (folders) or files\n",
    "    - Check if a path points to a folder with `.is_dir()`\n",
    "    - Check if it is a file with `.is_file()`"
   ]
  },
  {
   "cell_type": "code",
   "execution_count": 10,
   "id": "7e38e21f-16cd-415b-8909-6a785b04842c",
   "metadata": {},
   "outputs": [
    {
     "data": {
      "text/plain": [
       "True"
      ]
     },
     "execution_count": 10,
     "metadata": {},
     "output_type": "execute_result"
    }
   ],
   "source": [
    "current_dir = Path('.').absolute()\n",
    "current_dir.is_dir()"
   ]
  },
  {
   "cell_type": "code",
   "execution_count": 11,
   "id": "6ec64c2b-035d-4802-99a0-7cd16595bb1f",
   "metadata": {},
   "outputs": [
    {
     "data": {
      "text/plain": [
       "False"
      ]
     },
     "execution_count": 11,
     "metadata": {},
     "output_type": "execute_result"
    }
   ],
   "source": [
    "current_dir = Path('.').absolute()\n",
    "current_dir.is_file()"
   ]
  },
  {
   "cell_type": "code",
   "execution_count": 12,
   "id": "ea3bf905-5f8c-4a30-ad95-c32729d1ae10",
   "metadata": {},
   "outputs": [
    {
     "data": {
      "text/plain": [
       "'c:\\\\Users\\\\rehman\\\\Documents\\\\bioinfo_coding_bootcamp\\\\Day5'"
      ]
     },
     "execution_count": 12,
     "metadata": {},
     "output_type": "execute_result"
    }
   ],
   "source": [
    "# get the path as a string\n",
    "current_dir = Path('.').absolute()\n",
    "str(current_dir)\n",
    "# If you are running this on Windows, \n",
    "# Note how python has added escape characters to the path"
   ]
  },
  {
   "cell_type": "code",
   "execution_count": 13,
   "id": "8ddc8565-da7f-4d34-a8dc-e3e853ccc831",
   "metadata": {},
   "outputs": [
    {
     "data": {
      "text/plain": [
       "[WindowsPath('c:/Users/rehman/Documents/bioinfo_coding_bootcamp/Day5/.ipynb_checkpoints'),\n",
       " WindowsPath('c:/Users/rehman/Documents/bioinfo_coding_bootcamp/Day5/examples'),\n",
       " WindowsPath('c:/Users/rehman/Documents/bioinfo_coding_bootcamp/Day5/hw3.ipynb'),\n",
       " WindowsPath('c:/Users/rehman/Documents/bioinfo_coding_bootcamp/Day5/Lecture5.ipynb')]"
      ]
     },
     "execution_count": 13,
     "metadata": {},
     "output_type": "execute_result"
    }
   ],
   "source": [
    "# get the files in your directory\n",
    "list(current_dir.glob('*'))"
   ]
  },
  {
   "cell_type": "code",
   "execution_count": 14,
   "id": "21c90c69-f226-466b-b9f3-26534cdcd282",
   "metadata": {},
   "outputs": [
    {
     "data": {
      "text/plain": [
       "[]"
      ]
     },
     "execution_count": 14,
     "metadata": {},
     "output_type": "execute_result"
    }
   ],
   "source": [
    "# search all subfolders in the directory with rglob\n",
    "# recursive glob\n",
    "# this will match any file with a \"txt\" extension\n",
    "list(current_dir.rglob('*.txt'))"
   ]
  },
  {
   "cell_type": "markdown",
   "id": "4f4b443e-4e8e-4e27-9688-7c3e72720d0b",
   "metadata": {},
   "source": [
    "In this context **recursive** means to search a folder and all subfolders within it. (Also all subfolders in each subfolder, etc.)"
   ]
  },
  {
   "cell_type": "markdown",
   "id": "a6aff503-74de-4f6e-9737-767b9b08f026",
   "metadata": {},
   "source": [
    "### `glob` module\n",
    "- You can instead use the glob function from the glob module\n",
    "- `glob` takes a string of the path as input instead of a `Path` object\n",
    "- Both `glob` and `Path.glob` use unix like pattern expansion\n",
    "    - `*` is a wildcard which will match any number of characters except for `\\\\` with separates directories in the paths\n",
    "    - `**` matches any characters including the directory separator\n",
    "    - `C:\\users\\rehman\\documents\\**\\*.txt` will match any text files in the documents folder\n",
    "\n",
    "```python\n",
    "from glob import glob\n",
    "txt_files = list(glob(r\"C:\\users\\rehman\\documents\\**\\*.txt\"))\n",
    "```"
   ]
  },
  {
   "cell_type": "markdown",
   "id": "fba62863-021e-42bb-b3e4-f70250fe869b",
   "metadata": {},
   "source": [
    "### Other `Path` object functions\n",
    "- `Path.mkdir()` will create a new folder/directory\n",
    "- `Path.exists()` will tell you if the file or folder exists"
   ]
  },
  {
   "cell_type": "code",
   "execution_count": 15,
   "id": "d37aa2a8-0bf6-49d0-84b9-dfa27eb8ae18",
   "metadata": {},
   "outputs": [
    {
     "data": {
      "text/plain": [
       "True"
      ]
     },
     "execution_count": 15,
     "metadata": {},
     "output_type": "execute_result"
    }
   ],
   "source": [
    "current_dir.exists()"
   ]
  },
  {
   "cell_type": "markdown",
   "id": "9cb2084a-43d9-4132-a700-a26350b3b6b7",
   "metadata": {},
   "source": [
    "- `Path.parts` is a tuple of the different \"parts\" of the file"
   ]
  },
  {
   "cell_type": "code",
   "execution_count": 16,
   "id": "f92f9d2b-147a-40ce-954a-223c001bc584",
   "metadata": {},
   "outputs": [
    {
     "data": {
      "text/plain": [
       "('c:\\\\', 'Users', 'rehman', 'Documents', 'bioinfo_coding_bootcamp', 'Day5')"
      ]
     },
     "execution_count": 16,
     "metadata": {},
     "output_type": "execute_result"
    }
   ],
   "source": [
    "current_dir.parts"
   ]
  },
  {
   "cell_type": "markdown",
   "id": "46b4a205-8515-49b8-84bd-5d4c0595a0dd",
   "metadata": {},
   "source": [
    "- `Path.parent` will give the one directory higher than the path `Path.parents` will return a sequence of the directories going up to the base of the path"
   ]
  },
  {
   "cell_type": "code",
   "execution_count": 18,
   "id": "f26d2603-2534-4295-a028-274fb5ed652f",
   "metadata": {},
   "outputs": [
    {
     "data": {
      "text/plain": [
       "WindowsPath('c:/Users/rehman/Documents/bioinfo_coding_bootcamp')"
      ]
     },
     "execution_count": 18,
     "metadata": {},
     "output_type": "execute_result"
    }
   ],
   "source": [
    "current_dir.parent"
   ]
  },
  {
   "cell_type": "code",
   "execution_count": 21,
   "id": "efd631cc-d7da-4a8f-a308-224f35e3767e",
   "metadata": {},
   "outputs": [
    {
     "data": {
      "text/plain": [
       "[WindowsPath('c:/Users/rehman/Documents/bioinfo_coding_bootcamp'),\n",
       " WindowsPath('c:/Users/rehman/Documents'),\n",
       " WindowsPath('c:/Users/rehman'),\n",
       " WindowsPath('c:/Users'),\n",
       " WindowsPath('c:/')]"
      ]
     },
     "execution_count": 21,
     "metadata": {},
     "output_type": "execute_result"
    }
   ],
   "source": [
    "list(current_dir.parents)"
   ]
  },
  {
   "cell_type": "markdown",
   "id": "647d80e4-59bd-4a0b-b370-c49a352fa93c",
   "metadata": {},
   "source": [
    "- `Path.name` will give you the final part of the path whether it is a directory or a file"
   ]
  },
  {
   "cell_type": "code",
   "execution_count": 24,
   "id": "e6b55960-842d-452f-a89b-89e6751a795a",
   "metadata": {},
   "outputs": [
    {
     "data": {
      "text/plain": [
       "'Day5'"
      ]
     },
     "execution_count": 24,
     "metadata": {},
     "output_type": "execute_result"
    }
   ],
   "source": [
    "current_dir.name"
   ]
  },
  {
   "cell_type": "markdown",
   "id": "af77adcc-4ffb-4faf-a126-9bf6546bcd32",
   "metadata": {},
   "source": [
    "- `Path.stem` gives you the file name without the extension\n",
    "- `Path.suffix` and `Path.suffixes` will give you file suffixes"
   ]
  },
  {
   "cell_type": "code",
   "execution_count": 26,
   "id": "324f0f06-eee6-4261-a742-87583c12ffec",
   "metadata": {},
   "outputs": [
    {
     "name": "stdout",
     "output_type": "stream",
     "text": [
      "c:\\Users\\rehman\\Documents\\bioinfo_coding_bootcamp\\Day5\\hw3.ipynb\n"
     ]
    },
    {
     "data": {
      "text/plain": [
       "'.ipynb'"
      ]
     },
     "execution_count": 26,
     "metadata": {},
     "output_type": "execute_result"
    }
   ],
   "source": [
    "file = list(current_dir.glob('*.ipynb'))[0]\n",
    "print(file)\n",
    "file.suffix"
   ]
  },
  {
   "cell_type": "markdown",
   "id": "56cd311d-3b0c-47bf-8618-9344e235e0ae",
   "metadata": {},
   "source": [
    "- `Path.joinpath()` allows you to append to the path"
   ]
  },
  {
   "cell_type": "code",
   "execution_count": 30,
   "id": "fc7ef191-de38-43b4-9f5d-1469f102507b",
   "metadata": {},
   "outputs": [
    {
     "name": "stdout",
     "output_type": "stream",
     "text": [
      "c:\\Users\\rehman\\Documents\\bioinfo_coding_bootcamp\\Day5\\folder\\test.py\n"
     ]
    }
   ],
   "source": [
    "new_path = current_dir.joinpath('folder','test.py')\n",
    "print(new_path)"
   ]
  },
  {
   "cell_type": "code",
   "execution_count": 31,
   "id": "dc0815ce-330a-4d93-bb11-626e39701e6a",
   "metadata": {},
   "outputs": [
    {
     "data": {
      "text/plain": [
       "False"
      ]
     },
     "execution_count": 31,
     "metadata": {},
     "output_type": "execute_result"
    }
   ],
   "source": [
    "new_path.exists()"
   ]
  },
  {
   "cell_type": "markdown",
   "id": "911002ff-90ee-408e-b61e-62f2e787de29",
   "metadata": {},
   "source": [
    "### Deleting files\n",
    "- `Path.unlink()` will delete a file\n",
    "\n",
    "```python\n",
    "my_path = Path(r\"c:\\users\\rehman\\documents\\test.py\")\n",
    "# to delete the file use unlink\n",
    "my_path.unlink()\n",
    "```"
   ]
  },
  {
   "cell_type": "markdown",
   "id": "e962709f-2524-484c-a9d5-1d6d19d5afbf",
   "metadata": {},
   "source": [
    "### There are more `Path` functions; refer to the official [documentation](https://docs.python.org/3/library/pathlib.html)"
   ]
  },
  {
   "cell_type": "markdown",
   "id": "32320757-e3e2-4ef3-b005-faa0145e5f8b",
   "metadata": {},
   "source": [
    "## `shutil` module\n",
    "- Python module for file operations\n",
    "- We will cover 3 useful shutil functions\n",
    "    - There are many more functions: see the [documentation](https://docs.python.org/3/library/shutil.html)\n",
    "- `shutil` functions take either strings or `Path` objects as inputs\n",
    "- `shutil.copy` copies a file\n",
    "\n",
    "```python\n",
    "import shutil as sh\n",
    "# will copy the my_file.py to a new location\n",
    "sh.copy(\"my_file.py\",\"new_directory/my_file.py\")\n",
    "```\n",
    "\n",
    "- `shutil.copytree` is like `shutil.copy` except it is for directories\n",
    "- `shutil.rmtree` deletes a directory"
   ]
  }
 ],
 "metadata": {
  "kernelspec": {
   "display_name": "Python 3 (ipykernel)",
   "language": "python",
   "name": "python3"
  },
  "language_info": {
   "codemirror_mode": {
    "name": "ipython",
    "version": 3
   },
   "file_extension": ".py",
   "mimetype": "text/x-python",
   "name": "python",
   "nbconvert_exporter": "python",
   "pygments_lexer": "ipython3",
   "version": "3.9.12"
  }
 },
 "nbformat": 4,
 "nbformat_minor": 5
}
