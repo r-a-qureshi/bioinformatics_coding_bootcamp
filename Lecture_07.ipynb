{
 "cells": [
  {
   "cell_type": "markdown",
   "id": "b1449c46-0262-4d40-9072-afb5ec32f231",
   "metadata": {},
   "source": [
    "# Lecture 7 File I/O, Functions, and Generators"
   ]
  },
  {
   "cell_type": "markdown",
   "id": "3fb7b465-9494-459b-ade3-8dad32e4a54d",
   "metadata": {},
   "source": [
    "- Reminder about reading\n",
    "- Reminder about pathlib, glob, and shutil"
   ]
  },
  {
   "cell_type": "markdown",
   "id": "f9946428-280f-4f00-8110-639391a69c7f",
   "metadata": {},
   "source": [
    "## Working with text files\n",
    "- Reading and writing text files is a common programming task\n",
    "    - Reading a file into a python data structure is called parsing the file\n",
    "- Text files can have any extension not just \".txt\" \n",
    "    - \".csv\" is commonly used for comma separated files\n",
    "- We can store tables of data in text files by separating values with a special character called a delimiter\n",
    "- The most common delimiters are tabs or commas\n",
    "    - by convention tab-delimited files have '.txt' extension and comma delimited files have '.csv' extension\n",
    "- You can access or create a file with `open`\n",
    "- `open` will return an object which is a connection to the file\n",
    "- `open` takes 2 arguments\n",
    "    - the file name\n",
    "    - the mode\n",
    "        - 'w' create a file, overwrite the file if it already exists\n",
    "        - 'r' read-only\n",
    "        - 'a' append, meaning only write to the end of an existing file\n",
    "- connections must be closed after you are done reading or writing the file or you will have problems\n",
    "\n",
    "```python\n",
    "f = open('a_file.txt','w')\n",
    "for i in range(10):\n",
    "    f.write(f\"{i}\\n\")\n",
    "f.close()\n",
    "```\n",
    "\n",
    "- The above code is not the preferred way to use open. It is very easy to forget to close the file, so never write code like you see above\n",
    "- Use a `with` statement instead\n",
    "    - `with` is a context manager and will automatically close the connection\n",
    "\n",
    "```python\n",
    "with open('a_file.txt','w') as f:\n",
    "    for i in range(10):\n",
    "        f.write(f\"{i}\\n\")\n",
    "```\n",
    "- `with` will automatically close the file after the code under it has been executed"
   ]
  },
  {
   "cell_type": "markdown",
   "id": "cf885da7-57c8-4da7-9163-d505c59be55c",
   "metadata": {},
   "source": [
    "# **Always use `with` when you open a file**"
   ]
  },
  {
   "cell_type": "markdown",
   "id": "789b4228-e23c-44e8-acdf-80a4fadb6379",
   "metadata": {},
   "source": [
    "## File object methods\n",
    "- `f.read()` reads the entire contents of a file into a string\n",
    "- `f.readline()` reads a single line from the file, each time it is called it returns the next line of the file starting from the beginning\n",
    "- `f.readlines()` read all lines into a list, with each line as an element of the list\n",
    "- `f.write()` write a string to the end of a file (or the beginning if the file is empty)\n",
    "- `f.writelines()` write a list of strings with each element as its own line\n",
    "- All of these functions return strings, if you are trying to read numbers from a file you will have to convert them to `int` or `float`"
   ]
  },
  {
   "cell_type": "markdown",
   "id": "cebf101d-93d6-4648-9d71-4104f17dd9b9",
   "metadata": {},
   "source": [
    "### reading a file into a list\n",
    "```python\n",
    "with open(\"file_example.txt\",'r') as file:\n",
    "    # read all the lines in the file\n",
    "    lines = file.readlines()\n",
    "# every element of the list lines will be a string ending with a newline character\n",
    "\n",
    "# remove the new line and split the files by tab\n",
    "lines = [line.rstrip('\\n').split('\\t') for line in lines]\n",
    "# lines is now a list of lists with each element corresponding to a value in the tab delimited file\n",
    "```"
   ]
  },
  {
   "cell_type": "markdown",
   "id": "78e558f3-87a2-4aed-a854-3d09b60e9387",
   "metadata": {},
   "source": [
    "### reading a file into a list, but skipping the first row which is a header\n",
    "```python\n",
    "with open(\"file_example.txt\",'r') as file:\n",
    "    # access the first line\n",
    "    header = file.readline()\n",
    "    # read all lines in the file starting from the second line\n",
    "    lines = file.readlines()\n",
    "# every element of the list lines will be a string ending with a newline character\n",
    "\n",
    "# remove the new line and split the files by tab\n",
    "lines = [line.rstrip('\\n').split('\\t') for line in lines]\n",
    "# lines is now a list of lists with each element corresponding to a value in the tab delimited file\n",
    "```"
   ]
  },
  {
   "cell_type": "markdown",
   "id": "ac40e66d-f022-450e-99e5-ded9f1e2b36d",
   "metadata": {},
   "source": [
    "### writing a comma-separated file\n",
    "```python\n",
    "with open('numbers.csv','w') as file:\n",
    "    for i in range(0,100,10):\n",
    "        file.write(','.join([str(j) for j in range(i,i+10)]) + '\\n')\n",
    "```\n",
    "- If we try to write strings that do not end with a new line \"\\n\" character the `write` function will continue to append to the same line"
   ]
  },
  {
   "cell_type": "markdown",
   "id": "4012224e-2a7c-4518-b946-80177623c033",
   "metadata": {},
   "source": [
    "## Demonstration\n",
    "- FASTA files are a specially formatted text file for storing nucleotide and protein sequences\n",
    "- read FASTA sequence and write complementary sequence"
   ]
  },
  {
   "cell_type": "markdown",
   "id": "ab38fe01-e8fb-4ff9-b633-37916fef5a90",
   "metadata": {},
   "source": [
    "## Function default values\n",
    "- We define functions with `def`\n",
    "    ```python\n",
    "    def power(x,n=2):\n",
    "        return x ** n\n",
    "    ```\n",
    "- In the above example we define a function with 2 variables `x` and `n`\n",
    "- The default value of `n` is 2\n",
    "    - since a default value is specified providing `n` when the function is called is optional"
   ]
  },
  {
   "cell_type": "code",
   "execution_count": 1,
   "id": "58be8cf1-2dc6-4820-bd9f-654abe600afb",
   "metadata": {},
   "outputs": [
    {
     "data": {
      "text/plain": [
       "9"
      ]
     },
     "execution_count": 1,
     "metadata": {},
     "output_type": "execute_result"
    }
   ],
   "source": [
    "def power(x,n=2):\n",
    "    return x ** n\n",
    "\n",
    "# I can call the function providing only x, and the default value of n will be used\n",
    "power(3)"
   ]
  },
  {
   "cell_type": "code",
   "execution_count": 2,
   "id": "08f2b4f6-9c08-45db-a986-6bef9a2849f0",
   "metadata": {},
   "outputs": [
    {
     "data": {
      "text/plain": [
       "8"
      ]
     },
     "execution_count": 2,
     "metadata": {},
     "output_type": "execute_result"
    }
   ],
   "source": [
    "def power(x,n=2):\n",
    "    return x ** n\n",
    "\n",
    "# I can also provide a different value for n\n",
    "power(x=2,n=3)"
   ]
  },
  {
   "cell_type": "markdown",
   "id": "345ec813-5ed4-49aa-98a7-2c54e0892ed5",
   "metadata": {},
   "source": [
    "## Function calls\n",
    "- I can call the function `power` in multiple ways\n",
    "```python\n",
    "power(2,3)\n",
    "power(2,n=3)\n",
    "power(x=2,n=3)\n",
    "power(n=3,x=2)\n",
    "```\n",
    "- `x` and `n` are called keyword arguments or named arguments\n",
    "- The only restriction when calling a function is that you cannot pass an argument without a keyword after passing a keyword.\n",
    "- This will cause an error:\n",
    "```python\n",
    "power(x=2,3)\n",
    "```"
   ]
  },
  {
   "cell_type": "markdown",
   "id": "6815914e-f9c2-41dd-bcef-0f247637da84",
   "metadata": {},
   "source": [
    "## Docstrings\n",
    "- You can write a little help snippet for your function using a triple quoted string right under the def statement line\n",
    "- You can see any function's docstring in juypter or the ipython shell by adding a ? to the name e.g. `print?`"
   ]
  },
  {
   "cell_type": "code",
   "execution_count": 3,
   "id": "020fd624-28b4-4367-84e2-622ccc500421",
   "metadata": {},
   "outputs": [
    {
     "data": {
      "text/plain": [
       "\u001b[1;31mDocstring:\u001b[0m\n",
       "print(value, ..., sep=' ', end='\\n', file=sys.stdout, flush=False)\n",
       "\n",
       "Prints the values to a stream, or to sys.stdout by default.\n",
       "Optional keyword arguments:\n",
       "file:  a file-like object (stream); defaults to the current sys.stdout.\n",
       "sep:   string inserted between values, default a space.\n",
       "end:   string appended after the last value, default a newline.\n",
       "flush: whether to forcibly flush the stream.\n",
       "\u001b[1;31mType:\u001b[0m      builtin_function_or_method\n"
      ]
     },
     "metadata": {},
     "output_type": "display_data"
    }
   ],
   "source": [
    "print?"
   ]
  },
  {
   "cell_type": "code",
   "execution_count": 4,
   "id": "c5db0ca9-6807-4e48-bb50-411b2b820a63",
   "metadata": {},
   "outputs": [],
   "source": [
    "def add_one(n):\n",
    "    \"\"\"Add 1 to a value and return the result\n",
    "    This is the second line of the docstring\"\"\"\n",
    "    return n + 1"
   ]
  },
  {
   "cell_type": "code",
   "execution_count": 5,
   "id": "27155860-8652-44f0-8363-1b04e6bf2ba7",
   "metadata": {},
   "outputs": [
    {
     "data": {
      "text/plain": [
       "\u001b[1;31mSignature:\u001b[0m \u001b[0madd_one\u001b[0m\u001b[1;33m(\u001b[0m\u001b[0mn\u001b[0m\u001b[1;33m)\u001b[0m\u001b[1;33m\u001b[0m\u001b[1;33m\u001b[0m\u001b[0m\n",
       "\u001b[1;31mDocstring:\u001b[0m\n",
       "Add 1 to a value and return the result\n",
       "This is the second line of the docstring\n",
       "\u001b[1;31mFile:\u001b[0m      c:\\users\\rehman\\appdata\\local\\temp\\ipykernel_22408\\1919225670.py\n",
       "\u001b[1;31mType:\u001b[0m      function\n"
      ]
     },
     "metadata": {},
     "output_type": "display_data"
    }
   ],
   "source": [
    "add_one?"
   ]
  },
  {
   "cell_type": "markdown",
   "id": "74ed9789-5e77-4b4d-9f5d-bf5a3f92ee08",
   "metadata": {},
   "source": [
    "## lambda functions\n",
    "- You can define a function in one line with the `lambda` keyword\n",
    "- ```python\n",
    "power = lambda x, n=2: x ** n\n",
    "```\n",
    "- This is equivalent to the power function above"
   ]
  },
  {
   "cell_type": "code",
   "execution_count": 6,
   "id": "5fdb820c-8ab8-4c6c-a301-929dcde8b65d",
   "metadata": {},
   "outputs": [
    {
     "data": {
      "text/plain": [
       "4"
      ]
     },
     "execution_count": 6,
     "metadata": {},
     "output_type": "execute_result"
    }
   ],
   "source": [
    "p = lambda x, n=2: x ** n\n",
    "p(2)"
   ]
  },
  {
   "cell_type": "code",
   "execution_count": 7,
   "id": "890782ea-58f8-47e8-ba51-7725249969e5",
   "metadata": {},
   "outputs": [
    {
     "data": {
      "text/plain": [
       "27"
      ]
     },
     "execution_count": 7,
     "metadata": {},
     "output_type": "execute_result"
    }
   ],
   "source": [
    "p(3,3)"
   ]
  },
  {
   "cell_type": "markdown",
   "id": "7e4f3564-eca8-4626-b41e-0e6d770b6535",
   "metadata": {},
   "source": [
    "- a `lambda` function is defined with the lambda keyword followed by input variables followed by a colon followed by the python expression\n",
    "- Ideally `lambda` functions should be used only for simple expressions\n",
    "- If you write a complicated `lambda` function, it is probably better to rewrite it as a normal function using the `def` keyword"
   ]
  },
  {
   "cell_type": "markdown",
   "id": "52ffe04e-2fd5-440c-9a1c-03ca7b33e2d4",
   "metadata": {},
   "source": [
    "## `map`\n",
    "- So far we have seen we can use `for` loops and list comprehensions to apply a function to a collection of values such as a `list`, `tuple`, or `str` object\n",
    "    - Collections of objects are called iterables in python\n",
    "    - `range` objects are also iterables\n",
    "    \n",
    "```python\n",
    "# get the squared value of the numbers 0-9\n",
    "squares = [power(i) for i in range(10)]\n",
    "```\n",
    "\n",
    "Another way\n",
    "\n",
    "```python\n",
    "squares = []\n",
    "for i in range(10):\n",
    "    squares.append(power(i))\n",
    "```\n",
    "- Another option is to use the `map` function\n",
    "\n",
    "```python\n",
    "squares = map(power,range(10))\n",
    "```\n",
    "\n",
    "- `map` applies a function (the first argument) to every value in an iterable (the second argument)"
   ]
  },
  {
   "cell_type": "code",
   "execution_count": 10,
   "id": "c28bea27-1604-43a1-947e-e5dae3861728",
   "metadata": {},
   "outputs": [
    {
     "data": {
      "text/plain": [
       "<map at 0x2a7707239a0>"
      ]
     },
     "execution_count": 10,
     "metadata": {},
     "output_type": "execute_result"
    }
   ],
   "source": [
    "map(power,range(10))"
   ]
  },
  {
   "cell_type": "markdown",
   "id": "3a7ffbe2-bb35-4f83-be40-5ade017058a9",
   "metadata": {},
   "source": [
    "- `map` returns a map object which is an iterable like range or the output of `re.finditer`\n",
    "    - a `map` object is a special kind of iterable called a ***generator***\n",
    "- We have to convert it to a `list` to see what the values inside are"
   ]
  },
  {
   "cell_type": "code",
   "execution_count": 11,
   "id": "444f6a86-83e4-4af1-927e-dbd4d2ff07dd",
   "metadata": {},
   "outputs": [
    {
     "data": {
      "text/plain": [
       "[0, 1, 4, 9, 16, 25, 36, 49, 64, 81]"
      ]
     },
     "execution_count": 11,
     "metadata": {},
     "output_type": "execute_result"
    }
   ],
   "source": [
    "list(map(power,range(10)))"
   ]
  },
  {
   "cell_type": "code",
   "execution_count": 12,
   "id": "69040987-bb1a-4f6e-b2eb-74f70b16043b",
   "metadata": {},
   "outputs": [
    {
     "data": {
      "text/plain": [
       "[0, 1, 4, 9, 16, 25, 36, 49, 64, 81]"
      ]
     },
     "execution_count": 12,
     "metadata": {},
     "output_type": "execute_result"
    }
   ],
   "source": [
    "list(map(power,range(10)))"
   ]
  },
  {
   "cell_type": "markdown",
   "id": "fa9b5b25-72c3-4c66-aa9c-607a1c411443",
   "metadata": {},
   "source": [
    "- `map` only works on functions that can accept a single argument\n",
    "- However, there is a workaround"
   ]
  },
  {
   "cell_type": "code",
   "execution_count": 13,
   "id": "5c40b7ee-ec2e-4c9a-b1e9-d8e2912d6f20",
   "metadata": {},
   "outputs": [
    {
     "data": {
      "text/plain": [
       "[0, 1, 8, 27, 64, 125, 216, 343, 512, 729]"
      ]
     },
     "execution_count": 13,
     "metadata": {},
     "output_type": "execute_result"
    }
   ],
   "source": [
    "from functools import partial\n",
    "# create a new function with a default value for n equal to 3\n",
    "partial_fun = partial(power,n=3)\n",
    "list(map(partial_fun,range(10)))"
   ]
  },
  {
   "cell_type": "markdown",
   "id": "ea350d14-f607-4c5b-9b2a-8a0cfe5bacc0",
   "metadata": {},
   "source": [
    "- We can combine `lamba` functions with `map` to get very compact code"
   ]
  },
  {
   "cell_type": "code",
   "execution_count": 14,
   "id": "62546ad9-28d3-45f3-9496-6d491de35581",
   "metadata": {},
   "outputs": [
    {
     "name": "stdout",
     "output_type": "stream",
     "text": [
      "[0, 1, 4, 9, 16, 25, 36, 49, 64, 81, 100, 121, 144, 169, 196, 225, 256, 289, 324, 361, 400, 441, 484, 529, 576]\n"
     ]
    }
   ],
   "source": [
    "squares = map(lambda x: x**2,range(25))\n",
    "print(list(squares))"
   ]
  },
  {
   "cell_type": "markdown",
   "id": "e7ef5bac-61d8-4c6d-8018-ed8e88e8a1f4",
   "metadata": {},
   "source": [
    "## `filter`\n",
    "- `filter` allows us to get only values in an iterable that meet a certain criteria\n",
    "- It works like `map` except the function must return `True` or `False`\n",
    "- The output is only the values in the iterable where the function evaluates to `True`"
   ]
  },
  {
   "cell_type": "code",
   "execution_count": 15,
   "id": "69b336dd-9b3f-434b-bda0-3eabddfc9e51",
   "metadata": {},
   "outputs": [
    {
     "name": "stdout",
     "output_type": "stream",
     "text": [
      "[0, 3, 6, 9, 12, 15, 18, 21, 24, 27, 30, 33, 36, 39, 42, 45, 48, 51, 54, 57, 60, 63, 66, 69, 72, 75, 78, 81, 84, 87, 90, 93, 96, 99]\n"
     ]
    }
   ],
   "source": [
    "# get all multiples of 3 from 0 to 99\n",
    "mult3 = filter(lambda x: x % 3 == 0, range(100))\n",
    "print(list(mult3))"
   ]
  },
  {
   "cell_type": "markdown",
   "id": "790515a1-38ce-46d4-8bd8-f9e060a03fd8",
   "metadata": {},
   "source": [
    "## MapReduce\n",
    "- MapReduce is a programming paradigm often used in Big Data\n",
    "- Basically we split a large dataset into a lot of small pieces and `map` a function to each piece\n",
    "- Then we combine the pieces into a single object with `reduce`\n",
    "- We must import `reduce` from the `functools` module\n",
    "- For example, we could get the cumulative product of a set of numbers squared from 1 to *n*\n",
    "$$\n",
    "C = \\prod_{i=1}^{n}i^2\n",
    "$$"
   ]
  },
  {
   "cell_type": "code",
   "execution_count": 16,
   "id": "0d0c41e6-eb5e-4ac7-b6ba-54a726b1f7a9",
   "metadata": {},
   "outputs": [
    {
     "name": "stdout",
     "output_type": "stream",
     "text": [
      "14400\n"
     ]
    }
   ],
   "source": [
    "# Map Reduce example\n",
    "# get the cumulative product of all numbers 1 - 5 squared\n",
    "\n",
    "from functools import reduce\n",
    "# square every number\n",
    "squares = map(lambda x: x**2,range(1,6))\n",
    "# get the product of every number in squares\n",
    "product = lambda x, y: x * y\n",
    "cumprod = reduce(product,squares)\n",
    "print(cumprod)"
   ]
  },
  {
   "cell_type": "markdown",
   "id": "9bad7f1a-5916-4986-a664-4f60a0f8cb2c",
   "metadata": {},
   "source": [
    "- `reduce` requires a function that takes 2 input variables and returns 1 output variable\n",
    "- `reduce` applies the function to the first 2 values in the iterable\n",
    "    - Then it takes the output of that and applies the function to the previous output and the next value in the iterable\n",
    "- In the above example the function is `lambda x,y: x * y` which returns the product of 2 numbers\n",
    "- When reduce is called it works like this\n",
    "1. product(1 ** 2, 2 ** 2) this equals 4\n",
    "2. product(4, 3 ** 2) this equals 36\n",
    "3. product(36, 4 ** 2) this equals 576\n",
    "4. product(576, 5 ** 2) this equals 14400\n",
    "4. We have reached the end of the iterable so the final result is 14400\n"
   ]
  },
  {
   "cell_type": "markdown",
   "id": "2261d636-8ee9-41a9-b6b0-8aac793f8046",
   "metadata": {},
   "source": [
    "## Generators\n",
    "- We have been dancing around the concept of generators\n",
    "- `map`, `filter`, `re.findall`, `range` all return generators\n",
    "- generators are iterables that are evaluated in a *lazy* way\n",
    "- *Lazy* means that the values in a generator are not processed by your computer until that specific value is requested.\n",
    "- Generators are incredibly useful when you are using a really large dataset that cannot fit into your computer memory, or you are doing computations that take a long time.\n",
    "- We have seen that the `list` function will evaluate a generator and return a list"
   ]
  },
  {
   "cell_type": "code",
   "execution_count": 18,
   "id": "7284538d-444a-489c-a7a7-7c13f63d6a3b",
   "metadata": {},
   "outputs": [
    {
     "name": "stdout",
     "output_type": "stream",
     "text": [
      "<map object at 0x000002A770746910>\n",
      "0\n",
      "1\n",
      "4\n",
      "9\n",
      "16\n",
      "25\n",
      "36\n",
      "49\n",
      "64\n",
      "81\n"
     ]
    }
   ],
   "source": [
    "# print the numbers 0-9 squared\n",
    "my_map = map(lambda x: x ** 2, range(10))\n",
    "print(my_map)\n",
    "for value in my_map:\n",
    "    print(value)"
   ]
  },
  {
   "cell_type": "markdown",
   "id": "6a7c5d33-da84-4181-958f-0c1c12af9ead",
   "metadata": {},
   "source": [
    "- We can use the generator returned by the map in our code and it will not be evaluated until it is required"
   ]
  },
  {
   "cell_type": "code",
   "execution_count": 19,
   "id": "87c12be0-6458-406a-9ff4-0aacbed46f0b",
   "metadata": {},
   "outputs": [],
   "source": [
    "def square(n):\n",
    "    print(f'Calculating the square of {n}')\n",
    "    return n ** 2\n",
    "\n",
    "sq = map(square,range(10))\n",
    "# the square function has not been executed yet"
   ]
  },
  {
   "cell_type": "code",
   "execution_count": 20,
   "id": "fae64626-33f5-40cb-b9ef-b95bc585b131",
   "metadata": {},
   "outputs": [],
   "source": [
    "def plus_one(x):\n",
    "    print(f'Adding one to {x}')\n",
    "    return x + 1\n",
    "sq_plus_1 = map(plus_one,sq)\n",
    "# the square function and the plus_one function have not been executed yet\n",
    "# note how nothing has been printed"
   ]
  },
  {
   "cell_type": "code",
   "execution_count": 21,
   "id": "03e986fc-b843-4376-b256-ba35f2243f0c",
   "metadata": {},
   "outputs": [
    {
     "name": "stdout",
     "output_type": "stream",
     "text": [
      "Calculating the square of 0\n",
      "Adding one to 0\n",
      "Calculating the square of 1\n",
      "Adding one to 1\n",
      "Calculating the square of 2\n",
      "Adding one to 4\n",
      "Calculating the square of 3\n",
      "Adding one to 9\n",
      "Calculating the square of 4\n",
      "Adding one to 16\n",
      "Calculating the square of 5\n",
      "Adding one to 25\n",
      "Calculating the square of 6\n",
      "Adding one to 36\n",
      "Calculating the square of 7\n",
      "Adding one to 49\n",
      "Calculating the square of 8\n",
      "Adding one to 64\n",
      "Calculating the square of 9\n",
      "Adding one to 81\n"
     ]
    },
    {
     "data": {
      "text/plain": [
       "[1, 2, 5, 10, 17, 26, 37, 50, 65, 82]"
      ]
     },
     "execution_count": 21,
     "metadata": {},
     "output_type": "execute_result"
    }
   ],
   "source": [
    "# now we will iterate through sq_plus_1\n",
    "[i for i in sq_plus_1]"
   ]
  },
  {
   "cell_type": "markdown",
   "id": "3f89926b-a908-4b21-85a6-5b5c36ea1170",
   "metadata": {},
   "source": [
    "- Only when we try to access the values in a generator is a generator evaluated\n",
    "- All values are accessed when we convert a generator to a list\n",
    "- When we access a value in a generator it is removed from the generator"
   ]
  },
  {
   "cell_type": "code",
   "execution_count": 22,
   "id": "5728db58-edfe-4da8-a953-4c7a30baa482",
   "metadata": {},
   "outputs": [
    {
     "data": {
      "text/plain": [
       "[]"
      ]
     },
     "execution_count": 22,
     "metadata": {},
     "output_type": "execute_result"
    }
   ],
   "source": [
    "# sq_plus_1 is now empty\n",
    "list(sq_plus_1)"
   ]
  },
  {
   "cell_type": "markdown",
   "id": "1122e4bc-c65b-4771-b872-bd71d72ca1ac",
   "metadata": {},
   "source": [
    "- Most of the time you will not have to create your own generators, but I am going to show you how to do it for the sake of completeness\n",
    "- You can define a generator by defining a function that uses the `yield` keyword instead of `return`"
   ]
  },
  {
   "cell_type": "code",
   "execution_count": 23,
   "id": "81eb9a57-de70-473a-9f7d-0e77749846a3",
   "metadata": {},
   "outputs": [
    {
     "name": "stdout",
     "output_type": "stream",
     "text": [
      "0\n",
      "1\n",
      "4\n",
      "9\n",
      "16\n",
      "25\n",
      "36\n",
      "49\n",
      "64\n",
      "81\n",
      "[]\n"
     ]
    }
   ],
   "source": [
    "# create a generator\n",
    "def square_to_n(n = 10):\n",
    "    for i in range(n):\n",
    "        yield i ** 2\n",
    "    return\n",
    "\n",
    "gen = square_to_n(10)\n",
    "for i in gen:\n",
    "    print(i)\n",
    "print(list(gen))"
   ]
  },
  {
   "cell_type": "markdown",
   "id": "0149485a-24b4-4019-8dd5-97dd587d240c",
   "metadata": {},
   "source": [
    "- If you are writing code that takes a long time to execute it is often a good idea to write it as a generator so that the computation is only performed when required"
   ]
  },
  {
   "cell_type": "code",
   "execution_count": 24,
   "id": "f57490b1-a48a-4ce7-9577-0f8b849a21bf",
   "metadata": {},
   "outputs": [],
   "source": [
    "# simulating slow code\n",
    "from time import sleep\n",
    "\n",
    "def square(x):\n",
    "    # wait 1 second\n",
    "    sleep(1)\n",
    "    return x ** 2\n",
    "\n",
    "def square_to_n(n):\n",
    "    for i in range(n):\n",
    "        yield square(i)\n",
    "    return\n",
    "\n",
    "sq = square_to_n(5)"
   ]
  },
  {
   "cell_type": "code",
   "execution_count": 25,
   "id": "5a63252b-f8db-4b2d-a5a6-d5470e566cdc",
   "metadata": {},
   "outputs": [
    {
     "name": "stdout",
     "output_type": "stream",
     "text": [
      "CPU times: total: 0 ns\n",
      "Wall time: 0 ns\n"
     ]
    }
   ],
   "source": [
    "%%time\n",
    "sq_plus_1 = map(lambda x: x + 1, sq)"
   ]
  },
  {
   "cell_type": "code",
   "execution_count": 26,
   "id": "0b074e42-5466-40a8-8360-ff10df5219a0",
   "metadata": {},
   "outputs": [
    {
     "name": "stdout",
     "output_type": "stream",
     "text": [
      "CPU times: total: 0 ns\n",
      "Wall time: 5.04 s\n"
     ]
    },
    {
     "data": {
      "text/plain": [
       "[1, 2, 5, 10, 17]"
      ]
     },
     "execution_count": 26,
     "metadata": {},
     "output_type": "execute_result"
    }
   ],
   "source": [
    "%%time\n",
    "[i for i in sq_plus_1]"
   ]
  },
  {
   "cell_type": "markdown",
   "id": "19bf0222-6d37-4396-8c86-e820fb70d588",
   "metadata": {},
   "source": [
    "- It takes 5 seconds only when the values in the generator are called\n",
    "- so sq_plus_1 is a generator that is created from using map to apply a function to another generator\n",
    "- Both functions are only evaluated when the values in sq_plus_1 are called"
   ]
  },
  {
   "cell_type": "markdown",
   "id": "e6d7ddea-9aa2-4e66-ba19-52433994480a",
   "metadata": {},
   "source": [
    "### `next` function\n",
    "- You can access the \"next\" value in a generator with `next`"
   ]
  },
  {
   "cell_type": "code",
   "execution_count": 27,
   "id": "a7947b6a-055b-4eab-aa5d-c45c6555d6ce",
   "metadata": {},
   "outputs": [
    {
     "name": "stdout",
     "output_type": "stream",
     "text": [
      "0\n",
      "1\n",
      "4\n"
     ]
    }
   ],
   "source": [
    "def square_to_n(n):\n",
    "    for i in range(n):\n",
    "        yield i ** 2\n",
    "    return\n",
    "gen = square_to_n(5)\n",
    "print(next(gen))\n",
    "print(next(gen))\n",
    "print(next(gen))"
   ]
  },
  {
   "cell_type": "markdown",
   "id": "d15d5e85-193c-4b26-8b2c-9f40002cd315",
   "metadata": {},
   "source": [
    "- Each time `next` is called the next value is returned\n",
    "- You will get an error if the generator is empty and you call next"
   ]
  },
  {
   "cell_type": "code",
   "execution_count": 28,
   "id": "0f16a9d7-301a-4b8c-a8e8-f0e072251932",
   "metadata": {},
   "outputs": [
    {
     "data": {
      "text/plain": [
       "[9, 16]"
      ]
     },
     "execution_count": 28,
     "metadata": {},
     "output_type": "execute_result"
    }
   ],
   "source": [
    "# the first three values from the generator are gone\n",
    "list(gen)"
   ]
  },
  {
   "cell_type": "code",
   "execution_count": 30,
   "id": "a8edc009-c173-4dd3-b0be-2f98d231c573",
   "metadata": {},
   "outputs": [
    {
     "name": "stdout",
     "output_type": "stream",
     "text": [
      "0\n",
      "1\n",
      "4\n",
      "9\n",
      "16\n"
     ]
    }
   ],
   "source": [
    "# in general it's better to use a for loop then next\n",
    "def square_to_n(n):\n",
    "    for i in range(n):\n",
    "        yield i ** 2\n",
    "    return\n",
    "gen = square_to_n(5)\n",
    "for i in gen:\n",
    "    print(i)"
   ]
  },
  {
   "cell_type": "markdown",
   "id": "34a3020e-58f6-4eb5-911f-57d978ecd378",
   "metadata": {},
   "source": [
    "- You won't need to write any generators for this class but you should understand how they work"
   ]
  },
  {
   "cell_type": "code",
   "execution_count": 31,
   "id": "a832dffc-6447-4973-9d2b-4acfefb5a5e5",
   "metadata": {},
   "outputs": [
    {
     "data": {
      "text/plain": [
       "'CACAAAGCG'"
      ]
     },
     "execution_count": 31,
     "metadata": {},
     "output_type": "execute_result"
    }
   ],
   "source": [
    "# remember my example of generating a chromosome\n",
    "from random import choice\n",
    "\n",
    "def get_random_sequence(n):\n",
    "    \"\"\"Returns a generator of random nucleotides with n elements\"\"\"\n",
    "    for i in range(n):\n",
    "        yield choice('ATGC')\n",
    "    return\n",
    "\n",
    "''.join(list(get_random_sequence(9)))"
   ]
  },
  {
   "cell_type": "code",
   "execution_count": 32,
   "id": "e90af3d2-a739-4703-9065-8334c725e478",
   "metadata": {},
   "outputs": [
    {
     "name": "stdout",
     "output_type": "stream",
     "text": [
      "CPU times: total: 0 ns\n",
      "Wall time: 0 ns\n"
     ]
    }
   ],
   "source": [
    "# now I can use a generator to make a chromosome without it taking a long time\n",
    "%time\n",
    "chromosome = get_random_sequence(int(1e8))"
   ]
  },
  {
   "cell_type": "markdown",
   "id": "6382c05a-0862-4b2c-a28b-8175ef422ef0",
   "metadata": {},
   "source": [
    "- I have a random chromosome with 100 million base pairs and it took zero seconds because I'm using a generator\n",
    "- It won't take any time until the generator is evaluated\n",
    "- Without a generator 100 million base pairs would take up about 400 MB of RAM, but a generator uses only minimal memory unless the entire generator is evaluated and assigned to a variable"
   ]
  },
  {
   "cell_type": "code",
   "execution_count": 33,
   "id": "b90a448b-3d84-42ff-aa5d-8b7c41195c26",
   "metadata": {},
   "outputs": [],
   "source": [
    "def get_complement(n):\n",
    "    binding = {'A':'T','G':'C','T':'A','C':'G'}\n",
    "    return binding[n]"
   ]
  },
  {
   "cell_type": "code",
   "execution_count": 34,
   "id": "57b577f4-247b-42fb-847a-b8f16f77a3c3",
   "metadata": {},
   "outputs": [
    {
     "name": "stdout",
     "output_type": "stream",
     "text": [
      "ATTAACATTGAGGTATCTTACCATGGCCGTTTCCAAGGTTAAGGCTTAAACTATACAGAGAGGACGTTTTTATCCCTATGTAATATTGGTACTGGTATGT\n",
      "CPU times: total: 125 ms\n",
      "Wall time: 131 ms\n"
     ]
    }
   ],
   "source": [
    "%%time\n",
    "seq = ''\n",
    "for i in range(100000):\n",
    "    seq += get_complement(next(chromosome))\n",
    "\n",
    "# only going to print the first 100 complementary nucleotides out of 100,000 for my sanity\n",
    "print(seq[:100])"
   ]
  },
  {
   "cell_type": "code",
   "execution_count": 35,
   "id": "a39825de-c043-450f-ae15-ef71839b8721",
   "metadata": {},
   "outputs": [
    {
     "name": "stdout",
     "output_type": "stream",
     "text": [
      "0\n",
      "1\n",
      "2\n",
      "3\n",
      "4\n",
      "5\n",
      "6\n",
      "7\n",
      "8\n",
      "9\n"
     ]
    }
   ],
   "source": [
    "numbers = list(range(10))\n",
    "\n",
    "def gen():\n",
    "    for i in numbers:\n",
    "        yield i\n",
    "    return\n",
    "\n",
    "x = gen()\n",
    "for j in x:\n",
    "    print(j)"
   ]
  }
 ],
 "metadata": {
  "kernelspec": {
   "display_name": "Python 3 (ipykernel)",
   "language": "python",
   "name": "python3"
  },
  "language_info": {
   "codemirror_mode": {
    "name": "ipython",
    "version": 3
   },
   "file_extension": ".py",
   "mimetype": "text/x-python",
   "name": "python",
   "nbconvert_exporter": "python",
   "pygments_lexer": "ipython3",
   "version": "3.9.12"
  }
 },
 "nbformat": 4,
 "nbformat_minor": 5
}
