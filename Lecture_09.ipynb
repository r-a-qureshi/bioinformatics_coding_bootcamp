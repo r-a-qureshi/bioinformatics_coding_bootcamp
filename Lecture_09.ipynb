{
 "cells": [
  {
   "cell_type": "markdown",
   "id": "2ea5c81b-bfed-4eb3-aec8-3291be245872",
   "metadata": {},
   "source": [
    "# Lecture 9: `numpy`, `scipy`, and `matplotlib`"
   ]
  },
  {
   "cell_type": "markdown",
   "id": "d4786774-292c-4262-97a9-60c73ed0b902",
   "metadata": {},
   "source": [
    "## `numpy`\n",
    "- `numpy` is a library for fast numerical computation.\n",
    "- `numpy` implements mathematical operations and functions in the C language and allows us to use this code with a python interface.\n",
    "- `numpy` is fast compared to the python standard library\n",
    "- It is a third party library (not part of the official python standard library)\n",
    "```python\n",
    "import numpy as np\n",
    "```"
   ]
  },
  {
   "cell_type": "markdown",
   "id": "a161f2f7-1ae2-4848-9061-157d1b4bd6f7",
   "metadata": {},
   "source": [
    "### `numpy` `ndarray` class\n",
    "- The core of `numpy` is the `ndarray` class\n",
    "- `ndarrays` are matrices of python objects.\n",
    "- Generally the values that they contain will all be the same time, usually `int32`, `int64`, or `float64`\n",
    "- You can see what type of values are stored in a `ndarray` with the `dtype` attribute"
   ]
  },
  {
   "cell_type": "code",
   "execution_count": 1,
   "id": "721d5aa0-1774-4443-83aa-cd2c4946406a",
   "metadata": {},
   "outputs": [
    {
     "data": {
      "text/plain": [
       "'array([0, 1, 2, 3, 4, 5, 6, 7, 8, 9])'"
      ]
     },
     "execution_count": 1,
     "metadata": {},
     "output_type": "execute_result"
    }
   ],
   "source": [
    "import numpy as np\n",
    "a = np.array(range(10))\n",
    "repr(a)"
   ]
  },
  {
   "cell_type": "code",
   "execution_count": 2,
   "id": "171251b5-41f4-477c-aa90-4460a960a352",
   "metadata": {},
   "outputs": [
    {
     "name": "stdout",
     "output_type": "stream",
     "text": [
      "<class 'numpy.ndarray'>\n"
     ]
    },
    {
     "data": {
      "text/plain": [
       "dtype('int32')"
      ]
     },
     "execution_count": 2,
     "metadata": {},
     "output_type": "execute_result"
    }
   ],
   "source": [
    "print(type(a))\n",
    "a.dtype"
   ]
  },
  {
   "cell_type": "markdown",
   "id": "97e5da74-2771-4fd4-8cbb-8fc85783de5c",
   "metadata": {},
   "source": [
    "### `ndarray` objects\n",
    "- `numpy` arrays can be 1, 2, 3, ... n dimensions\n",
    "- You can see the dimensions of a `ndarray` with the `shape` attribute\n",
    "    - If the array is 1 dimensional: `shape` is a `tuple`: (rows,)\n",
    "    - If the array is 2 dimensional: `shape` is a `tuple`: (rows,columns)\n",
    "    - If the array is 3 dimensional: `shape` is a `tuple`: (layers, rows, columns)\n",
    "        - In a 3D array every layer must have the same number of rows and number of columns\n",
    "- The number of values in a array is stored in the `size` attribute"
   ]
  },
  {
   "cell_type": "code",
   "execution_count": 3,
   "id": "ddd9c4a9-9f67-4608-a9fe-a0150c04abf9",
   "metadata": {},
   "outputs": [
    {
     "name": "stdout",
     "output_type": "stream",
     "text": [
      "[0 1 2]\n"
     ]
    },
    {
     "data": {
      "text/plain": [
       "(3,)"
      ]
     },
     "execution_count": 3,
     "metadata": {},
     "output_type": "execute_result"
    }
   ],
   "source": [
    "# 1D array\n",
    "a = np.array(range(3))\n",
    "print(a)\n",
    "a.shape"
   ]
  },
  {
   "cell_type": "code",
   "execution_count": 4,
   "id": "9242aa24-997d-4c78-90c4-7cb261ef14a0",
   "metadata": {},
   "outputs": [
    {
     "name": "stdout",
     "output_type": "stream",
     "text": [
      "[[0 1 2]\n",
      " [3 4 5]\n",
      " [6 7 8]]\n"
     ]
    },
    {
     "data": {
      "text/plain": [
       "(3, 3)"
      ]
     },
     "execution_count": 4,
     "metadata": {},
     "output_type": "execute_result"
    }
   ],
   "source": [
    "# 2D array\n",
    "a = np.array([range(3),range(3,6),range(6,9)])\n",
    "print(a)\n",
    "a.shape"
   ]
  },
  {
   "cell_type": "code",
   "execution_count": 5,
   "id": "0de1d6d0-a207-4837-9ac2-09de81ea935f",
   "metadata": {},
   "outputs": [
    {
     "name": "stdout",
     "output_type": "stream",
     "text": [
      "[[[0 1 2]\n",
      "  [3 4 5]\n",
      "  [6 7 8]]\n",
      "\n",
      " [[0 1 2]\n",
      "  [3 4 5]\n",
      "  [6 7 8]]\n",
      "\n",
      " [[0 1 2]\n",
      "  [3 4 5]\n",
      "  [6 7 8]]\n",
      "\n",
      " [[0 1 2]\n",
      "  [3 4 5]\n",
      "  [6 7 8]]]\n"
     ]
    },
    {
     "data": {
      "text/plain": [
       "(4, 3, 3)"
      ]
     },
     "execution_count": 5,
     "metadata": {},
     "output_type": "execute_result"
    }
   ],
   "source": [
    "# 3D array\n",
    "a = np.array([[range(3),range(3,6),range(6,9)]]*4)\n",
    "print(a)\n",
    "a.shape"
   ]
  },
  {
   "cell_type": "code",
   "execution_count": 6,
   "id": "981b6885-035b-435a-9b88-e25fdfe63755",
   "metadata": {},
   "outputs": [
    {
     "data": {
      "text/plain": [
       "36"
      ]
     },
     "execution_count": 6,
     "metadata": {},
     "output_type": "execute_result"
    }
   ],
   "source": [
    "# a contains 4 layers of 3 rows and 3 columns (4*3*3) = 36 values\n",
    "a.size"
   ]
  },
  {
   "cell_type": "code",
   "execution_count": 7,
   "id": "561c8527-3e1f-454c-8f4c-993e690207a6",
   "metadata": {},
   "outputs": [
    {
     "name": "stdout",
     "output_type": "stream",
     "text": [
      "[[[[0 1 2]\n",
      "   [3 4 5]]\n",
      "\n",
      "  [[0 1 2]\n",
      "   [3 4 5]]]\n",
      "\n",
      "\n",
      " [[[0 1 2]\n",
      "   [3 4 5]]\n",
      "\n",
      "  [[0 1 2]\n",
      "   [3 4 5]]]\n",
      "\n",
      "\n",
      " [[[0 1 2]\n",
      "   [3 4 5]]\n",
      "\n",
      "  [[0 1 2]\n",
      "   [3 4 5]]]]\n",
      "(3, 2, 2, 3)\n"
     ]
    }
   ],
   "source": [
    "# 4D array, videos are often encoded as 4d arrays\n",
    "a = np.array([[[[0,1,2],[3,4,5]]]*2]*3)\n",
    "print(a)\n",
    "print(a.shape)"
   ]
  },
  {
   "cell_type": "code",
   "execution_count": 8,
   "id": "bd4d9ee0-8a7e-4819-93cc-fbb36913e07c",
   "metadata": {},
   "outputs": [
    {
     "data": {
      "text/plain": [
       "4"
      ]
     },
     "execution_count": 8,
     "metadata": {},
     "output_type": "execute_result"
    }
   ],
   "source": [
    "# ndim attribute is the number of dimensions in the array\n",
    "a.ndim"
   ]
  },
  {
   "cell_type": "markdown",
   "id": "709664b0-ce2d-4b17-b4e5-cbe3b988339a",
   "metadata": {},
   "source": [
    "### `ndarray` class attributes\n",
    "- `size` number of values in the array\n",
    "- `shape` the dimensions of the array\n",
    "- `ndim` number of dimensions of the array\n",
    "- `flat` values in the array as a 1D iterable\n",
    "- `dtype` data type of the arrays elements\n",
    "- Refer to [`numpy.ndarray` documentation](https://numpy.org/doc/stable/reference/generated/numpy.ndarray.html) for a full list of attributes and methods"
   ]
  },
  {
   "cell_type": "markdown",
   "id": "906e02e7-3a3a-409c-8bae-26c1fc347b54",
   "metadata": {},
   "source": [
    "### Defining `ndarrays`\n",
    "- You can create an instance of `ndarray` using `np.array()`\n",
    "- You can specify values with an iterable like a `list` as shown above\n",
    "- Multidimensional arrays can be specified by nested iterables AKA `lists` of `lists`\n",
    "    - For a 2D array, each sublist will become a row of the `ndarray`\n",
    "- `numpy` also has several functions for generating `ndarrays` with certain properties\n",
    "    - `np.arange()`\n",
    "    - `np.linspace()`\n",
    "    - `np.zeros()` and `np.ones()`"
   ]
  },
  {
   "cell_type": "code",
   "execution_count": 9,
   "id": "956c6b7e-c056-41a5-9e75-f35246ca2901",
   "metadata": {},
   "outputs": [
    {
     "name": "stdout",
     "output_type": "stream",
     "text": [
      "[[0 1 2]\n",
      " [3 4 5]]\n"
     ]
    }
   ],
   "source": [
    "# defining a numpy array with a list of lists\n",
    "a = np.array([[0,1,2],[3,4,5]])\n",
    "print(a)"
   ]
  },
  {
   "cell_type": "code",
   "execution_count": 10,
   "id": "03031dff-dbbd-4259-b768-e7118b59a0d2",
   "metadata": {},
   "outputs": [
    {
     "data": {
      "text/plain": [
       "array([0.  , 0.25, 0.5 , 0.75, 1.  , 1.25, 1.5 , 1.75, 2.  , 2.25, 2.5 ,\n",
       "       2.75, 3.  , 3.25, 3.5 , 3.75, 4.  , 4.25, 4.5 , 4.75])"
      ]
     },
     "execution_count": 10,
     "metadata": {},
     "output_type": "execute_result"
    }
   ],
   "source": [
    "# numpy.arange is like range for 1D numpy arrays\n",
    "np.arange(0,5,.25)"
   ]
  },
  {
   "cell_type": "code",
   "execution_count": 14,
   "id": "307d7788-5771-4fd1-a48c-a5bb85882b84",
   "metadata": {},
   "outputs": [
    {
     "data": {
      "text/plain": [
       "array([0.  , 0.25, 0.5 , 0.75, 1.  , 1.25, 1.5 , 1.75, 2.  ])"
      ]
     },
     "execution_count": 14,
     "metadata": {},
     "output_type": "execute_result"
    }
   ],
   "source": [
    "# get a 1D array for n evenly spaced values between over an interval\n",
    "np.linspace(0,2,9)"
   ]
  },
  {
   "cell_type": "code",
   "execution_count": 15,
   "id": "4d77d3cf-ff27-48ad-b365-15dbcd7c3de5",
   "metadata": {},
   "outputs": [
    {
     "data": {
      "text/plain": [
       "array([[0., 0., 0., 0.],\n",
       "       [0., 0., 0., 0.],\n",
       "       [0., 0., 0., 0.]])"
      ]
     },
     "execution_count": 15,
     "metadata": {},
     "output_type": "execute_result"
    }
   ],
   "source": [
    "# create a 2D array of float64 zeros\n",
    "np.zeros(shape=(3,4))"
   ]
  },
  {
   "cell_type": "code",
   "execution_count": 16,
   "id": "3a225cd2-d519-44e1-9ab6-f998150b2d11",
   "metadata": {},
   "outputs": [
    {
     "data": {
      "text/plain": [
       "array([[0, 0, 0, 0],\n",
       "       [0, 0, 0, 0],\n",
       "       [0, 0, 0, 0]])"
      ]
     },
     "execution_count": 16,
     "metadata": {},
     "output_type": "execute_result"
    }
   ],
   "source": [
    "# create a 2D array of int32 zeros\n",
    "np.zeros(shape=(3,4),dtype=int)"
   ]
  },
  {
   "cell_type": "code",
   "execution_count": 17,
   "id": "9c0eac08-f0fd-43ff-ac95-52121d865a15",
   "metadata": {},
   "outputs": [
    {
     "data": {
      "text/plain": [
       "array([[1, 1, 1],\n",
       "       [1, 1, 1]], dtype=int64)"
      ]
     },
     "execution_count": 17,
     "metadata": {},
     "output_type": "execute_result"
    }
   ],
   "source": [
    "# ones works the same way\n",
    "np.ones(shape=(2,3),dtype='int64')"
   ]
  },
  {
   "cell_type": "code",
   "execution_count": 18,
   "id": "be0ff5b6-b77a-4b1e-832b-daf3316d4ed5",
   "metadata": {},
   "outputs": [
    {
     "name": "stdout",
     "output_type": "stream",
     "text": [
      "[array([[0, 1, 2, 3],\n",
      "       [0, 1, 2, 3],\n",
      "       [0, 1, 2, 3],\n",
      "       [0, 1, 2, 3],\n",
      "       [0, 1, 2, 3]]), array([[5, 5, 5, 5],\n",
      "       [6, 6, 6, 6],\n",
      "       [7, 7, 7, 7],\n",
      "       [8, 8, 8, 8],\n",
      "       [9, 9, 9, 9]])]\n"
     ]
    },
    {
     "data": {
      "image/png": "[encoded data removed]",
      "text/plain": [
       "<Figure size 432x288 with 1 Axes>"
      ]
     },
     "metadata": {
      "needs_background": "light"
     },
     "output_type": "display_data"
    }
   ],
   "source": [
    "# get coordinates of 2D grid\n",
    "mg = np.meshgrid(np.arange(4),np.arange(5,10))\n",
    "print(mg)\n",
    "# plot the points of the grid\n",
    "import matplotlib.pyplot as plt\n",
    "p = plt.scatter(mg[0].flatten(),mg[1].flatten())\n",
    "plt.show(p)"
   ]
  },
  {
   "cell_type": "markdown",
   "id": "0d1eba06-d8a8-4002-9627-9790eeb7ec70",
   "metadata": {},
   "source": [
    "### `ndarray` methods\n",
    "- `all` and `any`\n",
    "- `sum`\n",
    "- `std`\n",
    "- `mean`\n",
    "- `flatten`\n",
    "- `reshape`\n",
    "- `transpose` or `T` attribute\n",
    "    - flip rows and columns"
   ]
  },
  {
   "cell_type": "code",
   "execution_count": 20,
   "id": "683bf5be-eac8-45ec-b26d-22c3aae60837",
   "metadata": {},
   "outputs": [
    {
     "name": "stdout",
     "output_type": "stream",
     "text": [
      "[0 1 2 3 4 5 6 7 8 9]\n",
      "False\n",
      "True\n"
     ]
    }
   ],
   "source": [
    "# any and all\n",
    "a = np.arange(10)\n",
    "print(a)\n",
    "# all() will return False because there is a zero in the array\n",
    "print(a.all())\n",
    "print(a.any())"
   ]
  },
  {
   "cell_type": "code",
   "execution_count": 22,
   "id": "6413f714-3d20-4678-88c6-d8850c73e0d7",
   "metadata": {},
   "outputs": [
    {
     "name": "stdout",
     "output_type": "stream",
     "text": [
      "[ 0  1  2  3  4  5  6  7  8  9 10 11]\n",
      "[[ 0  1  2]\n",
      " [ 3  4  5]\n",
      " [ 6  7  8]\n",
      " [ 9 10 11]]\n"
     ]
    }
   ],
   "source": [
    "# reshape\n",
    "a = np.arange(12)\n",
    "print(a)\n",
    "b = a.reshape(4,3)\n",
    "print(b)"
   ]
  },
  {
   "cell_type": "code",
   "execution_count": 23,
   "id": "04b4ec8a-cd48-48c7-8bd5-45a1c515fc47",
   "metadata": {},
   "outputs": [
    {
     "name": "stdout",
     "output_type": "stream",
     "text": [
      "[[ 0  1  2]\n",
      " [ 3  4  5]\n",
      " [ 6  7  8]\n",
      " [ 9 10 11]]\n",
      "[[ 0  4  8]\n",
      " [ 1  5  9]\n",
      " [ 2  6 10]\n",
      " [ 3  7 11]]\n"
     ]
    }
   ],
   "source": [
    "# C vs Fortran style ordering\n",
    "\n",
    "# C style ordering fills in row by row\n",
    "print(a.reshape(4,3,order='C'))\n",
    "\n",
    "# Fortran style ordering fills in column by columns\n",
    "print(a.reshape(4,3,order='F'))"
   ]
  },
  {
   "cell_type": "code",
   "execution_count": 24,
   "id": "ea1a46c6-da59-4e37-84a9-ab058baf0d25",
   "metadata": {},
   "outputs": [
    {
     "name": "stdout",
     "output_type": "stream",
     "text": [
      "[[ 0  1  2]\n",
      " [ 3  4  5]\n",
      " [ 6  7  8]\n",
      " [ 9 10 11]]\n",
      "[ 0  1  2  3  4  5  6  7  8  9 10 11]\n",
      "[ 0  1  2  3  4  5  6  7  8  9 10 11]\n"
     ]
    }
   ],
   "source": [
    "# flattening multidimensional arrays to 1D\n",
    "print(b)\n",
    "# 2 ways\n",
    "print(b.reshape(-1))\n",
    "print(b.flatten())"
   ]
  },
  {
   "cell_type": "code",
   "execution_count": 25,
   "id": "5ad37912-b4aa-4bc3-98a3-520890390a93",
   "metadata": {},
   "outputs": [
    {
     "name": "stdout",
     "output_type": "stream",
     "text": [
      "[[ 0  1  2]\n",
      " [ 3  4  5]\n",
      " [ 6  7  8]\n",
      " [ 9 10 11]]\n",
      "[[ 0  3  6  9]\n",
      " [ 1  4  7 10]\n",
      " [ 2  5  8 11]]\n",
      "[[ 0  3  6  9]\n",
      " [ 1  4  7 10]\n",
      " [ 2  5  8 11]]\n"
     ]
    }
   ],
   "source": [
    "# Transposing arrays\n",
    "print(b)\n",
    "print(b.T)\n",
    "print(b.transpose())"
   ]
  },
  {
   "cell_type": "code",
   "execution_count": 26,
   "id": "8822aafe-f8a7-472a-ba1f-b2909cb35718",
   "metadata": {},
   "outputs": [
    {
     "name": "stdout",
     "output_type": "stream",
     "text": [
      "66\n",
      "5.5\n",
      "3.452052529534663\n"
     ]
    }
   ],
   "source": [
    "# math methods\n",
    "print(b.sum())\n",
    "print(b.mean())\n",
    "print(b.std())"
   ]
  },
  {
   "cell_type": "code",
   "execution_count": 27,
   "id": "80660bd8-b260-49c6-bdd6-bf998efb5908",
   "metadata": {},
   "outputs": [
    {
     "name": "stdout",
     "output_type": "stream",
     "text": [
      "[11 10  9  8  7  6  5  4  3  2  1  0]\n",
      "0\n",
      "11\n",
      "11\n",
      "0\n"
     ]
    }
   ],
   "source": [
    "# min finds minimum value argmin finds index of minimum value\n",
    "b = b.flatten()[::-1]\n",
    "print(b)\n",
    "print(b.min())\n",
    "print(b.argmin())\n",
    "print(b.max())\n",
    "print(b.argmax())"
   ]
  },
  {
   "cell_type": "markdown",
   "id": "0f39dca4-0d57-464f-932f-901732b252df",
   "metadata": {},
   "source": [
    "### applying `ndarray` methods across rows or columns\n",
    "- Calling a function usually applies it to the entire array\n",
    "- the `axis` argument allows you to apply the function to each column or row\n",
    "- columns: `axis=0`\n",
    "- rows: `axis=1`"
   ]
  },
  {
   "cell_type": "code",
   "execution_count": 29,
   "id": "2e5807db-f4b1-421d-8b27-e2c0600d571e",
   "metadata": {},
   "outputs": [
    {
     "name": "stdout",
     "output_type": "stream",
     "text": [
      "[[ 0  1  2]\n",
      " [ 3  4  5]\n",
      " [ 6  7  8]\n",
      " [ 9 10 11]]\n"
     ]
    },
    {
     "data": {
      "text/plain": [
       "array([18, 22, 26])"
      ]
     },
     "execution_count": 29,
     "metadata": {},
     "output_type": "execute_result"
    }
   ],
   "source": [
    "# apply math method across columns\n",
    "a = np.arange(12)\n",
    "b = a.reshape(4,3)\n",
    "print(b)\n",
    "b.sum(axis=0)"
   ]
  },
  {
   "cell_type": "code",
   "execution_count": 30,
   "id": "d79aa284-be7c-4a6b-bb8e-56d26c622ba2",
   "metadata": {},
   "outputs": [
    {
     "data": {
      "text/plain": [
       "array([ 3, 12, 21, 30])"
      ]
     },
     "execution_count": 30,
     "metadata": {},
     "output_type": "execute_result"
    }
   ],
   "source": [
    "# apply math method across rows\n",
    "b.sum(axis=1)"
   ]
  },
  {
   "cell_type": "markdown",
   "id": "80b2804b-7956-4a89-ba09-d4b3f11a2534",
   "metadata": {},
   "source": [
    "### `numpy` array indexing\n",
    "- For 1D arrays, indexing is similar to lists\n",
    "- For 2D arrays, indexing is `a[row,column]`\n",
    "    - If a 2D array is indexed with only a single value or slice it will be interpreted as row values\n",
    "        - ```a[0]``` would return the first row of array `a`\n",
    "- Standard rules of python indexing and slicing apply to row indices and column indices\n",
    "- You can reassign values in an array using their indices"
   ]
  },
  {
   "cell_type": "code",
   "execution_count": 31,
   "id": "401c5d7b-698f-4613-8bd4-d8563b614f8a",
   "metadata": {
    "tags": []
   },
   "outputs": [
    {
     "name": "stdout",
     "output_type": "stream",
     "text": [
      "[0 1 2 3 4 5 6 7 8 9]\n"
     ]
    },
    {
     "data": {
      "text/plain": [
       "array([0, 1, 2, 3, 4])"
      ]
     },
     "execution_count": 31,
     "metadata": {},
     "output_type": "execute_result"
    }
   ],
   "source": [
    "# 1D arrays are indexed just like lists\n",
    "a = np.arange(10)\n",
    "print(a)\n",
    "# first 5 values\n",
    "a[:5]"
   ]
  },
  {
   "cell_type": "code",
   "execution_count": 32,
   "id": "d9693e93-06be-4a69-854f-24cfc94bcce9",
   "metadata": {},
   "outputs": [
    {
     "name": "stdout",
     "output_type": "stream",
     "text": [
      "[[ 0  1  2  3]\n",
      " [ 4  5  6  7]\n",
      " [ 8  9 10 11]\n",
      " [12 13 14 15]\n",
      " [16 17 18 19]]\n"
     ]
    },
    {
     "data": {
      "text/plain": [
       "array([4, 5, 6, 7])"
      ]
     },
     "execution_count": 32,
     "metadata": {},
     "output_type": "execute_result"
    }
   ],
   "source": [
    "# 2D arrays have row,column indexing\n",
    "a = np.arange(20).reshape(5,4)\n",
    "print(a)\n",
    "# this will return the second row\n",
    "a[1]"
   ]
  },
  {
   "cell_type": "code",
   "execution_count": 33,
   "id": "6289ab6d-b715-435f-83c8-56274361aaf2",
   "metadata": {},
   "outputs": [
    {
     "data": {
      "text/plain": [
       "array([[ 1,  2],\n",
       "       [ 5,  6],\n",
       "       [ 9, 10]])"
      ]
     },
     "execution_count": 33,
     "metadata": {},
     "output_type": "execute_result"
    }
   ],
   "source": [
    "# row, column indexing\n",
    "a[:3,1:3]"
   ]
  },
  {
   "cell_type": "code",
   "execution_count": 34,
   "id": "a16ca960-731e-4a5d-8a77-781201f3b4b0",
   "metadata": {},
   "outputs": [
    {
     "data": {
      "text/plain": [
       "14"
      ]
     },
     "execution_count": 34,
     "metadata": {},
     "output_type": "execute_result"
    }
   ],
   "source": [
    "# Get a single value\n",
    "a[3,2]"
   ]
  },
  {
   "cell_type": "code",
   "execution_count": 35,
   "id": "fcb1e8db-44c2-4e8e-9de8-2259c985933a",
   "metadata": {},
   "outputs": [
    {
     "name": "stdout",
     "output_type": "stream",
     "text": [
      "[[100   1   2   3]\n",
      " [  4   5   6   7]\n",
      " [  8   9  10  11]\n",
      " [ 12  13  14  15]\n",
      " [ 16  17  18  19]]\n"
     ]
    }
   ],
   "source": [
    "# set the value at 0,0 equal to 100\n",
    "a[0,0] = 100\n",
    "print(a)"
   ]
  },
  {
   "cell_type": "code",
   "execution_count": 36,
   "id": "40bb3105-bbbf-4362-bc99-94da12533ae7",
   "metadata": {},
   "outputs": [
    {
     "name": "stdout",
     "output_type": "stream",
     "text": [
      "[[100   1   2   3]\n",
      " [ -1  -2  -3  -4]\n",
      " [  8   9  10  11]\n",
      " [ 12  13  14  15]\n",
      " [ 16  17  18  19]]\n"
     ]
    }
   ],
   "source": [
    "# replace the second row\n",
    "a[1] = [-1,-2,-3,-4]\n",
    "print(a)"
   ]
  },
  {
   "cell_type": "code",
   "execution_count": 37,
   "id": "fabb97cc-728f-41ac-abbd-da01bea28388",
   "metadata": {},
   "outputs": [
    {
     "name": "stdout",
     "output_type": "stream",
     "text": [
      "[[100   1   2   3]\n",
      " [ -1  -2  -3  -4]\n",
      " [  8   9  10  11]\n",
      " [ 12  13   0   0]\n",
      " [ 16  17   0   0]]\n"
     ]
    }
   ],
   "source": [
    "# replace a slice of values\n",
    "a[-2:,-2:] = np.zeros((2,2))\n",
    "print(a)"
   ]
  },
  {
   "cell_type": "markdown",
   "id": "9fbc09c4-9691-4f44-86c2-c49efbff512c",
   "metadata": {},
   "source": [
    "### `numpy` Universal Functions (ufuncs)\n",
    "- `numpy` operations are much faster than using loops\n",
    "- Universal functions operate on whole arrays element by element\n",
    "    - much faster than loops\n",
    "    - written in C\n",
    "- Standard elementwise math operations are ufuncs\n",
    "- Matrix mathematical operations are also ufuncs\n",
    "- Refer to the [numpy documentation for a full list of ufuncs](https://numpy.org/doc/stable/reference/ufuncs.html)."
   ]
  },
  {
   "cell_type": "code",
   "execution_count": 38,
   "id": "61b22cf7-8725-4797-95c2-be9158a88a70",
   "metadata": {},
   "outputs": [
    {
     "name": "stdout",
     "output_type": "stream",
     "text": [
      "[[1 2 3]\n",
      " [4 5 6]\n",
      " [7 8 9]]\n"
     ]
    },
    {
     "data": {
      "text/plain": [
       "array([[0.        , 1.        , 1.5849625 ],\n",
       "       [2.        , 2.32192809, 2.5849625 ],\n",
       "       [2.80735492, 3.        , 3.169925  ]])"
      ]
     },
     "execution_count": 38,
     "metadata": {},
     "output_type": "execute_result"
    }
   ],
   "source": [
    "a = np.arange(1,10).reshape(3,3)\n",
    "print(a)\n",
    "# np.log2 is a ufunc\n",
    "np.log2(a)"
   ]
  },
  {
   "cell_type": "code",
   "execution_count": 39,
   "id": "79bddbd9-519d-47b9-a6a9-3f12cab3c4b5",
   "metadata": {},
   "outputs": [
    {
     "name": "stdout",
     "output_type": "stream",
     "text": [
      "[[ 2  4  6]\n",
      " [ 8 10 12]\n",
      " [14 16 18]]\n"
     ]
    }
   ],
   "source": [
    "# multiplication is a ufunc\n",
    "b = a * 2\n",
    "print(b)"
   ]
  },
  {
   "cell_type": "code",
   "execution_count": 40,
   "id": "6ece58db-d1bd-4ef5-8bf0-0e99d21f2d0a",
   "metadata": {},
   "outputs": [
    {
     "name": "stdout",
     "output_type": "stream",
     "text": [
      "[[ 2  4  6]\n",
      " [ 8 10 12]\n",
      " [14 16 18]]\n"
     ]
    }
   ],
   "source": [
    "# another way of multiplication\n",
    "b = np.multiply(a,2)\n",
    "print(b)"
   ]
  },
  {
   "cell_type": "code",
   "execution_count": 42,
   "id": "bd6757f9-7f97-4ab1-a1f6-4fb1cb33f5b6",
   "metadata": {},
   "outputs": [
    {
     "name": "stdout",
     "output_type": "stream",
     "text": [
      "[[1 2 3]\n",
      " [4 5 6]\n",
      " [7 8 9]]\n",
      "[[ 2  4  6]\n",
      " [ 8 10 12]\n",
      " [14 16 18]]\n",
      "[[ 3  6  9]\n",
      " [12 15 18]\n",
      " [21 24 27]]\n"
     ]
    }
   ],
   "source": [
    "# addition\n",
    "# c = np.add(a,b) is equivalent to c = a + b\n",
    "print(a)\n",
    "print(b)\n",
    "c = a + b\n",
    "print(c)"
   ]
  },
  {
   "cell_type": "code",
   "execution_count": 43,
   "id": "cb619303-563d-4b74-8d65-ab9fd730826b",
   "metadata": {},
   "outputs": [
    {
     "name": "stdout",
     "output_type": "stream",
     "text": [
      "[[-1 -2 -3]\n",
      " [-4 -5 -6]\n",
      " [-7 -8 -9]]\n"
     ]
    }
   ],
   "source": [
    "c = np.subtract(a,b)\n",
    "print(c)"
   ]
  },
  {
   "cell_type": "code",
   "execution_count": 44,
   "id": "072349f8-5197-4d03-8d65-7191c7eabf63",
   "metadata": {},
   "outputs": [
    {
     "name": "stdout",
     "output_type": "stream",
     "text": [
      "[[ 60  72  84]\n",
      " [132 162 192]\n",
      " [204 252 300]]\n"
     ]
    }
   ],
   "source": [
    "# matrix multiplication\n",
    "c = np.matmul(a,b)\n",
    "print(c)"
   ]
  },
  {
   "cell_type": "markdown",
   "id": "c12187d7-15c8-47e6-9ea3-f2305f231d51",
   "metadata": {},
   "source": [
    "### `numpy` broadcasting rules\n",
    "- If you try to give 2 arrays with different dimensions to a ufunc `numpy` will attempt to \"broadcast\" or stretch the array with smaller dimensions to match the array with larger dimensions\n",
    "    - This is desirable for 2 reasons\n",
    "        1. Broadcasting does not create copies of the values which helps save memory when working with Big Data\n",
    "        2. Broadcasting allows for fast computation with `numpy` ufuncs.\n",
    "- Let's say you have a `numpy` `ndarray` and you are adding a single scalar value to it, this is equivalent to adding an array with the same dimension as the first with that single scalar value comprising every element \n",
    "![](https://numpy.org/doc/stable/_images/broadcasting_1.png)"
   ]
  },
  {
   "cell_type": "code",
   "execution_count": 45,
   "id": "22f1fafb-3272-4564-a3c8-efaac674ce6e",
   "metadata": {},
   "outputs": [
    {
     "name": "stdout",
     "output_type": "stream",
     "text": [
      "[[0 1 2]\n",
      " [3 4 5]\n",
      " [6 7 8]]\n"
     ]
    },
    {
     "data": {
      "text/plain": [
       "array([[ 3,  4,  5],\n",
       "       [ 6,  7,  8],\n",
       "       [ 9, 10, 11]])"
      ]
     },
     "execution_count": 45,
     "metadata": {},
     "output_type": "execute_result"
    }
   ],
   "source": [
    "# adding a scalar value to an array\n",
    "a = np.arange(9).reshape(3,3)\n",
    "print(a)\n",
    "a + 3"
   ]
  },
  {
   "cell_type": "markdown",
   "id": "2c68b610-3bb4-42d3-8cf6-3a8cc407e3e0",
   "metadata": {},
   "source": [
    "`a + 3` is equivalent to `a + b` where b is a 3 x 3 array of 3s"
   ]
  },
  {
   "cell_type": "code",
   "execution_count": 46,
   "id": "573f8fa6-7b32-4cf3-ae32-1f66a9c595bd",
   "metadata": {},
   "outputs": [
    {
     "name": "stdout",
     "output_type": "stream",
     "text": [
      "[[0 1 2]\n",
      " [3 4 5]\n",
      " [6 7 8]]\n",
      "[[3 3 3]\n",
      " [3 3 3]\n",
      " [3 3 3]]\n"
     ]
    },
    {
     "data": {
      "text/plain": [
       "array([[ 3,  4,  5],\n",
       "       [ 6,  7,  8],\n",
       "       [ 9, 10, 11]])"
      ]
     },
     "execution_count": 46,
     "metadata": {},
     "output_type": "execute_result"
    }
   ],
   "source": [
    "b = 3 * np.ones((3,3),dtype=int)\n",
    "print(a)\n",
    "print(b)\n",
    "a + b"
   ]
  },
  {
   "cell_type": "markdown",
   "id": "adbf9f6a-5fe2-4927-a92f-30a1436ca00e",
   "metadata": {},
   "source": [
    "### `numpy` Broadcasting rules\n",
    "- 2 `ndarrays` are compatible if dimensions are either the same or one dimension is 1\n",
    "- If 1 array has fewer dimensions than the other its dimensions are padded with ones from the left"
   ]
  },
  {
   "cell_type": "raw",
   "id": "41af28a1-cd09-47d3-980c-b9f3348f3407",
   "metadata": {},
   "source": [
    "A      (2d array):  5 x 4\n",
    "B      (1d array):      1\n",
    "Result (2d array):  5 x 4\n",
    "\n",
    "A      (2d array):  5 x 4\n",
    "B      (1d array):      4\n",
    "Result (2d array):  5 x 4\n",
    "\n",
    "A      (3d array):  15 x 3 x 5\n",
    "B      (3d array):  15 x 1 x 5\n",
    "Result (3d array):  15 x 3 x 5\n",
    "\n",
    "A      (3d array):  15 x 3 x 5\n",
    "B      (2d array):       3 x 5\n",
    "Result (3d array):  15 x 3 x 5\n",
    "\n",
    "A      (3d array):  15 x 3 x 5\n",
    "B      (2d array):       3 x 1\n",
    "Result (3d array):  15 x 3 x 5"
   ]
  },
  {
   "cell_type": "raw",
   "id": "023a2816-6936-4739-a690-8ddfdb46035e",
   "metadata": {},
   "source": [
    "A      (2d array):  5 x 4\n",
    "B      (1d array):      1 (left pad with ones)\n",
    "B      (1d array):  1 x 1\n",
    "Result (2d array):  5 x 4\n",
    "\n",
    "A      (2d array):  5 x 4\n",
    "B      (1d array):      4 (left pad with ones)\n",
    "B      (1d array):  1 x 4\n",
    "Result (2d array):  5 x 4\n",
    "\n",
    "A      (3d array):  15 x 3 x 5\n",
    "B      (2d array):       3 x 5 (left pad with ones)\n",
    "B      (2d array):   1 x 3 x 5\n",
    "Result (3d array):  15 x 3 x 5"
   ]
  },
  {
   "cell_type": "code",
   "execution_count": 47,
   "id": "7b262fc4-92ac-465f-8106-a517c28df767",
   "metadata": {},
   "outputs": [
    {
     "name": "stdout",
     "output_type": "stream",
     "text": [
      "[[5. 5. 5. 5.]\n",
      " [5. 5. 5. 5.]\n",
      " [5. 5. 5. 5.]\n",
      " [5. 5. 5. 5.]\n",
      " [5. 5. 5. 5.]]\n",
      "[1 2 3 4]\n",
      "[[6. 7. 8. 9.]\n",
      " [6. 7. 8. 9.]\n",
      " [6. 7. 8. 9.]\n",
      " [6. 7. 8. 9.]\n",
      " [6. 7. 8. 9.]]\n"
     ]
    }
   ],
   "source": [
    "A = np.ones((5,4)) * 5\n",
    "B = np.arange(1,5)\n",
    "print(A)\n",
    "print(B)\n",
    "print(A + B)"
   ]
  },
  {
   "cell_type": "markdown",
   "id": "0df25b35-3c7e-4523-bbf1-62df39cb314c",
   "metadata": {
    "jp-MarkdownHeadingCollapsed": true,
    "tags": []
   },
   "source": [
    "### `numpy` Broadcasting rules\n",
    "- When you match the dimensions between arrays they must have either the same number or one of them must be equal to 1\n",
    "- If these conditions are not met then you will get an error when you apply a ufunc to 2 arrays with incompatible dimensions\n",
    "\n",
    "![](https://numpy.org/doc/stable/_images/broadcasting_2.png)\n",
    "\n",
    "![](https://numpy.org/doc/stable/_images/broadcasting_3.png)"
   ]
  },
  {
   "cell_type": "markdown",
   "id": "0d25cf85-8317-47b3-8821-f9c1ea23c1a2",
   "metadata": {},
   "source": [
    "### `numpy.newaxis`\n",
    "- `numpy.newaxis` is an alias of `None`\n",
    "- You can use it to raise the dimensionality of an array\n",
    "- For example you can turn a 1D row vector into a 2D column vector\n",
    "    - This can come in handy when you need to broadcast arrays"
   ]
  },
  {
   "cell_type": "code",
   "execution_count": 48,
   "id": "72daf1c6-391d-4761-b7fe-7fb4cfb21416",
   "metadata": {},
   "outputs": [
    {
     "name": "stdout",
     "output_type": "stream",
     "text": [
      "[0 1 2 3 4]\n",
      "(5,)\n"
     ]
    }
   ],
   "source": [
    "a = np.arange(5)\n",
    "print(a)\n",
    "print(a.shape)"
   ]
  },
  {
   "cell_type": "code",
   "execution_count": 49,
   "id": "da42983e-41e4-44e8-8368-232b48ca38f7",
   "metadata": {},
   "outputs": [
    {
     "name": "stdout",
     "output_type": "stream",
     "text": [
      "[[0]\n",
      " [1]\n",
      " [2]\n",
      " [3]\n",
      " [4]]\n",
      "(5, 1)\n"
     ]
    }
   ],
   "source": [
    "print(a[:,np.newaxis])\n",
    "print(a[:,np.newaxis].shape)"
   ]
  },
  {
   "cell_type": "code",
   "execution_count": 50,
   "id": "7e90be34-7081-44c0-9830-561a92bf3043",
   "metadata": {},
   "outputs": [
    {
     "name": "stdout",
     "output_type": "stream",
     "text": [
      "[[0]\n",
      " [1]\n",
      " [2]\n",
      " [3]\n",
      " [4]]\n",
      "True\n"
     ]
    }
   ],
   "source": [
    "# numpy.newaxis is just a None object\n",
    "print(a[:,None])\n",
    "print(np.newaxis is None)"
   ]
  },
  {
   "cell_type": "markdown",
   "id": "6a9518d1-3947-488c-baa7-b2d538c146f4",
   "metadata": {},
   "source": [
    "### numpy indexing with arrays and lists\n",
    "- You can use an array or a list to index a dimension of a `ndarray`"
   ]
  },
  {
   "cell_type": "code",
   "execution_count": 51,
   "id": "b6bb3b52-d76a-48ac-a201-64c97ce87c03",
   "metadata": {},
   "outputs": [
    {
     "name": "stdout",
     "output_type": "stream",
     "text": [
      "[[ 0  1  2  3]\n",
      " [ 4  5  6  7]\n",
      " [ 8  9 10 11]\n",
      " [12 13 14 15]\n",
      " [16 17 18 19]]\n",
      "[[ 4  5  6  7]\n",
      " [12 13 14 15]\n",
      " [16 17 18 19]]\n",
      "[[ 2  3]\n",
      " [ 6  7]\n",
      " [10 11]\n",
      " [14 15]\n",
      " [18 19]]\n"
     ]
    }
   ],
   "source": [
    "a = np.arange(20).reshape(5,4)\n",
    "print(a)\n",
    "row_indices = np.array([1,3,4])\n",
    "col_indices = np.array([2,3])\n",
    "print(a[row_indices])\n",
    "print(a[:,col_indices])"
   ]
  },
  {
   "cell_type": "code",
   "execution_count": 52,
   "id": "c34313a6-2083-4c8a-9f95-7f2692cdd32f",
   "metadata": {},
   "outputs": [
    {
     "name": "stdout",
     "output_type": "stream",
     "text": [
      "[[ 6  7]\n",
      " [14 15]\n",
      " [18 19]]\n"
     ]
    }
   ],
   "source": [
    "# row\n",
    "print(a[row_indices[:,np.newaxis],col_indices])"
   ]
  },
  {
   "cell_type": "markdown",
   "id": "d53d786e-5d43-4e3e-b5a4-f9795c546db4",
   "metadata": {},
   "source": [
    "### Masking arrays with Boolean values\n",
    "- A mask is an array of Boolean values that tell you if the values in an array are valid or invalid\n",
    "- We can use Boolean masks to index numpy arrays"
   ]
  },
  {
   "cell_type": "code",
   "execution_count": 53,
   "id": "6d0fa7f6-1f6b-4a82-b006-4301204e052e",
   "metadata": {},
   "outputs": [
    {
     "name": "stdout",
     "output_type": "stream",
     "text": [
      "[[ 0  1  2  3]\n",
      " [ 4  5  6  7]\n",
      " [ 8  9 10 11]\n",
      " [12 13 14 15]\n",
      " [16 17 18 19]]\n",
      "[False  True  True False False]\n",
      "[[ 4  5  6  7]\n",
      " [ 8  9 10 11]]\n"
     ]
    }
   ],
   "source": [
    "a = np.arange(20).reshape(5,4)\n",
    "print(a)\n",
    "mask = np.array([0,1,1,0,0],dtype=bool)\n",
    "print(mask)\n",
    "# print second and third line of a\n",
    "print(a[mask,:])"
   ]
  },
  {
   "cell_type": "markdown",
   "id": "ab890090-f2c9-4d58-b2ca-5470adc8c0fc",
   "metadata": {},
   "source": [
    "### Using comparisons for indexing\n",
    "- We can take advantage of Boolean masks to use comparison expressions to index our arrays\n",
    "- When using Boolean comparison expressions with `numpy` arrays we have to use elementwise boolean operators\n",
    "    - `&` instead of `and`\n",
    "    - `|` instead of `or`\n",
    "    - `~` is elementwise negation (`True` -> `False` and `False` -> `True`)"
   ]
  },
  {
   "cell_type": "code",
   "execution_count": 54,
   "id": "687a9dfa-d9a3-402a-bbbd-a5427cefa980",
   "metadata": {},
   "outputs": [
    {
     "data": {
      "text/plain": [
       "array([False,  True, False,  True])"
      ]
     },
     "execution_count": 54,
     "metadata": {},
     "output_type": "execute_result"
    }
   ],
   "source": [
    "boolean_array = np.array([True,False,True,False])\n",
    "~boolean_array"
   ]
  },
  {
   "cell_type": "code",
   "execution_count": 56,
   "id": "8f1aa6e5-4fb3-4ae0-800b-861fddc3e55e",
   "metadata": {},
   "outputs": [
    {
     "name": "stdout",
     "output_type": "stream",
     "text": [
      "[[ 0  1  2  3]\n",
      " [ 4  5  6  7]\n",
      " [ 8  9 10 11]\n",
      " [12 13 14 15]\n",
      " [16 17 18 19]]\n",
      "[ True False  True False  True]\n"
     ]
    },
    {
     "data": {
      "text/plain": [
       "array([[ 0,  1,  2,  3],\n",
       "       [ 8,  9, 10, 11],\n",
       "       [16, 17, 18, 19]])"
      ]
     },
     "execution_count": 56,
     "metadata": {},
     "output_type": "execute_result"
    }
   ],
   "source": [
    "a = np.arange(20).reshape(5,4)\n",
    "print(a)\n",
    "b = np.array([2,5,6,9,20])\n",
    "print(b % 2 == 0)\n",
    "# get rows of a where b is divisible by 2\n",
    "a[b % 2 == 0]"
   ]
  },
  {
   "cell_type": "code",
   "execution_count": 57,
   "id": "17c72002-3e8e-454f-a77f-ca7e771e33ba",
   "metadata": {},
   "outputs": [
    {
     "name": "stdout",
     "output_type": "stream",
     "text": [
      "[False False False False  True]\n"
     ]
    },
    {
     "data": {
      "text/plain": [
       "array([[16, 17, 18, 19]])"
      ]
     },
     "execution_count": 57,
     "metadata": {},
     "output_type": "execute_result"
    }
   ],
   "source": [
    "# get rows of a where b is divisible by 2 and b is greater 6\n",
    "print((b % 2 == 0) & (b > 6))\n",
    "a[(b % 2 == 0) & (b > 6)]"
   ]
  },
  {
   "cell_type": "markdown",
   "id": "336bbcce-f4cf-42c6-a3cd-3d09277bcdad",
   "metadata": {},
   "source": [
    "## `scipy` \n",
    "- `scipy` is a Python module that has many useful functions and classes for science\n",
    "- We will use the `stats` module in `scipy` in the final homework"
   ]
  },
  {
   "cell_type": "code",
   "execution_count": 58,
   "id": "17a32052-8ec6-47d1-8ed8-76bb1cc0ea5e",
   "metadata": {},
   "outputs": [
    {
     "data": {
      "image/png": "[encoded data removed]",
      "text/plain": [
       "<Figure size 432x288 with 2 Axes>"
      ]
     },
     "metadata": {
      "needs_background": "light"
     },
     "output_type": "display_data"
    }
   ],
   "source": [
    "from matplotlib import pyplot as plt\n",
    "\n",
    "control = np.random.normal(29,3.5,size=10000)\n",
    "case = np.random.normal(30,5.5,size=10000)\n",
    "\n",
    "splots = plt.subplot(1,2,1)\n",
    "plt.hist(control,bins=25)\n",
    "plt.title('control, mean = 29, sd = 3.5')\n",
    "\n",
    "plt.subplot(1,2,2)\n",
    "plt.hist(case,bins=25)\n",
    "plt.title('case, mean = 30, sd = 5.5')\n",
    "plt.show()"
   ]
  },
  {
   "cell_type": "code",
   "execution_count": 59,
   "id": "70275ef0-b58c-4bf8-9555-46d9b890399b",
   "metadata": {},
   "outputs": [
    {
     "name": "stdout",
     "output_type": "stream",
     "text": [
      "Ttest_indResult(statistic=13.769165520358023, pvalue=6.134967074528365e-43)\n",
      "6.134967074528365e-43\n"
     ]
    }
   ],
   "source": [
    "from scipy.stats import ttest_ind\n",
    "ttest_obj = ttest_ind(case,control)\n",
    "print(ttest_obj)\n",
    "print(ttest_obj.pvalue)"
   ]
  },
  {
   "cell_type": "markdown",
   "id": "4cdd2c6e-c633-4c1f-a169-d0993d126c35",
   "metadata": {},
   "source": [
    "### **Important: `ttest_ind` can work on two 2D arrays of the same dimensions**\n",
    "- In this case it will give a pvalue and t-statistic for each column"
   ]
  },
  {
   "cell_type": "code",
   "execution_count": 62,
   "id": "d9564cd5-783b-4c95-874c-f6537fb1f3aa",
   "metadata": {},
   "outputs": [
    {
     "name": "stdout",
     "output_type": "stream",
     "text": [
      "Ttest_indResult(statistic=array([ 0.01281363, -0.26978191, -0.48614553, -1.95949661, -0.91800748,\n",
      "       -0.83137762, -1.17938716,  0.78389986,  0.11356095,  0.08758357,\n",
      "       -0.86033415, -0.49159115, -2.37964657,  0.03150533, -1.51540163,\n",
      "       -0.98436685, -1.07348042, -0.05799398, -1.66473603, -1.18271617]), pvalue=array([0.98991744, 0.7903966 , 0.63272968, 0.06572703, 0.37075272,\n",
      "       0.41665321, 0.25359817, 0.4432927 , 0.91084287, 0.93117468,\n",
      "       0.40091932, 0.62894927, 0.02859527, 0.97521326, 0.14703467,\n",
      "       0.33798265, 0.29723664, 0.95439239, 0.1132753 , 0.25230907]))\n"
     ]
    },
    {
     "data": {
      "text/plain": [
       "20"
      ]
     },
     "execution_count": 62,
     "metadata": {},
     "output_type": "execute_result"
    }
   ],
   "source": [
    "control = np.random.normal(29,3.5,size=(10,20))\n",
    "case = np.random.normal(30,5.5,size=(10,20))\n",
    "result = ttest_ind(control,case)\n",
    "print(result)\n",
    "len(result.pvalue)"
   ]
  },
  {
   "cell_type": "markdown",
   "id": "59823323-2cc0-4c1c-ae74-c59f1269394a",
   "metadata": {},
   "source": [
    "## Plotting with `matplotlib`\n",
    "- `matplotlib` is a module for plotting data\n",
    "- Other plotting libraries like `seaborn` are built on top of `matplotlib`\n",
    "- `matplotlib` has 2 different interfaces\n",
    "    - The `pyplot` module is modeled after MATLAB plotting\n",
    "    - The other plotting interface is based on objects and is more Python-style\n",
    "- If you are in the ipython console you can display the plot with the `pyplot.show()` function\n",
    "- `matplotlib` plotting functions can take `numpy` `ndarray` objects or other iterables as inputs"
   ]
  },
  {
   "cell_type": "markdown",
   "id": "1007ca0f-d021-4e18-8582-48c79c7fdeaf",
   "metadata": {},
   "source": [
    "### `pyplot` examples\n",
    "- `pyplot` is basically the same as MATLAB\n",
    "- Check out the [`pyplot` documentation](https://matplotlib.org/stable/tutorials/introductory/pyplot.html) for more information"
   ]
  },
  {
   "cell_type": "code",
   "execution_count": 63,
   "id": "99308b5b-9485-41cd-9016-c4c2e317cb60",
   "metadata": {},
   "outputs": [],
   "source": [
    "import matplotlib.pyplot as plt"
   ]
  },
  {
   "cell_type": "code",
   "execution_count": 64,
   "id": "84a72f6a-a100-4cdf-9e0a-5a8bd428e792",
   "metadata": {},
   "outputs": [
    {
     "data": {
      "image/png": "[encoded data removed]",
      "text/plain": [
       "<Figure size 432x288 with 1 Axes>"
      ]
     },
     "metadata": {
      "needs_background": "light"
     },
     "output_type": "display_data"
    }
   ],
   "source": [
    "# regular line plot\n",
    "x = np.arange(10)\n",
    "y = np.random.normal(6,10.5,10)\n",
    "p = plt.plot(x,y)"
   ]
  },
  {
   "cell_type": "code",
   "execution_count": 65,
   "id": "2bc7563c-6f38-40ad-8b59-113ddf328a1e",
   "metadata": {},
   "outputs": [
    {
     "data": {
      "image/png": "[encoded data removed]",
      "text/plain": [
       "<Figure size 432x288 with 1 Axes>"
      ]
     },
     "metadata": {
      "needs_background": "light"
     },
     "output_type": "display_data"
    }
   ],
   "source": [
    "# scatter plot\n",
    "p_scatter = plt.scatter(x,y)"
   ]
  },
  {
   "cell_type": "code",
   "execution_count": 69,
   "id": "0ed68fa4-ca90-457d-804b-75382ba8c9e7",
   "metadata": {},
   "outputs": [
    {
     "data": {
      "image/png": "[encoded data removed]",
      "text/plain": [
       "<Figure size 432x288 with 1 Axes>"
      ]
     },
     "metadata": {
      "needs_background": "light"
     },
     "output_type": "display_data"
    }
   ],
   "source": [
    "# histogram\n",
    "h = np.random.normal(30,5.5,10000)\n",
    "h_plot = plt.hist(h,bins=50)"
   ]
  },
  {
   "cell_type": "code",
   "execution_count": 70,
   "id": "317efc5b-91f8-4e02-80a6-c967e7ebe145",
   "metadata": {},
   "outputs": [
    {
     "data": {
      "text/plain": [
       "(0.0, 15.0)"
      ]
     },
     "execution_count": 70,
     "metadata": {},
     "output_type": "execute_result"
    },
    {
     "data": {
      "image/png": "[encoded data removed]",
      "text/plain": [
       "<Figure size 432x288 with 1 Axes>"
      ]
     },
     "metadata": {
      "needs_background": "light"
     },
     "output_type": "display_data"
    }
   ],
   "source": [
    "# bar plot\n",
    "values = np.random.randint(1,10,10)\n",
    "plt.bar(x = np.arange(10), height = values)\n",
    "# add a title\n",
    "plt.title('My Bar Graph')\n",
    "# add an xlabel\n",
    "plt.xlabel('My X values')\n",
    "# change the y axis limits\n",
    "plt.ylim(0,15)"
   ]
  },
  {
   "cell_type": "markdown",
   "id": "24d78278-f9f5-4377-9a9d-ab82602e228a",
   "metadata": {},
   "source": [
    "### Saving Plots\n",
    "- In your code you can save plots as files using the `pyplot.savefig()` function\n",
    "- It will take a filename with an image filetype extension as input\n",
    "- Sometimes labels will get cutoff so you can use the `pad_inches` argument to add whitespace around your figure to keep it from getting cut off\n",
    "- `dpi` argument is dots per inches and controls the resolution of your saved plot image\n",
    "```python\n",
    "plt.savefig('my_bar_graph.png',dpi=300,pad_inches=.5)\n",
    "```"
   ]
  },
  {
   "cell_type": "markdown",
   "id": "550095b6-4d5a-4acb-ab77-d06fbd7d2248",
   "metadata": {},
   "source": [
    "### Object oriented `matplotlib` interface\n",
    "- `matplotlib.figure.Figure` objects have associated methods and attributes\n",
    "- `figure` objects can contain `axes` objects\n",
    "- `axes` objects have different kinds of plots as methods"
   ]
  },
  {
   "cell_type": "code",
   "execution_count": 71,
   "id": "cf8722aa-6a25-40e5-90b2-146b8afcdc3f",
   "metadata": {},
   "outputs": [
    {
     "data": {
      "image/png": "[encoded data removed]",
      "text/plain": [
       "<Figure size 432x288 with 1 Axes>"
      ]
     },
     "execution_count": 71,
     "metadata": {},
     "output_type": "execute_result"
    }
   ],
   "source": [
    "import matplotlib as mpl\n",
    "fig = mpl.figure.Figure()\n",
    "ax = fig.add_axes(rect = (.1,.1,.8,.8))\n",
    "# specifying relative coordinates (0-1) in the figure of the axes\n",
    "# rect = (left,bottom,width,height)\n",
    "ax.scatter(x,y)\n",
    "# you can use axis.set_... methods to add titles, or labels, etc\n",
    "ax.set_title('My Scatter Plot')\n",
    "ax.set_xlabel('X values')\n",
    "ax.set_ylabel('Y values')\n",
    "# display the figure in jupyter\n",
    "fig"
   ]
  },
  {
   "cell_type": "markdown",
   "id": "6fa467be-8128-4048-a50d-1bc0b3d23d76",
   "metadata": {},
   "source": [
    "### Figure objects\n",
    "- In ipython you can display `Figure` objects with the `Figure.show()` method\n",
    "- You can save Figure objects with the `Figure.savefig()` method that works just like `pyplot.savefig()`\n",
    "- I recommend you use `pyplot` from your homework but you should look at the `matplotlib` [documentation](https://matplotlib.org/stable/index.html) and try to learn to use the object oriented `matplotlib` interface\n",
    "    - It is more consistent with Python's conventions"
   ]
  }
 ],
 "metadata": {
  "kernelspec": {
   "display_name": "Python 3 (ipykernel)",
   "language": "python",
   "name": "python3"
  },
  "language_info": {
   "codemirror_mode": {
    "name": "ipython",
    "version": 3
   },
   "file_extension": ".py",
   "mimetype": "text/x-python",
   "name": "python",
   "nbconvert_exporter": "python",
   "pygments_lexer": "ipython3",
   "version": "3.9.12"
  }
 },
 "nbformat": 4,
 "nbformat_minor": 5
}
