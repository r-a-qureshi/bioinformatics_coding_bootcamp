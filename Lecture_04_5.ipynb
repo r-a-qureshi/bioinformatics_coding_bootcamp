{
 "cells": [
  {
   "cell_type": "markdown",
   "id": "af154804-d480-4f95-9001-faa6005943f9",
   "metadata": {},
   "source": [
    "# Day 4: Strings and Regular Expressions"
   ]
  },
  {
   "cell_type": "markdown",
   "id": "17349859-1876-48a1-bd4a-4fe4b8a68445",
   "metadata": {},
   "source": [
    "## `str` Review\n",
    "- We have been working with strings up to this point in the class\n",
    "- `str` objects are collections of characters\n",
    "- enclosed in single or double quotes"
   ]
  },
  {
   "cell_type": "markdown",
   "id": "11b8bf09-763b-45b2-b57e-c3cbc20241ea",
   "metadata": {},
   "source": [
    "### Indexing\n",
    "- `str` objects are indexed similarly to lists"
   ]
  },
  {
   "cell_type": "code",
   "execution_count": 1,
   "id": "5ab1bf2c-048a-4e17-a66c-477e92fbc284",
   "metadata": {},
   "outputs": [
    {
     "name": "stdout",
     "output_type": "stream",
     "text": [
      "The\n",
      "h uc rw o updoe h aydg\n",
      ".god yzal eht revo depmuj xof nworb kciuq ehT\n"
     ]
    }
   ],
   "source": [
    "# str indexing\n",
    "s = \"The quick brown fox jumped over the lazy dog.\"\n",
    "\n",
    "# get the first 3 characters\n",
    "print(s[:3])\n",
    "\n",
    "# get every other letter starting witht the second letter\n",
    "print(s[1::2])\n",
    "\n",
    "# reverse the string\n",
    "print(s[::-1])"
   ]
  },
  {
   "cell_type": "markdown",
   "id": "2058284a-a5b5-45e2-b533-ef4d402987f6",
   "metadata": {},
   "source": [
    "### Conversion to `str`\n",
    "- We can convert other types of objects to strings with `str`"
   ]
  },
  {
   "cell_type": "code",
   "execution_count": 2,
   "id": "ea0c325a-18bf-4062-9a0d-8dffa258c3e7",
   "metadata": {},
   "outputs": [
    {
     "name": "stdout",
     "output_type": "stream",
     "text": [
      "1001\n"
     ]
    }
   ],
   "source": [
    "print(str(1001))"
   ]
  },
  {
   "cell_type": "markdown",
   "id": "34dbb5c8-0caf-4ef3-904b-f5642f981aeb",
   "metadata": {},
   "source": [
    "## `str` methods\n",
    "- All string methods do not work on the original string. The output of these functions is a new string"
   ]
  },
  {
   "cell_type": "code",
   "execution_count": 3,
   "id": "3990a856-a255-4109-95df-2c0159b30d52",
   "metadata": {},
   "outputs": [
    {
     "name": "stdout",
     "output_type": "stream",
     "text": [
      "applying upper():\n",
      "LOL\n",
      "the value of x after the upper function has been called:\n",
      "lol\n",
      "after y=x, x =\n",
      "lol\n",
      "y =\n",
      "LOL\n",
      "y == x\n",
      "False\n",
      "Are y and x the same object?\n",
      "False\n"
     ]
    }
   ],
   "source": [
    "x = 'lol'\n",
    "print(\"applying upper():\")\n",
    "print(x.upper())\n",
    "\n",
    "print('the value of x after the upper function has been called:')\n",
    "print(x)\n",
    "\n",
    "y = x.upper()\n",
    "print(\"after y=x, x =\")\n",
    "print(x)\n",
    "\n",
    "print('y =')\n",
    "print(y)\n",
    "\n",
    "print('y == x')\n",
    "print(y == x)\n",
    "\n",
    "print(\"Are y and x the same object?\")\n",
    "print(y is x)\n"
   ]
  },
  {
   "cell_type": "markdown",
   "id": "23b520b8-1859-4bfa-931b-4ba7004fecc8",
   "metadata": {},
   "source": [
    "### Case\n",
    "- We have already seen `.upper()`, `.lower()` and `.capitalize()`\n",
    "- `.casefold()` also converts to lowercase but can handle more characters than `.lower()`\n",
    "- We can check the case of the string with:\n",
    "    - `.isupper()` and `.islower()`\n",
    "- `.swapcase` will reverse a string so uppercase letters are lowercase and vice versa"
   ]
  },
  {
   "cell_type": "code",
   "execution_count": 4,
   "id": "9015a696-4965-432b-82f7-8579e8ceefa5",
   "metadata": {},
   "outputs": [
    {
     "name": "stdout",
     "output_type": "stream",
     "text": [
      "False\n",
      "False\n",
      "True\n"
     ]
    }
   ],
   "source": [
    "x = 'lol'\n",
    "y = x.upper()\n",
    "\n",
    "print(x.isupper())\n",
    "print(y.islower())\n",
    "print(y.isupper())"
   ]
  },
  {
   "cell_type": "code",
   "execution_count": 5,
   "id": "6438f1c2-d578-42db-88ba-dcb1251258f6",
   "metadata": {},
   "outputs": [
    {
     "data": {
      "text/plain": [
       "'CoDiNg Is EaSy'"
      ]
     },
     "execution_count": 5,
     "metadata": {},
     "output_type": "execute_result"
    }
   ],
   "source": [
    "\"cOdInG iS eAsY\".swapcase()"
   ]
  },
  {
   "cell_type": "markdown",
   "id": "4e3d4212-2a85-4cd3-9038-01a514d87e41",
   "metadata": {},
   "source": [
    "### Splitting Strings into lists\n",
    "- We can split a string into a list of substrings with `.split`\n",
    "- `.split` takes a string as input and will break the string wherever it finds the input string\n",
    "    - The input string is called a delimiter\n",
    "    - `split` takes a second optional argument specifying how many times to split the string starting from the left"
   ]
  },
  {
   "cell_type": "code",
   "execution_count": 6,
   "id": "bc531c25-1229-4423-83da-286588701789",
   "metadata": {},
   "outputs": [
    {
     "data": {
      "text/plain": [
       "['aardvark', 'bear', 'cat', 'dog', 'elephant']"
      ]
     },
     "execution_count": 6,
     "metadata": {},
     "output_type": "execute_result"
    }
   ],
   "source": [
    "animals = 'aardvark,bear,cat,dog,elephant'\n",
    "animals.split(',')\n",
    "# we have split animals on the comma\n",
    "# notice in the output there are no commas in the strings\n",
    "# the commas we see are separating the list elements"
   ]
  },
  {
   "cell_type": "code",
   "execution_count": 7,
   "id": "702513ac-acd6-49e9-bddf-e22659aa8462",
   "metadata": {},
   "outputs": [
    {
     "data": {
      "text/plain": [
       "['The', 'quick', 'brown', 'fox', 'jumped', 'over', 'the', 'lazy', 'dog.']"
      ]
     },
     "execution_count": 7,
     "metadata": {},
     "output_type": "execute_result"
    }
   ],
   "source": [
    "s = \"The quick brown fox jumped over the lazy dog.\"\n",
    "# get every word in s into a list by splitting wherever there is a space\n",
    "s.split(\" \")\n",
    "# notice how there are no spaces in the output"
   ]
  },
  {
   "cell_type": "code",
   "execution_count": 8,
   "id": "e89392b6-9983-48d7-b6ff-664dd8657164",
   "metadata": {},
   "outputs": [
    {
     "data": {
      "text/plain": [
       "['The quick brown ', ' jumped over the lazy dog']"
      ]
     },
     "execution_count": 8,
     "metadata": {},
     "output_type": "execute_result"
    }
   ],
   "source": [
    "# we can use any string as a delimiter\n",
    "# split teh string on \"fox\"\n",
    "\"The quick brown fox jumped over the lazy dog\".split(\"fox\")"
   ]
  },
  {
   "cell_type": "code",
   "execution_count": 9,
   "id": "a216e571-8b74-4470-967e-7838acbdd00c",
   "metadata": {},
   "outputs": [
    {
     "data": {
      "text/plain": [
       "['The', 'quick', 'brown', 'fox jumped over the lazy dog.']"
      ]
     },
     "execution_count": 9,
     "metadata": {},
     "output_type": "execute_result"
    }
   ],
   "source": [
    "# We can specify how many times from the left we want to split the string\n",
    "# we use the second input to .split\n",
    "\n",
    "# only split 3 times\n",
    "\"The quick brown fox jumped over the lazy dog.\".split(' ',3)\n",
    "# notice that the string only splits 3 times"
   ]
  },
  {
   "cell_type": "code",
   "execution_count": 10,
   "id": "60211e62-9b32-4d6d-9a77-a16619baa227",
   "metadata": {},
   "outputs": [
    {
     "data": {
      "text/plain": [
       "['The', 'quick', 'brown', 'fox', 'jumped', 'over', 'the', 'lazy', 'dog.']"
      ]
     },
     "execution_count": 10,
     "metadata": {},
     "output_type": "execute_result"
    }
   ],
   "source": [
    "# The default number of splits is -1 which is all possible splits\n",
    "\"The quick brown fox jumped over the lazy dog.\".split(' ',-1)"
   ]
  },
  {
   "cell_type": "code",
   "execution_count": 11,
   "id": "2f95c9e4-37ec-4698-94d9-ecf5ed7f6a8a",
   "metadata": {},
   "outputs": [
    {
     "data": {
      "text/plain": [
       "['The quick brown fox jumped over', 'the', 'lazy', 'dog.']"
      ]
     },
     "execution_count": 11,
     "metadata": {},
     "output_type": "execute_result"
    }
   ],
   "source": [
    "# to split from the right side use .rsplit\n",
    "# if you do not specify how many splits or use -1 rsplit is equivalent to split\n",
    "\"The quick brown fox jumped over the lazy dog.\".rsplit(' ',3)"
   ]
  },
  {
   "cell_type": "markdown",
   "id": "eacaa505-1d21-47f4-943e-a926f6ef19d2",
   "metadata": {},
   "source": [
    "- `.partition` and `.rpartition` split a string into 3 parts\n",
    "- They take as input a substring and return a `tuple` with 3 elements\n",
    "    1. The string before the substring\n",
    "    2. The substring\n",
    "    3. The string to the right of the substring\n",
    "- `.partition` starts from the left side and `rpartition` starts from the right side"
   ]
  },
  {
   "cell_type": "code",
   "execution_count": 12,
   "id": "9cf1d782-f195-45fa-b013-a194017576a1",
   "metadata": {},
   "outputs": [
    {
     "data": {
      "text/plain": [
       "('The quick brown ', 'fox', ' jumped over the lazy dog.')"
      ]
     },
     "execution_count": 12,
     "metadata": {},
     "output_type": "execute_result"
    }
   ],
   "source": [
    "# .partition and .rpartition break a string into three parts using a substring\n",
    "\"The quick brown fox jumped over the lazy dog.\".partition(\"fox\")"
   ]
  },
  {
   "cell_type": "code",
   "execution_count": 13,
   "id": "4ae73085-8b79-45f8-bdf6-1ea400079f60",
   "metadata": {},
   "outputs": [
    {
     "data": {
      "text/plain": [
       "('', 'a', 'ardvark,bear,cat,dog')"
      ]
     },
     "execution_count": 13,
     "metadata": {},
     "output_type": "execute_result"
    }
   ],
   "source": [
    "'aardvark,bear,cat,dog'.partition('a')\n",
    "# the first element is an emptry string because a is the first letter"
   ]
  },
  {
   "cell_type": "markdown",
   "id": "37f6a62e-6485-4cf4-a762-baf33b710033",
   "metadata": {},
   "source": [
    "### Joining lists of strings\n",
    "- The opposite of splitting a string into a list of strings is joining a list of strings into a single string\n",
    "- We can join strings with `.join`\n",
    "- The string that calls `.join` will be the delimiter of the combined list that is output"
   ]
  },
  {
   "cell_type": "code",
   "execution_count": 14,
   "id": "fe13948d-f6db-4eea-92dc-fc354f4275a4",
   "metadata": {},
   "outputs": [
    {
     "data": {
      "text/plain": [
       "'aardvark,bear,cat,dog,elephant'"
      ]
     },
     "execution_count": 14,
     "metadata": {},
     "output_type": "execute_result"
    }
   ],
   "source": [
    "animals = ['aardvark', 'bear', 'cat', 'dog', 'elephant']\n",
    "\n",
    "# make animals into a comma separated string\n",
    "','.join(animals)"
   ]
  },
  {
   "cell_type": "code",
   "execution_count": 15,
   "id": "bfaeecb4-a0c8-4f42-ae16-b497bfec386a",
   "metadata": {},
   "outputs": [
    {
     "data": {
      "text/plain": [
       "'aardvark, bear, cat, dog, elephant'"
      ]
     },
     "execution_count": 15,
     "metadata": {},
     "output_type": "execute_result"
    }
   ],
   "source": [
    "animals = ['aardvark', 'bear', 'cat', 'dog', 'elephant']\n",
    "\n",
    "# make animals into a comma separated string\n",
    "# I can add a space after the comma if I want there to be space between the words\n",
    "', '.join(animals)"
   ]
  },
  {
   "cell_type": "code",
   "execution_count": 16,
   "id": "0bd8f3ac-f835-4bc4-8687-a8738ed9d41b",
   "metadata": {},
   "outputs": [
    {
     "data": {
      "text/plain": [
       "'aardvarkbearcatdogelephant'"
      ]
     },
     "execution_count": 16,
     "metadata": {},
     "output_type": "execute_result"
    }
   ],
   "source": [
    "# what if I want to join a string but not have a delimiter inserted into the output string?\n",
    "\n",
    "animals = ['aardvark', 'bear', 'cat', 'dog', 'elephant']\n",
    "\n",
    "# I can use an empty string \"\" as the delimiter\n",
    "\"\".join(animals)"
   ]
  },
  {
   "cell_type": "markdown",
   "id": "bfbce8e0-2169-449e-9d53-7cea3ee3f79c",
   "metadata": {},
   "source": [
    "### Finding substrings in strings\n",
    "- `.index` and `.find` will search a string for a substring\n",
    "- `.index` will return the index where the first (from the left side) occurrence of the substring begins\n",
    "    - An error will occur when calling `.index` with a substring that is not in the string\n",
    "- `.find`\n",
    "    - It will return the index where the first occurrence of the substring begins\n",
    "    - If the substring is not found it will return -1\n",
    "    - `.find` has to optional arguments `start` and `stop` which will tell it to search only in the slice of the string indicated by `start` and `stop`.\n",
    "- difference between `.index` and `.find` is that `find` will have an error if the substring does not exist\n",
    "- `.rindex` and `.rfind` do the same thing except they index from the right side instead of the left"
   ]
  },
  {
   "cell_type": "code",
   "execution_count": 17,
   "id": "2fb11a83-b218-4e95-a99e-75600b188043",
   "metadata": {},
   "outputs": [
    {
     "name": "stdout",
     "output_type": "stream",
     "text": [
      "10\n",
      "-1\n"
     ]
    }
   ],
   "source": [
    "# find a substring\n",
    "sentence = \"The quick brown fox jumped over the lazy dog.\"\n",
    "print(sentence.find('brown'))\n",
    "print(sentence.find('negate'))"
   ]
  },
  {
   "cell_type": "code",
   "execution_count": 18,
   "id": "242f4a68-7969-4e02-bb91-98001766631b",
   "metadata": {},
   "outputs": [
    {
     "name": "stdout",
     "output_type": "stream",
     "text": [
      "7\n",
      "20\n"
     ]
    }
   ],
   "source": [
    "my_string = \"potato,apple,banana,apple,guava\"\n",
    "print(my_string.find(\"apple\"))\n",
    "print(my_string.rfind(\"apple\"))"
   ]
  },
  {
   "cell_type": "code",
   "execution_count": 19,
   "id": "9243f7c3-ede1-4c20-a61c-2fb2114f06bc",
   "metadata": {},
   "outputs": [
    {
     "name": "stdout",
     "output_type": "stream",
     "text": [
      "e quick brow\n"
     ]
    },
    {
     "data": {
      "text/plain": [
       "-1"
      ]
     },
     "execution_count": 19,
     "metadata": {},
     "output_type": "execute_result"
    }
   ],
   "source": [
    "# search a slice of the string\n",
    "sentence = \"The quick brown fox jumped over the lazy dog.\"\n",
    "print(sentence[2:14])\n",
    "sentence.find(\"brown\",2,14)\n",
    "# brown is not found because it is not contained completely in the slice"
   ]
  },
  {
   "cell_type": "markdown",
   "id": "74715625-3c88-4f6d-88b0-ce734b1e3094",
   "metadata": {},
   "source": [
    "#### `.startswith` and `.endswith`\n",
    "- These are pretty intuitive\n",
    "- `.startswith` takes an input and returns `True` if the sequence starts with the input\n",
    "- `.endswith` returns `True` if the end of the sequence matches the input"
   ]
  },
  {
   "cell_type": "code",
   "execution_count": 20,
   "id": "6b88b7c9-ce43-4b1a-a916-68611081229c",
   "metadata": {},
   "outputs": [
    {
     "name": "stdout",
     "output_type": "stream",
     "text": [
      "True\n",
      "True\n"
     ]
    }
   ],
   "source": [
    "dna_sequence = 'ATGATCCCCGGGGATTGA'\n",
    "start_codon = 'ATG'\n",
    "stop_codon = 'TGA'\n",
    "\n",
    "print(dna_sequence.startswith(start_codon))\n",
    "print(dna_sequence.endswith(stop_codon))"
   ]
  },
  {
   "cell_type": "code",
   "execution_count": 21,
   "id": "5a825dc0-2314-40ff-89a0-0f48bb4a45ad",
   "metadata": {},
   "outputs": [
    {
     "data": {
      "text/plain": [
       "True"
      ]
     },
     "execution_count": 21,
     "metadata": {},
     "output_type": "execute_result"
    }
   ],
   "source": [
    "# .startswith is equivalent to\n",
    "def my_startswith(s,starting_str):\n",
    "    return(s[:len(starting_str)] == starting_str)\n",
    "\n",
    "my_startswith('ATGATCCCCGGGGATTGA','ATG')"
   ]
  },
  {
   "cell_type": "markdown",
   "id": "665e42f7-5127-41bd-8e99-605a619fa355",
   "metadata": {},
   "source": [
    "### `.replace`\n",
    "- You can use `.replace` to replace part of a string with another string\n",
    "- replace takes the substring to remove and the substring to replace it with as arguments\n",
    "- It also takes an optional third argument of how many substitutions to make"
   ]
  },
  {
   "cell_type": "code",
   "execution_count": 22,
   "id": "17f8df49-bbcb-4255-ac69-74659c410316",
   "metadata": {},
   "outputs": [
    {
     "data": {
      "text/plain": [
       "'burgers pizza ice cream sandwiches potato chips pizza broccoli tomatoes pizza watermelons'"
      ]
     },
     "execution_count": 22,
     "metadata": {},
     "output_type": "execute_result"
    }
   ],
   "source": [
    "s = 'burgers kale ice cream sandwiches potato chips kale broccoli tomatoes kale watermelons'\n",
    "s.replace('kale','pizza')"
   ]
  },
  {
   "cell_type": "code",
   "execution_count": 23,
   "id": "436197a5-19d1-4933-b4bb-b843edae93c4",
   "metadata": {},
   "outputs": [
    {
     "data": {
      "text/plain": [
       "'burgers pizza ice cream sandwiches potato chips pizza broccoli tomatoes kale watermelons'"
      ]
     },
     "execution_count": 23,
     "metadata": {},
     "output_type": "execute_result"
    }
   ],
   "source": [
    "s = 'burgers kale ice cream sandwiches potato chips kale broccoli tomatoes kale watermelons'\n",
    "# only replace the first two occurrences of kale with pizza\n",
    "s.replace('kale','pizza',2)"
   ]
  },
  {
   "cell_type": "markdown",
   "id": "34465648-9a3a-4c55-a2c0-341188907bd5",
   "metadata": {},
   "source": [
    "### String Conditionals\n",
    "- There are a series of string functions that return a bool based on whether the string meets certain criteria"
   ]
  },
  {
   "cell_type": "markdown",
   "id": "90a50101-7a39-40a6-91a0-7999a958df95",
   "metadata": {},
   "source": [
    "#### Numbers in strings\n",
    "- `.isdigit`, `.isdecimal`, `is.numeric`\n",
    "- `.isdigit` and `.isnumeric` are very similar\n",
    "    - They differ only in how they handle special characters\n",
    "    - Check if a string contains only numeric digits\n",
    "- `.isdecimal` checks if the entire string is a valid base 10 integer"
   ]
  },
  {
   "cell_type": "code",
   "execution_count": 24,
   "id": "7619fdbc-b3c8-4528-9b91-7c00b479ba89",
   "metadata": {},
   "outputs": [
    {
     "name": "stdout",
     "output_type": "stream",
     "text": [
      "True\n"
     ]
    }
   ],
   "source": [
    "print('1034'.isdigit())"
   ]
  },
  {
   "cell_type": "code",
   "execution_count": 25,
   "id": "51becfed-c743-4aef-9e47-6d4073d77de2",
   "metadata": {},
   "outputs": [
    {
     "name": "stdout",
     "output_type": "stream",
     "text": [
      "False\n"
     ]
    }
   ],
   "source": [
    "print('-1034'.isdigit())"
   ]
  },
  {
   "cell_type": "code",
   "execution_count": 26,
   "id": "4a78d65b-946f-4d45-975e-baf01c882ebb",
   "metadata": {},
   "outputs": [
    {
     "name": "stdout",
     "output_type": "stream",
     "text": [
      "False\n"
     ]
    }
   ],
   "source": [
    "# False because \".\" is not a digit\n",
    "print('3.14'.isdigit())"
   ]
  },
  {
   "cell_type": "code",
   "execution_count": 27,
   "id": "5af14192-0c49-4ebf-993b-d5bae46ce70b",
   "metadata": {},
   "outputs": [
    {
     "name": "stdout",
     "output_type": "stream",
     "text": [
      "False\n"
     ]
    }
   ],
   "source": [
    "print('a1034'.isdigit())"
   ]
  },
  {
   "cell_type": "code",
   "execution_count": 28,
   "id": "06661c0e-6f8d-427b-a1aa-28754bd905c9",
   "metadata": {},
   "outputs": [
    {
     "name": "stdout",
     "output_type": "stream",
     "text": [
      "True\n"
     ]
    }
   ],
   "source": [
    "print('1034'.isnumeric())"
   ]
  },
  {
   "cell_type": "code",
   "execution_count": 29,
   "id": "cd317067-7e66-4805-8cca-e428436f2daf",
   "metadata": {},
   "outputs": [
    {
     "name": "stdout",
     "output_type": "stream",
     "text": [
      "False\n"
     ]
    }
   ],
   "source": [
    "print('-1034'.isnumeric())"
   ]
  },
  {
   "cell_type": "code",
   "execution_count": 30,
   "id": "ba7cd296-f018-4d1d-a1c7-a3611693c811",
   "metadata": {},
   "outputs": [
    {
     "name": "stdout",
     "output_type": "stream",
     "text": [
      "False\n"
     ]
    }
   ],
   "source": [
    "# False because \".\" is not a digit\n",
    "print('3.14'.isnumeric())"
   ]
  },
  {
   "cell_type": "code",
   "execution_count": 31,
   "id": "1565b487-e1bc-4435-9de7-8f2f31d782d5",
   "metadata": {},
   "outputs": [
    {
     "name": "stdout",
     "output_type": "stream",
     "text": [
      "False\n"
     ]
    }
   ],
   "source": [
    "print('s1034'.isnumeric())"
   ]
  },
  {
   "cell_type": "code",
   "execution_count": 32,
   "id": "d511e779-4542-4883-aa61-c1ef27c6591d",
   "metadata": {},
   "outputs": [
    {
     "name": "stdout",
     "output_type": "stream",
     "text": [
      "True\n"
     ]
    }
   ],
   "source": [
    "print('1034'.isdecimal())"
   ]
  },
  {
   "cell_type": "code",
   "execution_count": 33,
   "id": "011429fb-3098-4c1b-b1d7-9b810c7b0cc2",
   "metadata": {},
   "outputs": [
    {
     "name": "stdout",
     "output_type": "stream",
     "text": [
      "False\n"
     ]
    }
   ],
   "source": [
    "print('3.14'.isdecimal())"
   ]
  },
  {
   "cell_type": "code",
   "execution_count": 34,
   "id": "de651463-1553-4ede-b40a-34604c43ad9d",
   "metadata": {},
   "outputs": [
    {
     "name": "stdout",
     "output_type": "stream",
     "text": [
      "False\n"
     ]
    }
   ],
   "source": [
    "print('0xff'.isdecimal())"
   ]
  },
  {
   "cell_type": "markdown",
   "id": "055000fa-0b2f-4f7e-b3b6-35dc171bbfe5",
   "metadata": {},
   "source": [
    "### Sorting numbers and numeric strings\n",
    "- Sorting a list of numbers will order the list from least to greatest number\n",
    "- However sorting a list of strings of numbers will sort them digit by digit\n",
    "- You can sort using the `.sort`method of lists or the `sorted` function"
   ]
  },
  {
   "cell_type": "code",
   "execution_count": 35,
   "id": "cf884705-e1c3-4f87-8a5d-7ae1fa762d08",
   "metadata": {},
   "outputs": [
    {
     "data": {
      "text/plain": [
       "[1, 2, 3, 4, 13, 25, 39]"
      ]
     },
     "execution_count": 35,
     "metadata": {},
     "output_type": "execute_result"
    }
   ],
   "source": [
    "num_list = [13, 1, 4, 39, 2, 3, 25]\n",
    "sorted(num_list)"
   ]
  },
  {
   "cell_type": "code",
   "execution_count": 36,
   "id": "c27dd33b-b703-4fea-a476-fbe05d73c031",
   "metadata": {},
   "outputs": [
    {
     "name": "stdout",
     "output_type": "stream",
     "text": [
      "['13', '1', '4', '39', '2', '3', '25']\n"
     ]
    },
    {
     "data": {
      "text/plain": [
       "['1', '13', '2', '25', '3', '39', '4']"
      ]
     },
     "execution_count": 36,
     "metadata": {},
     "output_type": "execute_result"
    }
   ],
   "source": [
    "# num_list = ['13', '1', '4', '39', '2', '3','25']\n",
    "num_list = [str(n) for n in num_list]\n",
    "print(num_list)\n",
    "# it will sort the list digit by digit\n",
    "sorted(num_list)"
   ]
  },
  {
   "cell_type": "markdown",
   "id": "29233244-52ce-482a-b72e-00e1ab35f406",
   "metadata": {},
   "source": [
    "#### `.zfill` will pad numeric strings with zeroes to solve this problem\n",
    "- `.zfill` takes as input the number of digits the numeric string should have and adds zeroes to the left side of the string until the string has that many digits"
   ]
  },
  {
   "cell_type": "code",
   "execution_count": 37,
   "id": "24bdae11-ed0e-4276-a47a-f39742e36418",
   "metadata": {},
   "outputs": [
    {
     "data": {
      "text/plain": [
       "'0010'"
      ]
     },
     "execution_count": 37,
     "metadata": {},
     "output_type": "execute_result"
    }
   ],
   "source": [
    "'10'.zfill(4)"
   ]
  },
  {
   "cell_type": "code",
   "execution_count": 38,
   "id": "5f6021bd-9651-496d-988f-77057ecad1b8",
   "metadata": {},
   "outputs": [
    {
     "data": {
      "text/plain": [
       "'10'"
      ]
     },
     "execution_count": 38,
     "metadata": {},
     "output_type": "execute_result"
    }
   ],
   "source": [
    "'10'.zfill(2)"
   ]
  },
  {
   "cell_type": "code",
   "execution_count": 39,
   "id": "25a79429-7a7c-4b00-bc93-4f858ff7876a",
   "metadata": {},
   "outputs": [
    {
     "name": "stdout",
     "output_type": "stream",
     "text": [
      "['13', '01', '04', '39', '02', '03', '25']\n",
      "['01', '02', '03', '04', '13', '25', '39']\n"
     ]
    }
   ],
   "source": [
    "num_list = ['13', '1', '4', '39', '2', '3','25']\n",
    "\n",
    "new_num_list = [n.zfill(2) for n in num_list]\n",
    "print(new_num_list)\n",
    "print(sorted(new_num_list))"
   ]
  },
  {
   "cell_type": "code",
   "execution_count": 40,
   "id": "83d9bb1a-2765-4150-8785-3c174f35e2c0",
   "metadata": {},
   "outputs": [
    {
     "data": {
      "text/plain": [
       "'00a'"
      ]
     },
     "execution_count": 40,
     "metadata": {},
     "output_type": "execute_result"
    }
   ],
   "source": [
    "'a'.zfill(3)"
   ]
  },
  {
   "cell_type": "markdown",
   "id": "7e3e2af5-9077-4339-b9ec-d620d555fcac",
   "metadata": {},
   "source": [
    "### Testing Letters in strings\n",
    "- `.isalpha` checks if all characters in a string are letters\n",
    "- `.isalnum` checks if all characters in a string are letters or numbers\n",
    "- `.isspace` returns True if the entire string is whitespace characters"
   ]
  },
  {
   "cell_type": "code",
   "execution_count": 41,
   "id": "61034628-7b3d-48ff-b53f-3559cbfbc574",
   "metadata": {},
   "outputs": [
    {
     "data": {
      "text/plain": [
       "True"
      ]
     },
     "execution_count": 41,
     "metadata": {},
     "output_type": "execute_result"
    }
   ],
   "source": [
    "'AaBb'.isalpha()"
   ]
  },
  {
   "cell_type": "code",
   "execution_count": 42,
   "id": "3a574eb6-e24f-4cb6-be3a-82184e3f7a21",
   "metadata": {},
   "outputs": [
    {
     "data": {
      "text/plain": [
       "True"
      ]
     },
     "execution_count": 42,
     "metadata": {},
     "output_type": "execute_result"
    }
   ],
   "source": [
    "'0xff'.isalnum()"
   ]
  },
  {
   "cell_type": "code",
   "execution_count": 43,
   "id": "f2be2c86-1669-4c8e-aed6-51b12dd15cd8",
   "metadata": {},
   "outputs": [
    {
     "data": {
      "text/plain": [
       "False"
      ]
     },
     "execution_count": 43,
     "metadata": {},
     "output_type": "execute_result"
    }
   ],
   "source": [
    "'Aa-Bb:Cc'.isalpha()"
   ]
  },
  {
   "cell_type": "code",
   "execution_count": 44,
   "id": "e7f79f0b-c89f-485d-bc5a-65300a047238",
   "metadata": {},
   "outputs": [
    {
     "data": {
      "text/plain": [
       "False"
      ]
     },
     "execution_count": 44,
     "metadata": {},
     "output_type": "execute_result"
    }
   ],
   "source": [
    "'b3'.isalpha()"
   ]
  },
  {
   "cell_type": "code",
   "execution_count": 45,
   "id": "ae7cc12a-ee61-468a-9ef0-4639bed14f29",
   "metadata": {},
   "outputs": [
    {
     "data": {
      "text/plain": [
       "True"
      ]
     },
     "execution_count": 45,
     "metadata": {},
     "output_type": "execute_result"
    }
   ],
   "source": [
    "'    '.isspace()"
   ]
  },
  {
   "cell_type": "markdown",
   "id": "9310a3b6-230f-4ae8-ad1c-ae3388a1afaa",
   "metadata": {},
   "source": [
    "### Dealing with extra whitespace\n",
    "- `.strip`, `.lstrip`, and `.rstrip` all remove whitespace\n",
    "- `.strip` removes whitespace from the left and right side\n",
    "- `.lstrip` only removes whitespace on the left side of the string\n",
    "- `.rstrip` onlyr removes whitespace from the right side of the string\n",
    "- All of these functions only remove whitespace from the two ends of the string they do not remove whitespace that is surrounded by non-whitespace characters\n",
    "- These functions are invaluable when you have to clean up messy data"
   ]
  },
  {
   "cell_type": "code",
   "execution_count": 46,
   "id": "0b456b03-d45e-4e37-b994-9d90d3ba043f",
   "metadata": {},
   "outputs": [
    {
     "data": {
      "text/plain": [
       "'hello'"
      ]
     },
     "execution_count": 46,
     "metadata": {},
     "output_type": "execute_result"
    }
   ],
   "source": [
    "'   hello   '.strip()"
   ]
  },
  {
   "cell_type": "code",
   "execution_count": 47,
   "id": "5b6e357d-2636-4d92-9b8e-5ff6e0f293d6",
   "metadata": {},
   "outputs": [
    {
     "data": {
      "text/plain": [
       "'hello   '"
      ]
     },
     "execution_count": 47,
     "metadata": {},
     "output_type": "execute_result"
    }
   ],
   "source": [
    "'   hello   '.lstrip()"
   ]
  },
  {
   "cell_type": "code",
   "execution_count": 48,
   "id": "5561123b-0587-438a-ad3a-d8df2801e7e9",
   "metadata": {},
   "outputs": [
    {
     "data": {
      "text/plain": [
       "'   hello'"
      ]
     },
     "execution_count": 48,
     "metadata": {},
     "output_type": "execute_result"
    }
   ],
   "source": [
    "'   hello   '.rstrip()"
   ]
  },
  {
   "cell_type": "markdown",
   "id": "05f0b16e-c5e4-4542-944d-c07091947337",
   "metadata": {},
   "source": [
    "## Escape characters\n",
    "- Escape characters are characters that begin with \"\\\\\".\n",
    "- They do not print literally, instead they encode special behaviors\n",
    "- `\\n` is a new line character\n",
    "- `\\t` is tab\n",
    "- `\\\\` will print a single backslash\n",
    "- `\\'` and `\\\"` will print single and double quotes respectively\n",
    "    - Using escape characters with quotes will tell python to include these characters inside a string instead of terminating the string\n",
    "- There are more escape characters but these are the most commonly used escape characters."
   ]
  },
  {
   "cell_type": "code",
   "execution_count": 49,
   "id": "f90c159e-3d5e-494d-9f82-759e8a7e78f8",
   "metadata": {},
   "outputs": [
    {
     "name": "stdout",
     "output_type": "stream",
     "text": [
      "First Line\n",
      "Second Line\n"
     ]
    }
   ],
   "source": [
    "# new line\n",
    "print(\"First Line\\nSecond Line\")"
   ]
  },
  {
   "cell_type": "code",
   "execution_count": 50,
   "id": "f928960e-2685-40d1-8b41-aa97a9634d16",
   "metadata": {},
   "outputs": [
    {
     "name": "stdout",
     "output_type": "stream",
     "text": [
      "Column0\tColumn1\tColumn2\tColumn3\n"
     ]
    }
   ],
   "source": [
    "# tab\n",
    "print('Column0\\tColumn1\\tColumn2\\tColumn3')"
   ]
  },
  {
   "cell_type": "code",
   "execution_count": 51,
   "id": "68d65b9e-9038-491a-be54-a4e4d817f5b0",
   "metadata": {},
   "outputs": [
    {
     "name": "stdout",
     "output_type": "stream",
     "text": [
      "Column0             Column1             Column2             Column3\n"
     ]
    }
   ],
   "source": [
    "# expandtabs will print the tabs as a certain number of single spaces\n",
    "print('Column0\\tColumn1\\tColumn2\\tColumn3'.expandtabs(20))"
   ]
  },
  {
   "cell_type": "code",
   "execution_count": 52,
   "id": "c3be25f2-ede4-49cf-a209-90e20d664e96",
   "metadata": {},
   "outputs": [
    {
     "name": "stdout",
     "output_type": "stream",
     "text": [
      "What if I want to print \\ or ' or \" in my string?\n"
     ]
    }
   ],
   "source": [
    "print(\"What if I want to print \\\\ or \\' or \\\" in my string?\")"
   ]
  },
  {
   "cell_type": "markdown",
   "id": "9a789f7b-53f7-4e74-a86c-3da5eb942f16",
   "metadata": {},
   "source": [
    "### Splitting and joining with escape characters\n",
    "- Escape characters are useful for splitting and joining\n",
    "- A common text processing task is to split a multiline string into a list of individual lines\n",
    "- We also often need to combine a list into a single string with tabs or new lines"
   ]
  },
  {
   "cell_type": "code",
   "execution_count": 53,
   "id": "5a92935c-2cf6-48e2-953d-203ace101374",
   "metadata": {},
   "outputs": [
    {
     "name": "stdout",
     "output_type": "stream",
     "text": [
      "['Column0', 'Column1', 'Column2', 'Column3']\n"
     ]
    }
   ],
   "source": [
    "print('Column0\\tColumn1\\tColumn2\\tColumn3'.split('\\t'))"
   ]
  },
  {
   "cell_type": "code",
   "execution_count": 54,
   "id": "0fcd5e78-b312-4d82-8bc8-1efef13c9f02",
   "metadata": {},
   "outputs": [
    {
     "data": {
      "text/plain": [
       "['Call me Ishmael.',\n",
       " 'Some years ago—never mind how long precisely—having little or no money in my purse,',\n",
       " 'and nothing particular to interest me on shore,',\n",
       " 'I thought I would sail about a little and see the watery part of the world.']"
      ]
     },
     "execution_count": 54,
     "metadata": {},
     "output_type": "execute_result"
    }
   ],
   "source": [
    "some_text = \"\"\"Call me Ishmael.\n",
    "Some years ago—never mind how long precisely—having little or no money in my purse,\n",
    "and nothing particular to interest me on shore,\n",
    "I thought I would sail about a little and see the watery part of the world.\"\"\"\n",
    "some_text.split('\\n')"
   ]
  },
  {
   "cell_type": "markdown",
   "id": "30332b53-015e-4855-bf75-5245ad8a1930",
   "metadata": {},
   "source": [
    "#### We can use `.splitlines` to do the same thing"
   ]
  },
  {
   "cell_type": "code",
   "execution_count": 55,
   "id": "02a88fad-be54-423b-b553-e726af6df251",
   "metadata": {},
   "outputs": [
    {
     "data": {
      "text/plain": [
       "['Call me Ishmael.',\n",
       " 'Some years ago—never mind how long precisely—having little or no money in my purse,',\n",
       " 'and nothing particular to interest me on shore,',\n",
       " 'I thought I would sail about a little and see the watery part of the world.']"
      ]
     },
     "execution_count": 55,
     "metadata": {},
     "output_type": "execute_result"
    }
   ],
   "source": [
    "some_text = \"\"\"Call me Ishmael.\n",
    "Some years ago—never mind how long precisely—having little or no money in my purse,\n",
    "and nothing particular to interest me on shore,\n",
    "I thought I would sail about a little and see the watery part of the world.\"\"\"\n",
    "some_text.splitlines()"
   ]
  },
  {
   "cell_type": "markdown",
   "id": "963f6609-dcf4-4fd4-a0d9-9c38b427a8e8",
   "metadata": {},
   "source": [
    "### Raw Strings\n",
    "- What if I want to print an escape character?\n",
    "    - One way would be `\"this \\\\t that\"`\n",
    "- Instead we can use raw strings to cause python to ignore escape characters\n",
    "- raw strings begin with `r`\n",
    "    - `r\"some example \\n that doesn't make two lines\"`\n",
    "- raw strings are useful if you need to write out a windows path which contains backslashes"
   ]
  },
  {
   "cell_type": "code",
   "execution_count": 56,
   "id": "ab679b8f-6c0e-49af-bfb5-59b409a1fdce",
   "metadata": {},
   "outputs": [
    {
     "name": "stdout",
     "output_type": "stream",
     "text": [
      "first line\n",
      "second line\n"
     ]
    }
   ],
   "source": [
    "print(\"first line\\nsecond line\")"
   ]
  },
  {
   "cell_type": "code",
   "execution_count": 57,
   "id": "86d55f8b-7d9c-4d2b-bb4e-f0bf7b0fd094",
   "metadata": {},
   "outputs": [
    {
     "name": "stdout",
     "output_type": "stream",
     "text": [
      "first line\\nsecond line\n"
     ]
    }
   ],
   "source": [
    "print('first line\\\\nsecond line')"
   ]
  },
  {
   "cell_type": "code",
   "execution_count": 58,
   "id": "ebc89284-c4b6-46b8-8d98-6e0019abbf13",
   "metadata": {},
   "outputs": [
    {
     "name": "stdout",
     "output_type": "stream",
     "text": [
      "first line\\nsecond line\n"
     ]
    }
   ],
   "source": [
    "# now using a raw string\n",
    "print(r'first line\\nsecond line')"
   ]
  },
  {
   "cell_type": "code",
   "execution_count": 59,
   "id": "0aff94b7-e5df-4a34-8e22-e7abb2e9e779",
   "metadata": {},
   "outputs": [
    {
     "data": {
      "text/plain": [
       "True"
      ]
     },
     "execution_count": 59,
     "metadata": {},
     "output_type": "execute_result"
    }
   ],
   "source": [
    "# the raw string equals the corresponding normal string which contains a double backslash\n",
    "r'first line\\nsecond line' == 'first line\\\\nsecond line'"
   ]
  },
  {
   "cell_type": "code",
   "execution_count": 60,
   "id": "d145d42b-1256-4b21-a59b-206f57b9617f",
   "metadata": {},
   "outputs": [
    {
     "name": "stdout",
     "output_type": "stream",
     "text": [
      "c:\\users\\rehman\n"
     ]
    }
   ],
   "source": [
    "print(r'c:\\users\\rehman')"
   ]
  },
  {
   "cell_type": "markdown",
   "id": "2c4ec20a-a060-4756-85a5-41cd24dfe221",
   "metadata": {},
   "source": [
    "## String interpolation\n",
    "- String interpolation is the dynamic insertion of values into strings\n",
    "- Unfortunately, there are 3 ways to do string interpolation in python"
   ]
  },
  {
   "cell_type": "markdown",
   "id": "b8cf35b7-4e0b-4380-8ec1-7029b1f9cebc",
   "metadata": {},
   "source": [
    "### `%` method\n",
    "- This is the oldest string interpolation method\n",
    "- It is considered deprecated by the python community\n",
    "    - Meaning we should not use it in new code but it hasn't been removed from python to ensure backward compatibility with old code\n",
    "- I recommend you **do not** interpolate strings this way but we will go over it for the sake of completeness"
   ]
  },
  {
   "cell_type": "code",
   "execution_count": 61,
   "id": "5dbca5ee-b8fd-4b7a-9810-f67c6d6c6f1d",
   "metadata": {},
   "outputs": [
    {
     "name": "stdout",
     "output_type": "stream",
     "text": [
      "Hello my name is Rehman\n"
     ]
    }
   ],
   "source": [
    "name = \"Rehman\"\n",
    "print(\"Hello my name is %s\" % name)\n",
    "# %s means the value we are inserting into the string is a string"
   ]
  },
  {
   "cell_type": "code",
   "execution_count": 62,
   "id": "ae13e2bb-1dcd-43e2-93d4-41ba8905092f",
   "metadata": {},
   "outputs": [
    {
     "name": "stdout",
     "output_type": "stream",
     "text": [
      "3.141592653589793\n",
      "pi is equal to 3.14\n"
     ]
    }
   ],
   "source": [
    "from math import pi\n",
    "print(pi)\n",
    "print(\"pi is equal to %.2f\" % pi)"
   ]
  },
  {
   "cell_type": "markdown",
   "id": "5ae73a22-0d91-408f-a8c7-a7720be48373",
   "metadata": {},
   "source": [
    "##### format specifications\n",
    "- `%s` means a string should be inserted\n",
    "- `%f` - float\n",
    "- `%d` - base10 integer\n",
    "- `%e` - scientific notation\n",
    "- leading the format spec letter with a decimal point indicates how many places to print\n",
    "- There are more format specs"
   ]
  },
  {
   "cell_type": "code",
   "execution_count": 63,
   "id": "2a1619d7-a59e-4885-8240-62a969ee5828",
   "metadata": {},
   "outputs": [
    {
     "name": "stdout",
     "output_type": "stream",
     "text": [
      "pi/100 = 3.1E-02\n"
     ]
    }
   ],
   "source": [
    "pi = 3.14159\n",
    "print(\"pi/100 = %.1E\" % (pi/100))"
   ]
  },
  {
   "cell_type": "markdown",
   "id": "e86e31d5-6d00-40d8-bdd2-dac6e4e2d3a7",
   "metadata": {},
   "source": [
    "### `.format()` method\n",
    "- `.format` is newer than using the `%` operator\n",
    "- Instead of using a `%` as a placeholder in the string where we want to insert our value `.format` uses `{}`\n",
    "- I recommend you **do not** interpolate strings this way either."
   ]
  },
  {
   "cell_type": "code",
   "execution_count": 64,
   "id": "d5527b73-65fc-4b2e-92a2-c3609df0131d",
   "metadata": {},
   "outputs": [
    {
     "data": {
      "text/plain": [
       "'Hello, my name is Rehman and I am a scientist'"
      ]
     },
     "execution_count": 64,
     "metadata": {},
     "output_type": "execute_result"
    }
   ],
   "source": [
    "name = \"Rehman\"\n",
    "job = \"scientist\"\n",
    "\"Hello, my name is {} and I am a {}\".format(name,job)"
   ]
  },
  {
   "cell_type": "code",
   "execution_count": 65,
   "id": "9e038ed0-3c80-4f54-a1ea-5833c996df3c",
   "metadata": {},
   "outputs": [
    {
     "data": {
      "text/plain": [
       "'Hello, my name is Rehman and I am a scientist'"
      ]
     },
     "execution_count": 65,
     "metadata": {},
     "output_type": "execute_result"
    }
   ],
   "source": [
    "\"Hello, my name is {name} and I am a {occupation}\".format(name=\"Rehman\",occupation=\"scientist\")"
   ]
  },
  {
   "cell_type": "code",
   "execution_count": 66,
   "id": "22aea437-069c-4283-9024-3e7f50145bc6",
   "metadata": {},
   "outputs": [
    {
     "name": "stdout",
     "output_type": "stream",
     "text": [
      "3.141592653589793\n"
     ]
    },
    {
     "data": {
      "text/plain": [
       "'pi is equal to 3.142'"
      ]
     },
     "execution_count": 66,
     "metadata": {},
     "output_type": "execute_result"
    }
   ],
   "source": [
    "from math import pi\n",
    "print(pi)\n",
    "\"pi is equal to {:.3f}\".format(pi)"
   ]
  },
  {
   "cell_type": "code",
   "execution_count": 67,
   "id": "17b5769f-138b-492e-aa28-051085bd6d70",
   "metadata": {},
   "outputs": [
    {
     "data": {
      "text/plain": [
       "'pi is equal to 3'"
      ]
     },
     "execution_count": 67,
     "metadata": {},
     "output_type": "execute_result"
    }
   ],
   "source": [
    "from math import pi\n",
    "# round to a whole number\n",
    "\"pi is equal to {:.0f}\".format(pi)"
   ]
  },
  {
   "cell_type": "code",
   "execution_count": 68,
   "id": "f5522cae-10dd-4bac-9428-1db09a192bab",
   "metadata": {},
   "outputs": [
    {
     "data": {
      "text/plain": [
       "'pi is equal to 3.1E+00'"
      ]
     },
     "execution_count": 68,
     "metadata": {},
     "output_type": "execute_result"
    }
   ],
   "source": [
    "from math import pi\n",
    "# scientific notation\n",
    "\"pi is equal to {:.1E}\".format(pi)\n",
    "# you can use either \"e\" or \"E\" for scientific notation \n",
    "# depending on whether you want the E to be upper case or not"
   ]
  },
  {
   "cell_type": "code",
   "execution_count": 69,
   "id": "da06b674-0a0e-485d-99a8-3f95ecb3456f",
   "metadata": {},
   "outputs": [
    {
     "data": {
      "text/plain": [
       "'pi/100 is 3.1%'"
      ]
     },
     "execution_count": 69,
     "metadata": {},
     "output_type": "execute_result"
    }
   ],
   "source": [
    "from math import pi\n",
    "# percentage\n",
    "\"pi/100 is {:.1%}\".format(pi/100)"
   ]
  },
  {
   "cell_type": "markdown",
   "id": "9f16f6ce-94de-4ac4-8a5e-b23e97efed7d",
   "metadata": {},
   "source": [
    "### f-strings\n",
    "- f-strings are the preferred way to interpolate strings\n",
    "- They are the newest string interpolation method in python\n",
    "- They also execute faster than the other interpolation methods\n",
    "- f strings allow you to put valid expressions in a string\n",
    "- they begin with the letter f: `f\"pi = {pi}\"`\n",
    "- Of the 3 string interpolation options I encourage you to use f-strings"
   ]
  },
  {
   "cell_type": "code",
   "execution_count": 70,
   "id": "a1d4a6b6-0562-49c2-a42c-deba4e84c96f",
   "metadata": {},
   "outputs": [
    {
     "data": {
      "text/plain": [
       "'My name is Rehman and I am a scientist.'"
      ]
     },
     "execution_count": 70,
     "metadata": {},
     "output_type": "execute_result"
    }
   ],
   "source": [
    "# f-strings can insert variables into strings\n",
    "name = \"Rehman\"\n",
    "job = \"scientist\"\n",
    "f\"My name is {name} and I am a {job}.\""
   ]
  },
  {
   "cell_type": "code",
   "execution_count": 71,
   "id": "79b83a96-c919-44e7-8580-3492ff43998a",
   "metadata": {},
   "outputs": [
    {
     "data": {
      "text/plain": [
       "'The tricentennial is 54 years from now'"
      ]
     },
     "execution_count": 71,
     "metadata": {},
     "output_type": "execute_result"
    }
   ],
   "source": [
    "# f-strings can evaluate expressions\n",
    "f\"The tricentennial is {2076 - 2022} years from now\""
   ]
  },
  {
   "cell_type": "code",
   "execution_count": 72,
   "id": "4311e2bb-0788-4c6c-8bab-a1d6c3fa95ea",
   "metadata": {},
   "outputs": [
    {
     "data": {
      "text/plain": [
       "'The sum is 10'"
      ]
     },
     "execution_count": 72,
     "metadata": {},
     "output_type": "execute_result"
    }
   ],
   "source": [
    "# you can call functions in f-strings\n",
    "numbers = [1, 5, 0, -8, 12]\n",
    "f\"The sum is {sum(numbers)}\""
   ]
  },
  {
   "cell_type": "code",
   "execution_count": 73,
   "id": "8639acf4-2b36-4b3e-b269-880f5bde0e6f",
   "metadata": {},
   "outputs": [
    {
     "name": "stdout",
     "output_type": "stream",
     "text": [
      "Hello my name is Rehman and I am a scientist\n"
     ]
    }
   ],
   "source": [
    "# you can use dictionaries\n",
    "person = {\"name\":\"Rehman\", \"job\":\"scientist\"}\n",
    "text = f\"Hello my name is {person['name']} and I am a {person['job']}\"\n",
    "print(text)\n",
    "# note that I need to use the single quotes for the dict keys because the f-string is enclosed in double quotes"
   ]
  },
  {
   "cell_type": "code",
   "execution_count": 74,
   "id": "8f605296-4ce4-43d1-b660-f5613a1c6dc0",
   "metadata": {},
   "outputs": [
    {
     "name": "stdout",
     "output_type": "stream",
     "text": [
      "Hello my name is Rehman and I am a scientist\n"
     ]
    }
   ],
   "source": [
    "# this is equivalent with the quote types swapped\n",
    "person = {\"name\":\"Rehman\", \"job\":\"scientist\"}\n",
    "text = f'Hello my name is {person[\"name\"]} and I am a {person[\"job\"]}'\n",
    "print(text)\n",
    "# you will get an error if you try to use the same quotes for the string and the dict keys"
   ]
  },
  {
   "cell_type": "code",
   "execution_count": 75,
   "id": "ae9f960f-9c0e-4689-bd64-4c8922bf61bc",
   "metadata": {},
   "outputs": [
    {
     "data": {
      "text/plain": [
       "'pi = 3.14'"
      ]
     },
     "execution_count": 75,
     "metadata": {},
     "output_type": "execute_result"
    }
   ],
   "source": [
    "from math import pi\n",
    "# You can similarly format f-strings\n",
    "f\"pi = {pi:.2f}\""
   ]
  },
  {
   "cell_type": "code",
   "execution_count": 76,
   "id": "2ca7709b-4da8-4ffb-bdd4-99c66a00d06b",
   "metadata": {},
   "outputs": [
    {
     "data": {
      "text/plain": [
       "'My grade is 92.5%'"
      ]
     },
     "execution_count": 76,
     "metadata": {},
     "output_type": "execute_result"
    }
   ],
   "source": [
    "# percentages\n",
    "f\"My grade is {(92.5/100):.1%}\""
   ]
  },
  {
   "cell_type": "code",
   "execution_count": 77,
   "id": "b21ccd1f-ec56-42a1-927b-beba77d39364",
   "metadata": {},
   "outputs": [
    {
     "data": {
      "text/plain": [
       "'1 terabyte is 1,000,000,000,000 bytes'"
      ]
     },
     "execution_count": 77,
     "metadata": {},
     "output_type": "execute_result"
    }
   ],
   "source": [
    "# commas in the thousands place\n",
    "f\"1 terabyte is {1e12:,.0f} bytes\""
   ]
  },
  {
   "cell_type": "code",
   "execution_count": 78,
   "id": "f7f02194-ca6d-4257-b1e2-004114cedd9d",
   "metadata": {},
   "outputs": [
    {
     "data": {
      "text/plain": [
       "'001'"
      ]
     },
     "execution_count": 78,
     "metadata": {},
     "output_type": "execute_result"
    }
   ],
   "source": [
    "# pad zeros left\n",
    "f\"{1:03d}\""
   ]
  },
  {
   "cell_type": "code",
   "execution_count": 79,
   "id": "ce02f6ac-f8b0-4810-b0d4-79d438214d51",
   "metadata": {},
   "outputs": [
    {
     "data": {
      "text/plain": [
       "'First name: Rehman Last name: Qureshi'"
      ]
     },
     "execution_count": 79,
     "metadata": {},
     "output_type": "execute_result"
    }
   ],
   "source": [
    "# you can concatenate f-strings\n",
    "first = \"Rehman\"\n",
    "last = \"Qureshi\"\n",
    "f\"First name: {first} \" + f\"Last name: {last}\""
   ]
  },
  {
   "cell_type": "code",
   "execution_count": 80,
   "id": "32a20477-0499-4603-b3b9-fce91a8707f0",
   "metadata": {},
   "outputs": [
    {
     "name": "stdout",
     "output_type": "stream",
     "text": [
      "a = 12, b = 3.1e+04, c = 50.0%\n"
     ]
    }
   ],
   "source": [
    "# multiline f-string\n",
    "s = f\"a = {12.004:.0f}, \" \\\n",
    "f\"b = {31234:.1e}, \" \\\n",
    "f\"c = {(1/2):.1%}\"\n",
    "print(s)"
   ]
  },
  {
   "cell_type": "markdown",
   "id": "a9f1df3d-d978-4b32-a203-564646c87e56",
   "metadata": {},
   "source": [
    "### format specifications\n",
    "- `f` - floating point\n",
    "- `d` - integer\n",
    "- `e` - scientific notation\n",
    "- `%` - percentage\n",
    "- and more\n",
    "- See the [official python documentation](https://docs.python.org/3/library/string.html#formatspec) for specifying the formatting for f-strings. Unfortunately, they still use `.format` in their examples, but the exact same format specifier goes to the right of the colon in the `{expression:format_spec}` expression in f-strings."
   ]
  },
  {
   "cell_type": "markdown",
   "id": "162a00ac-6974-468d-ab5b-95902c8bb7e7",
   "metadata": {},
   "source": [
    "## Regular Expressions\n",
    "- A \"mini programming language\" for pattern matching strings\n",
    "- We have seen we can identify exact matches in strings with `.find`\n",
    "- Regular expressions let us match multiple sub strings that fit a pattern\n",
    "- Often called regex"
   ]
  },
  {
   "cell_type": "markdown",
   "id": "b821d7ce-7734-42cc-9227-cc1b933fbb40",
   "metadata": {},
   "source": [
    "### `re` module\n",
    "- To use regular expressions in python we need to use the `re` module\n",
    "- we need to import the module to use it\n",
    "```python\n",
    "import re\n",
    "```\n",
    "- Python modules contain new objects and functions that we can use"
   ]
  },
  {
   "cell_type": "markdown",
   "id": "0498d005-3dc4-4641-9cfc-3afe9548bf63",
   "metadata": {
    "tags": []
   },
   "source": [
    "### `re.findall`\n",
    "- `re.findall` will search a string for a pattern and return a list of all substrings matching the pattern\n",
    "- First we will examine exact matches\n",
    "- `re.findall(pattern,string)`"
   ]
  },
  {
   "cell_type": "code",
   "execution_count": 81,
   "id": "07fd72a9-dea7-4bf1-abae-fbb6b9347434",
   "metadata": {},
   "outputs": [
    {
     "data": {
      "text/plain": [
       "['kale', 'kale']"
      ]
     },
     "execution_count": 81,
     "metadata": {},
     "output_type": "execute_result"
    }
   ],
   "source": [
    "import re\n",
    "s = \"kale pizza burgers ice cream kale tomatoes\"\n",
    "# find substrings matching \"kale\" in s\n",
    "re.findall('kale',s)"
   ]
  },
  {
   "cell_type": "markdown",
   "id": "28e56fc5-d09b-4798-b56f-9cef641d5635",
   "metadata": {},
   "source": [
    "### Regex Characters\n",
    "- Symbols and escape characters are used to generate patterns"
   ]
  },
  {
   "cell_type": "markdown",
   "id": "8896b7cf-73ca-45a2-bd3c-3ef6b56b8a20",
   "metadata": {},
   "source": [
    "### Regex symbols\n",
    "|symbol|definition|\n",
    "| :--: |  :----  |\n",
    "|\\s    | any whitespace|\n",
    "|\\S|any character except whitespace|\n",
    "|\\w|[A-Z] [a-z] [0-9] _ underscore|\n",
    "|\\W|any character not matching \\w|\n",
    "|\\d|any digit from 0-9|\n",
    "|\\D|any character except digits|\n",
    "|[]|match any character inside the brackets|\n",
    "|[a-z]|match any lowercase letter from a to z|\n",
    "|[A-Za-z]|match any letter upper or lower case|\n",
    "|[0-9]|match any digit from 0 to 9|\n",
    "[^xyz]|match any characters except x, y, and z|\n",
    "|.|any character except newline|\n",
    "|* |match the expression to the left zero or more times|\n",
    "|+ |match the expression to the left one or more times|\n",
    "|{n}|match the expression to the left *n* times|\n",
    "|{,n}|match the expression to the left *n* or fewer times|\n",
    "|{n,}|match the expression to the left *n* or more times|\n",
    "|{m,n}|match the expression to the left at least *m* times but not more than *n* times|\n",
    "| \\| |match expression to the left **OR** expression to the right|\n",
    "|^|match expression to the right only if it occurs at the beginning of the string|\n",
    "|$|match expression to the left only if it occurs at the end of a string|\n",
    "|()|group and capture the expression inside the parentheses|\n",
    "|(?:x)|group x but do not capture it|\n",
    "|(?=x)|positive lookahead|\n",
    "|(?!=x)|negative lookahead|\n",
    "|(?<=x)|positive lookbehind|\n",
    "|(?!<x)|negative lookbehind|\n"
   ]
  },
  {
   "cell_type": "code",
   "execution_count": 82,
   "id": "617a4c84-b0a2-4fb7-98a4-7637e0027ed3",
   "metadata": {},
   "outputs": [
    {
     "data": {
      "text/plain": [
       "['(215) 555-1000', '(327)674-3409', '(215)4563456']"
      ]
     },
     "execution_count": 82,
     "metadata": {},
     "output_type": "execute_result"
    }
   ],
   "source": [
    "# get phone numbers from text\n",
    "s = \"Pizza King: (215) 555-1000, Wing Palace: (327)674-3409, Burger Castle: (215)4563456\"\n",
    "re.findall('\\(\\d{3}\\)\\s*\\d{3}\\-*\\d{4}',s)"
   ]
  },
  {
   "cell_type": "markdown",
   "id": "a9e78a85-3bbe-4478-9fed-ab14027280bd",
   "metadata": {},
   "source": [
    "- `\\d` matches any digit from 0-9. \n",
    "- The `{3}` means match exactly 3 times\n",
    "    - `\\d{3}` means match exactly 3 digits. \n",
    "    - `\\d{4}` means match exactly 4 digits\n",
    "- `\\s` matches any whitespace character\n",
    "    - whitespace is just empy space characters like spaces, tabs, and new lines\n",
    "    - `\\s*` means match 0 or more whitespace characters\n",
    "    - We need the asterisk because one of the phone numbers doesn't have a space after the area code\n",
    "        - So we need to be able to match whitespace or the lack of whitespace after the area code\n",
    "- `\\(` and `\\)` are escaped parentheses.\n",
    "    - Parentheses are special code characters in regular expressions so to actually match parentheses we need to use backslash to tell python's regular expession engine to match the parentheses\n",
    "- We also need to use `\\` to match a hyphen because hyphens are also special characters in regular expressions\n",
    "    - `\\-` will match a hyphen\n",
    "    - not all the phone numbers have a hyphen so we add an asterisk to be able to match a hyphen zero or more times `\\-*`"
   ]
  },
  {
   "cell_type": "code",
   "execution_count": 83,
   "id": "7d34930c-8b96-465d-8067-57ae2cfaf352",
   "metadata": {},
   "outputs": [
    {
     "data": {
      "text/plain": [
       "['Pizza King', 'Wing Palace', 'Burger Castle']"
      ]
     },
     "execution_count": 83,
     "metadata": {},
     "output_type": "execute_result"
    }
   ],
   "source": [
    "# get restaurant names from text\n",
    "s = \"Pizza King: (215) 555-1000, Wing Palace: (327)674-3409, Burger Castle: (215)4563456\"\n",
    "re.findall('\\w+\\s+\\w+',s)"
   ]
  },
  {
   "cell_type": "code",
   "execution_count": 84,
   "id": "ba752b68-ee62-43d4-bcff-be55b36f94b2",
   "metadata": {},
   "outputs": [
    {
     "data": {
      "text/plain": [
       "['Pizza King', 'Wing Palace', 'Burger Castle']"
      ]
     },
     "execution_count": 84,
     "metadata": {},
     "output_type": "execute_result"
    }
   ],
   "source": [
    "# get restaurant names from text\n",
    "s = \"Pizza King: (215) 555-1000, Wing Palace: (327)674-3409, Burger Castle: (215)4563456\"\n",
    "re.findall('[A-Za-z]+\\s+[A-Za-z]+',s)"
   ]
  },
  {
   "cell_type": "markdown",
   "id": "b229363e-363a-48d2-a7ca-fe7c67101be1",
   "metadata": {},
   "source": [
    "- This time we're trying to match the restaurant names which are 2 word pairs\n",
    "- `\\w` matches any \"word\" character: `[A-Z]` or `[a-z]` or `[0-9]` or `_`\n",
    "    - Every word has at least one letter so we use `+` to indicate that\n",
    "    - `\\w+` means match one or more \"word\" characters\n",
    "- We know there is at least one space between the words in the restaurant name so we use `\\s+`\n",
    "- Alternatively instead of `\\w+` we could use `[A-Za-z]+` to match at least one upper or lower case letters"
   ]
  },
  {
   "cell_type": "code",
   "execution_count": 85,
   "id": "2e1ec7dd-18b0-4beb-aa9d-229ebc1e60ca",
   "metadata": {},
   "outputs": [
    {
     "data": {
      "text/plain": [
       "['Palace', 'Castle']"
      ]
     },
     "execution_count": 85,
     "metadata": {},
     "output_type": "execute_result"
    }
   ],
   "source": [
    "# find the restaurants that match `Palace` or `Castle`\n",
    "s = \"Pizza King: (215) 555-1000, Wing Palace: (327)674-3409, Burger Castle: (215)4563456\"\n",
    "re.findall('\\w+\\s+(Palace|Castle)',s)"
   ]
  },
  {
   "cell_type": "markdown",
   "id": "9978daf1-258e-4450-b464-ce7f6ffe2571",
   "metadata": {},
   "source": [
    "We didn't get the full restaurant name."
   ]
  },
  {
   "cell_type": "code",
   "execution_count": 86,
   "id": "15734841-a050-4bac-926e-9bd40eea75a2",
   "metadata": {},
   "outputs": [
    {
     "data": {
      "text/plain": [
       "['Wing Palace', 'Burger Castle']"
      ]
     },
     "execution_count": 86,
     "metadata": {},
     "output_type": "execute_result"
    }
   ],
   "source": [
    "# find the restaurants that match `Palace` or `Castle`\n",
    "s = \"Pizza King: (215) 555-1000, Wing Palace: (327)674-3409, Burger Castle: (215)4563456\"\n",
    "re.findall('\\w+\\s+(?:Palace|Castle)',s)"
   ]
  },
  {
   "cell_type": "markdown",
   "id": "f29bc422-a14d-4f20-978f-97ea7d5bad1e",
   "metadata": {},
   "source": [
    "Now we have the full restaurant name"
   ]
  },
  {
   "cell_type": "markdown",
   "id": "4141e147-d09f-4185-9bf1-8fc2b9989748",
   "metadata": {},
   "source": [
    "- `(Palace|Castle)` will match either Palace or Castle\n",
    "- However `re.findall` does not match the full expression `\\w+\\s+(Palace|Castle)` \n",
    "- Using parentheses has grouped the expression inside them, but it also tells `re.findall` to only match the expression inside the parentheses.\n",
    "    - Expressions inside parentheses are called capture groups\n",
    "- We can use `?:` inside the parentheses to tell python not to treat the parentheses as a capture group\n",
    "    - Using `(?:Palace|Castle)` in the regex will enable `re.findall` to match the entire expression"
   ]
  },
  {
   "cell_type": "code",
   "execution_count": 87,
   "id": "7a773033-edb7-425c-b2ff-db76b6890b5c",
   "metadata": {},
   "outputs": [
    {
     "data": {
      "text/plain": [
       "[' ', ': (215) 555-1000, ', ' ', ': (327)674-3409, ', ' ', ': (215)4563456']"
      ]
     },
     "execution_count": 87,
     "metadata": {},
     "output_type": "execute_result"
    }
   ],
   "source": [
    "# get everything except the letters\n",
    "s = \"Pizza King: (215) 555-1000, Wing Palace: (327)674-3409, Burger Castle: (215)4563456\"\n",
    "re.findall('[^A-Za-z]+',s)"
   ]
  },
  {
   "cell_type": "markdown",
   "id": "1226492d-aa27-495b-8de1-307948939343",
   "metadata": {},
   "source": [
    "#### Lookahead and lookbehind"
   ]
  },
  {
   "cell_type": "code",
   "execution_count": 88,
   "id": "9828c4ff-9783-42ff-940e-8a0359c69c5f",
   "metadata": {},
   "outputs": [
    {
     "data": {
      "text/plain": [
       "['Bruce Banner', 'Jane Foster', 'Wendy Lawson']"
      ]
     },
     "execution_count": 88,
     "metadata": {},
     "output_type": "execute_result"
    }
   ],
   "source": [
    "# find the first and last names of the doctors\n",
    "people = \"Dr. Bruce Banner, Scott Lang, Dr. Jane Foster, Dr. Wendy Lawson, James Woo\"\n",
    "re.findall(\"(?<=Dr\\.\\s)\\w+\\s\\w+\",people)"
   ]
  },
  {
   "cell_type": "markdown",
   "id": "f43728ca-a01e-4fae-8732-7f31a690a01e",
   "metadata": {},
   "source": [
    "- `(?<=Dr\\.\\s)` tells python to look behind the expression and match it only if it matches the expression in the parentheses.\n",
    "- lookbehind means look to the right of the expression\n",
    "- lookahead means look to the left of the expression"
   ]
  },
  {
   "cell_type": "code",
   "execution_count": 89,
   "id": "7a27f144-9d35-4db8-a773-6fee6d624704",
   "metadata": {},
   "outputs": [
    {
     "data": {
      "text/plain": [
       "['ruce Banner', 'Scott Lang', 'ane Foster', 'endy Lawson', 'James Woo']"
      ]
     },
     "execution_count": 89,
     "metadata": {},
     "output_type": "execute_result"
    }
   ],
   "source": [
    "# find the names of the non-doctors\n",
    "people = \"Dr. Bruce Banner, Scott Lang, Dr. Jane Foster, Dr. Wendy Lawson, James Woo\"\n",
    "re.findall(\"(?<!Dr\\.\\s)\\w+\\s\\w+\",people)"
   ]
  },
  {
   "cell_type": "markdown",
   "id": "354aaa91-f574-482b-9b87-afd4601d2539",
   "metadata": {},
   "source": [
    "- That's not what we want!\n",
    "- `(?<!Dr\\.\\s)` tells python not to match expressions following \"Dr. \"\n",
    "    - `(?<!)` is the negative lookbehind operation\n",
    "- `\\w` matches upper and lower case words so only the first letter is following \"Dr. \" is omitted\n",
    "    - Python then matches the rest of the names"
   ]
  },
  {
   "cell_type": "code",
   "execution_count": 90,
   "id": "422bbc14-4d40-4ecf-80ee-cd440a6bc99d",
   "metadata": {},
   "outputs": [
    {
     "data": {
      "text/plain": [
       "['Scott Lang', 'James Woo']"
      ]
     },
     "execution_count": 90,
     "metadata": {},
     "output_type": "execute_result"
    }
   ],
   "source": [
    "# find the names of the non-doctors\n",
    "people = \"Dr. Bruce Banner, Scott Lang, Dr. Jane Foster, Dr. Wendy Lawson, James Woo\"\n",
    "re.findall(\"(?<!Dr\\.\\s)[A-Z][a-z]+\\s[A-Z][a-z]+\",people)"
   ]
  },
  {
   "cell_type": "markdown",
   "id": "28431c23-e724-400b-ba63-c5b391cd4b8a",
   "metadata": {},
   "source": [
    "- This is what we want\n",
    "- `[A-Z][a-z]+` is telling python to match any capital letter followed by at least one lower case letter"
   ]
  },
  {
   "cell_type": "code",
   "execution_count": 91,
   "id": "560c16a0-3f65-4bee-8eda-df7786ba8355",
   "metadata": {},
   "outputs": [
    {
     "data": {
      "text/plain": [
       "['Bruce', 'Scott', 'Jane', 'Wendy', 'James']"
      ]
     },
     "execution_count": 91,
     "metadata": {},
     "output_type": "execute_result"
    }
   ],
   "source": [
    "# get the first names only\n",
    "people = \"Dr. Bruce Banner, Scott Lang, Dr. Jane Foster, Dr. Wendy Lawson, James Woo\"\n",
    "re.findall(\"[A-Z][a-z]+(?=\\s[A-Z][a-z]+)\",people)"
   ]
  },
  {
   "cell_type": "markdown",
   "id": "2a98d4f3-681e-40a5-9f10-0bf7cb7062bd",
   "metadata": {},
   "source": [
    "- `(?=\\s[A-Z][a-z])` is the positive look ahead expression.\n",
    "    - It will match expressions if the look ahead expression is to the right\n",
    "- `(?!=)` is the negative look ahead"
   ]
  },
  {
   "cell_type": "markdown",
   "id": "7084b7a6-8bdc-4991-8ac7-5dc268741d99",
   "metadata": {
    "tags": []
   },
   "source": [
    "#### lookahead and lookbehind restrictions\n",
    "- lookahead and lookbehind expressions cannot contain a variable number of characters\n",
    "- The number of characters in the lookahead/lookbehind expression must be fixed\n",
    "    - Cannot use `+`,`*`,or `{m,n}`"
   ]
  },
  {
   "cell_type": "markdown",
   "id": "93264c5a-3154-40f9-b080-9aec0042b778",
   "metadata": {},
   "source": [
    "### Regular expressions vs. `str` functions\n",
    "- Sometimes you can use standard `str` methods instead of a regular expression\n",
    "- But code for parsing strings can become very complicated if you do not use regular expressions"
   ]
  },
  {
   "cell_type": "code",
   "execution_count": 92,
   "id": "51ba9025-bc91-4895-9613-c9611cf5c826",
   "metadata": {},
   "outputs": [
    {
     "data": {
      "text/plain": [
       "['Bruce Banner', 'Jane Foster', 'Wendy Lawson']"
      ]
     },
     "execution_count": 92,
     "metadata": {},
     "output_type": "execute_result"
    }
   ],
   "source": [
    "# find the first and last names of the doctors using only str functions\n",
    "people = \"Dr. Bruce Banner, Scott Lang, Dr. Jane Foster, Dr. Wendy Lawson, James Woo\"\n",
    "[person.partition('Dr. ')[-1] for person in people.split(', ') if person.startswith('Dr. ')]"
   ]
  },
  {
   "cell_type": "code",
   "execution_count": 93,
   "id": "35615b35-08ee-4272-b024-48b9668fcd5d",
   "metadata": {},
   "outputs": [
    {
     "data": {
      "text/plain": [
       "['Bruce Banner', 'Jane Foster', 'Wendy Lawson']"
      ]
     },
     "execution_count": 93,
     "metadata": {},
     "output_type": "execute_result"
    }
   ],
   "source": [
    "# split on \",\" instead of \", \"\n",
    "people = \"Dr. Bruce Banner, Scott Lang, Dr. Jane Foster, Dr. Wendy Lawson, James Woo\"\n",
    "[person.strip().partition('Dr. ')[-1] for person in people.split(',') if person.strip().startswith('Dr. ')]"
   ]
  },
  {
   "cell_type": "code",
   "execution_count": 94,
   "id": "a7befaef-b8dc-4170-b527-7b39944daac0",
   "metadata": {},
   "outputs": [
    {
     "data": {
      "text/plain": [
       "['Scott Lang', 'James Woo']"
      ]
     },
     "execution_count": 94,
     "metadata": {},
     "output_type": "execute_result"
    }
   ],
   "source": [
    "# find the first and last names of the non-doctors using only str functions\n",
    "people = \"Dr. Bruce Banner, Scott Lang, Dr. Jane Foster, Dr. Wendy Lawson, James Woo\"\n",
    "[person for person in people.split(', ') if not person.startswith('Dr. ')]"
   ]
  },
  {
   "cell_type": "code",
   "execution_count": 95,
   "id": "223cfa13-20a9-47c3-977f-9f0de46d340f",
   "metadata": {},
   "outputs": [],
   "source": [
    "# find the names of the doctors using only str functions instead of regular expressions"
   ]
  },
  {
   "cell_type": "markdown",
   "id": "01d3c5e2-a16c-4600-8fb4-1b8ea6b80da0",
   "metadata": {},
   "source": [
    "#### Beginning and ending of strings"
   ]
  },
  {
   "cell_type": "code",
   "execution_count": 96,
   "id": "8bc256db-0e98-4b71-a46a-5808fc8b7477",
   "metadata": {},
   "outputs": [
    {
     "data": {
      "text/plain": [
       "['Pizza']"
      ]
     },
     "execution_count": 96,
     "metadata": {},
     "output_type": "execute_result"
    }
   ],
   "source": [
    "# Get the first word in the string\n",
    "s = \"Pizza King: (215) 555-1000, Wing Palace: (327)674-3409, Burger Castle: (215)4563456\"\n",
    "re.findall('^\\w+',s)"
   ]
  },
  {
   "cell_type": "markdown",
   "id": "1ba4795c-be64-4c22-b857-71d5f4ee207f",
   "metadata": {},
   "source": [
    "`^` only matches expressions at the beginning of the string"
   ]
  },
  {
   "cell_type": "code",
   "execution_count": 97,
   "id": "1ecf297c-fb99-45de-97f1-b10455a8159a",
   "metadata": {},
   "outputs": [
    {
     "data": {
      "text/plain": [
       "['4563456']"
      ]
     },
     "execution_count": 97,
     "metadata": {},
     "output_type": "execute_result"
    }
   ],
   "source": [
    "# Get the last word in the string\n",
    "s = \"Pizza King: (215) 555-1000, Wing Palace: (327)674-3409, Burger Castle: (215)4563456\"\n",
    "re.findall('\\w+$',s)"
   ]
  },
  {
   "cell_type": "markdown",
   "id": "24273463-60b3-406c-a4f4-cca1a75ff332",
   "metadata": {},
   "source": [
    "`$` only matches expressions at the end of the string"
   ]
  },
  {
   "cell_type": "markdown",
   "id": "0c7fdc56-9e6d-4df5-a10c-b22d08840ade",
   "metadata": {},
   "source": [
    "#### `.` matches any character except for newline `\\n`"
   ]
  },
  {
   "cell_type": "code",
   "execution_count": 98,
   "id": "13cde6d0-3634-4cac-a949-aada9013fda8",
   "metadata": {},
   "outputs": [
    {
     "data": {
      "text/plain": [
       "['C-3PO']"
      ]
     },
     "execution_count": 98,
     "metadata": {},
     "output_type": "execute_result"
    }
   ],
   "source": [
    "s = \"C-3PO\"\n",
    "re.findall('C.*',s)"
   ]
  },
  {
   "cell_type": "markdown",
   "id": "d1c9b83e-43de-4303-b35d-875ab3fdd4a4",
   "metadata": {},
   "source": [
    "#### Greedy vs non-greedy matching\n",
    "- By default `+`, `*`, and `{}` match the longest expression possible\n",
    "    - They are \"greedy\" operators\n",
    "    - We don't always want greedy matching\n",
    "- Adding `?` makes the matching non-greedy or lazy\n",
    "    - Python will return the shortest possible matches\n",
    "    - `*?`, `+?`, `{n}?`, etc."
   ]
  },
  {
   "cell_type": "code",
   "execution_count": 99,
   "id": "b57dff3a-fa9a-4064-9014-722dc4b0daa0",
   "metadata": {},
   "outputs": [
    {
     "data": {
      "text/plain": [
       "['<html><head><title>Title</title>']"
      ]
     },
     "execution_count": 99,
     "metadata": {},
     "output_type": "execute_result"
    }
   ],
   "source": [
    "# get the html tags\n",
    "html = '<html><head><title>Title</title>'\n",
    "\n",
    "# first we will use a greedy regular expression\n",
    "re.findall('\\<.*\\>',html)"
   ]
  },
  {
   "cell_type": "markdown",
   "id": "c481c167-2d75-424b-bdfe-c4c2fe924131",
   "metadata": {},
   "source": [
    "This gives us the entire string not the individual tags. This is because the entire string is the longest possible match for our regular expression."
   ]
  },
  {
   "cell_type": "code",
   "execution_count": 100,
   "id": "b8cbbe7b-5f38-45d0-9691-06f2a4ac0a7e",
   "metadata": {},
   "outputs": [
    {
     "data": {
      "text/plain": [
       "['<html>', '<head>', '<title>', '</title>']"
      ]
     },
     "execution_count": 100,
     "metadata": {},
     "output_type": "execute_result"
    }
   ],
   "source": [
    "html = '<html><head><title>Title</title>'\n",
    "\n",
    "# using a non-greedy regular expression\n",
    "re.findall('\\<.*?\\>',html)"
   ]
  },
  {
   "cell_type": "markdown",
   "id": "b4bc58cf-1c50-46e3-a702-06a56f2283ba",
   "metadata": {},
   "source": [
    "Now we have a list of the individual tags."
   ]
  },
  {
   "cell_type": "markdown",
   "id": "43b401ac-ec58-48fc-b721-14aba80fbc83",
   "metadata": {},
   "source": [
    "### `re.compile`\n",
    "- Regular expressions can get quite long and can be a pain to copy and paste over and over\n",
    "- You can use re.compile to create a `pattern` object that has regular expression methods\n",
    "- `pattern` objects have a `findall` method"
   ]
  },
  {
   "cell_type": "code",
   "execution_count": 126,
   "id": "516d169e-83a6-41a5-a587-9710183506b9",
   "metadata": {},
   "outputs": [
    {
     "data": {
      "text/plain": [
       "['(215) 555-1000', '(327)674-3409', '(215)4563456']"
      ]
     },
     "execution_count": 126,
     "metadata": {},
     "output_type": "execute_result"
    }
   ],
   "source": [
    "# compile our regular expression into a pattern\n",
    "pattern = re.compile('\\(\\d{3}\\)\\s*\\d{3}\\-*\\d{4}')\n",
    "\n",
    "# get phone numbers from text\n",
    "s = \"Pizza King: (215) 555-1000, Wing Palace: (327)674-3409, Burger Castle: (215)4563456\"\n",
    "pattern.findall(s)"
   ]
  },
  {
   "cell_type": "markdown",
   "id": "16f55c74-bd36-4ca7-ba79-823cc42f2a44",
   "metadata": {},
   "source": [
    "### `re.split`\n",
    "- We can split a string using a regular expression with `re.split`\n",
    "    - `re.split(expr,string_to_split)`\n",
    "- `pattern` objects returned by `re.compile` also have a `.split` method"
   ]
  },
  {
   "cell_type": "code",
   "execution_count": 127,
   "id": "100c0d7b-b43f-42ac-b82c-e00eb6c822f3",
   "metadata": {},
   "outputs": [
    {
     "data": {
      "text/plain": [
       "['Pizza King',\n",
       " ' (215) 555-1000',\n",
       " ' Wing Palace',\n",
       " ' (327)674-3409',\n",
       " ' Burger Castle',\n",
       " ' (215)4563456']"
      ]
     },
     "execution_count": 127,
     "metadata": {},
     "output_type": "execute_result"
    }
   ],
   "source": [
    "# split on colon or comma\n",
    "s = \"Pizza King: (215) 555-1000, Wing Palace: (327)674-3409, Burger Castle: (215)4563456\"\n",
    "re.split('[\\:\\,]',s)"
   ]
  },
  {
   "cell_type": "code",
   "execution_count": 128,
   "id": "30b6dde9-9796-4cd9-86f8-00a6004a1fee",
   "metadata": {},
   "outputs": [
    {
     "data": {
      "text/plain": [
       "['Pizza King',\n",
       " ' (215) 555-1000',\n",
       " ' Wing Palace',\n",
       " ' (327)674-3409',\n",
       " ' Burger Castle',\n",
       " ' (215)4563456']"
      ]
     },
     "execution_count": 128,
     "metadata": {},
     "output_type": "execute_result"
    }
   ],
   "source": [
    "# split on colon or comma using a compiled expression\n",
    "pattern = re.compile('[\\:\\,]')\n",
    "s = \"Pizza King: (215) 555-1000, Wing Palace: (327)674-3409, Burger Castle: (215)4563456\"\n",
    "pattern.split(s)"
   ]
  },
  {
   "cell_type": "code",
   "execution_count": 104,
   "id": "d093e95e-7a8f-493b-8c4a-29774bdf8ad2",
   "metadata": {},
   "outputs": [
    {
     "data": {
      "text/plain": [
       "'[\\\\:\\\\,]'"
      ]
     },
     "execution_count": 104,
     "metadata": {},
     "output_type": "execute_result"
    }
   ],
   "source": [
    "# .pattern will return the string containing the regular expression\n",
    "pattern = re.compile('[\\:\\,]')\n",
    "pattern.pattern"
   ]
  },
  {
   "cell_type": "markdown",
   "id": "03eb8d74-25df-4d0d-9399-925799f84222",
   "metadata": {},
   "source": [
    "### `re.sub` and `re.subn`\n",
    "- We can replace regular expression patterns with a new value using `re.sub`\n",
    "- `re.sub(pattern,replacement,string)`\n",
    "- `pattern` objects also have `.sub` and `.subn` methods\n",
    "- `re.subn` and `pattern.subn` do the same thing but returns a tuple with the second element being the number of replacements performed"
   ]
  },
  {
   "cell_type": "code",
   "execution_count": 129,
   "id": "2d98e3de-6022-43c1-aa26-e3a9c071c446",
   "metadata": {},
   "outputs": [
    {
     "data": {
      "text/plain": [
       "'Pizza King: (721) 555-1000, Wing Palace: (721)674-3409, Burger Castle: (721)4563456'"
      ]
     },
     "execution_count": 129,
     "metadata": {},
     "output_type": "execute_result"
    }
   ],
   "source": [
    "# replace all area codes with 721\n",
    "s = \"Pizza King: (215) 555-1000, Wing Palace: (327)674-3409, Burger Castle: (215)4563456\"\n",
    "re.sub('\\(\\d{3}\\)','(721)',s)"
   ]
  },
  {
   "cell_type": "code",
   "execution_count": 106,
   "id": "adfad1ec-cdf8-44dd-b7b9-ac43f261abd7",
   "metadata": {},
   "outputs": [
    {
     "data": {
      "text/plain": [
       "'Pizza King: (721) 555-1000, Wing Palace: (721)674-3409, Burger Castle: (721)4563456'"
      ]
     },
     "execution_count": 106,
     "metadata": {},
     "output_type": "execute_result"
    }
   ],
   "source": [
    "# replace all area codes with 721 using re.compile\n",
    "pattern = re.compile('\\(\\d{3}\\)')\n",
    "\n",
    "s = \"Pizza King: (215) 555-1000, Wing Palace: (327)674-3409, Burger Castle: (215)4563456\"\n",
    "pattern.sub('(721)',s)"
   ]
  },
  {
   "cell_type": "code",
   "execution_count": 130,
   "id": "68820957-2e1f-4f46-87db-19ea491057df",
   "metadata": {},
   "outputs": [
    {
     "data": {
      "text/plain": [
       "('Pizza King: (721) 555-1000, Wing Palace: (721)674-3409, Burger Castle: (721)4563456',\n",
       " 3)"
      ]
     },
     "execution_count": 130,
     "metadata": {},
     "output_type": "execute_result"
    }
   ],
   "source": [
    "# replace all area codes with 721 using subn\n",
    "s = \"Pizza King: (215) 555-1000, Wing Palace: (327)674-3409, Burger Castle: (215)4563456\"\n",
    "re.subn('\\(\\d{3}\\)','(721)',s)"
   ]
  },
  {
   "cell_type": "code",
   "execution_count": 108,
   "id": "53824707-e006-4185-8af6-8f6a20e8cde6",
   "metadata": {},
   "outputs": [
    {
     "data": {
      "text/plain": [
       "('Pizza King: (721) 555-1000, Wing Palace: (721)674-3409, Burger Castle: (721)4563456',\n",
       " 3)"
      ]
     },
     "execution_count": 108,
     "metadata": {},
     "output_type": "execute_result"
    }
   ],
   "source": [
    "# replace all area codes with 721 using re.compile and pattern.subn\n",
    "pattern = re.compile('\\(\\d{3}\\)')\n",
    "\n",
    "s = \"Pizza King: (215) 555-1000, Wing Palace: (327)674-3409, Burger Castle: (215)4563456\"\n",
    "pattern.subn('(721)',s)"
   ]
  },
  {
   "cell_type": "markdown",
   "id": "283cb274-1f40-4611-a7ad-245037160bee",
   "metadata": {},
   "source": [
    "#### Replacement using capture groups\n",
    "- We can dynamically capture certain values from the original string and insert them back into the replacement string using capture groups\n",
    "- Parentheses indicate a capture group.\n",
    "- We can access capture groups in the replacement string by using their number.\n",
    "    - Groups are numbered from left to right starting at 1\n",
    "    - `\\\\1` will insert the first capture group"
   ]
  },
  {
   "cell_type": "code",
   "execution_count": 131,
   "id": "e03c0243-fff9-49cd-baf0-e5e64c2baae6",
   "metadata": {},
   "outputs": [
    {
     "data": {
      "text/plain": [
       "'Pizza King: 215-555-1000, Wing Palace: 327-674-3409, Burger Castle: 215-456-3456'"
      ]
     },
     "execution_count": 131,
     "metadata": {},
     "output_type": "execute_result"
    }
   ],
   "source": [
    "# reformat the phone numbers\n",
    "pattern = re.compile('(\\w+\\s\\w+)\\:\\s*\\((\\d{3})\\)\\s*(\\d{3})\\-*(\\d{4})')\n",
    "\n",
    "s = \"Pizza King: (215) 555-1000, Wing Palace: (327)674-3409, Burger Castle: (215)4563456\"\n",
    "\n",
    "# each number corresponds to a set of parentheses starting at 1 going from left to right\n",
    "pattern.sub('\\\\1: \\\\2-\\\\3-\\\\4',s)\n",
    "\n",
    "# Note that we cannot add backslash to \"-\" because it will print the backslash"
   ]
  },
  {
   "cell_type": "markdown",
   "id": "1d56c7f7-5984-4db6-b8a5-23ba9f73b263",
   "metadata": {},
   "source": [
    "#### Named capture\n",
    "- The code above can be confusing so instead of using numbers we can name the capture groups and access them that way.\n",
    "- We name a capture group like so `(?P<group_name>expr)`\n",
    "- We can access a named group in the replacement string like so `\\g<group_name>`"
   ]
  },
  {
   "cell_type": "code",
   "execution_count": 110,
   "id": "0c288d85-2feb-4095-b22a-dd97fdaa2111",
   "metadata": {},
   "outputs": [
    {
     "data": {
      "text/plain": [
       "'Pizza King: 215-555-1000, Wing Palace: 327-674-3409, Burger Castle: 215-456-3456'"
      ]
     },
     "execution_count": 110,
     "metadata": {},
     "output_type": "execute_result"
    }
   ],
   "source": [
    "# reformat the phone numbers\n",
    "pattern = re.compile('(?P<restaurant>\\w+\\s\\w+)\\:\\s*\\((?P<area_code>\\d{3})\\)\\s*(?P<first3>\\d{3})\\-*(?P<last4>\\d{4})')\n",
    "\n",
    "s = \"Pizza King: (215) 555-1000, Wing Palace: (327)674-3409, Burger Castle: (215)4563456\"\n",
    "\n",
    "# each number corresponds to a set of parentheses starting at 1 going from left to right\n",
    "pattern.sub('\\g<restaurant>: \\g<area_code>-\\g<first3>-\\g<last4>',s)"
   ]
  },
  {
   "cell_type": "code",
   "execution_count": 132,
   "id": "446d6ec7-8621-4699-b89a-3a94f87fb2dd",
   "metadata": {},
   "outputs": [
    {
     "data": {
      "text/plain": [
       "mappingproxy({'restaurant': 1, 'area_code': 2, 'first3': 3, 'last4': 4})"
      ]
     },
     "execution_count": 132,
     "metadata": {},
     "output_type": "execute_result"
    }
   ],
   "source": [
    "# we can view the capture group indices with .groupindex\n",
    "pattern = re.compile('(?P<restaurant>\\w+\\s\\w+)\\:\\s*\\((?P<area_code>\\d{3})\\)\\s*(?P<first3>\\d{3})\\-*(?P<last4>\\d{4})')\n",
    "pattern.groupindex"
   ]
  },
  {
   "cell_type": "markdown",
   "id": "b998ea07-49c9-46ed-928d-48daab095b85",
   "metadata": {},
   "source": [
    "### `re.search` and `re.match`\n",
    "- `re.search` and `re.match` work like `re.findall` except they return a match object instead of the matching string\n",
    "- `pattern` objects have `.search` and `.match` methods\n",
    "- `re.match` can only match expressions at the beginning of the string, while `re.search` can match expressions anywhere in thes string\n",
    "- Both `re.match` and `re.search` **only return the first match**"
   ]
  },
  {
   "cell_type": "code",
   "execution_count": 133,
   "id": "93208481-bf3b-4cd7-aa0b-730dc1f4ad4d",
   "metadata": {},
   "outputs": [
    {
     "name": "stdout",
     "output_type": "stream",
     "text": [
      "None\n"
     ]
    }
   ],
   "source": [
    "# compile our regular expression into a pattern\n",
    "pattern = re.compile('\\(\\d{3}\\)\\s*\\d{3}\\-*\\d{4}')\n",
    "\n",
    "# get phone numbers from text\n",
    "s = \"Pizza King: (215) 555-1000, Wing Palace: (327)674-3409, Burger Castle: (215)4563456\"\n",
    "print(pattern.match(s))"
   ]
  },
  {
   "cell_type": "markdown",
   "id": "2227579e-a1be-48d4-97c2-80d6d0a89c8f",
   "metadata": {},
   "source": [
    "We get `None` because the beginning of the string does not match our pattern"
   ]
  },
  {
   "cell_type": "code",
   "execution_count": 134,
   "id": "82c98d4b-3982-49b0-84d9-4ead8353f184",
   "metadata": {},
   "outputs": [
    {
     "data": {
      "text/plain": [
       "<re.Match object; span=(12, 26), match='(215) 555-1000'>"
      ]
     },
     "execution_count": 134,
     "metadata": {},
     "output_type": "execute_result"
    }
   ],
   "source": [
    "# compile our regular expression into a pattern\n",
    "pattern = re.compile('\\(\\d{3}\\)\\s*\\d{3}\\-*\\d{4}')\n",
    "\n",
    "# get phone numbers from text\n",
    "s = \"Pizza King: (215) 555-1000, Wing Palace: (327)674-3409, Burger Castle: (215)4563456\"\n",
    "pattern.search(s)"
   ]
  },
  {
   "cell_type": "markdown",
   "id": "c44770f8-d449-4d5d-abdb-3028f430a0dc",
   "metadata": {},
   "source": [
    "### match objects\n",
    "- `match` objects have several properties and methods\n",
    "- `match.re` will give us the compiled regular expression that generated the match object\n",
    "- `match.groups()` will give us the strings matching the capture groups\n",
    "- `match.groupdict()` will give us a dictionary with group names as keys and matching strings as values\n",
    "- `match.start()` and `match.end()` will give us starting and ending indices of the match in the string\n",
    "- `match.span(group_name)` gives us the starting and ending indices of a specific capture group\n",
    "- `match.expand()` will allow us to do replacement using capture groups just like `re.sub`\n",
    "- There are more properties and methods, refer to the [official python documentation](https://docs.python.org/3/library/re.html#match-objects)\n"
   ]
  },
  {
   "cell_type": "code",
   "execution_count": 135,
   "id": "a25b29de-f46b-422e-8d0f-6a7ec88fbc5d",
   "metadata": {},
   "outputs": [
    {
     "name": "stdout",
     "output_type": "stream",
     "text": [
      "<re.Match object; span=(0, 26), match='Pizza King: (215) 555-1000'>\n"
     ]
    }
   ],
   "source": [
    "# reformat the phone numbers\n",
    "pattern = re.compile('(?P<restaurant>\\w+\\s\\w+)\\:\\s*\\((?P<area_code>\\d{3})\\)\\s*(?P<first3>\\d{3})\\-*(?P<last4>\\d{4})')\n",
    "s = \"Pizza King: (215) 555-1000, Wing Palace: (327)674-3409, Burger Castle: (215)4563456\"\n",
    "\n",
    "# each number corresponds to a set of parentheses starting at 1 going from left to right\n",
    "match_obj = pattern.search(s)\n",
    "print(match_obj)"
   ]
  },
  {
   "cell_type": "code",
   "execution_count": 115,
   "id": "24ad5725-bfc6-4a4b-912a-44f6b9145555",
   "metadata": {},
   "outputs": [
    {
     "name": "stdout",
     "output_type": "stream",
     "text": [
      "re.compile('(?P<restaurant>\\\\w+\\\\s\\\\w+)\\\\:\\\\s*\\\\((?P<area_code>\\\\d{3})\\\\)\\\\s*(?P<first3>\\\\d{3})\\\\-*(?P<last4>\\\\d{4})')\n"
     ]
    }
   ],
   "source": [
    "print(match_obj.re)"
   ]
  },
  {
   "cell_type": "code",
   "execution_count": 116,
   "id": "74b8673b-de36-4143-9496-23a504291a78",
   "metadata": {},
   "outputs": [
    {
     "name": "stdout",
     "output_type": "stream",
     "text": [
      "('Pizza King', '215', '555', '1000')\n"
     ]
    }
   ],
   "source": [
    "print(match_obj.groups())"
   ]
  },
  {
   "cell_type": "code",
   "execution_count": 117,
   "id": "c62566f9-6b9f-4d9f-9df7-cbdbe776e29f",
   "metadata": {},
   "outputs": [
    {
     "name": "stdout",
     "output_type": "stream",
     "text": [
      "{'restaurant': 'Pizza King', 'area_code': '215', 'first3': '555', 'last4': '1000'}\n"
     ]
    }
   ],
   "source": [
    "print(match_obj.groupdict())"
   ]
  },
  {
   "cell_type": "code",
   "execution_count": 118,
   "id": "4e18cd0d-acc5-4b09-ab19-a013fa2d118a",
   "metadata": {},
   "outputs": [
    {
     "name": "stdout",
     "output_type": "stream",
     "text": [
      "0\n",
      "26\n"
     ]
    }
   ],
   "source": [
    "print(match_obj.start())\n",
    "print(match_obj.end())"
   ]
  },
  {
   "cell_type": "code",
   "execution_count": 137,
   "id": "5873311c-50c6-4b2e-bc3a-a9166f1324fa",
   "metadata": {},
   "outputs": [
    {
     "name": "stdout",
     "output_type": "stream",
     "text": [
      "(13, 16)\n"
     ]
    }
   ],
   "source": [
    "print(match_obj.span(\"area_code\"))"
   ]
  },
  {
   "cell_type": "code",
   "execution_count": 120,
   "id": "e882f2bd-a43b-4303-86d2-de3989d3b08c",
   "metadata": {},
   "outputs": [
    {
     "data": {
      "text/plain": [
       "'Call Pizza King at (215) 555-1000'"
      ]
     },
     "execution_count": 120,
     "metadata": {},
     "output_type": "execute_result"
    }
   ],
   "source": [
    "match_obj.expand('Call \\g<restaurant> at (\\g<area_code>) \\g<first3>-\\g<last4>')"
   ]
  },
  {
   "cell_type": "markdown",
   "id": "6d3566ba-a412-44b0-9ef9-a6e79ed7c11a",
   "metadata": {},
   "source": [
    "### `re.finditer`\n",
    "- We have seen that `re.match` and `re.search` only give us the first match\n",
    "- We can use `re.finditer` to get all matches as match objects\n",
    "- `.finditer` will return an iterator like `range`\n",
    "    - That means we either have to convert it to a `list` or use a `loop` to access the contents\n",
    "- `pattern` objects also have a `.finditer` method"
   ]
  },
  {
   "cell_type": "code",
   "execution_count": 121,
   "id": "7e6be16c-f8f0-47f9-9d49-b0cc7fb0b202",
   "metadata": {},
   "outputs": [
    {
     "name": "stdout",
     "output_type": "stream",
     "text": [
      "<callable_iterator object at 0x000001FA6C28B0A0>\n",
      "[<re.Match object; span=(0, 26), match='Pizza King: (215) 555-1000'>, <re.Match object; span=(28, 54), match='Wing Palace: (327)674-3409'>, <re.Match object; span=(56, 83), match='Burger Castle: (215)4563456'>]\n"
     ]
    }
   ],
   "source": [
    "pattern = re.compile('(?P<restaurant>\\w+\\s\\w+)\\:\\s*\\((?P<area_code>\\d{3})\\)\\s*(?P<first3>\\d{3})\\-*(?P<last4>\\d{4})')\n",
    "s = \"Pizza King: (215) 555-1000, Wing Palace: (327)674-3409, Burger Castle: (215)4563456\"\n",
    "\n",
    "# use .finditer to get the matches\n",
    "matches = pattern.finditer(s)\n",
    "print(matches)\n",
    "print(list(matches))"
   ]
  },
  {
   "cell_type": "code",
   "execution_count": 138,
   "id": "f56bb72a-a26f-45fc-ad30-4b9e858f1f03",
   "metadata": {},
   "outputs": [
    {
     "name": "stdout",
     "output_type": "stream",
     "text": [
      "('Pizza King', '215', '555', '1000')\n",
      "('Wing Palace', '327', '674', '3409')\n",
      "('Burger Castle', '215', '456', '3456')\n"
     ]
    }
   ],
   "source": [
    "pattern = re.compile('(?P<restaurant>\\w+\\s\\w+)\\:\\s*\\((?P<area_code>\\d{3})\\)\\s*(?P<first3>\\d{3})\\-*(?P<last4>\\d{4})')\n",
    "s = \"Pizza King: (215) 555-1000, Wing Palace: (327)674-3409, Burger Castle: (215)4563456\"\n",
    "\n",
    "# use .finditer to get the matches\n",
    "matches = pattern.finditer(s)\n",
    "\n",
    "# loop through the matches\n",
    "for match in matches:\n",
    "    print(match.groups())"
   ]
  },
  {
   "cell_type": "code",
   "execution_count": 139,
   "id": "49a47b9c-dc0e-4603-a251-1a88109f0468",
   "metadata": {},
   "outputs": [
    {
     "name": "stdout",
     "output_type": "stream",
     "text": [
      "['Call Pizza King at 215-555-1000', 'Call Wing Palace at 327-674-3409', 'Call Burger Castle at 215-456-3456']\n"
     ]
    }
   ],
   "source": [
    "pattern = re.compile('(?P<restaurant>\\w+\\s\\w+)\\:\\s*\\((?P<area_code>\\d{3})\\)\\s*(?P<first3>\\d{3})\\-*(?P<last4>\\d{4})')\n",
    "s = \"Pizza King: (215) 555-1000, Wing Palace: (327)674-3409, Burger Castle: (215)4563456\"\n",
    "\n",
    "# use .finditer to get the matches\n",
    "matches = pattern.finditer(s)\n",
    "# get an empty list\n",
    "lunch = []\n",
    "# loop through the matches\n",
    "for match in matches:\n",
    "    lunch.append(\n",
    "        match.expand(\n",
    "            \"Call \\g<restaurant> at \\g<area_code>-\\g<first3>-\\g<last4>\"\n",
    "        )\n",
    "    )\n",
    "\n",
    "print(lunch)"
   ]
  },
  {
   "cell_type": "code",
   "execution_count": 140,
   "id": "96814ba6-11e9-4693-8f18-5dcf75d4de0e",
   "metadata": {},
   "outputs": [
    {
     "name": "stdout",
     "output_type": "stream",
     "text": [
      "[<re.Match object; span=(0, 26), match='Pizza King: (215) 555-1000'>, <re.Match object; span=(28, 54), match='Wing Palace: (327)674-3409'>, <re.Match object; span=(56, 83), match='Burger Castle: (215)4563456'>]\n",
      "[]\n"
     ]
    }
   ],
   "source": [
    "# Note that if you try to access the output of finditer more than once \n",
    "# you will get an empty list after the first time it is called\n",
    "# We will talk about why this happens in a future lecture\n",
    "pattern = re.compile('(?P<restaurant>\\w+\\s\\w+)\\:\\s*\\((?P<area_code>\\d{3})\\)\\s*(?P<first3>\\d{3})\\-*(?P<last4>\\d{4})')\n",
    "s = \"Pizza King: (215) 555-1000, Wing Palace: (327)674-3409, Burger Castle: (215)4563456\"\n",
    "\n",
    "# use .finditer to get the matches\n",
    "matches = pattern.finditer(s)\n",
    "# access matches the first time\n",
    "print(list(matches))\n",
    "# access matches the second time\n",
    "print(list(matches))"
   ]
  },
  {
   "cell_type": "markdown",
   "id": "3ba0ee78-88fe-40cb-86ef-fad134b3c5f6",
   "metadata": {},
   "source": [
    "### Regular Expression flags\n",
    "- There are several flags you can give to functions in the `re` module that will change python's behavior when it's parsing your regular expression\n",
    "- `re.IGNORECASE` aka `re.I`- makes regex case insensitive\n",
    "    - You can also include `(?i)` at the begining of your regex\n",
    "- `re.DOTALL` will allow `.` to match new line characters\n",
    "    - You can also include `(?s)` at the beginning of your regex\n",
    "- You can use multiple flags at the same time\n",
    "    - `(?is)` will use both `DOTALL` and `IGNORECASE`\n",
    "    - `re.compile(my_expr,re.IGNORECASE,re.DOTALL)`\n",
    "- There are more flags; check out the [python documentation](https://docs.python.org/3/library/re.html#flags) to learn more"
   ]
  },
  {
   "cell_type": "code",
   "execution_count": 145,
   "id": "8c682786-ccc4-459c-b25a-8bae508db6fa",
   "metadata": {},
   "outputs": [
    {
     "data": {
      "text/plain": [
       "['AATgcATCcccgggtagtaaatg']"
      ]
     },
     "execution_count": 145,
     "metadata": {},
     "output_type": "execute_result"
    }
   ],
   "source": [
    "# ignore case\n",
    "\n",
    "#get DNA sequences\n",
    "s = \"> My Sequence AATgcATCcccgggtagtaaatg\"\n",
    "\n",
    "nucleotide = re.compile('[ATGC]{2,}',re.IGNORECASE)\n",
    "nucleotide.findall(s)"
   ]
  },
  {
   "cell_type": "markdown",
   "id": "5e930d20-e62e-4c6f-9037-3beae7fadea2",
   "metadata": {},
   "source": [
    "### Regular Expression Tips\n",
    "- Regular expressions are incredibly powerful\n",
    "    - I use them almost daily to clean up data that was manually recorded or to rename things\n",
    "- I recommend that you use `re.compile` to compile your regex into a pattern object instead of using `re.sub`, `re.search`, etc.\n",
    "    - You can access all these methods from the pattern object produced by `re.compile`\n",
    "- Regular Expressions may seem overwhelming, but as long as you understand the principles you don't need to have all the syntax memorized\n",
    "    - Even I am always looking at the python documentation for [Regular Expressions](https://docs.python.org/3/library/re.html) while writing my code\n",
    "- Practice, Practice, Practice\n",
    "    - This goes for programming in general\n",
    "    - I learned Regular Expressions by using them over and over for years"
   ]
  }
 ],
 "metadata": {
  "kernelspec": {
   "display_name": "Python 3 (ipykernel)",
   "language": "python",
   "name": "python3"
  },
  "language_info": {
   "codemirror_mode": {
    "name": "ipython",
    "version": 3
   },
   "file_extension": ".py",
   "mimetype": "text/x-python",
   "name": "python",
   "nbconvert_exporter": "python",
   "pygments_lexer": "ipython3",
   "version": "3.9.12"
  }
 },
 "nbformat": 4,
 "nbformat_minor": 5
}
